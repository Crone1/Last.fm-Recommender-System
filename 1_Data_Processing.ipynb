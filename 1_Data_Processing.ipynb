{
  "nbformat": 4,
  "nbformat_minor": 0,
  "metadata": {
    "colab": {
      "name": "1 - Data Processing",
      "provenance": [],
      "collapsed_sections": [
        "YfrjELX4cTlS",
        "4XPXVgL7cxlc",
        "AG2XBy8EcMKs",
        "D8NK3aeBc1Rn",
        "ewv_FzzNSX8k",
        "a5htw-xTXT-G",
        "g9YcptL0yf8y",
        "XAZNUm-Yid5v",
        "riH0vpGxdABu",
        "RM4fVH9pdCIF",
        "l2u87OWIfNfB",
        "ipC7-PqBsW6Z",
        "U6gYeT-qyjRh",
        "2yAI0mD1sw_p",
        "tNecAu16ZJen",
        "lbFwBC4C503N"
      ],
      "toc_visible": true
    },
    "kernelspec": {
      "display_name": "Python 3",
      "name": "python3"
    },
    "widgets": {
      "application/vnd.jupyter.widget-state+json": {
        "e0752e85b77d45e184f3209635338f66": {
          "model_module": "@jupyter-widgets/controls",
          "model_name": "HBoxModel",
          "state": {
            "_view_name": "HBoxView",
            "_dom_classes": [],
            "_model_name": "HBoxModel",
            "_view_module": "@jupyter-widgets/controls",
            "_model_module_version": "1.5.0",
            "_view_count": null,
            "_view_module_version": "1.5.0",
            "box_style": "",
            "layout": "IPY_MODEL_b7238eba89234dc1b12ade2b3764ab5b",
            "_model_module": "@jupyter-widgets/controls",
            "children": [
              "IPY_MODEL_fa221ba69cd042baa794dea2fb2b191b",
              "IPY_MODEL_08e4431310424f6e9fb33b25743c01a8"
            ]
          }
        },
        "b7238eba89234dc1b12ade2b3764ab5b": {
          "model_module": "@jupyter-widgets/base",
          "model_name": "LayoutModel",
          "state": {
            "_view_name": "LayoutView",
            "grid_template_rows": null,
            "right": null,
            "justify_content": null,
            "_view_module": "@jupyter-widgets/base",
            "overflow": null,
            "_model_module_version": "1.2.0",
            "_view_count": null,
            "flex_flow": null,
            "width": null,
            "min_width": null,
            "border": null,
            "align_items": null,
            "bottom": null,
            "_model_module": "@jupyter-widgets/base",
            "top": null,
            "grid_column": null,
            "overflow_y": null,
            "overflow_x": null,
            "grid_auto_flow": null,
            "grid_area": null,
            "grid_template_columns": null,
            "flex": null,
            "_model_name": "LayoutModel",
            "justify_items": null,
            "grid_row": null,
            "max_height": null,
            "align_content": null,
            "visibility": null,
            "align_self": null,
            "height": null,
            "min_height": null,
            "padding": null,
            "grid_auto_rows": null,
            "grid_gap": null,
            "max_width": null,
            "order": null,
            "_view_module_version": "1.2.0",
            "grid_template_areas": null,
            "object_position": null,
            "object_fit": null,
            "grid_auto_columns": null,
            "margin": null,
            "display": null,
            "left": null
          }
        },
        "fa221ba69cd042baa794dea2fb2b191b": {
          "model_module": "@jupyter-widgets/controls",
          "model_name": "FloatProgressModel",
          "state": {
            "_view_name": "ProgressView",
            "style": "IPY_MODEL_65c1b46125db4d18a88d22d2c6b2b000",
            "_dom_classes": [],
            "description": "100%",
            "_model_name": "FloatProgressModel",
            "bar_style": "success",
            "max": 17633,
            "_view_module": "@jupyter-widgets/controls",
            "_model_module_version": "1.5.0",
            "value": 17633,
            "_view_count": null,
            "_view_module_version": "1.5.0",
            "orientation": "horizontal",
            "min": 0,
            "description_tooltip": null,
            "_model_module": "@jupyter-widgets/controls",
            "layout": "IPY_MODEL_84748fce3dab4373870b59dd8dc7182f"
          }
        },
        "08e4431310424f6e9fb33b25743c01a8": {
          "model_module": "@jupyter-widgets/controls",
          "model_name": "HTMLModel",
          "state": {
            "_view_name": "HTMLView",
            "style": "IPY_MODEL_20002b85fb054e1f912b465f0934a236",
            "_dom_classes": [],
            "description": "",
            "_model_name": "HTMLModel",
            "placeholder": "​",
            "_view_module": "@jupyter-widgets/controls",
            "_model_module_version": "1.5.0",
            "value": " 17633/17633 [34:45&lt;00:00,  8.45it/s]",
            "_view_count": null,
            "_view_module_version": "1.5.0",
            "description_tooltip": null,
            "_model_module": "@jupyter-widgets/controls",
            "layout": "IPY_MODEL_fea1e18e2a7943e098f1797ba5f4cb6d"
          }
        },
        "65c1b46125db4d18a88d22d2c6b2b000": {
          "model_module": "@jupyter-widgets/controls",
          "model_name": "ProgressStyleModel",
          "state": {
            "_view_name": "StyleView",
            "_model_name": "ProgressStyleModel",
            "description_width": "initial",
            "_view_module": "@jupyter-widgets/base",
            "_model_module_version": "1.5.0",
            "_view_count": null,
            "_view_module_version": "1.2.0",
            "bar_color": null,
            "_model_module": "@jupyter-widgets/controls"
          }
        },
        "84748fce3dab4373870b59dd8dc7182f": {
          "model_module": "@jupyter-widgets/base",
          "model_name": "LayoutModel",
          "state": {
            "_view_name": "LayoutView",
            "grid_template_rows": null,
            "right": null,
            "justify_content": null,
            "_view_module": "@jupyter-widgets/base",
            "overflow": null,
            "_model_module_version": "1.2.0",
            "_view_count": null,
            "flex_flow": null,
            "width": null,
            "min_width": null,
            "border": null,
            "align_items": null,
            "bottom": null,
            "_model_module": "@jupyter-widgets/base",
            "top": null,
            "grid_column": null,
            "overflow_y": null,
            "overflow_x": null,
            "grid_auto_flow": null,
            "grid_area": null,
            "grid_template_columns": null,
            "flex": null,
            "_model_name": "LayoutModel",
            "justify_items": null,
            "grid_row": null,
            "max_height": null,
            "align_content": null,
            "visibility": null,
            "align_self": null,
            "height": null,
            "min_height": null,
            "padding": null,
            "grid_auto_rows": null,
            "grid_gap": null,
            "max_width": null,
            "order": null,
            "_view_module_version": "1.2.0",
            "grid_template_areas": null,
            "object_position": null,
            "object_fit": null,
            "grid_auto_columns": null,
            "margin": null,
            "display": null,
            "left": null
          }
        },
        "20002b85fb054e1f912b465f0934a236": {
          "model_module": "@jupyter-widgets/controls",
          "model_name": "DescriptionStyleModel",
          "state": {
            "_view_name": "StyleView",
            "_model_name": "DescriptionStyleModel",
            "description_width": "",
            "_view_module": "@jupyter-widgets/base",
            "_model_module_version": "1.5.0",
            "_view_count": null,
            "_view_module_version": "1.2.0",
            "_model_module": "@jupyter-widgets/controls"
          }
        },
        "fea1e18e2a7943e098f1797ba5f4cb6d": {
          "model_module": "@jupyter-widgets/base",
          "model_name": "LayoutModel",
          "state": {
            "_view_name": "LayoutView",
            "grid_template_rows": null,
            "right": null,
            "justify_content": null,
            "_view_module": "@jupyter-widgets/base",
            "overflow": null,
            "_model_module_version": "1.2.0",
            "_view_count": null,
            "flex_flow": null,
            "width": null,
            "min_width": null,
            "border": null,
            "align_items": null,
            "bottom": null,
            "_model_module": "@jupyter-widgets/base",
            "top": null,
            "grid_column": null,
            "overflow_y": null,
            "overflow_x": null,
            "grid_auto_flow": null,
            "grid_area": null,
            "grid_template_columns": null,
            "flex": null,
            "_model_name": "LayoutModel",
            "justify_items": null,
            "grid_row": null,
            "max_height": null,
            "align_content": null,
            "visibility": null,
            "align_self": null,
            "height": null,
            "min_height": null,
            "padding": null,
            "grid_auto_rows": null,
            "grid_gap": null,
            "max_width": null,
            "order": null,
            "_view_module_version": "1.2.0",
            "grid_template_areas": null,
            "object_position": null,
            "object_fit": null,
            "grid_auto_columns": null,
            "margin": null,
            "display": null,
            "left": null
          }
        },
        "3e35ef7dae3b41ff8aa94150a3e613cb": {
          "model_module": "@jupyter-widgets/controls",
          "model_name": "HBoxModel",
          "state": {
            "_dom_classes": [],
            "_model_module": "@jupyter-widgets/controls",
            "_model_module_version": "1.5.0",
            "_model_name": "HBoxModel",
            "_view_count": null,
            "_view_module": "@jupyter-widgets/controls",
            "_view_module_version": "1.5.0",
            "_view_name": "HBoxView",
            "box_style": "",
            "children": [
              "IPY_MODEL_4bee19edca6c41658163ea4f63623261",
              "IPY_MODEL_0b1ce8deab384984b2d9b806c5465201"
            ],
            "layout": "IPY_MODEL_1bf069eb17de40aa8dcef09476712bc4"
          }
        },
        "4bee19edca6c41658163ea4f63623261": {
          "model_module": "@jupyter-widgets/controls",
          "model_name": "FloatProgressModel",
          "state": {
            "_dom_classes": [],
            "_model_module": "@jupyter-widgets/controls",
            "_model_module_version": "1.5.0",
            "_model_name": "FloatProgressModel",
            "_view_count": null,
            "_view_module": "@jupyter-widgets/controls",
            "_view_module_version": "1.5.0",
            "_view_name": "ProgressView",
            "bar_style": "success",
            "description": "100%",
            "description_tooltip": null,
            "layout": "IPY_MODEL_116778172cde4b629522c0ccd657006a",
            "max": 9330,
            "min": 0,
            "orientation": "horizontal",
            "style": "IPY_MODEL_4dcd4200f392430dbf09b30fde76f671",
            "value": 9330
          }
        },
        "0b1ce8deab384984b2d9b806c5465201": {
          "model_module": "@jupyter-widgets/controls",
          "model_name": "HTMLModel",
          "state": {
            "_dom_classes": [],
            "_model_module": "@jupyter-widgets/controls",
            "_model_module_version": "1.5.0",
            "_model_name": "HTMLModel",
            "_view_count": null,
            "_view_module": "@jupyter-widgets/controls",
            "_view_module_version": "1.5.0",
            "_view_name": "HTMLView",
            "description": "",
            "description_tooltip": null,
            "layout": "IPY_MODEL_38e30802070e4546991dda5f921605ee",
            "placeholder": "​",
            "style": "IPY_MODEL_72dfc09daf864a4c93ef500c3393e16a",
            "value": " 9330/9330 [1:00:23&lt;00:00,  2.58it/s]"
          }
        },
        "1bf069eb17de40aa8dcef09476712bc4": {
          "model_module": "@jupyter-widgets/base",
          "model_name": "LayoutModel",
          "state": {
            "_model_module": "@jupyter-widgets/base",
            "_model_module_version": "1.2.0",
            "_model_name": "LayoutModel",
            "_view_count": null,
            "_view_module": "@jupyter-widgets/base",
            "_view_module_version": "1.2.0",
            "_view_name": "LayoutView",
            "align_content": null,
            "align_items": null,
            "align_self": null,
            "border": null,
            "bottom": null,
            "display": null,
            "flex": null,
            "flex_flow": null,
            "grid_area": null,
            "grid_auto_columns": null,
            "grid_auto_flow": null,
            "grid_auto_rows": null,
            "grid_column": null,
            "grid_gap": null,
            "grid_row": null,
            "grid_template_areas": null,
            "grid_template_columns": null,
            "grid_template_rows": null,
            "height": null,
            "justify_content": null,
            "justify_items": null,
            "left": null,
            "margin": null,
            "max_height": null,
            "max_width": null,
            "min_height": null,
            "min_width": null,
            "object_fit": null,
            "object_position": null,
            "order": null,
            "overflow": null,
            "overflow_x": null,
            "overflow_y": null,
            "padding": null,
            "right": null,
            "top": null,
            "visibility": null,
            "width": null
          }
        },
        "116778172cde4b629522c0ccd657006a": {
          "model_module": "@jupyter-widgets/base",
          "model_name": "LayoutModel",
          "state": {
            "_model_module": "@jupyter-widgets/base",
            "_model_module_version": "1.2.0",
            "_model_name": "LayoutModel",
            "_view_count": null,
            "_view_module": "@jupyter-widgets/base",
            "_view_module_version": "1.2.0",
            "_view_name": "LayoutView",
            "align_content": null,
            "align_items": null,
            "align_self": null,
            "border": null,
            "bottom": null,
            "display": null,
            "flex": null,
            "flex_flow": null,
            "grid_area": null,
            "grid_auto_columns": null,
            "grid_auto_flow": null,
            "grid_auto_rows": null,
            "grid_column": null,
            "grid_gap": null,
            "grid_row": null,
            "grid_template_areas": null,
            "grid_template_columns": null,
            "grid_template_rows": null,
            "height": null,
            "justify_content": null,
            "justify_items": null,
            "left": null,
            "margin": null,
            "max_height": null,
            "max_width": null,
            "min_height": null,
            "min_width": null,
            "object_fit": null,
            "object_position": null,
            "order": null,
            "overflow": null,
            "overflow_x": null,
            "overflow_y": null,
            "padding": null,
            "right": null,
            "top": null,
            "visibility": null,
            "width": null
          }
        },
        "4dcd4200f392430dbf09b30fde76f671": {
          "model_module": "@jupyter-widgets/controls",
          "model_name": "ProgressStyleModel",
          "state": {
            "_model_module": "@jupyter-widgets/controls",
            "_model_module_version": "1.5.0",
            "_model_name": "ProgressStyleModel",
            "_view_count": null,
            "_view_module": "@jupyter-widgets/base",
            "_view_module_version": "1.2.0",
            "_view_name": "StyleView",
            "bar_color": null,
            "description_width": "initial"
          }
        },
        "38e30802070e4546991dda5f921605ee": {
          "model_module": "@jupyter-widgets/base",
          "model_name": "LayoutModel",
          "state": {
            "_model_module": "@jupyter-widgets/base",
            "_model_module_version": "1.2.0",
            "_model_name": "LayoutModel",
            "_view_count": null,
            "_view_module": "@jupyter-widgets/base",
            "_view_module_version": "1.2.0",
            "_view_name": "LayoutView",
            "align_content": null,
            "align_items": null,
            "align_self": null,
            "border": null,
            "bottom": null,
            "display": null,
            "flex": null,
            "flex_flow": null,
            "grid_area": null,
            "grid_auto_columns": null,
            "grid_auto_flow": null,
            "grid_auto_rows": null,
            "grid_column": null,
            "grid_gap": null,
            "grid_row": null,
            "grid_template_areas": null,
            "grid_template_columns": null,
            "grid_template_rows": null,
            "height": null,
            "justify_content": null,
            "justify_items": null,
            "left": null,
            "margin": null,
            "max_height": null,
            "max_width": null,
            "min_height": null,
            "min_width": null,
            "object_fit": null,
            "object_position": null,
            "order": null,
            "overflow": null,
            "overflow_x": null,
            "overflow_y": null,
            "padding": null,
            "right": null,
            "top": null,
            "visibility": null,
            "width": null
          }
        },
        "72dfc09daf864a4c93ef500c3393e16a": {
          "model_module": "@jupyter-widgets/controls",
          "model_name": "DescriptionStyleModel",
          "state": {
            "_model_module": "@jupyter-widgets/controls",
            "_model_module_version": "1.5.0",
            "_model_name": "DescriptionStyleModel",
            "_view_count": null,
            "_view_module": "@jupyter-widgets/base",
            "_view_module_version": "1.2.0",
            "_view_name": "StyleView",
            "description_width": ""
          }
        }
      }
    }
  },
  "cells": [
    {
      "cell_type": "markdown",
      "metadata": {
        "id": "R9Z2ft61XoHw"
      },
      "source": [
        "*** DO NOT RUN ALL CELLS ***\r\n",
        "\r\n",
        "This will wipe some of the outputs that take some time to run and are only there for the purpose of explanation and demonstration.\r\n",
        "\r\n",
        "More details on this are explained below."
      ]
    },
    {
      "cell_type": "markdown",
      "metadata": {
        "id": "YfrjELX4cTlS"
      },
      "source": [
        "---\r\n",
        "---\r\n",
        "\r\n",
        "# 1. Setup\r\n",
        "\r\n",
        "---\r\n",
        "---"
      ]
    },
    {
      "cell_type": "markdown",
      "metadata": {
        "id": "4XPXVgL7cxlc"
      },
      "source": [
        "### Import packages needed for Spotify API"
      ]
    },
    {
      "cell_type": "code",
      "metadata": {
        "colab": {
          "base_uri": "https://localhost:8080/"
        },
        "id": "5qHrnYRecNh5",
        "outputId": "896461c2-3e8e-49af-c9ba-0e36665773e2"
      },
      "source": [
        "!pip install spotipy"
      ],
      "execution_count": null,
      "outputs": [
        {
          "output_type": "stream",
          "text": [
            "Collecting spotipy\n",
            "  Downloading https://files.pythonhosted.org/packages/7a/cd/e7d9a35216ea5bfb9234785f3d8fa7c96d0e33999c2cb72394128f6b4cce/spotipy-2.16.1-py3-none-any.whl\n",
            "Requirement already satisfied: requests>=2.20.0 in /usr/local/lib/python3.6/dist-packages (from spotipy) (2.23.0)\n",
            "Requirement already satisfied: six>=1.10.0 in /usr/local/lib/python3.6/dist-packages (from spotipy) (1.15.0)\n",
            "Requirement already satisfied: chardet<4,>=3.0.2 in /usr/local/lib/python3.6/dist-packages (from requests>=2.20.0->spotipy) (3.0.4)\n",
            "Requirement already satisfied: urllib3!=1.25.0,!=1.25.1,<1.26,>=1.21.1 in /usr/local/lib/python3.6/dist-packages (from requests>=2.20.0->spotipy) (1.24.3)\n",
            "Requirement already satisfied: idna<3,>=2.5 in /usr/local/lib/python3.6/dist-packages (from requests>=2.20.0->spotipy) (2.10)\n",
            "Requirement already satisfied: certifi>=2017.4.17 in /usr/local/lib/python3.6/dist-packages (from requests>=2.20.0->spotipy) (2020.12.5)\n",
            "Installing collected packages: spotipy\n",
            "Successfully installed spotipy-2.16.1\n"
          ],
          "name": "stdout"
        }
      ]
    },
    {
      "cell_type": "code",
      "metadata": {
        "id": "Q1zgvF5qcurj"
      },
      "source": [
        "import spotipy\r\n",
        "from spotipy.oauth2 import SpotifyClientCredentials"
      ],
      "execution_count": null,
      "outputs": []
    },
    {
      "cell_type": "markdown",
      "metadata": {
        "id": "AG2XBy8EcMKs"
      },
      "source": [
        "### General Imports"
      ]
    },
    {
      "cell_type": "code",
      "metadata": {
        "id": "981T0Q8cR4Xs"
      },
      "source": [
        "from google.colab import drive\n",
        "import os\n",
        "import pandas as pd\n",
        "import matplotlib.pyplot as plt\n",
        "import sys\n",
        "import glob\n",
        "import string\n",
        "import nltk\n",
        "\n",
        "from tqdm.auto import tqdm"
      ],
      "execution_count": null,
      "outputs": []
    },
    {
      "cell_type": "markdown",
      "metadata": {
        "id": "D8NK3aeBc1Rn"
      },
      "source": [
        "### Mount the Drive"
      ]
    },
    {
      "cell_type": "code",
      "metadata": {
        "colab": {
          "base_uri": "https://localhost:8080/"
        },
        "id": "JtpHJzUbSAUq",
        "outputId": "e4aa0636-0ce9-4736-8888-222d2b375d92"
      },
      "source": [
        "drive.mount(\"/content/drive\")#, force_remount=True)"
      ],
      "execution_count": null,
      "outputs": [
        {
          "output_type": "stream",
          "text": [
            "Mounted at /content/drive\n"
          ],
          "name": "stdout"
        }
      ]
    },
    {
      "cell_type": "code",
      "metadata": {
        "id": "YhbG5SDHQ96a"
      },
      "source": [
        "os.chdir(\"drive/MyDrive/ca4015_assignment4/data\")"
      ],
      "execution_count": null,
      "outputs": []
    },
    {
      "cell_type": "markdown",
      "metadata": {
        "id": "ewv_FzzNSX8k"
      },
      "source": [
        "---\r\n",
        "---\r\n",
        "\r\n",
        "# 2. Read in Data\r\n",
        "\r\n",
        "---\r\n",
        "---"
      ]
    },
    {
      "cell_type": "markdown",
      "metadata": {
        "id": "a5htw-xTXT-G"
      },
      "source": [
        "## Original Data"
      ]
    },
    {
      "cell_type": "markdown",
      "metadata": {
        "id": "RRbmZ0eumDAz"
      },
      "source": [
        "First we will read in the dataset we were given for the purpose of this assignment.\r\n",
        "This datasets was generated by the Information Retrieval Group at Universidad Autónoma de Madrid and contains music data from a set of 1,892 users of the Last.fm music system.\r\n",
        "\r\n",
        "This data includes the artists the user listens to, the amount of time the user spends listening to this artist, the tags that the user gives to the artist and also corrosponding userIDs of the users friends. A total of 17,632 artists and 11,946 tags are contained in this dataset.\r\n",
        "This information is contained in 5 seperate files, these are:\r\n",
        "\r\n",
        "1.   A file on the artists\r\n",
        "2.   A file on the tags\r\n",
        "3.   A file on the users' friends\r\n",
        "4.   A file on the artists the user listens to and the weight of preference the user has for each artist\r\n",
        "5.   A file on the details of when and what tags were given to the artists by users\r\n",
        "\r\n",
        "\r\n",
        "We will start by reading all of these 5 files into pandas dataframes and then joining them all up into one table. This will make our lives a bit easier rather than having to deal with multiple files all at the same time.\r\n",
        "\r\n"
      ]
    },
    {
      "cell_type": "markdown",
      "metadata": {
        "id": "g9YcptL0yf8y"
      },
      "source": [
        "##### Read in original data"
      ]
    },
    {
      "cell_type": "code",
      "metadata": {
        "id": "xFoDxZ_JV7zs"
      },
      "source": [
        "directory = \"raw/\"\r\n",
        "\r\n",
        "# read in the different tables\r\n",
        "artists = pd.read_csv(os.path.join(directory, \"artists.dat\"), sep=\"\\t\")\r\n",
        "tags = pd.read_csv(os.path.join(directory, \"tags.dat\"), sep=\"\\t\", encoding=\"latin\")\r\n",
        "listening = pd.read_csv(os.path.join(directory, \"user_artists.dat\"), sep=\"\\t\")\r\n",
        "friends = pd.read_csv(os.path.join(directory, \"user_friends.dat\"), sep=\"\\t\")\r\n",
        "user_tags = pd.read_csv(os.path.join(directory, \"user_taggedartists-timestamps.dat\"), sep=\"\\t\")\r\n",
        "\r\n",
        "# change the time in the user_tags table to a timestamp\r\n",
        "user_tags[\"timestamp\"] = pd.to_datetime(user_tags[\"timestamp\"], unit=\"ms\")"
      ],
      "execution_count": null,
      "outputs": []
    },
    {
      "cell_type": "code",
      "metadata": {
        "colab": {
          "base_uri": "https://localhost:8080/"
        },
        "id": "7tiKCZXHpsGm",
        "outputId": "de2ace88-de8d-4708-fb9f-cdf92c8cf5e6"
      },
      "source": [
        "artists.shape"
      ],
      "execution_count": null,
      "outputs": [
        {
          "output_type": "execute_result",
          "data": {
            "text/plain": [
              "(17632, 4)"
            ]
          },
          "metadata": {
            "tags": []
          },
          "execution_count": 8
        }
      ]
    },
    {
      "cell_type": "code",
      "metadata": {
        "colab": {
          "base_uri": "https://localhost:8080/"
        },
        "id": "r19cEeHfSDww",
        "outputId": "142be46c-1057-48db-b134-052a654e7670"
      },
      "source": [
        "artists.head()"
      ],
      "execution_count": null,
      "outputs": [
        {
          "output_type": "execute_result",
          "data": {
            "text/html": [
              "<div>\n",
              "<style scoped>\n",
              "    .dataframe tbody tr th:only-of-type {\n",
              "        vertical-align: middle;\n",
              "    }\n",
              "\n",
              "    .dataframe tbody tr th {\n",
              "        vertical-align: top;\n",
              "    }\n",
              "\n",
              "    .dataframe thead th {\n",
              "        text-align: right;\n",
              "    }\n",
              "</style>\n",
              "<table border=\"1\" class=\"dataframe\">\n",
              "  <thead>\n",
              "    <tr style=\"text-align: right;\">\n",
              "      <th></th>\n",
              "      <th>id</th>\n",
              "      <th>name</th>\n",
              "      <th>url</th>\n",
              "      <th>pictureURL</th>\n",
              "    </tr>\n",
              "  </thead>\n",
              "  <tbody>\n",
              "    <tr>\n",
              "      <th>0</th>\n",
              "      <td>1</td>\n",
              "      <td>MALICE MIZER</td>\n",
              "      <td>http://www.last.fm/music/MALICE+MIZER</td>\n",
              "      <td>http://userserve-ak.last.fm/serve/252/10808.jpg</td>\n",
              "    </tr>\n",
              "    <tr>\n",
              "      <th>1</th>\n",
              "      <td>2</td>\n",
              "      <td>Diary of Dreams</td>\n",
              "      <td>http://www.last.fm/music/Diary+of+Dreams</td>\n",
              "      <td>http://userserve-ak.last.fm/serve/252/3052066.jpg</td>\n",
              "    </tr>\n",
              "    <tr>\n",
              "      <th>2</th>\n",
              "      <td>3</td>\n",
              "      <td>Carpathian Forest</td>\n",
              "      <td>http://www.last.fm/music/Carpathian+Forest</td>\n",
              "      <td>http://userserve-ak.last.fm/serve/252/40222717...</td>\n",
              "    </tr>\n",
              "    <tr>\n",
              "      <th>3</th>\n",
              "      <td>4</td>\n",
              "      <td>Moi dix Mois</td>\n",
              "      <td>http://www.last.fm/music/Moi+dix+Mois</td>\n",
              "      <td>http://userserve-ak.last.fm/serve/252/54697835...</td>\n",
              "    </tr>\n",
              "    <tr>\n",
              "      <th>4</th>\n",
              "      <td>5</td>\n",
              "      <td>Bella Morte</td>\n",
              "      <td>http://www.last.fm/music/Bella+Morte</td>\n",
              "      <td>http://userserve-ak.last.fm/serve/252/14789013...</td>\n",
              "    </tr>\n",
              "  </tbody>\n",
              "</table>\n",
              "</div>"
            ],
            "text/plain": [
              "   id  ...                                         pictureURL\n",
              "0   1  ...    http://userserve-ak.last.fm/serve/252/10808.jpg\n",
              "1   2  ...  http://userserve-ak.last.fm/serve/252/3052066.jpg\n",
              "2   3  ...  http://userserve-ak.last.fm/serve/252/40222717...\n",
              "3   4  ...  http://userserve-ak.last.fm/serve/252/54697835...\n",
              "4   5  ...  http://userserve-ak.last.fm/serve/252/14789013...\n",
              "\n",
              "[5 rows x 4 columns]"
            ]
          },
          "metadata": {
            "tags": []
          },
          "execution_count": 9
        }
      ]
    },
    {
      "cell_type": "code",
      "metadata": {
        "colab": {
          "base_uri": "https://localhost:8080/"
        },
        "id": "U4zRxnmBpulP",
        "outputId": "134d5f41-d52c-49cf-dd77-1de99404e7c2"
      },
      "source": [
        "tags.shape"
      ],
      "execution_count": null,
      "outputs": [
        {
          "output_type": "execute_result",
          "data": {
            "text/plain": [
              "(11946, 2)"
            ]
          },
          "metadata": {
            "tags": []
          },
          "execution_count": 10
        }
      ]
    },
    {
      "cell_type": "code",
      "metadata": {
        "colab": {
          "base_uri": "https://localhost:8080/"
        },
        "id": "LX31lJMQSkLk",
        "outputId": "d7564d7f-8386-4c73-e2b2-a08b4b4476be"
      },
      "source": [
        "tags.head()"
      ],
      "execution_count": null,
      "outputs": [
        {
          "output_type": "execute_result",
          "data": {
            "text/html": [
              "<div>\n",
              "<style scoped>\n",
              "    .dataframe tbody tr th:only-of-type {\n",
              "        vertical-align: middle;\n",
              "    }\n",
              "\n",
              "    .dataframe tbody tr th {\n",
              "        vertical-align: top;\n",
              "    }\n",
              "\n",
              "    .dataframe thead th {\n",
              "        text-align: right;\n",
              "    }\n",
              "</style>\n",
              "<table border=\"1\" class=\"dataframe\">\n",
              "  <thead>\n",
              "    <tr style=\"text-align: right;\">\n",
              "      <th></th>\n",
              "      <th>tagID</th>\n",
              "      <th>tagValue</th>\n",
              "    </tr>\n",
              "  </thead>\n",
              "  <tbody>\n",
              "    <tr>\n",
              "      <th>0</th>\n",
              "      <td>1</td>\n",
              "      <td>metal</td>\n",
              "    </tr>\n",
              "    <tr>\n",
              "      <th>1</th>\n",
              "      <td>2</td>\n",
              "      <td>alternative metal</td>\n",
              "    </tr>\n",
              "    <tr>\n",
              "      <th>2</th>\n",
              "      <td>3</td>\n",
              "      <td>goth rock</td>\n",
              "    </tr>\n",
              "    <tr>\n",
              "      <th>3</th>\n",
              "      <td>4</td>\n",
              "      <td>black metal</td>\n",
              "    </tr>\n",
              "    <tr>\n",
              "      <th>4</th>\n",
              "      <td>5</td>\n",
              "      <td>death metal</td>\n",
              "    </tr>\n",
              "  </tbody>\n",
              "</table>\n",
              "</div>"
            ],
            "text/plain": [
              "   tagID           tagValue\n",
              "0      1              metal\n",
              "1      2  alternative metal\n",
              "2      3          goth rock\n",
              "3      4        black metal\n",
              "4      5        death metal"
            ]
          },
          "metadata": {
            "tags": []
          },
          "execution_count": 11
        }
      ]
    },
    {
      "cell_type": "code",
      "metadata": {
        "colab": {
          "base_uri": "https://localhost:8080/"
        },
        "id": "jup30xKSpvyC",
        "outputId": "26d2e6ff-7e2a-43a9-ef08-f54c31c77079"
      },
      "source": [
        "listening.shape"
      ],
      "execution_count": null,
      "outputs": [
        {
          "output_type": "execute_result",
          "data": {
            "text/plain": [
              "(92834, 3)"
            ]
          },
          "metadata": {
            "tags": []
          },
          "execution_count": 12
        }
      ]
    },
    {
      "cell_type": "code",
      "metadata": {
        "colab": {
          "base_uri": "https://localhost:8080/"
        },
        "id": "CIRK-vnOSxWM",
        "outputId": "d0464d30-b803-4ef3-f295-dd87f51d9d1f"
      },
      "source": [
        "listening.head()"
      ],
      "execution_count": null,
      "outputs": [
        {
          "output_type": "execute_result",
          "data": {
            "text/html": [
              "<div>\n",
              "<style scoped>\n",
              "    .dataframe tbody tr th:only-of-type {\n",
              "        vertical-align: middle;\n",
              "    }\n",
              "\n",
              "    .dataframe tbody tr th {\n",
              "        vertical-align: top;\n",
              "    }\n",
              "\n",
              "    .dataframe thead th {\n",
              "        text-align: right;\n",
              "    }\n",
              "</style>\n",
              "<table border=\"1\" class=\"dataframe\">\n",
              "  <thead>\n",
              "    <tr style=\"text-align: right;\">\n",
              "      <th></th>\n",
              "      <th>userID</th>\n",
              "      <th>artistID</th>\n",
              "      <th>weight</th>\n",
              "    </tr>\n",
              "  </thead>\n",
              "  <tbody>\n",
              "    <tr>\n",
              "      <th>0</th>\n",
              "      <td>2</td>\n",
              "      <td>51</td>\n",
              "      <td>13883</td>\n",
              "    </tr>\n",
              "    <tr>\n",
              "      <th>1</th>\n",
              "      <td>2</td>\n",
              "      <td>52</td>\n",
              "      <td>11690</td>\n",
              "    </tr>\n",
              "    <tr>\n",
              "      <th>2</th>\n",
              "      <td>2</td>\n",
              "      <td>53</td>\n",
              "      <td>11351</td>\n",
              "    </tr>\n",
              "    <tr>\n",
              "      <th>3</th>\n",
              "      <td>2</td>\n",
              "      <td>54</td>\n",
              "      <td>10300</td>\n",
              "    </tr>\n",
              "    <tr>\n",
              "      <th>4</th>\n",
              "      <td>2</td>\n",
              "      <td>55</td>\n",
              "      <td>8983</td>\n",
              "    </tr>\n",
              "  </tbody>\n",
              "</table>\n",
              "</div>"
            ],
            "text/plain": [
              "   userID  artistID  weight\n",
              "0       2        51   13883\n",
              "1       2        52   11690\n",
              "2       2        53   11351\n",
              "3       2        54   10300\n",
              "4       2        55    8983"
            ]
          },
          "metadata": {
            "tags": []
          },
          "execution_count": 13
        }
      ]
    },
    {
      "cell_type": "code",
      "metadata": {
        "colab": {
          "base_uri": "https://localhost:8080/"
        },
        "id": "kuKkGTK5pxZW",
        "outputId": "f7b43a31-7336-45ef-a862-75b87edf703f"
      },
      "source": [
        "friends.shape"
      ],
      "execution_count": null,
      "outputs": [
        {
          "output_type": "execute_result",
          "data": {
            "text/plain": [
              "(25434, 2)"
            ]
          },
          "metadata": {
            "tags": []
          },
          "execution_count": 14
        }
      ]
    },
    {
      "cell_type": "code",
      "metadata": {
        "colab": {
          "base_uri": "https://localhost:8080/"
        },
        "id": "A7bKCKHBUrKj",
        "outputId": "f879e37c-07e3-47e2-eabd-9a2c4a7cf9f9"
      },
      "source": [
        "friends.head()"
      ],
      "execution_count": null,
      "outputs": [
        {
          "output_type": "execute_result",
          "data": {
            "text/html": [
              "<div>\n",
              "<style scoped>\n",
              "    .dataframe tbody tr th:only-of-type {\n",
              "        vertical-align: middle;\n",
              "    }\n",
              "\n",
              "    .dataframe tbody tr th {\n",
              "        vertical-align: top;\n",
              "    }\n",
              "\n",
              "    .dataframe thead th {\n",
              "        text-align: right;\n",
              "    }\n",
              "</style>\n",
              "<table border=\"1\" class=\"dataframe\">\n",
              "  <thead>\n",
              "    <tr style=\"text-align: right;\">\n",
              "      <th></th>\n",
              "      <th>userID</th>\n",
              "      <th>friendID</th>\n",
              "    </tr>\n",
              "  </thead>\n",
              "  <tbody>\n",
              "    <tr>\n",
              "      <th>0</th>\n",
              "      <td>2</td>\n",
              "      <td>275</td>\n",
              "    </tr>\n",
              "    <tr>\n",
              "      <th>1</th>\n",
              "      <td>2</td>\n",
              "      <td>428</td>\n",
              "    </tr>\n",
              "    <tr>\n",
              "      <th>2</th>\n",
              "      <td>2</td>\n",
              "      <td>515</td>\n",
              "    </tr>\n",
              "    <tr>\n",
              "      <th>3</th>\n",
              "      <td>2</td>\n",
              "      <td>761</td>\n",
              "    </tr>\n",
              "    <tr>\n",
              "      <th>4</th>\n",
              "      <td>2</td>\n",
              "      <td>831</td>\n",
              "    </tr>\n",
              "  </tbody>\n",
              "</table>\n",
              "</div>"
            ],
            "text/plain": [
              "   userID  friendID\n",
              "0       2       275\n",
              "1       2       428\n",
              "2       2       515\n",
              "3       2       761\n",
              "4       2       831"
            ]
          },
          "metadata": {
            "tags": []
          },
          "execution_count": 15
        }
      ]
    },
    {
      "cell_type": "code",
      "metadata": {
        "colab": {
          "base_uri": "https://localhost:8080/"
        },
        "id": "wxpPqbf3pzxL",
        "outputId": "c3fed301-318a-4dfe-9f36-843df0e0cbee"
      },
      "source": [
        "user_tags.shape"
      ],
      "execution_count": null,
      "outputs": [
        {
          "output_type": "execute_result",
          "data": {
            "text/plain": [
              "(186479, 4)"
            ]
          },
          "metadata": {
            "tags": []
          },
          "execution_count": 16
        }
      ]
    },
    {
      "cell_type": "code",
      "metadata": {
        "colab": {
          "base_uri": "https://localhost:8080/"
        },
        "id": "HvP3XKyUU3Gb",
        "outputId": "3948ca20-d891-4ec0-ef08-b2b1cf0c0624"
      },
      "source": [
        "user_tags.head()"
      ],
      "execution_count": null,
      "outputs": [
        {
          "output_type": "execute_result",
          "data": {
            "text/html": [
              "<div>\n",
              "<style scoped>\n",
              "    .dataframe tbody tr th:only-of-type {\n",
              "        vertical-align: middle;\n",
              "    }\n",
              "\n",
              "    .dataframe tbody tr th {\n",
              "        vertical-align: top;\n",
              "    }\n",
              "\n",
              "    .dataframe thead th {\n",
              "        text-align: right;\n",
              "    }\n",
              "</style>\n",
              "<table border=\"1\" class=\"dataframe\">\n",
              "  <thead>\n",
              "    <tr style=\"text-align: right;\">\n",
              "      <th></th>\n",
              "      <th>userID</th>\n",
              "      <th>artistID</th>\n",
              "      <th>tagID</th>\n",
              "      <th>timestamp</th>\n",
              "    </tr>\n",
              "  </thead>\n",
              "  <tbody>\n",
              "    <tr>\n",
              "      <th>0</th>\n",
              "      <td>2</td>\n",
              "      <td>52</td>\n",
              "      <td>13</td>\n",
              "      <td>2009-03-31 22:00:00</td>\n",
              "    </tr>\n",
              "    <tr>\n",
              "      <th>1</th>\n",
              "      <td>2</td>\n",
              "      <td>52</td>\n",
              "      <td>15</td>\n",
              "      <td>2009-03-31 22:00:00</td>\n",
              "    </tr>\n",
              "    <tr>\n",
              "      <th>2</th>\n",
              "      <td>2</td>\n",
              "      <td>52</td>\n",
              "      <td>18</td>\n",
              "      <td>2009-03-31 22:00:00</td>\n",
              "    </tr>\n",
              "    <tr>\n",
              "      <th>3</th>\n",
              "      <td>2</td>\n",
              "      <td>52</td>\n",
              "      <td>21</td>\n",
              "      <td>2009-03-31 22:00:00</td>\n",
              "    </tr>\n",
              "    <tr>\n",
              "      <th>4</th>\n",
              "      <td>2</td>\n",
              "      <td>52</td>\n",
              "      <td>41</td>\n",
              "      <td>2009-03-31 22:00:00</td>\n",
              "    </tr>\n",
              "  </tbody>\n",
              "</table>\n",
              "</div>"
            ],
            "text/plain": [
              "   userID  artistID  tagID           timestamp\n",
              "0       2        52     13 2009-03-31 22:00:00\n",
              "1       2        52     15 2009-03-31 22:00:00\n",
              "2       2        52     18 2009-03-31 22:00:00\n",
              "3       2        52     21 2009-03-31 22:00:00\n",
              "4       2        52     41 2009-03-31 22:00:00"
            ]
          },
          "metadata": {
            "tags": []
          },
          "execution_count": 17
        }
      ]
    },
    {
      "cell_type": "markdown",
      "metadata": {
        "id": "XAZNUm-Yid5v"
      },
      "source": [
        "##### Join the original data tables together"
      ]
    },
    {
      "cell_type": "markdown",
      "metadata": {
        "id": "JBFw-ifc4Ykt"
      },
      "source": [
        "Here we decided to use outer joins to maintain all the data, nulls can then be filtered out at different stages of the process."
      ]
    },
    {
      "cell_type": "code",
      "metadata": {
        "id": "3s8mwwjEXB0R"
      },
      "source": [
        "user_and_friend = pd.merge(listening, friends, on=\"userID\", how=\"outer\")\r\n",
        "user_friend_nd_artist = pd.merge(user_and_friend, artists, left_on=\"artistID\", right_on=\"id\", how=\"outer\").drop(columns=[\"id\", \"url\", \"pictureURL\"])\r\n",
        "artist_nd_tag = pd.merge(user_tags, tags, on=\"tagID\", how=\"left\")\r\n",
        "\r\n",
        "original_df = pd.merge(user_friend_nd_artist, artist_nd_tag, on=[\"userID\", \"artistID\"], how=\"outer\")\r\n",
        "\r\n",
        "# rename columns to make more clear\r\n",
        "original_df.rename(columns={\"name\": \"artistName\", \"weight\": \"artistWeight\"}, inplace=True)"
      ],
      "execution_count": null,
      "outputs": []
    },
    {
      "cell_type": "code",
      "metadata": {
        "colab": {
          "base_uri": "https://localhost:8080/"
        },
        "id": "ynIzQlUcXK9H",
        "outputId": "7a2cc700-d943-4194-9b7c-2ed577a105e9"
      },
      "source": [
        "original_df.head()"
      ],
      "execution_count": null,
      "outputs": [
        {
          "output_type": "execute_result",
          "data": {
            "text/html": [
              "<div>\n",
              "<style scoped>\n",
              "    .dataframe tbody tr th:only-of-type {\n",
              "        vertical-align: middle;\n",
              "    }\n",
              "\n",
              "    .dataframe tbody tr th {\n",
              "        vertical-align: top;\n",
              "    }\n",
              "\n",
              "    .dataframe thead th {\n",
              "        text-align: right;\n",
              "    }\n",
              "</style>\n",
              "<table border=\"1\" class=\"dataframe\">\n",
              "  <thead>\n",
              "    <tr style=\"text-align: right;\">\n",
              "      <th></th>\n",
              "      <th>userID</th>\n",
              "      <th>artistID</th>\n",
              "      <th>artistWeight</th>\n",
              "      <th>friendID</th>\n",
              "      <th>artistName</th>\n",
              "      <th>tagID</th>\n",
              "      <th>timestamp</th>\n",
              "      <th>tagValue</th>\n",
              "    </tr>\n",
              "  </thead>\n",
              "  <tbody>\n",
              "    <tr>\n",
              "      <th>0</th>\n",
              "      <td>2</td>\n",
              "      <td>51</td>\n",
              "      <td>13883.0</td>\n",
              "      <td>275.0</td>\n",
              "      <td>Duran Duran</td>\n",
              "      <td>NaN</td>\n",
              "      <td>NaT</td>\n",
              "      <td>NaN</td>\n",
              "    </tr>\n",
              "    <tr>\n",
              "      <th>1</th>\n",
              "      <td>2</td>\n",
              "      <td>51</td>\n",
              "      <td>13883.0</td>\n",
              "      <td>428.0</td>\n",
              "      <td>Duran Duran</td>\n",
              "      <td>NaN</td>\n",
              "      <td>NaT</td>\n",
              "      <td>NaN</td>\n",
              "    </tr>\n",
              "    <tr>\n",
              "      <th>2</th>\n",
              "      <td>2</td>\n",
              "      <td>51</td>\n",
              "      <td>13883.0</td>\n",
              "      <td>515.0</td>\n",
              "      <td>Duran Duran</td>\n",
              "      <td>NaN</td>\n",
              "      <td>NaT</td>\n",
              "      <td>NaN</td>\n",
              "    </tr>\n",
              "    <tr>\n",
              "      <th>3</th>\n",
              "      <td>2</td>\n",
              "      <td>51</td>\n",
              "      <td>13883.0</td>\n",
              "      <td>761.0</td>\n",
              "      <td>Duran Duran</td>\n",
              "      <td>NaN</td>\n",
              "      <td>NaT</td>\n",
              "      <td>NaN</td>\n",
              "    </tr>\n",
              "    <tr>\n",
              "      <th>4</th>\n",
              "      <td>2</td>\n",
              "      <td>51</td>\n",
              "      <td>13883.0</td>\n",
              "      <td>831.0</td>\n",
              "      <td>Duran Duran</td>\n",
              "      <td>NaN</td>\n",
              "      <td>NaT</td>\n",
              "      <td>NaN</td>\n",
              "    </tr>\n",
              "  </tbody>\n",
              "</table>\n",
              "</div>"
            ],
            "text/plain": [
              "   userID  artistID  artistWeight  ...  tagID timestamp  tagValue\n",
              "0       2        51       13883.0  ...    NaN       NaT       NaN\n",
              "1       2        51       13883.0  ...    NaN       NaT       NaN\n",
              "2       2        51       13883.0  ...    NaN       NaT       NaN\n",
              "3       2        51       13883.0  ...    NaN       NaT       NaN\n",
              "4       2        51       13883.0  ...    NaN       NaT       NaN\n",
              "\n",
              "[5 rows x 8 columns]"
            ]
          },
          "metadata": {
            "tags": []
          },
          "execution_count": 19
        }
      ]
    },
    {
      "cell_type": "code",
      "metadata": {
        "colab": {
          "base_uri": "https://localhost:8080/"
        },
        "id": "_PK8MO6m2JjY",
        "outputId": "de335fa3-0855-4074-ec12-ab99de43bd46"
      },
      "source": [
        "original_df.artistID.nunique()"
      ],
      "execution_count": null,
      "outputs": [
        {
          "output_type": "execute_result",
          "data": {
            "text/plain": [
              "18022"
            ]
          },
          "metadata": {
            "tags": []
          },
          "execution_count": 20
        }
      ]
    },
    {
      "cell_type": "markdown",
      "metadata": {
        "id": "riH0vpGxdABu"
      },
      "source": [
        "## Spotify API"
      ]
    },
    {
      "cell_type": "markdown",
      "metadata": {
        "id": "b9sAhJjqSuO1"
      },
      "source": [
        "From examining this original data and hypothesising about how we would recommend data related to it, we noticed there were a few problems with the data given and we felt that there were a few additions we could make to the data to improve it and make our lives easier.\r\n",
        "\r\n",
        "For one, we felt the tags were too inconsistant. These tags mostly contained the genre that the artist was but there were quite a number of outliers to this as well due to the nature of them being user generated. While we had attempted to iterate through these tags and to automatically have a criteria where only relevant genres would be returned from these tags across all users, this proved difficult as we were unsure of a hard rule that would catch all cases nicely.\r\n",
        "\r\n",
        "There was also the problem with the pirctureURL column in the original data. While there was a URL to an image given, as this data from Last.fm is from 2011, these links no longer worked. This proved important as from our plan for this project, we wanted to include some nice summary statistics on the recommended music and as a result wanted to have an image to act as a visual represenation of the artist. "
      ]
    },
    {
      "cell_type": "markdown",
      "metadata": {
        "id": "TZVd7Jj4Trek"
      },
      "source": [
        "This is where the Spotify API comes in. We discovered this API as we looked to obtain more information about the artists in the dataset.\r\n",
        "\r\n",
        "Using this API, we could look up the artist in our data on Spotify and return some recorded Spotify data on this artist. This extra data included the genres covered by this artist along with a URL of the location of an image that we could assign to each artist. We could then iterate through our artists and this data in a table to then be merged to the other data we have."
      ]
    },
    {
      "cell_type": "markdown",
      "metadata": {
        "id": "RM4fVH9pdCIF"
      },
      "source": [
        "#### Create functions for scraping artist details"
      ]
    },
    {
      "cell_type": "code",
      "metadata": {
        "id": "ygf_xKXedEVu"
      },
      "source": [
        "# Create client\r\n",
        "spotify = spotipy.Spotify(auth_manager=SpotifyClientCredentials(\r\n",
        "    client_id=\"22ba1096ffda44fca858c1c6880ca020\",\r\n",
        "    client_secret=\"2342a132a9a74186bdff50fce2a95778\"\r\n",
        "))"
      ],
      "execution_count": null,
      "outputs": []
    },
    {
      "cell_type": "code",
      "metadata": {
        "id": "FoSV9DYJdFWg"
      },
      "source": [
        "def get_artist_info(name):\r\n",
        "    \"\"\"\r\n",
        "    Fetches info about the artist from the Spotify API.\r\n",
        "    \"\"\"\r\n",
        "\r\n",
        "    # Get the response from the API\r\n",
        "    results = spotify.search(q=f'artist:{name}', type='artist')\r\n",
        "\r\n",
        "    spotify_name = name\r\n",
        "    img_url = None\r\n",
        "    genres = []\r\n",
        "    spotify_url = None\r\n",
        "\r\n",
        "    if len(results['artists']['items']) > 0:\r\n",
        "\r\n",
        "        # Sort the returned results based on how close they are to the query name.\r\n",
        "        # Uses https://en.wikipedia.org/wiki/Levenshtein_distance aka Edit Distance.\r\n",
        "        items = sorted(results['artists']['items'], key=(lambda x: nltk.edit_distance(name.lower(), x[\"name\"].lower())))\r\n",
        "  \r\n",
        "        # Sort results by popularity\r\n",
        "        #items = sorted(results['artists']['items'], key=(lambda x: x[\"popularity\"]), reverse=True)\r\n",
        "\r\n",
        "        if len(items) > 0:\r\n",
        "            artist = items[0]\r\n",
        "\r\n",
        "            # assign variables\r\n",
        "            genres = artist[\"genres\"]\r\n",
        "            spotify_name = artist[\"name\"]\r\n",
        "            spotify_url = artist[\"external_urls\"][\"spotify\"]\r\n",
        "\r\n",
        "            # assign image url\r\n",
        "            image_list = artist[\"images\"]\r\n",
        "            if len(image_list) > 0:\r\n",
        "                img_url = image_list[0][\"url\"]\r\n",
        "\r\n",
        "    return spotify_name, img_url, genres, spotify_url"
      ],
      "execution_count": null,
      "outputs": []
    },
    {
      "cell_type": "markdown",
      "metadata": {
        "id": "l2u87OWIfNfB"
      },
      "source": [
        "#### Scrape the artist details using the spotify API"
      ]
    },
    {
      "cell_type": "markdown",
      "metadata": {
        "id": "kV3zyUMOWOBO"
      },
      "source": [
        "Due to the nature of APIs there was a rate limit on the number of times we could make a request. For us, this worked out to be that we could make 100 requests in about 3.5 seconds but that then we would have to wait 6 seconds before we could request data on another 100 artists.\r\n",
        "\r\n",
        "While this was not ideal, it didn't work out too badly with the full batch of 17,500 artists only taking about 30 minutes to scrape."
      ]
    },
    {
      "cell_type": "markdown",
      "metadata": {
        "id": "GgPbDtKDc0FL"
      },
      "source": [
        "The process for this scrape is as follows:\r\n",
        "\r\n",
        "1.   Iterate through the artists' names\r\n",
        "2.   In this loop, search for the individual artists' names through all of Spotify's artists\r\n",
        "3.   Look at the returned artists for this Spotify search\r\n",
        "4.   Of the returned artists, scrape the most similarly named artist returned as the correct artist we are looking for\r\n",
        "5.   Within this artist:\r\n",
        "  *   Scrape the URL to the top image associated with their account (usually an album cover)\r\n",
        "  *   Scrape the genres associated with that artist\r\n",
        "6.   Store these values in a table"
      ]
    },
    {
      "cell_type": "code",
      "metadata": {
        "colab": {
          "base_uri": "https://localhost:8080/",
          "height": 66,
          "referenced_widgets": [
            "e0752e85b77d45e184f3209635338f66",
            "b7238eba89234dc1b12ade2b3764ab5b",
            "fa221ba69cd042baa794dea2fb2b191b",
            "08e4431310424f6e9fb33b25743c01a8",
            "65c1b46125db4d18a88d22d2c6b2b000",
            "84748fce3dab4373870b59dd8dc7182f",
            "20002b85fb054e1f912b465f0934a236",
            "fea1e18e2a7943e098f1797ba5f4cb6d"
          ]
        },
        "id": "pmJ8SlmsfWR9",
        "outputId": "219b9b3e-b123-4667-b06a-63a60036709e"
      },
      "source": [
        "spotify_data = pd.DataFrame(columns=[\"artistName\", \"spotifyName\", \"imageUrl\", \"genres\", \"spotifyUrl\"])\r\n",
        "\r\n",
        "for artist_name_in in tqdm(list(original_df.artistName.unique())):\r\n",
        "\r\n",
        "    artist_name = str(artist_name_in)\r\n",
        "\r\n",
        "    try:\r\n",
        "        spotify_name, image_url, genres_list, spotify_url = get_artist_info(artist_name)\r\n",
        "\r\n",
        "        df_row = pd.DataFrame({\"artistName\": artist_name, \"spotifyName\": spotify_name, \"imageUrl\": image_url, \"genres\": str(genres_list), \"spotifyUrl\": spotify_url}, index=[0])\r\n",
        "\r\n",
        "        spotify_data = pd.concat([spotify_data, df_row], axis=0, ignore_index=True)\r\n",
        "\r\n",
        "        # if artist_name == \"nan\":\r\n",
        "        #     print(\"Artist:\", artist_name)\r\n",
        "        #     print(\"Spotify artist:\", spotify_name)\r\n",
        "        #     print(\"URL:\", image_url)\r\n",
        "        #     print(\"Genres:\", genres_list)\r\n",
        "        #     print(\"SpotifyURL:\", spotify_url)\r\n",
        "\r\n",
        "    except:\r\n",
        "        print(\"Artist:\", artist_name)\r\n",
        "        print(\"Spotify artist:\", spotify_name)\r\n",
        "        print(\"URL:\", image_url)\r\n",
        "        print(\"Genres:\", genres_list)\r\n",
        "        print(\"SpotifyURL:\", spotify_url)\r\n",
        "        sys.exit(1)"
      ],
      "execution_count": null,
      "outputs": [
        {
          "output_type": "display_data",
          "data": {
            "application/vnd.jupyter.widget-view+json": {
              "model_id": "e0752e85b77d45e184f3209635338f66",
              "version_minor": 0,
              "version_major": 2
            },
            "text/plain": [
              "HBox(children=(FloatProgress(value=0.0, max=17633.0), HTML(value='')))"
            ]
          },
          "metadata": {
            "tags": []
          }
        },
        {
          "output_type": "stream",
          "text": [
            "\n"
          ],
          "name": "stdout"
        }
      ]
    },
    {
      "cell_type": "markdown",
      "metadata": {
        "id": "uu0YeOF0cVMf"
      },
      "source": [
        "We noticed that there is an artistName value as 'nan' in this dataset but we were not sure if this was a valid song artist or was a missing value. Nevertheless, we interpreted this value as a valid artist name and scraped the details for the artist 'nan'."
      ]
    },
    {
      "cell_type": "code",
      "metadata": {
        "colab": {
          "base_uri": "https://localhost:8080/",
          "height": 197
        },
        "id": "EQ9VwPhadegs",
        "outputId": "0d8d1662-d872-435f-c662-121c74d39862"
      },
      "source": [
        "spotify_data.head()"
      ],
      "execution_count": null,
      "outputs": [
        {
          "output_type": "execute_result",
          "data": {
            "text/html": [
              "<div>\n",
              "<style scoped>\n",
              "    .dataframe tbody tr th:only-of-type {\n",
              "        vertical-align: middle;\n",
              "    }\n",
              "\n",
              "    .dataframe tbody tr th {\n",
              "        vertical-align: top;\n",
              "    }\n",
              "\n",
              "    .dataframe thead th {\n",
              "        text-align: right;\n",
              "    }\n",
              "</style>\n",
              "<table border=\"1\" class=\"dataframe\">\n",
              "  <thead>\n",
              "    <tr style=\"text-align: right;\">\n",
              "      <th></th>\n",
              "      <th>artistName</th>\n",
              "      <th>spotifyName</th>\n",
              "      <th>imageUrl</th>\n",
              "      <th>genres</th>\n",
              "      <th>spotifyUrl</th>\n",
              "    </tr>\n",
              "  </thead>\n",
              "  <tbody>\n",
              "    <tr>\n",
              "      <th>0</th>\n",
              "      <td>Duran Duran</td>\n",
              "      <td>Duran Duran</td>\n",
              "      <td>https://i.scdn.co/image/2e6d5966dafa119f4a75e7...</td>\n",
              "      <td>['dance rock', 'new romantic', 'new wave', 'ne...</td>\n",
              "      <td>https://open.spotify.com/artist/0lZoBs4Pzo7R89...</td>\n",
              "    </tr>\n",
              "    <tr>\n",
              "      <th>1</th>\n",
              "      <td>Morcheeba</td>\n",
              "      <td>Morcheeba</td>\n",
              "      <td>https://i.scdn.co/image/e347fc3b68b822c479d6ab...</td>\n",
              "      <td>['big beat', 'bmore', 'downtempo', 'electronic...</td>\n",
              "      <td>https://open.spotify.com/artist/6bWxFw65IEJzBY...</td>\n",
              "    </tr>\n",
              "    <tr>\n",
              "      <th>2</th>\n",
              "      <td>Air</td>\n",
              "      <td>Air</td>\n",
              "      <td>https://i.scdn.co/image/acbe16a3fbfda0ce2425fd...</td>\n",
              "      <td>['ambient pop', 'downtempo', 'electronica', 't...</td>\n",
              "      <td>https://open.spotify.com/artist/1P6U1dCeHxPui5...</td>\n",
              "    </tr>\n",
              "    <tr>\n",
              "      <th>3</th>\n",
              "      <td>Hooverphonic</td>\n",
              "      <td>Hooverphonic</td>\n",
              "      <td>https://i.scdn.co/image/a3112974cabed304347fdc...</td>\n",
              "      <td>['downtempo', 'electronica', 'trip hop']</td>\n",
              "      <td>https://open.spotify.com/artist/5EP020iZcwBqHR...</td>\n",
              "    </tr>\n",
              "    <tr>\n",
              "      <th>4</th>\n",
              "      <td>Kylie Minogue</td>\n",
              "      <td>Kylie Minogue</td>\n",
              "      <td>https://i.scdn.co/image/471aae2bc20f974dbf573a...</td>\n",
              "      <td>['australian dance', 'australian pop', 'dance ...</td>\n",
              "      <td>https://open.spotify.com/artist/4RVnAU35WRWra6...</td>\n",
              "    </tr>\n",
              "  </tbody>\n",
              "</table>\n",
              "</div>"
            ],
            "text/plain": [
              "      artistName  ...                                         spotifyUrl\n",
              "0    Duran Duran  ...  https://open.spotify.com/artist/0lZoBs4Pzo7R89...\n",
              "1      Morcheeba  ...  https://open.spotify.com/artist/6bWxFw65IEJzBY...\n",
              "2            Air  ...  https://open.spotify.com/artist/1P6U1dCeHxPui5...\n",
              "3   Hooverphonic  ...  https://open.spotify.com/artist/5EP020iZcwBqHR...\n",
              "4  Kylie Minogue  ...  https://open.spotify.com/artist/4RVnAU35WRWra6...\n",
              "\n",
              "[5 rows x 5 columns]"
            ]
          },
          "metadata": {
            "tags": []
          },
          "execution_count": 33
        }
      ]
    },
    {
      "cell_type": "markdown",
      "metadata": {
        "id": "ipC7-PqBsW6Z"
      },
      "source": [
        "#### Export this dataframe as a CSV file so that the results are saved"
      ]
    },
    {
      "cell_type": "code",
      "metadata": {
        "id": "RJaVKlAAhAQY"
      },
      "source": [
        "spotify_data.to_csv(os.path.join(\"processed_data\", 'spotify_data.csv'), index=False)"
      ],
      "execution_count": null,
      "outputs": []
    },
    {
      "cell_type": "markdown",
      "metadata": {
        "id": "U6gYeT-qyjRh"
      },
      "source": [
        "## Additional Song data"
      ]
    },
    {
      "cell_type": "markdown",
      "metadata": {
        "id": "yTLML4XuSmbj"
      },
      "source": [
        "We also wanted to include some data on the individual songs these artists had. While the original data we were given for this assignment didn't have these songs, we felt this additional dimension would allow us to make more fine grained recommendations to a particular user.\r\n",
        "\r\n",
        "Without this information, we were just left with the user data, the artist data, the tag data and the genre data. While this is still a lot of data, we thought it would be good to also add an additional layer to this with song data."
      ]
    },
    {
      "cell_type": "markdown",
      "metadata": {
        "id": "tfGzlRELYWuK"
      },
      "source": [
        "After some thought into this aspect of the data, we eventually decided despite the work we had already put in trying to get it sorted, it was not worth including.\r\n",
        "\r\n",
        "The reason for this was that we simply could not get hold of the data needed in an efficient way.\r\n",
        "\r\n",
        "We did find the following website of the million song dataset:\r\n",
        "> http://millionsongdataset.com/lastfm\r\n",
        "\r\n",
        "This website was similar to the one we were using for this project and it included the song data we were looking for but one problem was that the size of this dataset was too big. On this website there was a subset of data, a training set of data and a test set of data.\r\n",
        "\r\n",
        "We initially downloaded the subset of data and scraped its details, however, this process took over an hour and only included 10,000 songs. Along with this, these songs were distributed across our 17,500 artists and also included a lot of artists not in our dataset. As a result, this dataset proved too small for our purpose.\r\n",
        "\r\n",
        "We then tried to download the train and test dataset to expand the data but these proved too big with the train dataset being over 1 GB when compressed in a zip file. Due to the size of this data, the time needed to unzip this was too long for us let alone the time that would be needed to read this data back in to compile a dataframe.\r\n",
        "\r\n",
        "While we, in the end, decided not to proceed with the inclusion of this song data, you can find the code written to facilitate this below."
      ]
    },
    {
      "cell_type": "markdown",
      "metadata": {
        "id": "V-P3eEAkWcR7"
      },
      "source": [
        "### *** Do NOT run the below code***\r\n",
        "\r\n",
        "This code is not needed for the purpose of our project but shows the process of how we would complete this step.\r\n",
        "If the below code is run, it will wipe the outputs and take over an hour to run.\r\n",
        "For this reason, do not run it.\r\n",
        "\r\n",
        "View the code below and only continue running the code again at step *3. Create Master data table & Export file*"
      ]
    },
    {
      "cell_type": "markdown",
      "metadata": {
        "id": "C1eoEmnoC1JM"
      },
      "source": [
        "##### Crawl through the directories in file and create a list of all the paths to the individual files"
      ]
    },
    {
      "cell_type": "code",
      "metadata": {
        "colab": {
          "base_uri": "https://localhost:8080/"
        },
        "id": "L6SJW66tyl5L",
        "outputId": "9022dd5a-e973-4ce3-d759-31b3ac2d6cbd"
      },
      "source": [
        "list_of_files = []\r\n",
        "\r\n",
        "for folder_1 in [\"A\", \"B\"]:\r\n",
        "    for folder_2 in list(string.ascii_uppercase):\r\n",
        "        for folder_3 in list(string.ascii_uppercase):\r\n",
        "          \r\n",
        "            list_of_files.extend(glob.glob(\"lastfm_subset/lastfm_subset/{}/{}/{}/*.json\".format(folder_1, folder_2, folder_3)))\r\n",
        "\r\n",
        "print(\"There are {} files\".format(len(list_of_files)))"
      ],
      "execution_count": null,
      "outputs": [
        {
          "output_type": "stream",
          "text": [
            "There are 9330 files\n"
          ],
          "name": "stdout"
        }
      ]
    },
    {
      "cell_type": "markdown",
      "metadata": {
        "id": "7YKgBaQdC8Sx"
      },
      "source": [
        "##### Read in the data in these files"
      ]
    },
    {
      "cell_type": "code",
      "metadata": {
        "colab": {
          "base_uri": "https://localhost:8080/",
          "height": 66,
          "referenced_widgets": [
            "3e35ef7dae3b41ff8aa94150a3e613cb",
            "4bee19edca6c41658163ea4f63623261",
            "0b1ce8deab384984b2d9b806c5465201",
            "1bf069eb17de40aa8dcef09476712bc4",
            "116778172cde4b629522c0ccd657006a",
            "4dcd4200f392430dbf09b30fde76f671",
            "38e30802070e4546991dda5f921605ee",
            "72dfc09daf864a4c93ef500c3393e16a"
          ]
        },
        "id": "SDJIQkmNC_lZ",
        "outputId": "1b914a3a-58f4-4694-ea1d-c3e52afc85b5"
      },
      "source": [
        "songs_df = pd.DataFrame(columns=[\"artistName\", \"song_timestamp\", \"trackID\", \"songTitle\"])\r\n",
        "\r\n",
        "for file_path in tqdm(list_of_files):\r\n",
        "    with open(file_path, 'r') as song_file:\r\n",
        "        song_dict = json.load(song_file)\r\n",
        "\r\n",
        "        dict_without_similarity = {}\r\n",
        "\r\n",
        "        dict_without_similarity[\"artistName\"] = song_dict[\"artist\"]\r\n",
        "        dict_without_similarity[\"song_timestamp\"] = song_dict[\"timestamp\"]\r\n",
        "        dict_without_similarity[\"trackID\"] = song_dict[\"track_id\"]\r\n",
        "        dict_without_similarity[\"songTitle\"] = song_dict[\"title\"]\r\n",
        "\r\n",
        "        df_row = pd.DataFrame(dict_without_similarity, index=[0])\r\n",
        "        songs_df = pd.concat([songs_df, df_row], axis=0, ignore_index=True)"
      ],
      "execution_count": null,
      "outputs": [
        {
          "output_type": "display_data",
          "data": {
            "application/vnd.jupyter.widget-view+json": {
              "model_id": "3e35ef7dae3b41ff8aa94150a3e613cb",
              "version_major": 2,
              "version_minor": 0
            },
            "text/plain": [
              "HBox(children=(FloatProgress(value=0.0, max=9330.0), HTML(value='')))"
            ]
          },
          "metadata": {
            "tags": []
          }
        },
        {
          "output_type": "stream",
          "text": [
            "\n"
          ],
          "name": "stdout"
        }
      ]
    },
    {
      "cell_type": "code",
      "metadata": {
        "colab": {
          "base_uri": "https://localhost:8080/"
        },
        "id": "osJyDbdOV2In",
        "outputId": "0813fa95-057e-44fb-da0f-63a14e40d999"
      },
      "source": [
        "len(songs_df)"
      ],
      "execution_count": null,
      "outputs": [
        {
          "output_type": "execute_result",
          "data": {
            "text/plain": [
              "9330"
            ]
          },
          "metadata": {
            "tags": []
          },
          "execution_count": 15
        }
      ]
    },
    {
      "cell_type": "code",
      "metadata": {
        "colab": {
          "base_uri": "https://localhost:8080/",
          "height": 197
        },
        "id": "0Ch9KQ4TFXCY",
        "outputId": "b7aab7e7-8a6d-4170-f9d9-5392c977cdee"
      },
      "source": [
        "songs_df.head()"
      ],
      "execution_count": null,
      "outputs": [
        {
          "output_type": "execute_result",
          "data": {
            "text/html": [
              "<div>\n",
              "<style scoped>\n",
              "    .dataframe tbody tr th:only-of-type {\n",
              "        vertical-align: middle;\n",
              "    }\n",
              "\n",
              "    .dataframe tbody tr th {\n",
              "        vertical-align: top;\n",
              "    }\n",
              "\n",
              "    .dataframe thead th {\n",
              "        text-align: right;\n",
              "    }\n",
              "</style>\n",
              "<table border=\"1\" class=\"dataframe\">\n",
              "  <thead>\n",
              "    <tr style=\"text-align: right;\">\n",
              "      <th></th>\n",
              "      <th>artistName</th>\n",
              "      <th>timestamp</th>\n",
              "      <th>trackID</th>\n",
              "      <th>songTitle</th>\n",
              "    </tr>\n",
              "  </thead>\n",
              "  <tbody>\n",
              "    <tr>\n",
              "      <th>0</th>\n",
              "      <td>Casual</td>\n",
              "      <td>2011-08-02 20:13:25.674526</td>\n",
              "      <td>TRAAAAW128F429D538</td>\n",
              "      <td>I Didn't Mean To</td>\n",
              "    </tr>\n",
              "    <tr>\n",
              "      <th>1</th>\n",
              "      <td>Adam Ant</td>\n",
              "      <td>2011-08-11 21:57:49.876264</td>\n",
              "      <td>TRAAAEF128F4273421</td>\n",
              "      <td>Something Girls</td>\n",
              "    </tr>\n",
              "    <tr>\n",
              "      <th>2</th>\n",
              "      <td>Rated R</td>\n",
              "      <td>2011-08-11 21:18:23.312581</td>\n",
              "      <td>TRAAAMQ128F1460CD3</td>\n",
              "      <td>Keepin It Real (Skit)</td>\n",
              "    </tr>\n",
              "    <tr>\n",
              "      <th>3</th>\n",
              "      <td>Planet P Project</td>\n",
              "      <td>2011-08-09 16:39:17.211274</td>\n",
              "      <td>TRAAARJ128F9320760</td>\n",
              "      <td>Pink World</td>\n",
              "    </tr>\n",
              "    <tr>\n",
              "      <th>4</th>\n",
              "      <td>Gob</td>\n",
              "      <td>2011-08-09 01:59:41.352247</td>\n",
              "      <td>TRAAAFD128F92F423A</td>\n",
              "      <td>Face the Ashes</td>\n",
              "    </tr>\n",
              "  </tbody>\n",
              "</table>\n",
              "</div>"
            ],
            "text/plain": [
              "         artistName  ...              songTitle\n",
              "0            Casual  ...       I Didn't Mean To\n",
              "1          Adam Ant  ...        Something Girls\n",
              "2           Rated R  ...  Keepin It Real (Skit)\n",
              "3  Planet P Project  ...             Pink World\n",
              "4               Gob  ...         Face the Ashes\n",
              "\n",
              "[5 rows x 4 columns]"
            ]
          },
          "metadata": {
            "tags": []
          },
          "execution_count": 16
        }
      ]
    },
    {
      "cell_type": "markdown",
      "metadata": {
        "id": "2yAI0mD1sw_p"
      },
      "source": [
        "##### Export this dataframe as a json file so that the results are saved"
      ]
    },
    {
      "cell_type": "code",
      "metadata": {
        "id": "1lnB7KoChL1k"
      },
      "source": [
        "songs_df.to_json(os.path.join(\"processed_data\", 'adittional_song_data.json'))"
      ],
      "execution_count": null,
      "outputs": []
    },
    {
      "cell_type": "markdown",
      "metadata": {
        "id": "tNecAu16ZJen"
      },
      "source": [
        "---\r\n",
        "---\r\n",
        "\r\n",
        "# 3. Create master data table & Export file\r\n",
        "\r\n",
        "---\r\n",
        "---"
      ]
    },
    {
      "cell_type": "markdown",
      "metadata": {
        "id": "U_0nX5wFbRmQ"
      },
      "source": [
        "In this step we join all of this data together into one big table. As mentioned above, this is to make our job easier when it comes to the next steps as we know all of the data is in one place."
      ]
    },
    {
      "cell_type": "code",
      "metadata": {
        "id": "6VFw0vPIZZD_"
      },
      "source": [
        "joined_df = pd.merge(original_df, spotify_data, on=\"artistName\", how=\"left\")"
      ],
      "execution_count": null,
      "outputs": []
    },
    {
      "cell_type": "code",
      "metadata": {
        "colab": {
          "base_uri": "https://localhost:8080/",
          "height": 197
        },
        "id": "3K_xgV_3bMFi",
        "outputId": "db8025af-208d-4469-c7e0-5a5966685edb"
      },
      "source": [
        "joined_df.head()"
      ],
      "execution_count": null,
      "outputs": [
        {
          "output_type": "execute_result",
          "data": {
            "text/html": [
              "<div>\n",
              "<style scoped>\n",
              "    .dataframe tbody tr th:only-of-type {\n",
              "        vertical-align: middle;\n",
              "    }\n",
              "\n",
              "    .dataframe tbody tr th {\n",
              "        vertical-align: top;\n",
              "    }\n",
              "\n",
              "    .dataframe thead th {\n",
              "        text-align: right;\n",
              "    }\n",
              "</style>\n",
              "<table border=\"1\" class=\"dataframe\">\n",
              "  <thead>\n",
              "    <tr style=\"text-align: right;\">\n",
              "      <th></th>\n",
              "      <th>userID</th>\n",
              "      <th>artistID</th>\n",
              "      <th>artistWeight</th>\n",
              "      <th>friendID</th>\n",
              "      <th>artistName</th>\n",
              "      <th>tagID</th>\n",
              "      <th>timestamp</th>\n",
              "      <th>tagValue</th>\n",
              "      <th>spotifyName</th>\n",
              "      <th>imageUrl</th>\n",
              "      <th>genres</th>\n",
              "      <th>spotifyUrl</th>\n",
              "    </tr>\n",
              "  </thead>\n",
              "  <tbody>\n",
              "    <tr>\n",
              "      <th>0</th>\n",
              "      <td>2</td>\n",
              "      <td>51</td>\n",
              "      <td>13883.0</td>\n",
              "      <td>275.0</td>\n",
              "      <td>Duran Duran</td>\n",
              "      <td>NaN</td>\n",
              "      <td>NaT</td>\n",
              "      <td>NaN</td>\n",
              "      <td>Duran Duran</td>\n",
              "      <td>https://i.scdn.co/image/2e6d5966dafa119f4a75e7...</td>\n",
              "      <td>['dance rock', 'new romantic', 'new wave', 'ne...</td>\n",
              "      <td>https://open.spotify.com/artist/0lZoBs4Pzo7R89...</td>\n",
              "    </tr>\n",
              "    <tr>\n",
              "      <th>1</th>\n",
              "      <td>2</td>\n",
              "      <td>51</td>\n",
              "      <td>13883.0</td>\n",
              "      <td>428.0</td>\n",
              "      <td>Duran Duran</td>\n",
              "      <td>NaN</td>\n",
              "      <td>NaT</td>\n",
              "      <td>NaN</td>\n",
              "      <td>Duran Duran</td>\n",
              "      <td>https://i.scdn.co/image/2e6d5966dafa119f4a75e7...</td>\n",
              "      <td>['dance rock', 'new romantic', 'new wave', 'ne...</td>\n",
              "      <td>https://open.spotify.com/artist/0lZoBs4Pzo7R89...</td>\n",
              "    </tr>\n",
              "    <tr>\n",
              "      <th>2</th>\n",
              "      <td>2</td>\n",
              "      <td>51</td>\n",
              "      <td>13883.0</td>\n",
              "      <td>515.0</td>\n",
              "      <td>Duran Duran</td>\n",
              "      <td>NaN</td>\n",
              "      <td>NaT</td>\n",
              "      <td>NaN</td>\n",
              "      <td>Duran Duran</td>\n",
              "      <td>https://i.scdn.co/image/2e6d5966dafa119f4a75e7...</td>\n",
              "      <td>['dance rock', 'new romantic', 'new wave', 'ne...</td>\n",
              "      <td>https://open.spotify.com/artist/0lZoBs4Pzo7R89...</td>\n",
              "    </tr>\n",
              "    <tr>\n",
              "      <th>3</th>\n",
              "      <td>2</td>\n",
              "      <td>51</td>\n",
              "      <td>13883.0</td>\n",
              "      <td>761.0</td>\n",
              "      <td>Duran Duran</td>\n",
              "      <td>NaN</td>\n",
              "      <td>NaT</td>\n",
              "      <td>NaN</td>\n",
              "      <td>Duran Duran</td>\n",
              "      <td>https://i.scdn.co/image/2e6d5966dafa119f4a75e7...</td>\n",
              "      <td>['dance rock', 'new romantic', 'new wave', 'ne...</td>\n",
              "      <td>https://open.spotify.com/artist/0lZoBs4Pzo7R89...</td>\n",
              "    </tr>\n",
              "    <tr>\n",
              "      <th>4</th>\n",
              "      <td>2</td>\n",
              "      <td>51</td>\n",
              "      <td>13883.0</td>\n",
              "      <td>831.0</td>\n",
              "      <td>Duran Duran</td>\n",
              "      <td>NaN</td>\n",
              "      <td>NaT</td>\n",
              "      <td>NaN</td>\n",
              "      <td>Duran Duran</td>\n",
              "      <td>https://i.scdn.co/image/2e6d5966dafa119f4a75e7...</td>\n",
              "      <td>['dance rock', 'new romantic', 'new wave', 'ne...</td>\n",
              "      <td>https://open.spotify.com/artist/0lZoBs4Pzo7R89...</td>\n",
              "    </tr>\n",
              "  </tbody>\n",
              "</table>\n",
              "</div>"
            ],
            "text/plain": [
              "   userID  ...                                         spotifyUrl\n",
              "0       2  ...  https://open.spotify.com/artist/0lZoBs4Pzo7R89...\n",
              "1       2  ...  https://open.spotify.com/artist/0lZoBs4Pzo7R89...\n",
              "2       2  ...  https://open.spotify.com/artist/0lZoBs4Pzo7R89...\n",
              "3       2  ...  https://open.spotify.com/artist/0lZoBs4Pzo7R89...\n",
              "4       2  ...  https://open.spotify.com/artist/0lZoBs4Pzo7R89...\n",
              "\n",
              "[5 rows x 12 columns]"
            ]
          },
          "metadata": {
            "tags": []
          },
          "execution_count": 36
        }
      ]
    },
    {
      "cell_type": "code",
      "metadata": {
        "colab": {
          "base_uri": "https://localhost:8080/",
          "height": 197
        },
        "id": "rUKXQjZibWIy",
        "outputId": "6c9c5755-2ce1-4d3f-df80-59b88118286a"
      },
      "source": [
        "joined_df.tail()"
      ],
      "execution_count": null,
      "outputs": [
        {
          "output_type": "execute_result",
          "data": {
            "text/html": [
              "<div>\n",
              "<style scoped>\n",
              "    .dataframe tbody tr th:only-of-type {\n",
              "        vertical-align: middle;\n",
              "    }\n",
              "\n",
              "    .dataframe tbody tr th {\n",
              "        vertical-align: top;\n",
              "    }\n",
              "\n",
              "    .dataframe thead th {\n",
              "        text-align: right;\n",
              "    }\n",
              "</style>\n",
              "<table border=\"1\" class=\"dataframe\">\n",
              "  <thead>\n",
              "    <tr style=\"text-align: right;\">\n",
              "      <th></th>\n",
              "      <th>userID</th>\n",
              "      <th>artistID</th>\n",
              "      <th>artistWeight</th>\n",
              "      <th>friendID</th>\n",
              "      <th>artistName</th>\n",
              "      <th>tagID</th>\n",
              "      <th>timestamp</th>\n",
              "      <th>tagValue</th>\n",
              "      <th>spotifyName</th>\n",
              "      <th>imageUrl</th>\n",
              "      <th>genres</th>\n",
              "      <th>spotifyUrl</th>\n",
              "    </tr>\n",
              "  </thead>\n",
              "  <tbody>\n",
              "    <tr>\n",
              "      <th>2269513</th>\n",
              "      <td>2099</td>\n",
              "      <td>16468</td>\n",
              "      <td>NaN</td>\n",
              "      <td>NaN</td>\n",
              "      <td>NaN</td>\n",
              "      <td>191.0</td>\n",
              "      <td>2009-01-31 23:00:00</td>\n",
              "      <td>instrumental</td>\n",
              "      <td>NaN</td>\n",
              "      <td>NaN</td>\n",
              "      <td>NaN</td>\n",
              "      <td>NaN</td>\n",
              "    </tr>\n",
              "    <tr>\n",
              "      <th>2269514</th>\n",
              "      <td>2099</td>\n",
              "      <td>16745</td>\n",
              "      <td>NaN</td>\n",
              "      <td>NaN</td>\n",
              "      <td>NaN</td>\n",
              "      <td>13.0</td>\n",
              "      <td>2009-07-31 22:00:00</td>\n",
              "      <td>chillout</td>\n",
              "      <td>NaN</td>\n",
              "      <td>NaN</td>\n",
              "      <td>NaN</td>\n",
              "      <td>NaN</td>\n",
              "    </tr>\n",
              "    <tr>\n",
              "      <th>2269515</th>\n",
              "      <td>2099</td>\n",
              "      <td>16745</td>\n",
              "      <td>NaN</td>\n",
              "      <td>NaN</td>\n",
              "      <td>NaN</td>\n",
              "      <td>15.0</td>\n",
              "      <td>2009-07-31 22:00:00</td>\n",
              "      <td>downtempo</td>\n",
              "      <td>NaN</td>\n",
              "      <td>NaN</td>\n",
              "      <td>NaN</td>\n",
              "      <td>NaN</td>\n",
              "    </tr>\n",
              "    <tr>\n",
              "      <th>2269516</th>\n",
              "      <td>2099</td>\n",
              "      <td>16745</td>\n",
              "      <td>NaN</td>\n",
              "      <td>NaN</td>\n",
              "      <td>NaN</td>\n",
              "      <td>21.0</td>\n",
              "      <td>2009-07-31 22:00:00</td>\n",
              "      <td>trip-hop</td>\n",
              "      <td>NaN</td>\n",
              "      <td>NaN</td>\n",
              "      <td>NaN</td>\n",
              "      <td>NaN</td>\n",
              "    </tr>\n",
              "    <tr>\n",
              "      <th>2269517</th>\n",
              "      <td>2100</td>\n",
              "      <td>3855</td>\n",
              "      <td>NaN</td>\n",
              "      <td>NaN</td>\n",
              "      <td>NaN</td>\n",
              "      <td>3271.0</td>\n",
              "      <td>2010-06-30 22:00:00</td>\n",
              "      <td>melancholic rock</td>\n",
              "      <td>NaN</td>\n",
              "      <td>NaN</td>\n",
              "      <td>NaN</td>\n",
              "      <td>NaN</td>\n",
              "    </tr>\n",
              "  </tbody>\n",
              "</table>\n",
              "</div>"
            ],
            "text/plain": [
              "         userID  artistID  artistWeight  ...  imageUrl genres  spotifyUrl\n",
              "2269513    2099     16468           NaN  ...       NaN    NaN         NaN\n",
              "2269514    2099     16745           NaN  ...       NaN    NaN         NaN\n",
              "2269515    2099     16745           NaN  ...       NaN    NaN         NaN\n",
              "2269516    2099     16745           NaN  ...       NaN    NaN         NaN\n",
              "2269517    2100      3855           NaN  ...       NaN    NaN         NaN\n",
              "\n",
              "[5 rows x 12 columns]"
            ]
          },
          "metadata": {
            "tags": []
          },
          "execution_count": 37
        }
      ]
    },
    {
      "cell_type": "code",
      "metadata": {
        "colab": {
          "base_uri": "https://localhost:8080/"
        },
        "id": "UBUrpVP_beOs",
        "outputId": "f6f34a7f-77f9-492c-8cc5-95ee2d715241"
      },
      "source": [
        "joined_df.userID.count()"
      ],
      "execution_count": null,
      "outputs": [
        {
          "output_type": "execute_result",
          "data": {
            "text/plain": [
              "2269518"
            ]
          },
          "metadata": {
            "tags": []
          },
          "execution_count": 38
        }
      ]
    },
    {
      "cell_type": "markdown",
      "metadata": {
        "id": "lbFwBC4C503N"
      },
      "source": [
        "##### Export this dataframe as a CSV file so that the results are saved"
      ]
    },
    {
      "cell_type": "code",
      "metadata": {
        "id": "6INri9dzgveG"
      },
      "source": [
        "joined_df.to_csv(os.path.join(\"processed_data\", 'original_and_spotify_data_.csv'), index=False)"
      ],
      "execution_count": null,
      "outputs": []
    },
    {
      "cell_type": "code",
      "metadata": {
        "id": "72FhT7Sg0mBE"
      },
      "source": [
        ""
      ],
      "execution_count": null,
      "outputs": []
    }
  ]
}
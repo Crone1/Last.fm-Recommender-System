{
  "nbformat": 4,
  "nbformat_minor": 0,
  "metadata": {
    "colab": {
      "name": "3 - Clustering Recommendation.ipynb",
      "provenance": [],
      "collapsed_sections": [
        "YfrjELX4cTlS",
        "sKg-hft-sBR4",
        "84nSscHnfmpB",
        "AG2XBy8EcMKs",
        "WLYPyz_KGFw_",
        "D8NK3aeBc1Rn",
        "CMneXq9uc8VG",
        "Nl8vFThatojn",
        "XLWSNCZbqQbP",
        "SHOnKP19WSC8",
        "GhiQTL_em0iZ",
        "QH45wXsGsSMN",
        "_f8IuDX9nUV8",
        "yzzthRuznBiE",
        "kx0LlgVthxzv",
        "KGtwNAKOiQjR",
        "_YV3JlTAiVZy",
        "zqxs0i3uOioK",
        "JQm2YCGLiyKm",
        "xdE-uo4l0loL",
        "slCTRCr9iiLy",
        "5mY5fIL7uXri",
        "wHF7L4nqnEd0",
        "uglB7DFnkKBl",
        "FOAiO-Hd_Grp",
        "DqvOl-JWucS9",
        "puHilEEs5Ion",
        "ijepgGXizcOW",
        "CN9NFe_F9cFy",
        "BTB5xGbf9U1h",
        "LMSbl0goFoJ8",
        "4tUZj6g0DPpL",
        "rd3tVHB_GG6T",
        "C2M3Xa8sGMIZ",
        "O_IEWt9kGY2X",
        "yV2dYQG2LIwe",
        "T-9dozytGIPf",
        "EMQJl6_HjNJH"
      ]
    },
    "kernelspec": {
      "display_name": "Python 3",
      "name": "python3"
    },
    "widgets": {
      "application/vnd.jupyter.widget-state+json": {
        "3970ae8119154037a12ffb4144c731ad": {
          "model_module": "@jupyter-widgets/controls",
          "model_name": "HBoxModel",
          "state": {
            "_view_name": "HBoxView",
            "_dom_classes": [],
            "_model_name": "HBoxModel",
            "_view_module": "@jupyter-widgets/controls",
            "_model_module_version": "1.5.0",
            "_view_count": null,
            "_view_module_version": "1.5.0",
            "box_style": "",
            "layout": "IPY_MODEL_8063c0172dd6486392d8b4782379eac1",
            "_model_module": "@jupyter-widgets/controls",
            "children": [
              "IPY_MODEL_66d9c3e817a848ae9fec5ae44195a7b5",
              "IPY_MODEL_acecab366a3d4c73b7e46f98cdf67b87"
            ]
          }
        },
        "8063c0172dd6486392d8b4782379eac1": {
          "model_module": "@jupyter-widgets/base",
          "model_name": "LayoutModel",
          "state": {
            "_view_name": "LayoutView",
            "grid_template_rows": null,
            "right": null,
            "justify_content": null,
            "_view_module": "@jupyter-widgets/base",
            "overflow": null,
            "_model_module_version": "1.2.0",
            "_view_count": null,
            "flex_flow": null,
            "width": null,
            "min_width": null,
            "border": null,
            "align_items": null,
            "bottom": null,
            "_model_module": "@jupyter-widgets/base",
            "top": null,
            "grid_column": null,
            "overflow_y": null,
            "overflow_x": null,
            "grid_auto_flow": null,
            "grid_area": null,
            "grid_template_columns": null,
            "flex": null,
            "_model_name": "LayoutModel",
            "justify_items": null,
            "grid_row": null,
            "max_height": null,
            "align_content": null,
            "visibility": null,
            "align_self": null,
            "height": null,
            "min_height": null,
            "padding": null,
            "grid_auto_rows": null,
            "grid_gap": null,
            "max_width": null,
            "order": null,
            "_view_module_version": "1.2.0",
            "grid_template_areas": null,
            "object_position": null,
            "object_fit": null,
            "grid_auto_columns": null,
            "margin": null,
            "display": null,
            "left": null
          }
        },
        "66d9c3e817a848ae9fec5ae44195a7b5": {
          "model_module": "@jupyter-widgets/controls",
          "model_name": "FloatProgressModel",
          "state": {
            "_view_name": "ProgressView",
            "style": "IPY_MODEL_9015178f10b84cd592537881c7754557",
            "_dom_classes": [],
            "description": "100%",
            "_model_name": "FloatProgressModel",
            "bar_style": "success",
            "max": 10,
            "_view_module": "@jupyter-widgets/controls",
            "_model_module_version": "1.5.0",
            "value": 10,
            "_view_count": null,
            "_view_module_version": "1.5.0",
            "orientation": "horizontal",
            "min": 0,
            "description_tooltip": null,
            "_model_module": "@jupyter-widgets/controls",
            "layout": "IPY_MODEL_d9508b79ff9a4e99ac14048f14ba7a62"
          }
        },
        "acecab366a3d4c73b7e46f98cdf67b87": {
          "model_module": "@jupyter-widgets/controls",
          "model_name": "HTMLModel",
          "state": {
            "_view_name": "HTMLView",
            "style": "IPY_MODEL_06f0f7ea124641b484dba63e65a66e48",
            "_dom_classes": [],
            "description": "",
            "_model_name": "HTMLModel",
            "placeholder": "​",
            "_view_module": "@jupyter-widgets/controls",
            "_model_module_version": "1.5.0",
            "value": " 10/10 [1:44:55&lt;00:00, 629.57s/it]",
            "_view_count": null,
            "_view_module_version": "1.5.0",
            "description_tooltip": null,
            "_model_module": "@jupyter-widgets/controls",
            "layout": "IPY_MODEL_a598a636d3b24b1cb9e76edd7e0232c9"
          }
        },
        "9015178f10b84cd592537881c7754557": {
          "model_module": "@jupyter-widgets/controls",
          "model_name": "ProgressStyleModel",
          "state": {
            "_view_name": "StyleView",
            "_model_name": "ProgressStyleModel",
            "description_width": "initial",
            "_view_module": "@jupyter-widgets/base",
            "_model_module_version": "1.5.0",
            "_view_count": null,
            "_view_module_version": "1.2.0",
            "bar_color": null,
            "_model_module": "@jupyter-widgets/controls"
          }
        },
        "d9508b79ff9a4e99ac14048f14ba7a62": {
          "model_module": "@jupyter-widgets/base",
          "model_name": "LayoutModel",
          "state": {
            "_view_name": "LayoutView",
            "grid_template_rows": null,
            "right": null,
            "justify_content": null,
            "_view_module": "@jupyter-widgets/base",
            "overflow": null,
            "_model_module_version": "1.2.0",
            "_view_count": null,
            "flex_flow": null,
            "width": null,
            "min_width": null,
            "border": null,
            "align_items": null,
            "bottom": null,
            "_model_module": "@jupyter-widgets/base",
            "top": null,
            "grid_column": null,
            "overflow_y": null,
            "overflow_x": null,
            "grid_auto_flow": null,
            "grid_area": null,
            "grid_template_columns": null,
            "flex": null,
            "_model_name": "LayoutModel",
            "justify_items": null,
            "grid_row": null,
            "max_height": null,
            "align_content": null,
            "visibility": null,
            "align_self": null,
            "height": null,
            "min_height": null,
            "padding": null,
            "grid_auto_rows": null,
            "grid_gap": null,
            "max_width": null,
            "order": null,
            "_view_module_version": "1.2.0",
            "grid_template_areas": null,
            "object_position": null,
            "object_fit": null,
            "grid_auto_columns": null,
            "margin": null,
            "display": null,
            "left": null
          }
        },
        "06f0f7ea124641b484dba63e65a66e48": {
          "model_module": "@jupyter-widgets/controls",
          "model_name": "DescriptionStyleModel",
          "state": {
            "_view_name": "StyleView",
            "_model_name": "DescriptionStyleModel",
            "description_width": "",
            "_view_module": "@jupyter-widgets/base",
            "_model_module_version": "1.5.0",
            "_view_count": null,
            "_view_module_version": "1.2.0",
            "_model_module": "@jupyter-widgets/controls"
          }
        },
        "a598a636d3b24b1cb9e76edd7e0232c9": {
          "model_module": "@jupyter-widgets/base",
          "model_name": "LayoutModel",
          "state": {
            "_view_name": "LayoutView",
            "grid_template_rows": null,
            "right": null,
            "justify_content": null,
            "_view_module": "@jupyter-widgets/base",
            "overflow": null,
            "_model_module_version": "1.2.0",
            "_view_count": null,
            "flex_flow": null,
            "width": null,
            "min_width": null,
            "border": null,
            "align_items": null,
            "bottom": null,
            "_model_module": "@jupyter-widgets/base",
            "top": null,
            "grid_column": null,
            "overflow_y": null,
            "overflow_x": null,
            "grid_auto_flow": null,
            "grid_area": null,
            "grid_template_columns": null,
            "flex": null,
            "_model_name": "LayoutModel",
            "justify_items": null,
            "grid_row": null,
            "max_height": null,
            "align_content": null,
            "visibility": null,
            "align_self": null,
            "height": null,
            "min_height": null,
            "padding": null,
            "grid_auto_rows": null,
            "grid_gap": null,
            "max_width": null,
            "order": null,
            "_view_module_version": "1.2.0",
            "grid_template_areas": null,
            "object_position": null,
            "object_fit": null,
            "grid_auto_columns": null,
            "margin": null,
            "display": null,
            "left": null
          }
        },
        "337065bbd07c4fdd9e0016ad22645fd1": {
          "model_module": "@jupyter-widgets/controls",
          "model_name": "HBoxModel",
          "state": {
            "_view_name": "HBoxView",
            "_dom_classes": [],
            "_model_name": "HBoxModel",
            "_view_module": "@jupyter-widgets/controls",
            "_model_module_version": "1.5.0",
            "_view_count": null,
            "_view_module_version": "1.5.0",
            "box_style": "",
            "layout": "IPY_MODEL_b174d82ff6d1497eb48255ce38b81497",
            "_model_module": "@jupyter-widgets/controls",
            "children": [
              "IPY_MODEL_507bead16ef94e4391d4c803f6bf8d4c",
              "IPY_MODEL_c65995d48ca24e5caa42d0f41e7063d1"
            ]
          }
        },
        "b174d82ff6d1497eb48255ce38b81497": {
          "model_module": "@jupyter-widgets/base",
          "model_name": "LayoutModel",
          "state": {
            "_view_name": "LayoutView",
            "grid_template_rows": null,
            "right": null,
            "justify_content": null,
            "_view_module": "@jupyter-widgets/base",
            "overflow": null,
            "_model_module_version": "1.2.0",
            "_view_count": null,
            "flex_flow": null,
            "width": null,
            "min_width": null,
            "border": null,
            "align_items": null,
            "bottom": null,
            "_model_module": "@jupyter-widgets/base",
            "top": null,
            "grid_column": null,
            "overflow_y": null,
            "overflow_x": null,
            "grid_auto_flow": null,
            "grid_area": null,
            "grid_template_columns": null,
            "flex": null,
            "_model_name": "LayoutModel",
            "justify_items": null,
            "grid_row": null,
            "max_height": null,
            "align_content": null,
            "visibility": null,
            "align_self": null,
            "height": null,
            "min_height": null,
            "padding": null,
            "grid_auto_rows": null,
            "grid_gap": null,
            "max_width": null,
            "order": null,
            "_view_module_version": "1.2.0",
            "grid_template_areas": null,
            "object_position": null,
            "object_fit": null,
            "grid_auto_columns": null,
            "margin": null,
            "display": null,
            "left": null
          }
        },
        "507bead16ef94e4391d4c803f6bf8d4c": {
          "model_module": "@jupyter-widgets/controls",
          "model_name": "FloatProgressModel",
          "state": {
            "_view_name": "ProgressView",
            "style": "IPY_MODEL_adb43befcddd4f9fa7f8554a36fbe8ee",
            "_dom_classes": [],
            "description": "100%",
            "_model_name": "FloatProgressModel",
            "bar_style": "success",
            "max": 10,
            "_view_module": "@jupyter-widgets/controls",
            "_model_module_version": "1.5.0",
            "value": 10,
            "_view_count": null,
            "_view_module_version": "1.5.0",
            "orientation": "horizontal",
            "min": 0,
            "description_tooltip": null,
            "_model_module": "@jupyter-widgets/controls",
            "layout": "IPY_MODEL_48eb51d80c564b67bc42af38571ee613"
          }
        },
        "c65995d48ca24e5caa42d0f41e7063d1": {
          "model_module": "@jupyter-widgets/controls",
          "model_name": "HTMLModel",
          "state": {
            "_view_name": "HTMLView",
            "style": "IPY_MODEL_2a29641959f24a838a133bd3f1520911",
            "_dom_classes": [],
            "description": "",
            "_model_name": "HTMLModel",
            "placeholder": "​",
            "_view_module": "@jupyter-widgets/controls",
            "_model_module_version": "1.5.0",
            "value": " 10/10 [1:40:12&lt;00:00, 601.30s/it]",
            "_view_count": null,
            "_view_module_version": "1.5.0",
            "description_tooltip": null,
            "_model_module": "@jupyter-widgets/controls",
            "layout": "IPY_MODEL_e2e4cb539a0148e5938f22e6c7506522"
          }
        },
        "adb43befcddd4f9fa7f8554a36fbe8ee": {
          "model_module": "@jupyter-widgets/controls",
          "model_name": "ProgressStyleModel",
          "state": {
            "_view_name": "StyleView",
            "_model_name": "ProgressStyleModel",
            "description_width": "initial",
            "_view_module": "@jupyter-widgets/base",
            "_model_module_version": "1.5.0",
            "_view_count": null,
            "_view_module_version": "1.2.0",
            "bar_color": null,
            "_model_module": "@jupyter-widgets/controls"
          }
        },
        "48eb51d80c564b67bc42af38571ee613": {
          "model_module": "@jupyter-widgets/base",
          "model_name": "LayoutModel",
          "state": {
            "_view_name": "LayoutView",
            "grid_template_rows": null,
            "right": null,
            "justify_content": null,
            "_view_module": "@jupyter-widgets/base",
            "overflow": null,
            "_model_module_version": "1.2.0",
            "_view_count": null,
            "flex_flow": null,
            "width": null,
            "min_width": null,
            "border": null,
            "align_items": null,
            "bottom": null,
            "_model_module": "@jupyter-widgets/base",
            "top": null,
            "grid_column": null,
            "overflow_y": null,
            "overflow_x": null,
            "grid_auto_flow": null,
            "grid_area": null,
            "grid_template_columns": null,
            "flex": null,
            "_model_name": "LayoutModel",
            "justify_items": null,
            "grid_row": null,
            "max_height": null,
            "align_content": null,
            "visibility": null,
            "align_self": null,
            "height": null,
            "min_height": null,
            "padding": null,
            "grid_auto_rows": null,
            "grid_gap": null,
            "max_width": null,
            "order": null,
            "_view_module_version": "1.2.0",
            "grid_template_areas": null,
            "object_position": null,
            "object_fit": null,
            "grid_auto_columns": null,
            "margin": null,
            "display": null,
            "left": null
          }
        },
        "2a29641959f24a838a133bd3f1520911": {
          "model_module": "@jupyter-widgets/controls",
          "model_name": "DescriptionStyleModel",
          "state": {
            "_view_name": "StyleView",
            "_model_name": "DescriptionStyleModel",
            "description_width": "",
            "_view_module": "@jupyter-widgets/base",
            "_model_module_version": "1.5.0",
            "_view_count": null,
            "_view_module_version": "1.2.0",
            "_model_module": "@jupyter-widgets/controls"
          }
        },
        "e2e4cb539a0148e5938f22e6c7506522": {
          "model_module": "@jupyter-widgets/base",
          "model_name": "LayoutModel",
          "state": {
            "_view_name": "LayoutView",
            "grid_template_rows": null,
            "right": null,
            "justify_content": null,
            "_view_module": "@jupyter-widgets/base",
            "overflow": null,
            "_model_module_version": "1.2.0",
            "_view_count": null,
            "flex_flow": null,
            "width": null,
            "min_width": null,
            "border": null,
            "align_items": null,
            "bottom": null,
            "_model_module": "@jupyter-widgets/base",
            "top": null,
            "grid_column": null,
            "overflow_y": null,
            "overflow_x": null,
            "grid_auto_flow": null,
            "grid_area": null,
            "grid_template_columns": null,
            "flex": null,
            "_model_name": "LayoutModel",
            "justify_items": null,
            "grid_row": null,
            "max_height": null,
            "align_content": null,
            "visibility": null,
            "align_self": null,
            "height": null,
            "min_height": null,
            "padding": null,
            "grid_auto_rows": null,
            "grid_gap": null,
            "max_width": null,
            "order": null,
            "_view_module_version": "1.2.0",
            "grid_template_areas": null,
            "object_position": null,
            "object_fit": null,
            "grid_auto_columns": null,
            "margin": null,
            "display": null,
            "left": null
          }
        },
        "5a718b809f1e4a54a24344a5a3e787ce": {
          "model_module": "@jupyter-widgets/controls",
          "model_name": "HBoxModel",
          "state": {
            "_dom_classes": [],
            "_model_module": "@jupyter-widgets/controls",
            "_model_module_version": "1.5.0",
            "_model_name": "HBoxModel",
            "_view_count": null,
            "_view_module": "@jupyter-widgets/controls",
            "_view_module_version": "1.5.0",
            "_view_name": "HBoxView",
            "box_style": "",
            "children": [
              "IPY_MODEL_2b65552652684901abd5d48c34c5dd6d",
              "IPY_MODEL_57a78cba9faf4b11bdf14ecc88c64f01"
            ],
            "layout": "IPY_MODEL_3c1db2e19ac24362858104c47a8fb3af"
          }
        },
        "2b65552652684901abd5d48c34c5dd6d": {
          "model_module": "@jupyter-widgets/controls",
          "model_name": "FloatProgressModel",
          "state": {
            "_dom_classes": [],
            "_model_module": "@jupyter-widgets/controls",
            "_model_module_version": "1.5.0",
            "_model_name": "FloatProgressModel",
            "_view_count": null,
            "_view_module": "@jupyter-widgets/controls",
            "_view_module_version": "1.5.0",
            "_view_name": "ProgressView",
            "bar_style": "",
            "description": " 72%",
            "description_tooltip": null,
            "layout": "IPY_MODEL_415e2a0bbaef453284045d368df66ce6",
            "max": 25,
            "min": 0,
            "orientation": "horizontal",
            "style": "IPY_MODEL_ffbf07e1a583498d95121ad21f0a9ecb",
            "value": 18
          }
        },
        "57a78cba9faf4b11bdf14ecc88c64f01": {
          "model_module": "@jupyter-widgets/controls",
          "model_name": "HTMLModel",
          "state": {
            "_dom_classes": [],
            "_model_module": "@jupyter-widgets/controls",
            "_model_module_version": "1.5.0",
            "_model_name": "HTMLModel",
            "_view_count": null,
            "_view_module": "@jupyter-widgets/controls",
            "_view_module_version": "1.5.0",
            "_view_name": "HTMLView",
            "description": "",
            "description_tooltip": null,
            "layout": "IPY_MODEL_70f84f150e994cc988e64e290370ba30",
            "placeholder": "​",
            "style": "IPY_MODEL_9959e07bd2b84d5cb512b499d1ec5ad0",
            "value": " 25/25 [3:32:28&lt;00:00, 509.95s/it]"
          }
        },
        "3c1db2e19ac24362858104c47a8fb3af": {
          "model_module": "@jupyter-widgets/base",
          "model_name": "LayoutModel",
          "state": {
            "_model_module": "@jupyter-widgets/base",
            "_model_module_version": "1.2.0",
            "_model_name": "LayoutModel",
            "_view_count": null,
            "_view_module": "@jupyter-widgets/base",
            "_view_module_version": "1.2.0",
            "_view_name": "LayoutView",
            "align_content": null,
            "align_items": null,
            "align_self": null,
            "border": null,
            "bottom": null,
            "display": null,
            "flex": null,
            "flex_flow": null,
            "grid_area": null,
            "grid_auto_columns": null,
            "grid_auto_flow": null,
            "grid_auto_rows": null,
            "grid_column": null,
            "grid_gap": null,
            "grid_row": null,
            "grid_template_areas": null,
            "grid_template_columns": null,
            "grid_template_rows": null,
            "height": null,
            "justify_content": null,
            "justify_items": null,
            "left": null,
            "margin": null,
            "max_height": null,
            "max_width": null,
            "min_height": null,
            "min_width": null,
            "object_fit": null,
            "object_position": null,
            "order": null,
            "overflow": null,
            "overflow_x": null,
            "overflow_y": null,
            "padding": null,
            "right": null,
            "top": null,
            "visibility": null,
            "width": null
          }
        },
        "415e2a0bbaef453284045d368df66ce6": {
          "model_module": "@jupyter-widgets/base",
          "model_name": "LayoutModel",
          "state": {
            "_model_module": "@jupyter-widgets/base",
            "_model_module_version": "1.2.0",
            "_model_name": "LayoutModel",
            "_view_count": null,
            "_view_module": "@jupyter-widgets/base",
            "_view_module_version": "1.2.0",
            "_view_name": "LayoutView",
            "align_content": null,
            "align_items": null,
            "align_self": null,
            "border": null,
            "bottom": null,
            "display": null,
            "flex": null,
            "flex_flow": null,
            "grid_area": null,
            "grid_auto_columns": null,
            "grid_auto_flow": null,
            "grid_auto_rows": null,
            "grid_column": null,
            "grid_gap": null,
            "grid_row": null,
            "grid_template_areas": null,
            "grid_template_columns": null,
            "grid_template_rows": null,
            "height": null,
            "justify_content": null,
            "justify_items": null,
            "left": null,
            "margin": null,
            "max_height": null,
            "max_width": null,
            "min_height": null,
            "min_width": null,
            "object_fit": null,
            "object_position": null,
            "order": null,
            "overflow": null,
            "overflow_x": null,
            "overflow_y": null,
            "padding": null,
            "right": null,
            "top": null,
            "visibility": null,
            "width": null
          }
        },
        "ffbf07e1a583498d95121ad21f0a9ecb": {
          "model_module": "@jupyter-widgets/controls",
          "model_name": "ProgressStyleModel",
          "state": {
            "_model_module": "@jupyter-widgets/controls",
            "_model_module_version": "1.5.0",
            "_model_name": "ProgressStyleModel",
            "_view_count": null,
            "_view_module": "@jupyter-widgets/base",
            "_view_module_version": "1.2.0",
            "_view_name": "StyleView",
            "bar_color": null,
            "description_width": "initial"
          }
        },
        "70f84f150e994cc988e64e290370ba30": {
          "model_module": "@jupyter-widgets/base",
          "model_name": "LayoutModel",
          "state": {
            "_model_module": "@jupyter-widgets/base",
            "_model_module_version": "1.2.0",
            "_model_name": "LayoutModel",
            "_view_count": null,
            "_view_module": "@jupyter-widgets/base",
            "_view_module_version": "1.2.0",
            "_view_name": "LayoutView",
            "align_content": null,
            "align_items": null,
            "align_self": null,
            "border": null,
            "bottom": null,
            "display": null,
            "flex": null,
            "flex_flow": null,
            "grid_area": null,
            "grid_auto_columns": null,
            "grid_auto_flow": null,
            "grid_auto_rows": null,
            "grid_column": null,
            "grid_gap": null,
            "grid_row": null,
            "grid_template_areas": null,
            "grid_template_columns": null,
            "grid_template_rows": null,
            "height": null,
            "justify_content": null,
            "justify_items": null,
            "left": null,
            "margin": null,
            "max_height": null,
            "max_width": null,
            "min_height": null,
            "min_width": null,
            "object_fit": null,
            "object_position": null,
            "order": null,
            "overflow": null,
            "overflow_x": null,
            "overflow_y": null,
            "padding": null,
            "right": null,
            "top": null,
            "visibility": null,
            "width": null
          }
        },
        "9959e07bd2b84d5cb512b499d1ec5ad0": {
          "model_module": "@jupyter-widgets/controls",
          "model_name": "DescriptionStyleModel",
          "state": {
            "_model_module": "@jupyter-widgets/controls",
            "_model_module_version": "1.5.0",
            "_model_name": "DescriptionStyleModel",
            "_view_count": null,
            "_view_module": "@jupyter-widgets/base",
            "_view_module_version": "1.2.0",
            "_view_name": "StyleView",
            "description_width": ""
          }
        },
        "70455d006a6c447ca01d5cac5a0e3d45": {
          "model_module": "@jupyter-widgets/controls",
          "model_name": "HBoxModel",
          "state": {
            "_view_name": "HBoxView",
            "_dom_classes": [],
            "_model_name": "HBoxModel",
            "_view_module": "@jupyter-widgets/controls",
            "_model_module_version": "1.5.0",
            "_view_count": null,
            "_view_module_version": "1.5.0",
            "box_style": "",
            "layout": "IPY_MODEL_72177cbf8cce4af682d4b75bcb706cf4",
            "_model_module": "@jupyter-widgets/controls",
            "children": [
              "IPY_MODEL_a56d978e91814ecb94785cfcbda1ea18",
              "IPY_MODEL_c0d213b3df924fa4b1cc779bd837250a"
            ]
          }
        },
        "72177cbf8cce4af682d4b75bcb706cf4": {
          "model_module": "@jupyter-widgets/base",
          "model_name": "LayoutModel",
          "state": {
            "_view_name": "LayoutView",
            "grid_template_rows": null,
            "right": null,
            "justify_content": null,
            "_view_module": "@jupyter-widgets/base",
            "overflow": null,
            "_model_module_version": "1.2.0",
            "_view_count": null,
            "flex_flow": null,
            "width": null,
            "min_width": null,
            "border": null,
            "align_items": null,
            "bottom": null,
            "_model_module": "@jupyter-widgets/base",
            "top": null,
            "grid_column": null,
            "overflow_y": null,
            "overflow_x": null,
            "grid_auto_flow": null,
            "grid_area": null,
            "grid_template_columns": null,
            "flex": null,
            "_model_name": "LayoutModel",
            "justify_items": null,
            "grid_row": null,
            "max_height": null,
            "align_content": null,
            "visibility": null,
            "align_self": null,
            "height": null,
            "min_height": null,
            "padding": null,
            "grid_auto_rows": null,
            "grid_gap": null,
            "max_width": null,
            "order": null,
            "_view_module_version": "1.2.0",
            "grid_template_areas": null,
            "object_position": null,
            "object_fit": null,
            "grid_auto_columns": null,
            "margin": null,
            "display": null,
            "left": null
          }
        },
        "a56d978e91814ecb94785cfcbda1ea18": {
          "model_module": "@jupyter-widgets/controls",
          "model_name": "FloatProgressModel",
          "state": {
            "_view_name": "ProgressView",
            "style": "IPY_MODEL_d8e073d2861643da87db50bd17a2b1b2",
            "_dom_classes": [],
            "description": "100%",
            "_model_name": "FloatProgressModel",
            "bar_style": "success",
            "max": 62,
            "_view_module": "@jupyter-widgets/controls",
            "_model_module_version": "1.5.0",
            "value": 62,
            "_view_count": null,
            "_view_module_version": "1.5.0",
            "orientation": "horizontal",
            "min": 0,
            "description_tooltip": null,
            "_model_module": "@jupyter-widgets/controls",
            "layout": "IPY_MODEL_8b16ebcfc35a4183a10750bcf17a3285"
          }
        },
        "c0d213b3df924fa4b1cc779bd837250a": {
          "model_module": "@jupyter-widgets/controls",
          "model_name": "HTMLModel",
          "state": {
            "_view_name": "HTMLView",
            "style": "IPY_MODEL_22327ed256b540e5a378386a741137e8",
            "_dom_classes": [],
            "description": "",
            "_model_name": "HTMLModel",
            "placeholder": "​",
            "_view_module": "@jupyter-widgets/controls",
            "_model_module_version": "1.5.0",
            "value": " 62/62 [00:40&lt;00:00,  1.51it/s]",
            "_view_count": null,
            "_view_module_version": "1.5.0",
            "description_tooltip": null,
            "_model_module": "@jupyter-widgets/controls",
            "layout": "IPY_MODEL_b3d1e30afcee4057a9e10475d5eb59f0"
          }
        },
        "d8e073d2861643da87db50bd17a2b1b2": {
          "model_module": "@jupyter-widgets/controls",
          "model_name": "ProgressStyleModel",
          "state": {
            "_view_name": "StyleView",
            "_model_name": "ProgressStyleModel",
            "description_width": "initial",
            "_view_module": "@jupyter-widgets/base",
            "_model_module_version": "1.5.0",
            "_view_count": null,
            "_view_module_version": "1.2.0",
            "bar_color": null,
            "_model_module": "@jupyter-widgets/controls"
          }
        },
        "8b16ebcfc35a4183a10750bcf17a3285": {
          "model_module": "@jupyter-widgets/base",
          "model_name": "LayoutModel",
          "state": {
            "_view_name": "LayoutView",
            "grid_template_rows": null,
            "right": null,
            "justify_content": null,
            "_view_module": "@jupyter-widgets/base",
            "overflow": null,
            "_model_module_version": "1.2.0",
            "_view_count": null,
            "flex_flow": null,
            "width": null,
            "min_width": null,
            "border": null,
            "align_items": null,
            "bottom": null,
            "_model_module": "@jupyter-widgets/base",
            "top": null,
            "grid_column": null,
            "overflow_y": null,
            "overflow_x": null,
            "grid_auto_flow": null,
            "grid_area": null,
            "grid_template_columns": null,
            "flex": null,
            "_model_name": "LayoutModel",
            "justify_items": null,
            "grid_row": null,
            "max_height": null,
            "align_content": null,
            "visibility": null,
            "align_self": null,
            "height": null,
            "min_height": null,
            "padding": null,
            "grid_auto_rows": null,
            "grid_gap": null,
            "max_width": null,
            "order": null,
            "_view_module_version": "1.2.0",
            "grid_template_areas": null,
            "object_position": null,
            "object_fit": null,
            "grid_auto_columns": null,
            "margin": null,
            "display": null,
            "left": null
          }
        },
        "22327ed256b540e5a378386a741137e8": {
          "model_module": "@jupyter-widgets/controls",
          "model_name": "DescriptionStyleModel",
          "state": {
            "_view_name": "StyleView",
            "_model_name": "DescriptionStyleModel",
            "description_width": "",
            "_view_module": "@jupyter-widgets/base",
            "_model_module_version": "1.5.0",
            "_view_count": null,
            "_view_module_version": "1.2.0",
            "_model_module": "@jupyter-widgets/controls"
          }
        },
        "b3d1e30afcee4057a9e10475d5eb59f0": {
          "model_module": "@jupyter-widgets/base",
          "model_name": "LayoutModel",
          "state": {
            "_view_name": "LayoutView",
            "grid_template_rows": null,
            "right": null,
            "justify_content": null,
            "_view_module": "@jupyter-widgets/base",
            "overflow": null,
            "_model_module_version": "1.2.0",
            "_view_count": null,
            "flex_flow": null,
            "width": null,
            "min_width": null,
            "border": null,
            "align_items": null,
            "bottom": null,
            "_model_module": "@jupyter-widgets/base",
            "top": null,
            "grid_column": null,
            "overflow_y": null,
            "overflow_x": null,
            "grid_auto_flow": null,
            "grid_area": null,
            "grid_template_columns": null,
            "flex": null,
            "_model_name": "LayoutModel",
            "justify_items": null,
            "grid_row": null,
            "max_height": null,
            "align_content": null,
            "visibility": null,
            "align_self": null,
            "height": null,
            "min_height": null,
            "padding": null,
            "grid_auto_rows": null,
            "grid_gap": null,
            "max_width": null,
            "order": null,
            "_view_module_version": "1.2.0",
            "grid_template_areas": null,
            "object_position": null,
            "object_fit": null,
            "grid_auto_columns": null,
            "margin": null,
            "display": null,
            "left": null
          }
        },
        "f304c8feac214293ac5fdf6bf29664dd": {
          "model_module": "@jupyter-widgets/controls",
          "model_name": "HBoxModel",
          "state": {
            "_view_name": "HBoxView",
            "_dom_classes": [],
            "_model_name": "HBoxModel",
            "_view_module": "@jupyter-widgets/controls",
            "_model_module_version": "1.5.0",
            "_view_count": null,
            "_view_module_version": "1.5.0",
            "box_style": "",
            "layout": "IPY_MODEL_e09f67cbaff24a8899d66573a463a4bd",
            "_model_module": "@jupyter-widgets/controls",
            "children": [
              "IPY_MODEL_145e2547dbae45e2853d5e9cbaa47228",
              "IPY_MODEL_b18c0c38f40d4fafbc9dee3498dacd10"
            ]
          }
        },
        "e09f67cbaff24a8899d66573a463a4bd": {
          "model_module": "@jupyter-widgets/base",
          "model_name": "LayoutModel",
          "state": {
            "_view_name": "LayoutView",
            "grid_template_rows": null,
            "right": null,
            "justify_content": null,
            "_view_module": "@jupyter-widgets/base",
            "overflow": null,
            "_model_module_version": "1.2.0",
            "_view_count": null,
            "flex_flow": null,
            "width": null,
            "min_width": null,
            "border": null,
            "align_items": null,
            "bottom": null,
            "_model_module": "@jupyter-widgets/base",
            "top": null,
            "grid_column": null,
            "overflow_y": null,
            "overflow_x": null,
            "grid_auto_flow": null,
            "grid_area": null,
            "grid_template_columns": null,
            "flex": null,
            "_model_name": "LayoutModel",
            "justify_items": null,
            "grid_row": null,
            "max_height": null,
            "align_content": null,
            "visibility": null,
            "align_self": null,
            "height": null,
            "min_height": null,
            "padding": null,
            "grid_auto_rows": null,
            "grid_gap": null,
            "max_width": null,
            "order": null,
            "_view_module_version": "1.2.0",
            "grid_template_areas": null,
            "object_position": null,
            "object_fit": null,
            "grid_auto_columns": null,
            "margin": null,
            "display": null,
            "left": null
          }
        },
        "145e2547dbae45e2853d5e9cbaa47228": {
          "model_module": "@jupyter-widgets/controls",
          "model_name": "FloatProgressModel",
          "state": {
            "_view_name": "ProgressView",
            "style": "IPY_MODEL_f66e6afa925a4142b944e706d4a59b67",
            "_dom_classes": [],
            "description": "100%",
            "_model_name": "FloatProgressModel",
            "bar_style": "success",
            "max": 62,
            "_view_module": "@jupyter-widgets/controls",
            "_model_module_version": "1.5.0",
            "value": 62,
            "_view_count": null,
            "_view_module_version": "1.5.0",
            "orientation": "horizontal",
            "min": 0,
            "description_tooltip": null,
            "_model_module": "@jupyter-widgets/controls",
            "layout": "IPY_MODEL_21ba8d05568f4a5a92bfc4e974a54bf0"
          }
        },
        "b18c0c38f40d4fafbc9dee3498dacd10": {
          "model_module": "@jupyter-widgets/controls",
          "model_name": "HTMLModel",
          "state": {
            "_view_name": "HTMLView",
            "style": "IPY_MODEL_758c43dc44474514a0d4f9e9a14d95e0",
            "_dom_classes": [],
            "description": "",
            "_model_name": "HTMLModel",
            "placeholder": "​",
            "_view_module": "@jupyter-widgets/controls",
            "_model_module_version": "1.5.0",
            "value": " 62/62 [00:18&lt;00:00,  3.31it/s]",
            "_view_count": null,
            "_view_module_version": "1.5.0",
            "description_tooltip": null,
            "_model_module": "@jupyter-widgets/controls",
            "layout": "IPY_MODEL_0e6adc57d3614e23847f012bd67e78d1"
          }
        },
        "f66e6afa925a4142b944e706d4a59b67": {
          "model_module": "@jupyter-widgets/controls",
          "model_name": "ProgressStyleModel",
          "state": {
            "_view_name": "StyleView",
            "_model_name": "ProgressStyleModel",
            "description_width": "initial",
            "_view_module": "@jupyter-widgets/base",
            "_model_module_version": "1.5.0",
            "_view_count": null,
            "_view_module_version": "1.2.0",
            "bar_color": null,
            "_model_module": "@jupyter-widgets/controls"
          }
        },
        "21ba8d05568f4a5a92bfc4e974a54bf0": {
          "model_module": "@jupyter-widgets/base",
          "model_name": "LayoutModel",
          "state": {
            "_view_name": "LayoutView",
            "grid_template_rows": null,
            "right": null,
            "justify_content": null,
            "_view_module": "@jupyter-widgets/base",
            "overflow": null,
            "_model_module_version": "1.2.0",
            "_view_count": null,
            "flex_flow": null,
            "width": null,
            "min_width": null,
            "border": null,
            "align_items": null,
            "bottom": null,
            "_model_module": "@jupyter-widgets/base",
            "top": null,
            "grid_column": null,
            "overflow_y": null,
            "overflow_x": null,
            "grid_auto_flow": null,
            "grid_area": null,
            "grid_template_columns": null,
            "flex": null,
            "_model_name": "LayoutModel",
            "justify_items": null,
            "grid_row": null,
            "max_height": null,
            "align_content": null,
            "visibility": null,
            "align_self": null,
            "height": null,
            "min_height": null,
            "padding": null,
            "grid_auto_rows": null,
            "grid_gap": null,
            "max_width": null,
            "order": null,
            "_view_module_version": "1.2.0",
            "grid_template_areas": null,
            "object_position": null,
            "object_fit": null,
            "grid_auto_columns": null,
            "margin": null,
            "display": null,
            "left": null
          }
        },
        "758c43dc44474514a0d4f9e9a14d95e0": {
          "model_module": "@jupyter-widgets/controls",
          "model_name": "DescriptionStyleModel",
          "state": {
            "_view_name": "StyleView",
            "_model_name": "DescriptionStyleModel",
            "description_width": "",
            "_view_module": "@jupyter-widgets/base",
            "_model_module_version": "1.5.0",
            "_view_count": null,
            "_view_module_version": "1.2.0",
            "_model_module": "@jupyter-widgets/controls"
          }
        },
        "0e6adc57d3614e23847f012bd67e78d1": {
          "model_module": "@jupyter-widgets/base",
          "model_name": "LayoutModel",
          "state": {
            "_view_name": "LayoutView",
            "grid_template_rows": null,
            "right": null,
            "justify_content": null,
            "_view_module": "@jupyter-widgets/base",
            "overflow": null,
            "_model_module_version": "1.2.0",
            "_view_count": null,
            "flex_flow": null,
            "width": null,
            "min_width": null,
            "border": null,
            "align_items": null,
            "bottom": null,
            "_model_module": "@jupyter-widgets/base",
            "top": null,
            "grid_column": null,
            "overflow_y": null,
            "overflow_x": null,
            "grid_auto_flow": null,
            "grid_area": null,
            "grid_template_columns": null,
            "flex": null,
            "_model_name": "LayoutModel",
            "justify_items": null,
            "grid_row": null,
            "max_height": null,
            "align_content": null,
            "visibility": null,
            "align_self": null,
            "height": null,
            "min_height": null,
            "padding": null,
            "grid_auto_rows": null,
            "grid_gap": null,
            "max_width": null,
            "order": null,
            "_view_module_version": "1.2.0",
            "grid_template_areas": null,
            "object_position": null,
            "object_fit": null,
            "grid_auto_columns": null,
            "margin": null,
            "display": null,
            "left": null
          }
        }
      }
    }
  },
  "cells": [
    {
      "cell_type": "markdown",
      "metadata": {
        "id": "YfrjELX4cTlS"
      },
      "source": [
        "---\r\n",
        "---\r\n",
        "\r\n",
        "# 1. Setup\r\n",
        "\r\n",
        "---\r\n",
        "---"
      ]
    },
    {
      "cell_type": "markdown",
      "metadata": {
        "id": "sKg-hft-sBR4"
      },
      "source": [
        "### Import packages for clustering the data"
      ]
    },
    {
      "cell_type": "code",
      "metadata": {
        "id": "3QFzkT8lfehm"
      },
      "source": [
        "from sklearn.cluster import KMeans\r\n",
        "from sklearn.cluster import SpectralClustering\r\n",
        "from sklearn import metrics\r\n",
        "from scipy.spatial.distance import cdist\r\n",
        "from sklearn.metrics import silhouette_score\r\n",
        "from sklearn.cluster import DBSCAN"
      ],
      "execution_count": null,
      "outputs": []
    },
    {
      "cell_type": "markdown",
      "metadata": {
        "id": "84nSscHnfmpB"
      },
      "source": [
        "### Import packages for plotting"
      ]
    },
    {
      "cell_type": "code",
      "metadata": {
        "id": "8KVkQWNqfmv5"
      },
      "source": [
        "from mpl_toolkits.mplot3d import axes3d\r\n",
        "import matplotlib.pyplot as plt"
      ],
      "execution_count": null,
      "outputs": []
    },
    {
      "cell_type": "markdown",
      "metadata": {
        "id": "AG2XBy8EcMKs"
      },
      "source": [
        "### General Imports"
      ]
    },
    {
      "cell_type": "code",
      "metadata": {
        "id": "W4oMtIUwcqGC"
      },
      "source": [
        "from google.colab import drive\n",
        "import os\n",
        "import numpy as np\n",
        "import pandas as pd\n",
        "import ast\n",
        "import plotly.graph_objects as go\n",
        "import random\n",
        "\n",
        "from tqdm.auto import tqdm\n",
        "from sklearn.metrics.pairwise import cosine_similarity"
      ],
      "execution_count": null,
      "outputs": []
    },
    {
      "cell_type": "markdown",
      "metadata": {
        "id": "WLYPyz_KGFw_"
      },
      "source": [
        "### Remove warnings from output"
      ]
    },
    {
      "cell_type": "code",
      "metadata": {
        "id": "KReE05yZGLBb"
      },
      "source": [
        "pd.options.mode.chained_assignment = None"
      ],
      "execution_count": null,
      "outputs": []
    },
    {
      "cell_type": "markdown",
      "metadata": {
        "id": "D8NK3aeBc1Rn"
      },
      "source": [
        "### Mount the Drive"
      ]
    },
    {
      "cell_type": "code",
      "metadata": {
        "colab": {
          "base_uri": "https://localhost:8080/"
        },
        "id": "JtpHJzUbSAUq",
        "outputId": "f694c228-a871-4fde-cf0f-f1b2856f9a74"
      },
      "source": [
        "drive.mount(\"/content/drive\")#, force_remount=True)"
      ],
      "execution_count": null,
      "outputs": [
        {
          "output_type": "stream",
          "text": [
            "Mounted at /content/drive\n"
          ],
          "name": "stdout"
        }
      ]
    },
    {
      "cell_type": "code",
      "metadata": {
        "id": "YhbG5SDHQ96a"
      },
      "source": [
        "os.chdir(\"drive/MyDrive/ca4015_assignment4/data\")"
      ],
      "execution_count": null,
      "outputs": []
    },
    {
      "cell_type": "markdown",
      "metadata": {
        "id": "CMneXq9uc8VG"
      },
      "source": [
        "---\r\n",
        "---\r\n",
        "\r\n",
        "# 2. Read in the Data\r\n",
        "\r\n",
        "---\r\n",
        "---"
      ]
    },
    {
      "cell_type": "markdown",
      "metadata": {
        "id": "dZf4NDtpVmVS"
      },
      "source": [
        "We read in the processed data here. This contains the original data along with the aditional data scraped using Spotify's API. All of this data will be used throughout this notebook\r\n"
      ]
    },
    {
      "cell_type": "markdown",
      "metadata": {
        "id": "Nl8vFThatojn"
      },
      "source": [
        "## Read the processed data into a pandas dataframe"
      ]
    },
    {
      "cell_type": "code",
      "metadata": {
        "id": "mCTMH8iiezHC",
        "colab": {
          "base_uri": "https://localhost:8080/"
        },
        "outputId": "0f271f20-b360-47c8-f12b-3bb0eb3b3a46"
      },
      "source": [
        "df = pd.read_csv(open(os.path.join(\"processed_data\", 'original_and_spotify_data (1).csv')))"
      ],
      "execution_count": null,
      "outputs": [
        {
          "output_type": "stream",
          "text": [
            "/usr/local/lib/python3.6/dist-packages/IPython/core/interactiveshell.py:2718: DtypeWarning: Columns (4,8,9,10,11) have mixed types.Specify dtype option on import or set low_memory=False.\n",
            "  interactivity=interactivity, compiler=compiler, result=result)\n"
          ],
          "name": "stderr"
        }
      ]
    },
    {
      "cell_type": "code",
      "metadata": {
        "colab": {
          "base_uri": "https://localhost:8080/"
        },
        "id": "uIr1lqCUpZKq",
        "outputId": "1c6a9cb5-97ed-4682-cc2e-9c1098797829"
      },
      "source": [
        "df.shape"
      ],
      "execution_count": null,
      "outputs": [
        {
          "output_type": "execute_result",
          "data": {
            "text/plain": [
              "(2269518, 12)"
            ]
          },
          "metadata": {
            "tags": []
          },
          "execution_count": 154
        }
      ]
    },
    {
      "cell_type": "code",
      "metadata": {
        "colab": {
          "base_uri": "https://localhost:8080/",
          "height": 197
        },
        "id": "uyHmERqwf7IN",
        "outputId": "a91e8fc7-79ae-40ab-fb34-b74c26b5b5d8"
      },
      "source": [
        "df.head()"
      ],
      "execution_count": null,
      "outputs": [
        {
          "output_type": "execute_result",
          "data": {
            "text/html": [
              "<div>\n",
              "<style scoped>\n",
              "    .dataframe tbody tr th:only-of-type {\n",
              "        vertical-align: middle;\n",
              "    }\n",
              "\n",
              "    .dataframe tbody tr th {\n",
              "        vertical-align: top;\n",
              "    }\n",
              "\n",
              "    .dataframe thead th {\n",
              "        text-align: right;\n",
              "    }\n",
              "</style>\n",
              "<table border=\"1\" class=\"dataframe\">\n",
              "  <thead>\n",
              "    <tr style=\"text-align: right;\">\n",
              "      <th></th>\n",
              "      <th>userID</th>\n",
              "      <th>artistID</th>\n",
              "      <th>artistWeight</th>\n",
              "      <th>friendID</th>\n",
              "      <th>artistName</th>\n",
              "      <th>tagID</th>\n",
              "      <th>timestamp</th>\n",
              "      <th>tagValue</th>\n",
              "      <th>spotifyName</th>\n",
              "      <th>imageUrl</th>\n",
              "      <th>genres</th>\n",
              "      <th>spotifyUrl</th>\n",
              "    </tr>\n",
              "  </thead>\n",
              "  <tbody>\n",
              "    <tr>\n",
              "      <th>0</th>\n",
              "      <td>2</td>\n",
              "      <td>51</td>\n",
              "      <td>13883.0</td>\n",
              "      <td>275.0</td>\n",
              "      <td>Duran Duran</td>\n",
              "      <td>NaN</td>\n",
              "      <td>NaN</td>\n",
              "      <td>NaN</td>\n",
              "      <td>Duran Duran</td>\n",
              "      <td>https://i.scdn.co/image/2e6d5966dafa119f4a75e7...</td>\n",
              "      <td>['dance rock', 'new romantic', 'new wave', 'ne...</td>\n",
              "      <td>https://open.spotify.com/artist/0lZoBs4Pzo7R89...</td>\n",
              "    </tr>\n",
              "    <tr>\n",
              "      <th>1</th>\n",
              "      <td>2</td>\n",
              "      <td>51</td>\n",
              "      <td>13883.0</td>\n",
              "      <td>428.0</td>\n",
              "      <td>Duran Duran</td>\n",
              "      <td>NaN</td>\n",
              "      <td>NaN</td>\n",
              "      <td>NaN</td>\n",
              "      <td>Duran Duran</td>\n",
              "      <td>https://i.scdn.co/image/2e6d5966dafa119f4a75e7...</td>\n",
              "      <td>['dance rock', 'new romantic', 'new wave', 'ne...</td>\n",
              "      <td>https://open.spotify.com/artist/0lZoBs4Pzo7R89...</td>\n",
              "    </tr>\n",
              "    <tr>\n",
              "      <th>2</th>\n",
              "      <td>2</td>\n",
              "      <td>51</td>\n",
              "      <td>13883.0</td>\n",
              "      <td>515.0</td>\n",
              "      <td>Duran Duran</td>\n",
              "      <td>NaN</td>\n",
              "      <td>NaN</td>\n",
              "      <td>NaN</td>\n",
              "      <td>Duran Duran</td>\n",
              "      <td>https://i.scdn.co/image/2e6d5966dafa119f4a75e7...</td>\n",
              "      <td>['dance rock', 'new romantic', 'new wave', 'ne...</td>\n",
              "      <td>https://open.spotify.com/artist/0lZoBs4Pzo7R89...</td>\n",
              "    </tr>\n",
              "    <tr>\n",
              "      <th>3</th>\n",
              "      <td>2</td>\n",
              "      <td>51</td>\n",
              "      <td>13883.0</td>\n",
              "      <td>761.0</td>\n",
              "      <td>Duran Duran</td>\n",
              "      <td>NaN</td>\n",
              "      <td>NaN</td>\n",
              "      <td>NaN</td>\n",
              "      <td>Duran Duran</td>\n",
              "      <td>https://i.scdn.co/image/2e6d5966dafa119f4a75e7...</td>\n",
              "      <td>['dance rock', 'new romantic', 'new wave', 'ne...</td>\n",
              "      <td>https://open.spotify.com/artist/0lZoBs4Pzo7R89...</td>\n",
              "    </tr>\n",
              "    <tr>\n",
              "      <th>4</th>\n",
              "      <td>2</td>\n",
              "      <td>51</td>\n",
              "      <td>13883.0</td>\n",
              "      <td>831.0</td>\n",
              "      <td>Duran Duran</td>\n",
              "      <td>NaN</td>\n",
              "      <td>NaN</td>\n",
              "      <td>NaN</td>\n",
              "      <td>Duran Duran</td>\n",
              "      <td>https://i.scdn.co/image/2e6d5966dafa119f4a75e7...</td>\n",
              "      <td>['dance rock', 'new romantic', 'new wave', 'ne...</td>\n",
              "      <td>https://open.spotify.com/artist/0lZoBs4Pzo7R89...</td>\n",
              "    </tr>\n",
              "  </tbody>\n",
              "</table>\n",
              "</div>"
            ],
            "text/plain": [
              "   userID  ...                                         spotifyUrl\n",
              "0       2  ...  https://open.spotify.com/artist/0lZoBs4Pzo7R89...\n",
              "1       2  ...  https://open.spotify.com/artist/0lZoBs4Pzo7R89...\n",
              "2       2  ...  https://open.spotify.com/artist/0lZoBs4Pzo7R89...\n",
              "3       2  ...  https://open.spotify.com/artist/0lZoBs4Pzo7R89...\n",
              "4       2  ...  https://open.spotify.com/artist/0lZoBs4Pzo7R89...\n",
              "\n",
              "[5 rows x 12 columns]"
            ]
          },
          "metadata": {
            "tags": []
          },
          "execution_count": 155
        }
      ]
    },
    {
      "cell_type": "code",
      "metadata": {
        "colab": {
          "base_uri": "https://localhost:8080/",
          "height": 287
        },
        "id": "ZFQsnoiopVZB",
        "outputId": "eecb4a87-f2f5-496b-ad65-894322acacbd"
      },
      "source": [
        "df.describe()"
      ],
      "execution_count": null,
      "outputs": [
        {
          "output_type": "execute_result",
          "data": {
            "text/html": [
              "<div>\n",
              "<style scoped>\n",
              "    .dataframe tbody tr th:only-of-type {\n",
              "        vertical-align: middle;\n",
              "    }\n",
              "\n",
              "    .dataframe tbody tr th {\n",
              "        vertical-align: top;\n",
              "    }\n",
              "\n",
              "    .dataframe thead th {\n",
              "        text-align: right;\n",
              "    }\n",
              "</style>\n",
              "<table border=\"1\" class=\"dataframe\">\n",
              "  <thead>\n",
              "    <tr style=\"text-align: right;\">\n",
              "      <th></th>\n",
              "      <th>userID</th>\n",
              "      <th>artistID</th>\n",
              "      <th>artistWeight</th>\n",
              "      <th>friendID</th>\n",
              "      <th>tagID</th>\n",
              "    </tr>\n",
              "  </thead>\n",
              "  <tbody>\n",
              "    <tr>\n",
              "      <th>count</th>\n",
              "      <td>2.269518e+06</td>\n",
              "      <td>2.269518e+06</td>\n",
              "      <td>2.156397e+06</td>\n",
              "      <td>2.156397e+06</td>\n",
              "      <td>1.301175e+06</td>\n",
              "    </tr>\n",
              "    <tr>\n",
              "      <th>mean</th>\n",
              "      <td>9.814908e+02</td>\n",
              "      <td>2.961728e+03</td>\n",
              "      <td>2.065768e+03</td>\n",
              "      <td>9.907670e+02</td>\n",
              "      <td>1.602324e+03</td>\n",
              "    </tr>\n",
              "    <tr>\n",
              "      <th>std</th>\n",
              "      <td>6.167526e+02</td>\n",
              "      <td>4.373358e+03</td>\n",
              "      <td>8.791553e+03</td>\n",
              "      <td>6.059923e+02</td>\n",
              "      <td>2.864083e+03</td>\n",
              "    </tr>\n",
              "    <tr>\n",
              "      <th>min</th>\n",
              "      <td>2.000000e+00</td>\n",
              "      <td>1.000000e+00</td>\n",
              "      <td>1.000000e+00</td>\n",
              "      <td>2.000000e+00</td>\n",
              "      <td>1.000000e+00</td>\n",
              "    </tr>\n",
              "    <tr>\n",
              "      <th>25%</th>\n",
              "      <td>4.130000e+02</td>\n",
              "      <td>3.110000e+02</td>\n",
              "      <td>1.700000e+02</td>\n",
              "      <td>4.360000e+02</td>\n",
              "      <td>8.100000e+01</td>\n",
              "    </tr>\n",
              "    <tr>\n",
              "      <th>50%</th>\n",
              "      <td>9.510000e+02</td>\n",
              "      <td>9.170000e+02</td>\n",
              "      <td>4.480000e+02</td>\n",
              "      <td>9.760000e+02</td>\n",
              "      <td>2.850000e+02</td>\n",
              "    </tr>\n",
              "    <tr>\n",
              "      <th>75%</th>\n",
              "      <td>1.519000e+03</td>\n",
              "      <td>3.393000e+03</td>\n",
              "      <td>1.215000e+03</td>\n",
              "      <td>1.511000e+03</td>\n",
              "      <td>1.351000e+03</td>\n",
              "    </tr>\n",
              "    <tr>\n",
              "      <th>max</th>\n",
              "      <td>2.100000e+03</td>\n",
              "      <td>1.874500e+04</td>\n",
              "      <td>3.526980e+05</td>\n",
              "      <td>2.100000e+03</td>\n",
              "      <td>1.264700e+04</td>\n",
              "    </tr>\n",
              "  </tbody>\n",
              "</table>\n",
              "</div>"
            ],
            "text/plain": [
              "             userID      artistID  artistWeight      friendID         tagID\n",
              "count  2.269518e+06  2.269518e+06  2.156397e+06  2.156397e+06  1.301175e+06\n",
              "mean   9.814908e+02  2.961728e+03  2.065768e+03  9.907670e+02  1.602324e+03\n",
              "std    6.167526e+02  4.373358e+03  8.791553e+03  6.059923e+02  2.864083e+03\n",
              "min    2.000000e+00  1.000000e+00  1.000000e+00  2.000000e+00  1.000000e+00\n",
              "25%    4.130000e+02  3.110000e+02  1.700000e+02  4.360000e+02  8.100000e+01\n",
              "50%    9.510000e+02  9.170000e+02  4.480000e+02  9.760000e+02  2.850000e+02\n",
              "75%    1.519000e+03  3.393000e+03  1.215000e+03  1.511000e+03  1.351000e+03\n",
              "max    2.100000e+03  1.874500e+04  3.526980e+05  2.100000e+03  1.264700e+04"
            ]
          },
          "metadata": {
            "tags": []
          },
          "execution_count": 156
        }
      ]
    },
    {
      "cell_type": "markdown",
      "metadata": {
        "id": "XLWSNCZbqQbP"
      },
      "source": [
        "## Read in subset of this processed data relating to the artists for plotting the recommendations"
      ]
    },
    {
      "cell_type": "code",
      "metadata": {
        "id": "bVo9e9ujqQ8f"
      },
      "source": [
        "artists = df[[\"artistID\", \"artistName\", \"imageUrl\", \"spotifyUrl\", \"genres\"]] \\\r\n",
        ".drop_duplicates().dropna(subset=[\"artistName\"]) \\\r\n",
        ".sort_values(\"artistID\").reset_index(drop=True)\r\n",
        "\r\n",
        "artists[\"genres\"] = artists[\"genres\"].apply(ast.literal_eval)\r\n",
        "artists[\"genre\"] = artists[\"genres\"].apply(lambda x: x[0] if len(x) > 0 else None)"
      ],
      "execution_count": null,
      "outputs": []
    },
    {
      "cell_type": "code",
      "metadata": {
        "colab": {
          "base_uri": "https://localhost:8080/",
          "height": 197
        },
        "id": "0AdYcCoiqeyH",
        "outputId": "7d0f879d-7cda-4bc8-f655-d3424595a71a"
      },
      "source": [
        "artists.head()"
      ],
      "execution_count": null,
      "outputs": [
        {
          "output_type": "execute_result",
          "data": {
            "text/html": [
              "<div>\n",
              "<style scoped>\n",
              "    .dataframe tbody tr th:only-of-type {\n",
              "        vertical-align: middle;\n",
              "    }\n",
              "\n",
              "    .dataframe tbody tr th {\n",
              "        vertical-align: top;\n",
              "    }\n",
              "\n",
              "    .dataframe thead th {\n",
              "        text-align: right;\n",
              "    }\n",
              "</style>\n",
              "<table border=\"1\" class=\"dataframe\">\n",
              "  <thead>\n",
              "    <tr style=\"text-align: right;\">\n",
              "      <th></th>\n",
              "      <th>artistID</th>\n",
              "      <th>artistName</th>\n",
              "      <th>imageUrl</th>\n",
              "      <th>spotifyUrl</th>\n",
              "      <th>genres</th>\n",
              "      <th>genre</th>\n",
              "    </tr>\n",
              "  </thead>\n",
              "  <tbody>\n",
              "    <tr>\n",
              "      <th>0</th>\n",
              "      <td>1</td>\n",
              "      <td>MALICE MIZER</td>\n",
              "      <td>NaN</td>\n",
              "      <td>NaN</td>\n",
              "      <td>[]</td>\n",
              "      <td>None</td>\n",
              "    </tr>\n",
              "    <tr>\n",
              "      <th>1</th>\n",
              "      <td>2</td>\n",
              "      <td>Diary of Dreams</td>\n",
              "      <td>https://i.scdn.co/image/d1541238b711b8ca7aca43...</td>\n",
              "      <td>https://open.spotify.com/artist/1tg5jMp8FFjVqj...</td>\n",
              "      <td>[dark wave, ebm, electro-industrial, ethereal ...</td>\n",
              "      <td>dark wave</td>\n",
              "    </tr>\n",
              "    <tr>\n",
              "      <th>2</th>\n",
              "      <td>3</td>\n",
              "      <td>Carpathian Forest</td>\n",
              "      <td>https://i.scdn.co/image/ab67616d0000b273e5e56d...</td>\n",
              "      <td>https://open.spotify.com/artist/0sFntmE9T1tiF6...</td>\n",
              "      <td>[black metal, dark black metal, metal, norwegi...</td>\n",
              "      <td>black metal</td>\n",
              "    </tr>\n",
              "    <tr>\n",
              "      <th>3</th>\n",
              "      <td>4</td>\n",
              "      <td>Moi dix Mois</td>\n",
              "      <td>NaN</td>\n",
              "      <td>NaN</td>\n",
              "      <td>[]</td>\n",
              "      <td>None</td>\n",
              "    </tr>\n",
              "    <tr>\n",
              "      <th>4</th>\n",
              "      <td>5</td>\n",
              "      <td>Bella Morte</td>\n",
              "      <td>https://i.scdn.co/image/24df6d7abf75759f89bda2...</td>\n",
              "      <td>https://open.spotify.com/artist/2SyimynlSU0Oii...</td>\n",
              "      <td>[dark wave, ethereal wave, gothic rock]</td>\n",
              "      <td>dark wave</td>\n",
              "    </tr>\n",
              "  </tbody>\n",
              "</table>\n",
              "</div>"
            ],
            "text/plain": [
              "   artistID  ...        genre\n",
              "0         1  ...         None\n",
              "1         2  ...    dark wave\n",
              "2         3  ...  black metal\n",
              "3         4  ...         None\n",
              "4         5  ...    dark wave\n",
              "\n",
              "[5 rows x 6 columns]"
            ]
          },
          "metadata": {
            "tags": []
          },
          "execution_count": 160
        }
      ]
    },
    {
      "cell_type": "markdown",
      "metadata": {
        "id": "SHOnKP19WSC8"
      },
      "source": [
        "## Setup the data for clustering"
      ]
    },
    {
      "cell_type": "markdown",
      "metadata": {
        "id": "ZAaD1EFWtkOr"
      },
      "source": [
        "This processed contains a lot of different features but not all of these are needed for the clustering and also it is needed in a different format. As a result we must re-format the table here and create a table specific for the clustering"
      ]
    },
    {
      "cell_type": "markdown",
      "metadata": {
        "id": "GhiQTL_em0iZ"
      },
      "source": [
        "#### Get a subset of the needed columns"
      ]
    },
    {
      "cell_type": "code",
      "metadata": {
        "id": "ZGV5Vr7qik7P"
      },
      "source": [
        "subset_columns_df = df[\"userID\", \"artistName\", \"artistWeight\"].drop_duplicates()"
      ],
      "execution_count": null,
      "outputs": []
    },
    {
      "cell_type": "code",
      "metadata": {
        "colab": {
          "base_uri": "https://localhost:8080/"
        },
        "id": "T3MwgUIYqpCr",
        "outputId": "a20448ca-5669-4f5e-c2d7-24bce32799b8"
      },
      "source": [
        "subset_columns_df.shape"
      ],
      "execution_count": null,
      "outputs": [
        {
          "output_type": "execute_result",
          "data": {
            "text/plain": [
              "(94202, 3)"
            ]
          },
          "metadata": {
            "tags": []
          },
          "execution_count": 11
        }
      ]
    },
    {
      "cell_type": "code",
      "metadata": {
        "colab": {
          "base_uri": "https://localhost:8080/",
          "height": 197
        },
        "id": "haQiwEFrkbJk",
        "outputId": "031b3557-a336-4a5a-8c6d-51b7199aecce"
      },
      "source": [
        "subset_columns_df.head()"
      ],
      "execution_count": null,
      "outputs": [
        {
          "output_type": "execute_result",
          "data": {
            "text/html": [
              "<div>\n",
              "<style scoped>\n",
              "    .dataframe tbody tr th:only-of-type {\n",
              "        vertical-align: middle;\n",
              "    }\n",
              "\n",
              "    .dataframe tbody tr th {\n",
              "        vertical-align: top;\n",
              "    }\n",
              "\n",
              "    .dataframe thead th {\n",
              "        text-align: right;\n",
              "    }\n",
              "</style>\n",
              "<table border=\"1\" class=\"dataframe\">\n",
              "  <thead>\n",
              "    <tr style=\"text-align: right;\">\n",
              "      <th></th>\n",
              "      <th>userID</th>\n",
              "      <th>artistWeight</th>\n",
              "      <th>artistName</th>\n",
              "    </tr>\n",
              "  </thead>\n",
              "  <tbody>\n",
              "    <tr>\n",
              "      <th>0</th>\n",
              "      <td>2</td>\n",
              "      <td>13883.0</td>\n",
              "      <td>Duran Duran</td>\n",
              "    </tr>\n",
              "    <tr>\n",
              "      <th>13</th>\n",
              "      <td>4</td>\n",
              "      <td>228.0</td>\n",
              "      <td>Duran Duran</td>\n",
              "    </tr>\n",
              "    <tr>\n",
              "      <th>33</th>\n",
              "      <td>27</td>\n",
              "      <td>85.0</td>\n",
              "      <td>Duran Duran</td>\n",
              "    </tr>\n",
              "    <tr>\n",
              "      <th>37</th>\n",
              "      <td>28</td>\n",
              "      <td>10.0</td>\n",
              "      <td>Duran Duran</td>\n",
              "    </tr>\n",
              "    <tr>\n",
              "      <th>38</th>\n",
              "      <td>62</td>\n",
              "      <td>528.0</td>\n",
              "      <td>Duran Duran</td>\n",
              "    </tr>\n",
              "  </tbody>\n",
              "</table>\n",
              "</div>"
            ],
            "text/plain": [
              "    userID  artistWeight   artistName\n",
              "0        2       13883.0  Duran Duran\n",
              "13       4         228.0  Duran Duran\n",
              "33      27          85.0  Duran Duran\n",
              "37      28          10.0  Duran Duran\n",
              "38      62         528.0  Duran Duran"
            ]
          },
          "metadata": {
            "tags": []
          },
          "execution_count": 12
        }
      ]
    },
    {
      "cell_type": "markdown",
      "metadata": {
        "id": "QH45wXsGsSMN"
      },
      "source": [
        "#### Standardise the artistWeight column"
      ]
    },
    {
      "cell_type": "code",
      "metadata": {
        "id": "ObbLunG4U-cp",
        "colab": {
          "base_uri": "https://localhost:8080/"
        },
        "outputId": "ad3a853d-aa85-481e-ce2f-de95f50f3990"
      },
      "source": [
        "print(\"The 'artistWeight' column has a minimum value of {} and a amaximum value of {}\".format(round(min(subset_columns_df[\"artistWeight\"]), 3), round(max(subset_columns_df[\"artistWeight\"]), 3)))"
      ],
      "execution_count": null,
      "outputs": [
        {
          "output_type": "stream",
          "text": [
            "The 'artistWeight' column has a minimum value of 1.0 and a amaximum value of 352698.0\n"
          ],
          "name": "stdout"
        }
      ]
    },
    {
      "cell_type": "code",
      "metadata": {
        "id": "aHmKHcfAsYNE"
      },
      "source": [
        "normalised_df = subset_columns_df.copy()\r\n",
        "normalised_df[\"artistWeight\"] = (subset_columns_df[\"artistWeight\"] - subset_columns_df[\"artistWeight\"].mean()) / subset_columns_df[\"artistWeight\"].std()"
      ],
      "execution_count": null,
      "outputs": []
    },
    {
      "cell_type": "code",
      "metadata": {
        "colab": {
          "base_uri": "https://localhost:8080/"
        },
        "id": "IGK7Zo9itY9n",
        "outputId": "1505a108-3b6e-4aeb-a26a-de723d4575c5"
      },
      "source": [
        "print(\"The normalised 'artistWeight' column has a minimum value of {} and a amaximum value of {}\".format(round(min(normalised_df[\"artistWeight\"]), 3), round(max(normalised_df[\"artistWeight\"]), 3)))"
      ],
      "execution_count": null,
      "outputs": [
        {
          "output_type": "stream",
          "text": [
            "The normalised 'artistWeight' column has a minimum value of -0.198 and a amaximum value of 93.821\n"
          ],
          "name": "stdout"
        }
      ]
    },
    {
      "cell_type": "code",
      "metadata": {
        "colab": {
          "base_uri": "https://localhost:8080/",
          "height": 197
        },
        "id": "KY9YcaxLstLR",
        "outputId": "be750c89-cc86-4e93-d5cd-34066e1509c4"
      },
      "source": [
        "normalised_df.head()"
      ],
      "execution_count": null,
      "outputs": [
        {
          "output_type": "execute_result",
          "data": {
            "text/html": [
              "<div>\n",
              "<style scoped>\n",
              "    .dataframe tbody tr th:only-of-type {\n",
              "        vertical-align: middle;\n",
              "    }\n",
              "\n",
              "    .dataframe tbody tr th {\n",
              "        vertical-align: top;\n",
              "    }\n",
              "\n",
              "    .dataframe thead th {\n",
              "        text-align: right;\n",
              "    }\n",
              "</style>\n",
              "<table border=\"1\" class=\"dataframe\">\n",
              "  <thead>\n",
              "    <tr style=\"text-align: right;\">\n",
              "      <th></th>\n",
              "      <th>userID</th>\n",
              "      <th>artistWeight</th>\n",
              "      <th>artistName</th>\n",
              "    </tr>\n",
              "  </thead>\n",
              "  <tbody>\n",
              "    <tr>\n",
              "      <th>0</th>\n",
              "      <td>2</td>\n",
              "      <td>3.502167</td>\n",
              "      <td>Duran Duran</td>\n",
              "    </tr>\n",
              "    <tr>\n",
              "      <th>13</th>\n",
              "      <td>4</td>\n",
              "      <td>-0.137883</td>\n",
              "      <td>Duran Duran</td>\n",
              "    </tr>\n",
              "    <tr>\n",
              "      <th>33</th>\n",
              "      <td>27</td>\n",
              "      <td>-0.176003</td>\n",
              "      <td>Duran Duran</td>\n",
              "    </tr>\n",
              "    <tr>\n",
              "      <th>37</th>\n",
              "      <td>28</td>\n",
              "      <td>-0.195996</td>\n",
              "      <td>Duran Duran</td>\n",
              "    </tr>\n",
              "    <tr>\n",
              "      <th>38</th>\n",
              "      <td>62</td>\n",
              "      <td>-0.057911</td>\n",
              "      <td>Duran Duran</td>\n",
              "    </tr>\n",
              "  </tbody>\n",
              "</table>\n",
              "</div>"
            ],
            "text/plain": [
              "    userID  artistWeight   artistName\n",
              "0        2      3.502167  Duran Duran\n",
              "13       4     -0.137883  Duran Duran\n",
              "33      27     -0.176003  Duran Duran\n",
              "37      28     -0.195996  Duran Duran\n",
              "38      62     -0.057911  Duran Duran"
            ]
          },
          "metadata": {
            "tags": []
          },
          "execution_count": 16
        }
      ]
    },
    {
      "cell_type": "markdown",
      "metadata": {
        "id": "_f8IuDX9nUV8"
      },
      "source": [
        "#### Pivot the table to get the right format for clustering"
      ]
    },
    {
      "cell_type": "code",
      "metadata": {
        "id": "mW-sRJo8oAdq"
      },
      "source": [
        "pivoted_df = pd.pivot_table(normalised_df, values=\"artistWeight\", index=\"userID\", columns=\"artistName\")"
      ],
      "execution_count": null,
      "outputs": []
    },
    {
      "cell_type": "code",
      "metadata": {
        "colab": {
          "base_uri": "https://localhost:8080/"
        },
        "id": "_Z_UPvFDqt9S",
        "outputId": "6947f260-2924-40be-c046-969d472fc674"
      },
      "source": [
        "pivoted_df.shape"
      ],
      "execution_count": null,
      "outputs": [
        {
          "output_type": "execute_result",
          "data": {
            "text/plain": [
              "(1892, 17632)"
            ]
          },
          "metadata": {
            "tags": []
          },
          "execution_count": 18
        }
      ]
    },
    {
      "cell_type": "code",
      "metadata": {
        "colab": {
          "base_uri": "https://localhost:8080/",
          "height": 410
        },
        "id": "khJclh0jqvth",
        "outputId": "67986050-43d6-4ac6-ee01-27103aa975f6"
      },
      "source": [
        "pivoted_df.head()"
      ],
      "execution_count": null,
      "outputs": [
        {
          "output_type": "execute_result",
          "data": {
            "text/html": [
              "<div>\n",
              "<style scoped>\n",
              "    .dataframe tbody tr th:only-of-type {\n",
              "        vertical-align: middle;\n",
              "    }\n",
              "\n",
              "    .dataframe tbody tr th {\n",
              "        vertical-align: top;\n",
              "    }\n",
              "\n",
              "    .dataframe thead th {\n",
              "        text-align: right;\n",
              "    }\n",
              "</style>\n",
              "<table border=\"1\" class=\"dataframe\">\n",
              "  <thead>\n",
              "    <tr style=\"text-align: right;\">\n",
              "      <th>artistName</th>\n",
              "      <th>!!!</th>\n",
              "      <th>!DISTAIN</th>\n",
              "      <th>!deladap</th>\n",
              "      <th>#####</th>\n",
              "      <th>#2 Orchestra</th>\n",
              "      <th>$lick</th>\n",
              "      <th>$lick feat. Six-Fo</th>\n",
              "      <th>(1962-1966)</th>\n",
              "      <th>(Pre) Kingdom</th>\n",
              "      <th>(We Are) Performance</th>\n",
              "      <th>(hed) Planet Earth</th>\n",
              "      <th>(sic)monic</th>\n",
              "      <th>*NSYNC</th>\n",
              "      <th>+44</th>\n",
              "      <th>+\\-</th>\n",
              "      <th>-123 min.</th>\n",
              "      <th>-OZ-</th>\n",
              "      <th>-t de sangre</th>\n",
              "      <th>...And The Earth Swarmed With Them</th>\n",
              "      <th>...And You Will Know Us by the Trail of Dead</th>\n",
              "      <th>.38 Special</th>\n",
              "      <th>.crrust</th>\n",
              "      <th>06 Children Of The Cross</th>\n",
              "      <th>08001</th>\n",
              "      <th>1-800-ZOMBIE</th>\n",
              "      <th>10 Years</th>\n",
              "      <th>10-20 БЕЗ ВЫХОДНЫХ</th>\n",
              "      <th>100 Bitches</th>\n",
              "      <th>1000names</th>\n",
              "      <th>100DEADRABBITS!!!</th>\n",
              "      <th>100blumen</th>\n",
              "      <th>100dBs</th>\n",
              "      <th>10cc</th>\n",
              "      <th>11.43</th>\n",
              "      <th>110</th>\n",
              "      <th>112</th>\n",
              "      <th>1125</th>\n",
              "      <th>12 Rounds</th>\n",
              "      <th>12 Stones</th>\n",
              "      <th>120 Days</th>\n",
              "      <th>...</th>\n",
              "      <th>박정현</th>\n",
              "      <th>반야</th>\n",
              "      <th>배치기</th>\n",
              "      <th>백지영</th>\n",
              "      <th>비</th>\n",
              "      <th>빅뱅</th>\n",
              "      <th>샤이니</th>\n",
              "      <th>샤이니 (SHINee)</th>\n",
              "      <th>서태지</th>\n",
              "      <th>소녀시대</th>\n",
              "      <th>소녀시대 ＆ 2PM</th>\n",
              "      <th>손담비</th>\n",
              "      <th>송지은</th>\n",
              "      <th>승리</th>\n",
              "      <th>시크릿</th>\n",
              "      <th>신화</th>\n",
              "      <th>아웃사이더</th>\n",
              "      <th>아이비</th>\n",
              "      <th>애프터 스쿨(After School)</th>\n",
              "      <th>엠블랙(MBLAQ)</th>\n",
              "      <th>원더걸스</th>\n",
              "      <th>윤하</th>\n",
              "      <th>이박사</th>\n",
              "      <th>이수영(여)</th>\n",
              "      <th>이수영(여);</th>\n",
              "      <th>이정현</th>\n",
              "      <th>이효리</th>\n",
              "      <th>장근석</th>\n",
              "      <th>제빵왕</th>\n",
              "      <th>태양</th>\n",
              "      <th>티아라</th>\n",
              "      <th>현아</th>\n",
              "      <th>ＬｕＬｕ</th>\n",
              "      <th>ＭＡＮＮＥＱＵＩＮ</th>\n",
              "      <th>ＰＥＲＥＳＴＲＯＩＫＡ</th>\n",
              "      <th>ＲＥＤ</th>\n",
              "      <th>ＶａｎｅｓｓＡ</th>\n",
              "      <th>ｂｏｏｇｉｅｍａｎ</th>\n",
              "      <th>ｂｏｒｎ</th>\n",
              "      <th>ｍａｃｈｉｎｅ</th>\n",
              "    </tr>\n",
              "    <tr>\n",
              "      <th>userID</th>\n",
              "      <th></th>\n",
              "      <th></th>\n",
              "      <th></th>\n",
              "      <th></th>\n",
              "      <th></th>\n",
              "      <th></th>\n",
              "      <th></th>\n",
              "      <th></th>\n",
              "      <th></th>\n",
              "      <th></th>\n",
              "      <th></th>\n",
              "      <th></th>\n",
              "      <th></th>\n",
              "      <th></th>\n",
              "      <th></th>\n",
              "      <th></th>\n",
              "      <th></th>\n",
              "      <th></th>\n",
              "      <th></th>\n",
              "      <th></th>\n",
              "      <th></th>\n",
              "      <th></th>\n",
              "      <th></th>\n",
              "      <th></th>\n",
              "      <th></th>\n",
              "      <th></th>\n",
              "      <th></th>\n",
              "      <th></th>\n",
              "      <th></th>\n",
              "      <th></th>\n",
              "      <th></th>\n",
              "      <th></th>\n",
              "      <th></th>\n",
              "      <th></th>\n",
              "      <th></th>\n",
              "      <th></th>\n",
              "      <th></th>\n",
              "      <th></th>\n",
              "      <th></th>\n",
              "      <th></th>\n",
              "      <th></th>\n",
              "      <th></th>\n",
              "      <th></th>\n",
              "      <th></th>\n",
              "      <th></th>\n",
              "      <th></th>\n",
              "      <th></th>\n",
              "      <th></th>\n",
              "      <th></th>\n",
              "      <th></th>\n",
              "      <th></th>\n",
              "      <th></th>\n",
              "      <th></th>\n",
              "      <th></th>\n",
              "      <th></th>\n",
              "      <th></th>\n",
              "      <th></th>\n",
              "      <th></th>\n",
              "      <th></th>\n",
              "      <th></th>\n",
              "      <th></th>\n",
              "      <th></th>\n",
              "      <th></th>\n",
              "      <th></th>\n",
              "      <th></th>\n",
              "      <th></th>\n",
              "      <th></th>\n",
              "      <th></th>\n",
              "      <th></th>\n",
              "      <th></th>\n",
              "      <th></th>\n",
              "      <th></th>\n",
              "      <th></th>\n",
              "      <th></th>\n",
              "      <th></th>\n",
              "      <th></th>\n",
              "      <th></th>\n",
              "      <th></th>\n",
              "      <th></th>\n",
              "      <th></th>\n",
              "      <th></th>\n",
              "    </tr>\n",
              "  </thead>\n",
              "  <tbody>\n",
              "    <tr>\n",
              "      <th>2</th>\n",
              "      <td>NaN</td>\n",
              "      <td>NaN</td>\n",
              "      <td>NaN</td>\n",
              "      <td>NaN</td>\n",
              "      <td>NaN</td>\n",
              "      <td>NaN</td>\n",
              "      <td>NaN</td>\n",
              "      <td>NaN</td>\n",
              "      <td>NaN</td>\n",
              "      <td>NaN</td>\n",
              "      <td>NaN</td>\n",
              "      <td>NaN</td>\n",
              "      <td>NaN</td>\n",
              "      <td>NaN</td>\n",
              "      <td>NaN</td>\n",
              "      <td>NaN</td>\n",
              "      <td>NaN</td>\n",
              "      <td>NaN</td>\n",
              "      <td>NaN</td>\n",
              "      <td>NaN</td>\n",
              "      <td>NaN</td>\n",
              "      <td>NaN</td>\n",
              "      <td>NaN</td>\n",
              "      <td>NaN</td>\n",
              "      <td>NaN</td>\n",
              "      <td>NaN</td>\n",
              "      <td>NaN</td>\n",
              "      <td>NaN</td>\n",
              "      <td>NaN</td>\n",
              "      <td>NaN</td>\n",
              "      <td>NaN</td>\n",
              "      <td>NaN</td>\n",
              "      <td>NaN</td>\n",
              "      <td>NaN</td>\n",
              "      <td>NaN</td>\n",
              "      <td>NaN</td>\n",
              "      <td>NaN</td>\n",
              "      <td>NaN</td>\n",
              "      <td>NaN</td>\n",
              "      <td>NaN</td>\n",
              "      <td>...</td>\n",
              "      <td>NaN</td>\n",
              "      <td>NaN</td>\n",
              "      <td>NaN</td>\n",
              "      <td>NaN</td>\n",
              "      <td>NaN</td>\n",
              "      <td>NaN</td>\n",
              "      <td>NaN</td>\n",
              "      <td>NaN</td>\n",
              "      <td>NaN</td>\n",
              "      <td>NaN</td>\n",
              "      <td>NaN</td>\n",
              "      <td>NaN</td>\n",
              "      <td>NaN</td>\n",
              "      <td>NaN</td>\n",
              "      <td>NaN</td>\n",
              "      <td>NaN</td>\n",
              "      <td>NaN</td>\n",
              "      <td>NaN</td>\n",
              "      <td>NaN</td>\n",
              "      <td>NaN</td>\n",
              "      <td>NaN</td>\n",
              "      <td>NaN</td>\n",
              "      <td>NaN</td>\n",
              "      <td>NaN</td>\n",
              "      <td>NaN</td>\n",
              "      <td>NaN</td>\n",
              "      <td>NaN</td>\n",
              "      <td>NaN</td>\n",
              "      <td>NaN</td>\n",
              "      <td>NaN</td>\n",
              "      <td>NaN</td>\n",
              "      <td>NaN</td>\n",
              "      <td>NaN</td>\n",
              "      <td>NaN</td>\n",
              "      <td>NaN</td>\n",
              "      <td>NaN</td>\n",
              "      <td>NaN</td>\n",
              "      <td>NaN</td>\n",
              "      <td>NaN</td>\n",
              "      <td>NaN</td>\n",
              "    </tr>\n",
              "    <tr>\n",
              "      <th>3</th>\n",
              "      <td>NaN</td>\n",
              "      <td>NaN</td>\n",
              "      <td>NaN</td>\n",
              "      <td>NaN</td>\n",
              "      <td>NaN</td>\n",
              "      <td>NaN</td>\n",
              "      <td>NaN</td>\n",
              "      <td>NaN</td>\n",
              "      <td>NaN</td>\n",
              "      <td>NaN</td>\n",
              "      <td>NaN</td>\n",
              "      <td>NaN</td>\n",
              "      <td>NaN</td>\n",
              "      <td>NaN</td>\n",
              "      <td>NaN</td>\n",
              "      <td>NaN</td>\n",
              "      <td>NaN</td>\n",
              "      <td>NaN</td>\n",
              "      <td>NaN</td>\n",
              "      <td>NaN</td>\n",
              "      <td>NaN</td>\n",
              "      <td>NaN</td>\n",
              "      <td>NaN</td>\n",
              "      <td>NaN</td>\n",
              "      <td>NaN</td>\n",
              "      <td>NaN</td>\n",
              "      <td>NaN</td>\n",
              "      <td>NaN</td>\n",
              "      <td>NaN</td>\n",
              "      <td>NaN</td>\n",
              "      <td>NaN</td>\n",
              "      <td>NaN</td>\n",
              "      <td>NaN</td>\n",
              "      <td>NaN</td>\n",
              "      <td>NaN</td>\n",
              "      <td>NaN</td>\n",
              "      <td>NaN</td>\n",
              "      <td>NaN</td>\n",
              "      <td>NaN</td>\n",
              "      <td>NaN</td>\n",
              "      <td>...</td>\n",
              "      <td>NaN</td>\n",
              "      <td>NaN</td>\n",
              "      <td>NaN</td>\n",
              "      <td>NaN</td>\n",
              "      <td>NaN</td>\n",
              "      <td>NaN</td>\n",
              "      <td>NaN</td>\n",
              "      <td>NaN</td>\n",
              "      <td>NaN</td>\n",
              "      <td>NaN</td>\n",
              "      <td>NaN</td>\n",
              "      <td>NaN</td>\n",
              "      <td>NaN</td>\n",
              "      <td>NaN</td>\n",
              "      <td>NaN</td>\n",
              "      <td>NaN</td>\n",
              "      <td>NaN</td>\n",
              "      <td>NaN</td>\n",
              "      <td>NaN</td>\n",
              "      <td>NaN</td>\n",
              "      <td>NaN</td>\n",
              "      <td>NaN</td>\n",
              "      <td>NaN</td>\n",
              "      <td>NaN</td>\n",
              "      <td>NaN</td>\n",
              "      <td>NaN</td>\n",
              "      <td>NaN</td>\n",
              "      <td>NaN</td>\n",
              "      <td>NaN</td>\n",
              "      <td>NaN</td>\n",
              "      <td>NaN</td>\n",
              "      <td>NaN</td>\n",
              "      <td>NaN</td>\n",
              "      <td>NaN</td>\n",
              "      <td>NaN</td>\n",
              "      <td>NaN</td>\n",
              "      <td>NaN</td>\n",
              "      <td>NaN</td>\n",
              "      <td>NaN</td>\n",
              "      <td>NaN</td>\n",
              "    </tr>\n",
              "    <tr>\n",
              "      <th>4</th>\n",
              "      <td>NaN</td>\n",
              "      <td>NaN</td>\n",
              "      <td>NaN</td>\n",
              "      <td>NaN</td>\n",
              "      <td>NaN</td>\n",
              "      <td>NaN</td>\n",
              "      <td>NaN</td>\n",
              "      <td>NaN</td>\n",
              "      <td>NaN</td>\n",
              "      <td>NaN</td>\n",
              "      <td>NaN</td>\n",
              "      <td>NaN</td>\n",
              "      <td>NaN</td>\n",
              "      <td>NaN</td>\n",
              "      <td>NaN</td>\n",
              "      <td>NaN</td>\n",
              "      <td>NaN</td>\n",
              "      <td>NaN</td>\n",
              "      <td>NaN</td>\n",
              "      <td>NaN</td>\n",
              "      <td>NaN</td>\n",
              "      <td>NaN</td>\n",
              "      <td>NaN</td>\n",
              "      <td>NaN</td>\n",
              "      <td>NaN</td>\n",
              "      <td>NaN</td>\n",
              "      <td>NaN</td>\n",
              "      <td>NaN</td>\n",
              "      <td>NaN</td>\n",
              "      <td>NaN</td>\n",
              "      <td>NaN</td>\n",
              "      <td>NaN</td>\n",
              "      <td>NaN</td>\n",
              "      <td>NaN</td>\n",
              "      <td>NaN</td>\n",
              "      <td>NaN</td>\n",
              "      <td>NaN</td>\n",
              "      <td>NaN</td>\n",
              "      <td>NaN</td>\n",
              "      <td>NaN</td>\n",
              "      <td>...</td>\n",
              "      <td>NaN</td>\n",
              "      <td>NaN</td>\n",
              "      <td>NaN</td>\n",
              "      <td>NaN</td>\n",
              "      <td>NaN</td>\n",
              "      <td>NaN</td>\n",
              "      <td>NaN</td>\n",
              "      <td>NaN</td>\n",
              "      <td>NaN</td>\n",
              "      <td>NaN</td>\n",
              "      <td>NaN</td>\n",
              "      <td>NaN</td>\n",
              "      <td>NaN</td>\n",
              "      <td>NaN</td>\n",
              "      <td>NaN</td>\n",
              "      <td>NaN</td>\n",
              "      <td>NaN</td>\n",
              "      <td>NaN</td>\n",
              "      <td>NaN</td>\n",
              "      <td>NaN</td>\n",
              "      <td>NaN</td>\n",
              "      <td>NaN</td>\n",
              "      <td>NaN</td>\n",
              "      <td>NaN</td>\n",
              "      <td>NaN</td>\n",
              "      <td>NaN</td>\n",
              "      <td>NaN</td>\n",
              "      <td>NaN</td>\n",
              "      <td>NaN</td>\n",
              "      <td>NaN</td>\n",
              "      <td>NaN</td>\n",
              "      <td>NaN</td>\n",
              "      <td>NaN</td>\n",
              "      <td>NaN</td>\n",
              "      <td>NaN</td>\n",
              "      <td>NaN</td>\n",
              "      <td>NaN</td>\n",
              "      <td>NaN</td>\n",
              "      <td>NaN</td>\n",
              "      <td>NaN</td>\n",
              "    </tr>\n",
              "    <tr>\n",
              "      <th>5</th>\n",
              "      <td>NaN</td>\n",
              "      <td>NaN</td>\n",
              "      <td>NaN</td>\n",
              "      <td>NaN</td>\n",
              "      <td>NaN</td>\n",
              "      <td>NaN</td>\n",
              "      <td>NaN</td>\n",
              "      <td>NaN</td>\n",
              "      <td>NaN</td>\n",
              "      <td>NaN</td>\n",
              "      <td>NaN</td>\n",
              "      <td>NaN</td>\n",
              "      <td>NaN</td>\n",
              "      <td>NaN</td>\n",
              "      <td>NaN</td>\n",
              "      <td>NaN</td>\n",
              "      <td>NaN</td>\n",
              "      <td>NaN</td>\n",
              "      <td>NaN</td>\n",
              "      <td>NaN</td>\n",
              "      <td>NaN</td>\n",
              "      <td>NaN</td>\n",
              "      <td>NaN</td>\n",
              "      <td>NaN</td>\n",
              "      <td>NaN</td>\n",
              "      <td>NaN</td>\n",
              "      <td>NaN</td>\n",
              "      <td>NaN</td>\n",
              "      <td>NaN</td>\n",
              "      <td>NaN</td>\n",
              "      <td>NaN</td>\n",
              "      <td>NaN</td>\n",
              "      <td>NaN</td>\n",
              "      <td>NaN</td>\n",
              "      <td>NaN</td>\n",
              "      <td>NaN</td>\n",
              "      <td>NaN</td>\n",
              "      <td>NaN</td>\n",
              "      <td>NaN</td>\n",
              "      <td>NaN</td>\n",
              "      <td>...</td>\n",
              "      <td>NaN</td>\n",
              "      <td>NaN</td>\n",
              "      <td>NaN</td>\n",
              "      <td>NaN</td>\n",
              "      <td>NaN</td>\n",
              "      <td>NaN</td>\n",
              "      <td>NaN</td>\n",
              "      <td>NaN</td>\n",
              "      <td>NaN</td>\n",
              "      <td>NaN</td>\n",
              "      <td>NaN</td>\n",
              "      <td>NaN</td>\n",
              "      <td>NaN</td>\n",
              "      <td>NaN</td>\n",
              "      <td>NaN</td>\n",
              "      <td>NaN</td>\n",
              "      <td>NaN</td>\n",
              "      <td>NaN</td>\n",
              "      <td>NaN</td>\n",
              "      <td>NaN</td>\n",
              "      <td>NaN</td>\n",
              "      <td>NaN</td>\n",
              "      <td>NaN</td>\n",
              "      <td>NaN</td>\n",
              "      <td>NaN</td>\n",
              "      <td>NaN</td>\n",
              "      <td>NaN</td>\n",
              "      <td>NaN</td>\n",
              "      <td>NaN</td>\n",
              "      <td>NaN</td>\n",
              "      <td>NaN</td>\n",
              "      <td>NaN</td>\n",
              "      <td>NaN</td>\n",
              "      <td>NaN</td>\n",
              "      <td>NaN</td>\n",
              "      <td>NaN</td>\n",
              "      <td>NaN</td>\n",
              "      <td>NaN</td>\n",
              "      <td>NaN</td>\n",
              "      <td>NaN</td>\n",
              "    </tr>\n",
              "    <tr>\n",
              "      <th>6</th>\n",
              "      <td>NaN</td>\n",
              "      <td>NaN</td>\n",
              "      <td>NaN</td>\n",
              "      <td>NaN</td>\n",
              "      <td>NaN</td>\n",
              "      <td>NaN</td>\n",
              "      <td>NaN</td>\n",
              "      <td>NaN</td>\n",
              "      <td>NaN</td>\n",
              "      <td>NaN</td>\n",
              "      <td>NaN</td>\n",
              "      <td>NaN</td>\n",
              "      <td>NaN</td>\n",
              "      <td>NaN</td>\n",
              "      <td>NaN</td>\n",
              "      <td>NaN</td>\n",
              "      <td>NaN</td>\n",
              "      <td>NaN</td>\n",
              "      <td>NaN</td>\n",
              "      <td>NaN</td>\n",
              "      <td>NaN</td>\n",
              "      <td>NaN</td>\n",
              "      <td>NaN</td>\n",
              "      <td>NaN</td>\n",
              "      <td>NaN</td>\n",
              "      <td>NaN</td>\n",
              "      <td>NaN</td>\n",
              "      <td>NaN</td>\n",
              "      <td>NaN</td>\n",
              "      <td>NaN</td>\n",
              "      <td>NaN</td>\n",
              "      <td>NaN</td>\n",
              "      <td>NaN</td>\n",
              "      <td>NaN</td>\n",
              "      <td>NaN</td>\n",
              "      <td>NaN</td>\n",
              "      <td>NaN</td>\n",
              "      <td>NaN</td>\n",
              "      <td>NaN</td>\n",
              "      <td>NaN</td>\n",
              "      <td>...</td>\n",
              "      <td>NaN</td>\n",
              "      <td>NaN</td>\n",
              "      <td>NaN</td>\n",
              "      <td>NaN</td>\n",
              "      <td>NaN</td>\n",
              "      <td>NaN</td>\n",
              "      <td>NaN</td>\n",
              "      <td>NaN</td>\n",
              "      <td>NaN</td>\n",
              "      <td>NaN</td>\n",
              "      <td>NaN</td>\n",
              "      <td>NaN</td>\n",
              "      <td>NaN</td>\n",
              "      <td>NaN</td>\n",
              "      <td>NaN</td>\n",
              "      <td>NaN</td>\n",
              "      <td>NaN</td>\n",
              "      <td>NaN</td>\n",
              "      <td>NaN</td>\n",
              "      <td>NaN</td>\n",
              "      <td>NaN</td>\n",
              "      <td>NaN</td>\n",
              "      <td>NaN</td>\n",
              "      <td>NaN</td>\n",
              "      <td>NaN</td>\n",
              "      <td>NaN</td>\n",
              "      <td>NaN</td>\n",
              "      <td>NaN</td>\n",
              "      <td>NaN</td>\n",
              "      <td>NaN</td>\n",
              "      <td>NaN</td>\n",
              "      <td>NaN</td>\n",
              "      <td>NaN</td>\n",
              "      <td>NaN</td>\n",
              "      <td>NaN</td>\n",
              "      <td>NaN</td>\n",
              "      <td>NaN</td>\n",
              "      <td>NaN</td>\n",
              "      <td>NaN</td>\n",
              "      <td>NaN</td>\n",
              "    </tr>\n",
              "  </tbody>\n",
              "</table>\n",
              "<p>5 rows × 17632 columns</p>\n",
              "</div>"
            ],
            "text/plain": [
              "artistName  !!!  !DISTAIN  !deladap  #####  ...  ＶａｎｅｓｓＡ  ｂｏｏｇｉｅｍａｎ  ｂｏｒｎ  ｍａｃｈｉｎｅ\n",
              "userID                                      ...                                   \n",
              "2           NaN       NaN       NaN    NaN  ...      NaN        NaN   NaN      NaN\n",
              "3           NaN       NaN       NaN    NaN  ...      NaN        NaN   NaN      NaN\n",
              "4           NaN       NaN       NaN    NaN  ...      NaN        NaN   NaN      NaN\n",
              "5           NaN       NaN       NaN    NaN  ...      NaN        NaN   NaN      NaN\n",
              "6           NaN       NaN       NaN    NaN  ...      NaN        NaN   NaN      NaN\n",
              "\n",
              "[5 rows x 17632 columns]"
            ]
          },
          "metadata": {
            "tags": []
          },
          "execution_count": 19
        }
      ]
    },
    {
      "cell_type": "markdown",
      "metadata": {
        "id": "yzzthRuznBiE"
      },
      "source": [
        "#### Replace the 'Nan' values"
      ]
    },
    {
      "cell_type": "code",
      "metadata": {
        "id": "rq4T14m_nfwZ"
      },
      "source": [
        "cluster_df = pivoted_df.replace(float(\"nan\"), -0.5)"
      ],
      "execution_count": null,
      "outputs": []
    },
    {
      "cell_type": "code",
      "metadata": {
        "colab": {
          "base_uri": "https://localhost:8080/",
          "height": 443
        },
        "id": "g4dMOsAvoKG3",
        "outputId": "aa5c88c4-bd79-4701-c081-32968aae1732"
      },
      "source": [
        "cluster_df.head()"
      ],
      "execution_count": null,
      "outputs": [
        {
          "output_type": "execute_result",
          "data": {
            "text/html": [
              "<div>\n",
              "<style scoped>\n",
              "    .dataframe tbody tr th:only-of-type {\n",
              "        vertical-align: middle;\n",
              "    }\n",
              "\n",
              "    .dataframe tbody tr th {\n",
              "        vertical-align: top;\n",
              "    }\n",
              "\n",
              "    .dataframe thead th {\n",
              "        text-align: right;\n",
              "    }\n",
              "</style>\n",
              "<table border=\"1\" class=\"dataframe\">\n",
              "  <thead>\n",
              "    <tr style=\"text-align: right;\">\n",
              "      <th>artistName</th>\n",
              "      <th>!!!</th>\n",
              "      <th>!DISTAIN</th>\n",
              "      <th>!deladap</th>\n",
              "      <th>#####</th>\n",
              "      <th>#2 Orchestra</th>\n",
              "      <th>$lick</th>\n",
              "      <th>$lick feat. Six-Fo</th>\n",
              "      <th>(1962-1966)</th>\n",
              "      <th>(Pre) Kingdom</th>\n",
              "      <th>(We Are) Performance</th>\n",
              "      <th>(hed) Planet Earth</th>\n",
              "      <th>(sic)monic</th>\n",
              "      <th>*NSYNC</th>\n",
              "      <th>+44</th>\n",
              "      <th>+\\-</th>\n",
              "      <th>-123 min.</th>\n",
              "      <th>-OZ-</th>\n",
              "      <th>-t de sangre</th>\n",
              "      <th>...And The Earth Swarmed With Them</th>\n",
              "      <th>...And You Will Know Us by the Trail of Dead</th>\n",
              "      <th>.38 Special</th>\n",
              "      <th>.crrust</th>\n",
              "      <th>06 Children Of The Cross</th>\n",
              "      <th>08001</th>\n",
              "      <th>1-800-ZOMBIE</th>\n",
              "      <th>10 Years</th>\n",
              "      <th>10-20 БЕЗ ВЫХОДНЫХ</th>\n",
              "      <th>100 Bitches</th>\n",
              "      <th>1000names</th>\n",
              "      <th>100DEADRABBITS!!!</th>\n",
              "      <th>100blumen</th>\n",
              "      <th>100dBs</th>\n",
              "      <th>10cc</th>\n",
              "      <th>11.43</th>\n",
              "      <th>110</th>\n",
              "      <th>112</th>\n",
              "      <th>1125</th>\n",
              "      <th>12 Rounds</th>\n",
              "      <th>12 Stones</th>\n",
              "      <th>120 Days</th>\n",
              "      <th>...</th>\n",
              "      <th>박정현</th>\n",
              "      <th>반야</th>\n",
              "      <th>배치기</th>\n",
              "      <th>백지영</th>\n",
              "      <th>비</th>\n",
              "      <th>빅뱅</th>\n",
              "      <th>샤이니</th>\n",
              "      <th>샤이니 (SHINee)</th>\n",
              "      <th>서태지</th>\n",
              "      <th>소녀시대</th>\n",
              "      <th>소녀시대 ＆ 2PM</th>\n",
              "      <th>손담비</th>\n",
              "      <th>송지은</th>\n",
              "      <th>승리</th>\n",
              "      <th>시크릿</th>\n",
              "      <th>신화</th>\n",
              "      <th>아웃사이더</th>\n",
              "      <th>아이비</th>\n",
              "      <th>애프터 스쿨(After School)</th>\n",
              "      <th>엠블랙(MBLAQ)</th>\n",
              "      <th>원더걸스</th>\n",
              "      <th>윤하</th>\n",
              "      <th>이박사</th>\n",
              "      <th>이수영(여)</th>\n",
              "      <th>이수영(여);</th>\n",
              "      <th>이정현</th>\n",
              "      <th>이효리</th>\n",
              "      <th>장근석</th>\n",
              "      <th>제빵왕</th>\n",
              "      <th>태양</th>\n",
              "      <th>티아라</th>\n",
              "      <th>현아</th>\n",
              "      <th>ＬｕＬｕ</th>\n",
              "      <th>ＭＡＮＮＥＱＵＩＮ</th>\n",
              "      <th>ＰＥＲＥＳＴＲＯＩＫＡ</th>\n",
              "      <th>ＲＥＤ</th>\n",
              "      <th>ＶａｎｅｓｓＡ</th>\n",
              "      <th>ｂｏｏｇｉｅｍａｎ</th>\n",
              "      <th>ｂｏｒｎ</th>\n",
              "      <th>ｍａｃｈｉｎｅ</th>\n",
              "    </tr>\n",
              "    <tr>\n",
              "      <th>userID</th>\n",
              "      <th></th>\n",
              "      <th></th>\n",
              "      <th></th>\n",
              "      <th></th>\n",
              "      <th></th>\n",
              "      <th></th>\n",
              "      <th></th>\n",
              "      <th></th>\n",
              "      <th></th>\n",
              "      <th></th>\n",
              "      <th></th>\n",
              "      <th></th>\n",
              "      <th></th>\n",
              "      <th></th>\n",
              "      <th></th>\n",
              "      <th></th>\n",
              "      <th></th>\n",
              "      <th></th>\n",
              "      <th></th>\n",
              "      <th></th>\n",
              "      <th></th>\n",
              "      <th></th>\n",
              "      <th></th>\n",
              "      <th></th>\n",
              "      <th></th>\n",
              "      <th></th>\n",
              "      <th></th>\n",
              "      <th></th>\n",
              "      <th></th>\n",
              "      <th></th>\n",
              "      <th></th>\n",
              "      <th></th>\n",
              "      <th></th>\n",
              "      <th></th>\n",
              "      <th></th>\n",
              "      <th></th>\n",
              "      <th></th>\n",
              "      <th></th>\n",
              "      <th></th>\n",
              "      <th></th>\n",
              "      <th></th>\n",
              "      <th></th>\n",
              "      <th></th>\n",
              "      <th></th>\n",
              "      <th></th>\n",
              "      <th></th>\n",
              "      <th></th>\n",
              "      <th></th>\n",
              "      <th></th>\n",
              "      <th></th>\n",
              "      <th></th>\n",
              "      <th></th>\n",
              "      <th></th>\n",
              "      <th></th>\n",
              "      <th></th>\n",
              "      <th></th>\n",
              "      <th></th>\n",
              "      <th></th>\n",
              "      <th></th>\n",
              "      <th></th>\n",
              "      <th></th>\n",
              "      <th></th>\n",
              "      <th></th>\n",
              "      <th></th>\n",
              "      <th></th>\n",
              "      <th></th>\n",
              "      <th></th>\n",
              "      <th></th>\n",
              "      <th></th>\n",
              "      <th></th>\n",
              "      <th></th>\n",
              "      <th></th>\n",
              "      <th></th>\n",
              "      <th></th>\n",
              "      <th></th>\n",
              "      <th></th>\n",
              "      <th></th>\n",
              "      <th></th>\n",
              "      <th></th>\n",
              "      <th></th>\n",
              "      <th></th>\n",
              "    </tr>\n",
              "  </thead>\n",
              "  <tbody>\n",
              "    <tr>\n",
              "      <th>2</th>\n",
              "      <td>-0.5</td>\n",
              "      <td>-0.5</td>\n",
              "      <td>-0.5</td>\n",
              "      <td>-0.5</td>\n",
              "      <td>-0.5</td>\n",
              "      <td>-0.5</td>\n",
              "      <td>-0.5</td>\n",
              "      <td>-0.5</td>\n",
              "      <td>-0.5</td>\n",
              "      <td>-0.5</td>\n",
              "      <td>-0.5</td>\n",
              "      <td>-0.5</td>\n",
              "      <td>-0.5</td>\n",
              "      <td>-0.5</td>\n",
              "      <td>-0.5</td>\n",
              "      <td>-0.5</td>\n",
              "      <td>-0.5</td>\n",
              "      <td>-0.5</td>\n",
              "      <td>-0.5</td>\n",
              "      <td>-0.5</td>\n",
              "      <td>-0.5</td>\n",
              "      <td>-0.5</td>\n",
              "      <td>-0.5</td>\n",
              "      <td>-0.5</td>\n",
              "      <td>-0.5</td>\n",
              "      <td>-0.5</td>\n",
              "      <td>-0.5</td>\n",
              "      <td>-0.5</td>\n",
              "      <td>-0.5</td>\n",
              "      <td>-0.5</td>\n",
              "      <td>-0.5</td>\n",
              "      <td>-0.5</td>\n",
              "      <td>-0.5</td>\n",
              "      <td>-0.5</td>\n",
              "      <td>-0.5</td>\n",
              "      <td>-0.5</td>\n",
              "      <td>-0.5</td>\n",
              "      <td>-0.5</td>\n",
              "      <td>-0.5</td>\n",
              "      <td>-0.5</td>\n",
              "      <td>...</td>\n",
              "      <td>-0.5</td>\n",
              "      <td>-0.5</td>\n",
              "      <td>-0.5</td>\n",
              "      <td>-0.5</td>\n",
              "      <td>-0.5</td>\n",
              "      <td>-0.5</td>\n",
              "      <td>-0.5</td>\n",
              "      <td>-0.5</td>\n",
              "      <td>-0.5</td>\n",
              "      <td>-0.5</td>\n",
              "      <td>-0.5</td>\n",
              "      <td>-0.5</td>\n",
              "      <td>-0.5</td>\n",
              "      <td>-0.5</td>\n",
              "      <td>-0.5</td>\n",
              "      <td>-0.5</td>\n",
              "      <td>-0.5</td>\n",
              "      <td>-0.5</td>\n",
              "      <td>-0.5</td>\n",
              "      <td>-0.5</td>\n",
              "      <td>-0.5</td>\n",
              "      <td>-0.5</td>\n",
              "      <td>-0.5</td>\n",
              "      <td>-0.5</td>\n",
              "      <td>-0.5</td>\n",
              "      <td>-0.5</td>\n",
              "      <td>-0.5</td>\n",
              "      <td>-0.5</td>\n",
              "      <td>-0.5</td>\n",
              "      <td>-0.5</td>\n",
              "      <td>-0.5</td>\n",
              "      <td>-0.5</td>\n",
              "      <td>-0.5</td>\n",
              "      <td>-0.5</td>\n",
              "      <td>-0.5</td>\n",
              "      <td>-0.5</td>\n",
              "      <td>-0.5</td>\n",
              "      <td>-0.5</td>\n",
              "      <td>-0.5</td>\n",
              "      <td>-0.5</td>\n",
              "    </tr>\n",
              "    <tr>\n",
              "      <th>3</th>\n",
              "      <td>-0.5</td>\n",
              "      <td>-0.5</td>\n",
              "      <td>-0.5</td>\n",
              "      <td>-0.5</td>\n",
              "      <td>-0.5</td>\n",
              "      <td>-0.5</td>\n",
              "      <td>-0.5</td>\n",
              "      <td>-0.5</td>\n",
              "      <td>-0.5</td>\n",
              "      <td>-0.5</td>\n",
              "      <td>-0.5</td>\n",
              "      <td>-0.5</td>\n",
              "      <td>-0.5</td>\n",
              "      <td>-0.5</td>\n",
              "      <td>-0.5</td>\n",
              "      <td>-0.5</td>\n",
              "      <td>-0.5</td>\n",
              "      <td>-0.5</td>\n",
              "      <td>-0.5</td>\n",
              "      <td>-0.5</td>\n",
              "      <td>-0.5</td>\n",
              "      <td>-0.5</td>\n",
              "      <td>-0.5</td>\n",
              "      <td>-0.5</td>\n",
              "      <td>-0.5</td>\n",
              "      <td>-0.5</td>\n",
              "      <td>-0.5</td>\n",
              "      <td>-0.5</td>\n",
              "      <td>-0.5</td>\n",
              "      <td>-0.5</td>\n",
              "      <td>-0.5</td>\n",
              "      <td>-0.5</td>\n",
              "      <td>-0.5</td>\n",
              "      <td>-0.5</td>\n",
              "      <td>-0.5</td>\n",
              "      <td>-0.5</td>\n",
              "      <td>-0.5</td>\n",
              "      <td>-0.5</td>\n",
              "      <td>-0.5</td>\n",
              "      <td>-0.5</td>\n",
              "      <td>...</td>\n",
              "      <td>-0.5</td>\n",
              "      <td>-0.5</td>\n",
              "      <td>-0.5</td>\n",
              "      <td>-0.5</td>\n",
              "      <td>-0.5</td>\n",
              "      <td>-0.5</td>\n",
              "      <td>-0.5</td>\n",
              "      <td>-0.5</td>\n",
              "      <td>-0.5</td>\n",
              "      <td>-0.5</td>\n",
              "      <td>-0.5</td>\n",
              "      <td>-0.5</td>\n",
              "      <td>-0.5</td>\n",
              "      <td>-0.5</td>\n",
              "      <td>-0.5</td>\n",
              "      <td>-0.5</td>\n",
              "      <td>-0.5</td>\n",
              "      <td>-0.5</td>\n",
              "      <td>-0.5</td>\n",
              "      <td>-0.5</td>\n",
              "      <td>-0.5</td>\n",
              "      <td>-0.5</td>\n",
              "      <td>-0.5</td>\n",
              "      <td>-0.5</td>\n",
              "      <td>-0.5</td>\n",
              "      <td>-0.5</td>\n",
              "      <td>-0.5</td>\n",
              "      <td>-0.5</td>\n",
              "      <td>-0.5</td>\n",
              "      <td>-0.5</td>\n",
              "      <td>-0.5</td>\n",
              "      <td>-0.5</td>\n",
              "      <td>-0.5</td>\n",
              "      <td>-0.5</td>\n",
              "      <td>-0.5</td>\n",
              "      <td>-0.5</td>\n",
              "      <td>-0.5</td>\n",
              "      <td>-0.5</td>\n",
              "      <td>-0.5</td>\n",
              "      <td>-0.5</td>\n",
              "    </tr>\n",
              "    <tr>\n",
              "      <th>4</th>\n",
              "      <td>-0.5</td>\n",
              "      <td>-0.5</td>\n",
              "      <td>-0.5</td>\n",
              "      <td>-0.5</td>\n",
              "      <td>-0.5</td>\n",
              "      <td>-0.5</td>\n",
              "      <td>-0.5</td>\n",
              "      <td>-0.5</td>\n",
              "      <td>-0.5</td>\n",
              "      <td>-0.5</td>\n",
              "      <td>-0.5</td>\n",
              "      <td>-0.5</td>\n",
              "      <td>-0.5</td>\n",
              "      <td>-0.5</td>\n",
              "      <td>-0.5</td>\n",
              "      <td>-0.5</td>\n",
              "      <td>-0.5</td>\n",
              "      <td>-0.5</td>\n",
              "      <td>-0.5</td>\n",
              "      <td>-0.5</td>\n",
              "      <td>-0.5</td>\n",
              "      <td>-0.5</td>\n",
              "      <td>-0.5</td>\n",
              "      <td>-0.5</td>\n",
              "      <td>-0.5</td>\n",
              "      <td>-0.5</td>\n",
              "      <td>-0.5</td>\n",
              "      <td>-0.5</td>\n",
              "      <td>-0.5</td>\n",
              "      <td>-0.5</td>\n",
              "      <td>-0.5</td>\n",
              "      <td>-0.5</td>\n",
              "      <td>-0.5</td>\n",
              "      <td>-0.5</td>\n",
              "      <td>-0.5</td>\n",
              "      <td>-0.5</td>\n",
              "      <td>-0.5</td>\n",
              "      <td>-0.5</td>\n",
              "      <td>-0.5</td>\n",
              "      <td>-0.5</td>\n",
              "      <td>...</td>\n",
              "      <td>-0.5</td>\n",
              "      <td>-0.5</td>\n",
              "      <td>-0.5</td>\n",
              "      <td>-0.5</td>\n",
              "      <td>-0.5</td>\n",
              "      <td>-0.5</td>\n",
              "      <td>-0.5</td>\n",
              "      <td>-0.5</td>\n",
              "      <td>-0.5</td>\n",
              "      <td>-0.5</td>\n",
              "      <td>-0.5</td>\n",
              "      <td>-0.5</td>\n",
              "      <td>-0.5</td>\n",
              "      <td>-0.5</td>\n",
              "      <td>-0.5</td>\n",
              "      <td>-0.5</td>\n",
              "      <td>-0.5</td>\n",
              "      <td>-0.5</td>\n",
              "      <td>-0.5</td>\n",
              "      <td>-0.5</td>\n",
              "      <td>-0.5</td>\n",
              "      <td>-0.5</td>\n",
              "      <td>-0.5</td>\n",
              "      <td>-0.5</td>\n",
              "      <td>-0.5</td>\n",
              "      <td>-0.5</td>\n",
              "      <td>-0.5</td>\n",
              "      <td>-0.5</td>\n",
              "      <td>-0.5</td>\n",
              "      <td>-0.5</td>\n",
              "      <td>-0.5</td>\n",
              "      <td>-0.5</td>\n",
              "      <td>-0.5</td>\n",
              "      <td>-0.5</td>\n",
              "      <td>-0.5</td>\n",
              "      <td>-0.5</td>\n",
              "      <td>-0.5</td>\n",
              "      <td>-0.5</td>\n",
              "      <td>-0.5</td>\n",
              "      <td>-0.5</td>\n",
              "    </tr>\n",
              "    <tr>\n",
              "      <th>5</th>\n",
              "      <td>-0.5</td>\n",
              "      <td>-0.5</td>\n",
              "      <td>-0.5</td>\n",
              "      <td>-0.5</td>\n",
              "      <td>-0.5</td>\n",
              "      <td>-0.5</td>\n",
              "      <td>-0.5</td>\n",
              "      <td>-0.5</td>\n",
              "      <td>-0.5</td>\n",
              "      <td>-0.5</td>\n",
              "      <td>-0.5</td>\n",
              "      <td>-0.5</td>\n",
              "      <td>-0.5</td>\n",
              "      <td>-0.5</td>\n",
              "      <td>-0.5</td>\n",
              "      <td>-0.5</td>\n",
              "      <td>-0.5</td>\n",
              "      <td>-0.5</td>\n",
              "      <td>-0.5</td>\n",
              "      <td>-0.5</td>\n",
              "      <td>-0.5</td>\n",
              "      <td>-0.5</td>\n",
              "      <td>-0.5</td>\n",
              "      <td>-0.5</td>\n",
              "      <td>-0.5</td>\n",
              "      <td>-0.5</td>\n",
              "      <td>-0.5</td>\n",
              "      <td>-0.5</td>\n",
              "      <td>-0.5</td>\n",
              "      <td>-0.5</td>\n",
              "      <td>-0.5</td>\n",
              "      <td>-0.5</td>\n",
              "      <td>-0.5</td>\n",
              "      <td>-0.5</td>\n",
              "      <td>-0.5</td>\n",
              "      <td>-0.5</td>\n",
              "      <td>-0.5</td>\n",
              "      <td>-0.5</td>\n",
              "      <td>-0.5</td>\n",
              "      <td>-0.5</td>\n",
              "      <td>...</td>\n",
              "      <td>-0.5</td>\n",
              "      <td>-0.5</td>\n",
              "      <td>-0.5</td>\n",
              "      <td>-0.5</td>\n",
              "      <td>-0.5</td>\n",
              "      <td>-0.5</td>\n",
              "      <td>-0.5</td>\n",
              "      <td>-0.5</td>\n",
              "      <td>-0.5</td>\n",
              "      <td>-0.5</td>\n",
              "      <td>-0.5</td>\n",
              "      <td>-0.5</td>\n",
              "      <td>-0.5</td>\n",
              "      <td>-0.5</td>\n",
              "      <td>-0.5</td>\n",
              "      <td>-0.5</td>\n",
              "      <td>-0.5</td>\n",
              "      <td>-0.5</td>\n",
              "      <td>-0.5</td>\n",
              "      <td>-0.5</td>\n",
              "      <td>-0.5</td>\n",
              "      <td>-0.5</td>\n",
              "      <td>-0.5</td>\n",
              "      <td>-0.5</td>\n",
              "      <td>-0.5</td>\n",
              "      <td>-0.5</td>\n",
              "      <td>-0.5</td>\n",
              "      <td>-0.5</td>\n",
              "      <td>-0.5</td>\n",
              "      <td>-0.5</td>\n",
              "      <td>-0.5</td>\n",
              "      <td>-0.5</td>\n",
              "      <td>-0.5</td>\n",
              "      <td>-0.5</td>\n",
              "      <td>-0.5</td>\n",
              "      <td>-0.5</td>\n",
              "      <td>-0.5</td>\n",
              "      <td>-0.5</td>\n",
              "      <td>-0.5</td>\n",
              "      <td>-0.5</td>\n",
              "    </tr>\n",
              "    <tr>\n",
              "      <th>6</th>\n",
              "      <td>-0.5</td>\n",
              "      <td>-0.5</td>\n",
              "      <td>-0.5</td>\n",
              "      <td>-0.5</td>\n",
              "      <td>-0.5</td>\n",
              "      <td>-0.5</td>\n",
              "      <td>-0.5</td>\n",
              "      <td>-0.5</td>\n",
              "      <td>-0.5</td>\n",
              "      <td>-0.5</td>\n",
              "      <td>-0.5</td>\n",
              "      <td>-0.5</td>\n",
              "      <td>-0.5</td>\n",
              "      <td>-0.5</td>\n",
              "      <td>-0.5</td>\n",
              "      <td>-0.5</td>\n",
              "      <td>-0.5</td>\n",
              "      <td>-0.5</td>\n",
              "      <td>-0.5</td>\n",
              "      <td>-0.5</td>\n",
              "      <td>-0.5</td>\n",
              "      <td>-0.5</td>\n",
              "      <td>-0.5</td>\n",
              "      <td>-0.5</td>\n",
              "      <td>-0.5</td>\n",
              "      <td>-0.5</td>\n",
              "      <td>-0.5</td>\n",
              "      <td>-0.5</td>\n",
              "      <td>-0.5</td>\n",
              "      <td>-0.5</td>\n",
              "      <td>-0.5</td>\n",
              "      <td>-0.5</td>\n",
              "      <td>-0.5</td>\n",
              "      <td>-0.5</td>\n",
              "      <td>-0.5</td>\n",
              "      <td>-0.5</td>\n",
              "      <td>-0.5</td>\n",
              "      <td>-0.5</td>\n",
              "      <td>-0.5</td>\n",
              "      <td>-0.5</td>\n",
              "      <td>...</td>\n",
              "      <td>-0.5</td>\n",
              "      <td>-0.5</td>\n",
              "      <td>-0.5</td>\n",
              "      <td>-0.5</td>\n",
              "      <td>-0.5</td>\n",
              "      <td>-0.5</td>\n",
              "      <td>-0.5</td>\n",
              "      <td>-0.5</td>\n",
              "      <td>-0.5</td>\n",
              "      <td>-0.5</td>\n",
              "      <td>-0.5</td>\n",
              "      <td>-0.5</td>\n",
              "      <td>-0.5</td>\n",
              "      <td>-0.5</td>\n",
              "      <td>-0.5</td>\n",
              "      <td>-0.5</td>\n",
              "      <td>-0.5</td>\n",
              "      <td>-0.5</td>\n",
              "      <td>-0.5</td>\n",
              "      <td>-0.5</td>\n",
              "      <td>-0.5</td>\n",
              "      <td>-0.5</td>\n",
              "      <td>-0.5</td>\n",
              "      <td>-0.5</td>\n",
              "      <td>-0.5</td>\n",
              "      <td>-0.5</td>\n",
              "      <td>-0.5</td>\n",
              "      <td>-0.5</td>\n",
              "      <td>-0.5</td>\n",
              "      <td>-0.5</td>\n",
              "      <td>-0.5</td>\n",
              "      <td>-0.5</td>\n",
              "      <td>-0.5</td>\n",
              "      <td>-0.5</td>\n",
              "      <td>-0.5</td>\n",
              "      <td>-0.5</td>\n",
              "      <td>-0.5</td>\n",
              "      <td>-0.5</td>\n",
              "      <td>-0.5</td>\n",
              "      <td>-0.5</td>\n",
              "    </tr>\n",
              "  </tbody>\n",
              "</table>\n",
              "<p>5 rows × 17632 columns</p>\n",
              "</div>"
            ],
            "text/plain": [
              "artistName  !!!  !DISTAIN  !deladap  #####  ...  ＶａｎｅｓｓＡ  ｂｏｏｇｉｅｍａｎ  ｂｏｒｎ  ｍａｃｈｉｎｅ\n",
              "userID                                      ...                                   \n",
              "2          -0.5      -0.5      -0.5   -0.5  ...     -0.5       -0.5  -0.5     -0.5\n",
              "3          -0.5      -0.5      -0.5   -0.5  ...     -0.5       -0.5  -0.5     -0.5\n",
              "4          -0.5      -0.5      -0.5   -0.5  ...     -0.5       -0.5  -0.5     -0.5\n",
              "5          -0.5      -0.5      -0.5   -0.5  ...     -0.5       -0.5  -0.5     -0.5\n",
              "6          -0.5      -0.5      -0.5   -0.5  ...     -0.5       -0.5  -0.5     -0.5\n",
              "\n",
              "[5 rows x 17632 columns]"
            ]
          },
          "metadata": {
            "tags": []
          },
          "execution_count": 21
        }
      ]
    },
    {
      "cell_type": "markdown",
      "metadata": {
        "id": "kx0LlgVthxzv"
      },
      "source": [
        "---\r\n",
        "---\r\n",
        "\r\n",
        "# 3. Experiment with the number of clusters\r\n",
        "\r\n",
        "---\r\n",
        "---"
      ]
    },
    {
      "cell_type": "markdown",
      "metadata": {
        "id": "JRrpDHkCicRq"
      },
      "source": [
        "Our approach with this recommender system is to cluster the users into similar groups based on the artists they listen to and then to recommend artists to a user based on these clusters.\r\n",
        "\r\n",
        "For this to work however, we must first find the optimal number of clusters.\r\n",
        "We want to find a number small enough that all of a given user's music preferences can be tailored to and that each cluster isn't just a small subset of music. However, we also want to have the number of clusters big enough that there is not too much variation within the clusters. If there was too few clusters, that means a lot of different musical tastes are being captured by the same cluster.\r\n",
        "\r\n",
        "As a result, we must test out a few different algorithms and cluster numbers to see if we can pinpoint the optimal configuration."
      ]
    },
    {
      "cell_type": "markdown",
      "metadata": {
        "id": "KGtwNAKOiQjR"
      },
      "source": [
        "#### Create the functions for this experimentation"
      ]
    },
    {
      "cell_type": "markdown",
      "metadata": {
        "id": "r_hlQlfmLkSi"
      },
      "source": [
        "This code was taken directly from Nathan's Assignment 1. This code was perfect for experimenting with different algorithms and displaying the optimal number of clusters"
      ]
    },
    {
      "cell_type": "code",
      "metadata": {
        "id": "GtdNqprms8v6"
      },
      "source": [
        "def get_silhouette_scores_list(scaled_train_df, model_function, num_clusters_to_iter, random_seed_val, affinity_value=None):\r\n",
        "    \r\n",
        "    # Initialise empty list for the Silhouette Scores for KMeans model\r\n",
        "    s_scores = []\r\n",
        "\r\n",
        "    # Running algorithm and calculating Silhouette Score\r\n",
        "    for k in tqdm(num_clusters_to_iter):\r\n",
        "\r\n",
        "        # Building the clustering model\r\n",
        "        if affinity_value:\r\n",
        "            model = model_function(n_clusters = k, random_state = random_seed_val, affinity = affinity_value)\r\n",
        "            \r\n",
        "        else:\r\n",
        "            model = model_function(n_clusters = k, random_state = random_seed_val)\r\n",
        "        \r\n",
        "        # Training the model and storing the predicted cluster labels\r\n",
        "        labels = model.fit_predict(scaled_train_df)\r\n",
        "\r\n",
        "        # Evaluating the performance and adding score to list\r\n",
        "        s_scores.append(silhouette_score(scaled_train_df, labels))\r\n",
        "\r\n",
        "    return s_scores"
      ],
      "execution_count": null,
      "outputs": []
    },
    {
      "cell_type": "code",
      "metadata": {
        "id": "XkajMpKes80s"
      },
      "source": [
        "def analyse_silhouette_scores_to_get_optimal_cluster_number(silhouette_score_list, num_clusters_to_iter):\r\n",
        "\r\n",
        "    # Analyse these results to see the optimal cluster number\r\n",
        "    max_silhouette_score = max(silhouette_score_list)\r\n",
        "    index_max_score = silhouette_score_list.index(max_silhouette_score)\r\n",
        "\r\n",
        "    print(\"The maximum Silhouette Score was\", max_silhouette_score)\r\n",
        "    print(\"This score is achieved by running\", num_clusters_to_iter[index_max_score], \"clusters\")\r\n",
        "\r\n",
        "    # plot the silhoutte scores against the cluster numbers\r\n",
        "    plt.plot(num_clusters_to_iter, silhouette_score_list, 'bx-')\r\n",
        "    plt.xlabel('# Clusters')\r\n",
        "    plt.ylabel('Silhouette Score')\r\n",
        "    plt.title('Silhouette scores for the model accross a different number of clusters')\r\n",
        "    plt.show()\r\n",
        "\r\n",
        "    # Output a table of the score for each cluster\r\n",
        "    cluster_nd_score_df = pd.DataFrame(silhouette_score_list, index=num_clusters_to_iter).rename(columns={0: \"Silhouette Score\"})\r\n",
        "    cluster_nd_score_df.index.name = \"# Clusters\"\r\n",
        "    \r\n",
        "    return cluster_nd_score_df.T"
      ],
      "execution_count": null,
      "outputs": []
    },
    {
      "cell_type": "markdown",
      "metadata": {
        "id": "_YV3JlTAiVZy"
      },
      "source": [
        "#### Experiment with the different algorithms"
      ]
    },
    {
      "cell_type": "markdown",
      "metadata": {
        "id": "Gn-mlshsl4nh"
      },
      "source": [
        "To determine which algorithm is more appropriate to the dataset, we will measure their performance using the Silhouette Coefficient. The Silhouette Coefficient of a data point quantifies how similar a data point is to its own cluster compared to other clusters. We will use the mean Silhouette Coefficient across all data points to compare the performace of algorithms.\r\n",
        "\r\n",
        "The Silhouette Coefficient for a particular data point is calculated by the below formula:\r\n",
        "\r\n",
        "$$s = \\frac{b - a}{max(a, b)}$$\r\n",
        "Where:\r\n",
        "\r\n",
        "a is the mean distance between a data point and all other points in the same cluster. (the mean intra-cluster distance)\r\n",
        "b is the mean distance between a data point and all other points in the next nearest cluster. (the mean nearest-cluster distance)\r\n",
        "\r\n",
        "The Silhouette score can assume values between -1 and 1. Scores closer to -1 indicate incorrect clustering whereas those nearer to +1 indicate highly dense clustering. Scores around zero are indicative of overlapping clusters.\r\n",
        "\r\n",
        "Therefore, a good indicator of what clustering algorithm to choose would be the one whose mean Silhouette Coefficient is nearest to 1."
      ]
    },
    {
      "cell_type": "code",
      "metadata": {
        "id": "LUy-UColLh-B"
      },
      "source": [
        "random_seed_val = 0"
      ],
      "execution_count": null,
      "outputs": []
    },
    {
      "cell_type": "markdown",
      "metadata": {
        "id": "XkWixaoFxeVE"
      },
      "source": [
        "The first algorithm we will test is Kmeans. We will use this as it is the most popular clustering technique and can be quite good in different situations.\r\n",
        "\r\n",
        "Also in this case, we think that similar users will often be congregated together in simple circular structures.\r\n",
        "\r\n",
        "We will first look at this with a smaller number of clusters to see how it fairs."
      ]
    },
    {
      "cell_type": "markdown",
      "metadata": {
        "id": "zqxs0i3uOioK"
      },
      "source": [
        "##### *Kmeans*\r\n",
        "\r\n"
      ]
    },
    {
      "cell_type": "code",
      "metadata": {
        "colab": {
          "base_uri": "https://localhost:8080/",
          "height": 66,
          "referenced_widgets": [
            "3970ae8119154037a12ffb4144c731ad",
            "8063c0172dd6486392d8b4782379eac1",
            "66d9c3e817a848ae9fec5ae44195a7b5",
            "acecab366a3d4c73b7e46f98cdf67b87",
            "9015178f10b84cd592537881c7754557",
            "d9508b79ff9a4e99ac14048f14ba7a62",
            "06f0f7ea124641b484dba63e65a66e48",
            "a598a636d3b24b1cb9e76edd7e0232c9"
          ]
        },
        "id": "9idAxdpKOioV",
        "outputId": "c4c43266-274c-4fa3-c7a5-7aea58cb4f4b"
      },
      "source": [
        "num_clusters_to_iter_km_10 = range(2, 12)\r\n",
        "s_scores_km_10 = get_silhouette_scores_list(cluster_df, KMeans, num_clusters_to_iter_km_10, random_seed_val)"
      ],
      "execution_count": null,
      "outputs": [
        {
          "output_type": "display_data",
          "data": {
            "application/vnd.jupyter.widget-view+json": {
              "model_id": "3970ae8119154037a12ffb4144c731ad",
              "version_minor": 0,
              "version_major": 2
            },
            "text/plain": [
              "HBox(children=(FloatProgress(value=0.0, max=10.0), HTML(value='')))"
            ]
          },
          "metadata": {
            "tags": []
          }
        },
        {
          "output_type": "stream",
          "text": [
            "\n"
          ],
          "name": "stdout"
        }
      ]
    },
    {
      "cell_type": "code",
      "metadata": {
        "colab": {
          "base_uri": "https://localhost:8080/",
          "height": 391
        },
        "id": "A1cB8WI1Oioa",
        "outputId": "e32aa33b-b71b-48e2-89b2-1354b25d3bd3"
      },
      "source": [
        "cluster_nd_score_km_10_df = analyse_silhouette_scores_to_get_optimal_cluster_number(s_scores_km_10, num_clusters_to_iter_km_10)\r\n",
        "cluster_nd_score_km_10_df"
      ],
      "execution_count": null,
      "outputs": [
        {
          "output_type": "stream",
          "text": [
            "The maximum Silhouette Score was 0.9173986639424402\n",
            "This score is achieved by running 2 clusters\n"
          ],
          "name": "stdout"
        },
        {
          "output_type": "display_data",
          "data": {
            "image/png": "[encoded data removed]",
            "text/plain": [
              "<Figure size 432x288 with 1 Axes>"
            ]
          },
          "metadata": {
            "tags": [],
            "needs_background": "light"
          }
        },
        {
          "output_type": "execute_result",
          "data": {
            "text/html": [
              "<div>\n",
              "<style scoped>\n",
              "    .dataframe tbody tr th:only-of-type {\n",
              "        vertical-align: middle;\n",
              "    }\n",
              "\n",
              "    .dataframe tbody tr th {\n",
              "        vertical-align: top;\n",
              "    }\n",
              "\n",
              "    .dataframe thead th {\n",
              "        text-align: right;\n",
              "    }\n",
              "</style>\n",
              "<table border=\"1\" class=\"dataframe\">\n",
              "  <thead>\n",
              "    <tr style=\"text-align: right;\">\n",
              "      <th># Clusters</th>\n",
              "      <th>2</th>\n",
              "      <th>3</th>\n",
              "      <th>4</th>\n",
              "      <th>5</th>\n",
              "      <th>6</th>\n",
              "      <th>7</th>\n",
              "      <th>8</th>\n",
              "      <th>9</th>\n",
              "      <th>10</th>\n",
              "      <th>11</th>\n",
              "    </tr>\n",
              "  </thead>\n",
              "  <tbody>\n",
              "    <tr>\n",
              "      <th>Silhouette Score</th>\n",
              "      <td>0.917399</td>\n",
              "      <td>0.769723</td>\n",
              "      <td>0.656252</td>\n",
              "      <td>0.603186</td>\n",
              "      <td>0.826645</td>\n",
              "      <td>0.741032</td>\n",
              "      <td>0.702524</td>\n",
              "      <td>0.59899</td>\n",
              "      <td>0.600788</td>\n",
              "      <td>0.664146</td>\n",
              "    </tr>\n",
              "  </tbody>\n",
              "</table>\n",
              "</div>"
            ],
            "text/plain": [
              "# Clusters              2         3         4   ...       9         10        11\n",
              "Silhouette Score  0.917399  0.769723  0.656252  ...  0.59899  0.600788  0.664146\n",
              "\n",
              "[1 rows x 10 columns]"
            ]
          },
          "metadata": {
            "tags": []
          },
          "execution_count": 113
        }
      ]
    },
    {
      "cell_type": "markdown",
      "metadata": {
        "id": "3r-z_a_kPQKN"
      },
      "source": [
        "We will now also have a look at different clustering algorithms to see how they compared to these results.\r\n",
        "The next clustering technique on our radar was spectral clustering. While this algorithm used with affinity='rbf' was too time intensive for us, using affinity='nearest_neighbors' was much better."
      ]
    },
    {
      "cell_type": "markdown",
      "metadata": {
        "id": "JQm2YCGLiyKm"
      },
      "source": [
        "##### *Spectral Clustering with affinity='nearest_neighbors'*"
      ]
    },
    {
      "cell_type": "code",
      "metadata": {
        "colab": {
          "base_uri": "https://localhost:8080/",
          "height": 66,
          "referenced_widgets": [
            "337065bbd07c4fdd9e0016ad22645fd1",
            "b174d82ff6d1497eb48255ce38b81497",
            "507bead16ef94e4391d4c803f6bf8d4c",
            "c65995d48ca24e5caa42d0f41e7063d1",
            "adb43befcddd4f9fa7f8554a36fbe8ee",
            "48eb51d80c564b67bc42af38571ee613",
            "2a29641959f24a838a133bd3f1520911",
            "e2e4cb539a0148e5938f22e6c7506522"
          ]
        },
        "id": "N3xRKrThfLLm",
        "outputId": "6a9eb0ea-9fd3-438a-8291-017776c85d2e"
      },
      "source": [
        "num_clusters_to_iter_nn = range(2, 12)\r\n",
        "s_scores_nn = get_silhouette_scores_list(cluster_df, SpectralClustering, num_clusters_to_iter_nn, random_seed_val, 'nearest_neighbors')"
      ],
      "execution_count": null,
      "outputs": [
        {
          "output_type": "display_data",
          "data": {
            "application/vnd.jupyter.widget-view+json": {
              "model_id": "337065bbd07c4fdd9e0016ad22645fd1",
              "version_minor": 0,
              "version_major": 2
            },
            "text/plain": [
              "HBox(children=(FloatProgress(value=0.0, max=10.0), HTML(value='')))"
            ]
          },
          "metadata": {
            "tags": []
          }
        },
        {
          "output_type": "stream",
          "text": [
            "\n"
          ],
          "name": "stdout"
        }
      ]
    },
    {
      "cell_type": "code",
      "metadata": {
        "colab": {
          "base_uri": "https://localhost:8080/",
          "height": 391
        },
        "id": "oyX8vBmV0g-f",
        "outputId": "cedf7e31-f190-43d8-a645-9a6129c5c828"
      },
      "source": [
        "cluster_nd_score_nn_df = analyse_silhouette_scores_to_get_optimal_cluster_number(s_scores_nn, num_clusters_to_iter_nn)\r\n",
        "cluster_nd_score_nn_df"
      ],
      "execution_count": null,
      "outputs": [
        {
          "output_type": "stream",
          "text": [
            "The maximum Silhouette Score was 0.40294195640585106\n",
            "This score is achieved by running 3 clusters\n"
          ],
          "name": "stdout"
        },
        {
          "output_type": "display_data",
          "data": {
            "image/png": "[encoded data removed]",
            "text/plain": [
              "<Figure size 432x288 with 1 Axes>"
            ]
          },
          "metadata": {
            "tags": [],
            "needs_background": "light"
          }
        },
        {
          "output_type": "execute_result",
          "data": {
            "text/html": [
              "<div>\n",
              "<style scoped>\n",
              "    .dataframe tbody tr th:only-of-type {\n",
              "        vertical-align: middle;\n",
              "    }\n",
              "\n",
              "    .dataframe tbody tr th {\n",
              "        vertical-align: top;\n",
              "    }\n",
              "\n",
              "    .dataframe thead th {\n",
              "        text-align: right;\n",
              "    }\n",
              "</style>\n",
              "<table border=\"1\" class=\"dataframe\">\n",
              "  <thead>\n",
              "    <tr style=\"text-align: right;\">\n",
              "      <th># Clusters</th>\n",
              "      <th>2</th>\n",
              "      <th>3</th>\n",
              "      <th>4</th>\n",
              "      <th>5</th>\n",
              "      <th>6</th>\n",
              "      <th>7</th>\n",
              "      <th>8</th>\n",
              "      <th>9</th>\n",
              "      <th>10</th>\n",
              "      <th>11</th>\n",
              "    </tr>\n",
              "  </thead>\n",
              "  <tbody>\n",
              "    <tr>\n",
              "      <th>Silhouette Score</th>\n",
              "      <td>0.402206</td>\n",
              "      <td>0.402942</td>\n",
              "      <td>0.247846</td>\n",
              "      <td>0.233701</td>\n",
              "      <td>0.246234</td>\n",
              "      <td>0.201009</td>\n",
              "      <td>0.193993</td>\n",
              "      <td>0.164862</td>\n",
              "      <td>0.172122</td>\n",
              "      <td>0.176061</td>\n",
              "    </tr>\n",
              "  </tbody>\n",
              "</table>\n",
              "</div>"
            ],
            "text/plain": [
              "# Clusters              2         3         4   ...        9         10        11\n",
              "Silhouette Score  0.402206  0.402942  0.247846  ...  0.164862  0.172122  0.176061\n",
              "\n",
              "[1 rows x 10 columns]"
            ]
          },
          "metadata": {
            "tags": []
          },
          "execution_count": 115
        }
      ]
    },
    {
      "cell_type": "markdown",
      "metadata": {
        "id": "dkDdcb4LQBQo"
      },
      "source": [
        "This algorithm did not fair so well when it came to the silhouette score metric we were using with its maximum value across this range being less than half that of the kmeans algorithm.\r\n",
        "\r\n",
        "As a result of this, we were happy to say that the kmeans algorithm was a better clustering algorithm than the spectral clustering algorithm in this case.\r\n",
        "\r\n",
        "While we knew having only a maximum of 12 clusters in these tests was not sufficient for our purpose as this gives too much diversity of music taste in each cluster, these algorithms take quite a long time to test so we deicded to test our approach on the smaller sample and then scale this up.\r\n",
        "\r\n",
        "Another clustering algorithm type we wanted to test out was auto-regressive clustering methods. These methods are able to cluster more complex forms of data. One particular type of these algorithms is DBSCAN. This algorithm was one of the quickest auto-regressive clustering algorithms that we saw so we decided to test it as well."
      ]
    },
    {
      "cell_type": "markdown",
      "metadata": {
        "id": "xdE-uo4l0loL"
      },
      "source": [
        "##### *DBSCAN*"
      ]
    },
    {
      "cell_type": "markdown",
      "metadata": {
        "id": "1HdXh0hCeqli"
      },
      "source": [
        "The below image is an example taken from the Ski-kit learn website (https://scikit-learn.org/stable/modules/clustering.html) that shows the complex data structures that DBSCAN can cluster and in what time frame it can do this."
      ]
    },
    {
      "cell_type": "markdown",
      "metadata": {
        "id": "7japmNI5ekR2"
      },
      "source": [
        "![image.png](data:image/png;base64,iVBORw0KGgoAAAANSUhEUgAAAH8AAAL7CAYAAADUA1r0AAAgAElEQVR4AeydB1QdyZX3JY9zWuewTrtr+7O9Duu1vfbk7Mk555zHnpzHM8o555xzlkYJZSQQGSRElgQIJIQESEQBAkn3O7/bFGq1Xg7wYKhzoPv16+7XXf9bN9etbmfOnJFw/TU3N0tZWZmkp6dLTEyM7Ny5U/Ly8qSysjJsvxmud+lM95WW1g2AqqqqpLa2Vurq6rr+OmkfgG91dbU0NTUZ7KUbI/GRRx6RF198UV5++eWuv07aB+D76KOPyp49e86Cn5mZqQdzcnJk//79kp+f3/XXyfoAXHNzc3WAp6amngU/KytLnn32WWlsbFQ53PpN106n6oGTJ0/KW2+9JWlpaa3v1a0L/Na+6NQ7XeB3ang9v1wX+J77p1N/2wV+p4bX88t1ge+5fzr1t13gd2p4Pb9cF/ie+6dTf/upBf/MGZFTp89IQ9MpaTp1Wg4eOyHFFSekpuGsq7NTIy8in0rwAX7/kRqZtGWvDFqdJTO358vrc1Lk5RlJul9d3ySnT5/p7Nh/OsFnxE+P3i/X9t8sF/aIkiv7bpKLe26Qi3pskFuHbpMFcYVSXtMozafOyMnm0wIxVNQ2Koc4feaMbitPnJQ9xZWy68Bx2XekRvaW1uj2xMlTwjkdoXW6kQ+wjc2nlZ03nzqt4MHaT5xsVpZ+orFZqk6clGFrsxXwv30cJZf0AvgoYf/Cj6Pk8j4bZdaOfAUcUTA9Ol9GReVKUcUJAfS80molkJuHbJPrBmyRxyfGyRMT4+SpSfESt7dcf7sL/HbogeKKOlmTdkiWJhZJ5qEqic4+IiuTi2XMhlx5dkqCDPwkU4EbFZUj942OUQJ4dPxOuWnw1rME0CNKOcDmjFKZvGWfXNlnk1zRZ5O8tzBNr79lyDb9DKeAc8A1Lum5Qa7qu0n6rMiQo9UN7fDm/v9kpxr5sNyha7Pl9mHRwqh8YGys3DliuwDW3wds0RHN9sbBW+WGQVvlqn4W2wdYwGPUM/qVG/TcIPePjpEHxsS0Hn92aoI8NiGulWOYc82Wezw3NUGS8yuktqHZfzTa+IoOBX5j8ylhZDOSN2WUSkVNY6t8RUHLKamW56YmtgJoQAl0y8iGMO4YHi1wB3SB12an6Gh33hMOwPlX99ssL0xLlJ17yyKeADoU+GXVDcp2kbMAsiThgOw/WqOae05JlbwxJ0WuH7g1ZOADMOC/MitZ3l+0S9buOqQjG6Cd4Ns/o0D+Y2aSnl/b0NRKoG08sL3+XIcBHwU642ClKlemo2Hfj4yLVfl814hoZd3mO7awcSOX7ccD2QdwFEGUQ/v1fLYTg/5ei+i4bVi0bMksVWsBX0KkWQEdBnzMrdzD1dJ/VUZrZ6No2f/sMtuw4AfGxsh1A7ecA5gdPH/27SC7uo5nuXvkdjUd+f6y3hvl4XGx8vrcFJkVU6COJK/DsQ1PiHjwMd0OlNdJr+V75KnJ8Try0dJvHx6tI/7SXhtdAovsHbcxT5YmFclDY2NdnuMKQHMM4ADTfPZlC3FcP3CLgs75fIYzIDpuHRotM7bnS11js+oCmJ8QNIphe3kFIh58nCxR6YdVg6dDL+29UR4aFysvTE+UO4dvP48NG5CQ/avTDqmphvZvjrMFDEQGlsBdI6yRCqfgO1g7yl3flRn6G8hv+7XsX9Jro1zTf7NAeE5uAME4j3ENx56eEq/+AohycUKRDFubo88XnXNENmeWSlFFXZv6CCIe/MamU7Iq9aDcMnSbggBrtzrY86jEpFuRfFBHPyAzkgELjvDYxDhZGH9AO5x7vzM/TUcmHj+4yvrdJeoIAhA+G8IwRABh4S+AAO8Yvl2u6rv5PAIx57rb8iwXqzWxUX0MmJ4fLt6t8YW24vwRA74JtMDmUYzMH+DH5h2Vu0fu8NrBjC7jqYNAULhSC44pASB7HxwTK/1WZgiWAQoYDZaLR3BZUpECuij+gH7HcVy6EzfvVQvCjGa2OIvSCo8pC887XC1vzE31+mzuiMB+HCKNyT3aVthHhm8f1p5cUCHPT0uUJyfFy5LEIpkdUyDLk4vVtmZ0uZPt9s6z71/YYqMTwEG24qsvq25U9yy/Z3e/s69u3/omBdTI4ObTZ6SmoVkAGNft5b0t/QLRcO+oHeo9TCk4Jo9OiGsF3x3btz+bff+inhv03eAuEBHP21YtIkb+sdpGGb4uR2Ux8vSmwdvUK4eXjj861N5h7vatkW8FaJDJ/VZmyrG6k0H3JcpZSkGFcgYUN34fETF56z718/dctkeVT3SQj5fs9su64JmvHbBZxm/Kk6xDVRqDCPqBfbxBRIB/vO6ksmYTZXMHrrvjjBrk8DNT4uWDRbvl3QW7ZPDqLFWgGOWhaIghvIsDVmXKPaN2yOMT4mRTxmHlJJkHK2XezkLVFeL3lcsj43cql4AAUR4RP+gc7p6f8yCkgrJaqT95KhSP69M9IgJ82Gt2SZUqPFf0OV+DptNgj07Fyyh/lim1TT5aslt9ASRkMFrD0dDIt+ccFUBGH3ElPqZF79eYwD9nJklMbplM2rJPYwnuwCcmAEd5d0GapLboEuF4duc9IwJ8HgrffMnxeg2NuholNw+2wqf2DkQc4FQhcGO8eYxAwrfhaugD1uxc979QWXdSo4r9V2XKmrQSWburRO4dFeN25PNO5vnvGblDr7UTlftfCu6bdge/tLJeZkTnyz9nJWsHoVQZzdoOdK9le1QuohQ+OmGn2v3s4zh5enK8dh7XLko4oDH84LoluKvXp5eoY+na/ltUfwFQuBPvA/ci9KuKoS2KaN4VxfbNealh41z2N2tz8DHl0Kwxo4jKkVSBE4bRbsw00xH2LWYQ7JTsGXz8sF5ExaFjJ2RHzlE14SZs3iuFZXXtnoL1SepBNU0B+Jp+m9XEBHCIgaggAaJR63OUY9nfkX30HvSK5tOh0VXsYDv32xx8lCZMudFRufqHooZZ5uwE52e4ATa6qzh5U/NpIeKH6xT9ob1bUXmdEjU5gSPW52hyyQeLdknv5RlKvDwhRMsxiML+rkQrcS4xSMLd2hx8MmrwvgEmcs7+4uxzDNYHm7TLfjxzU7buC402fPqUyBkUQg8dfOa0yOkmEc4NoEGI5TUNcrIZpfCMPjcKor3F7S1Ty8DeB8QGMB1RLEkZwz/B1nmt/T6B7rcp+FAz1O7ObocgkNv/nJmsoxw9wBAE7lQUQg9w+dYHaFJVRSI1h0VOu1MMz4jUHxMp3SVSWYiG59u9bWdxhf0yV3coLK9T+W4Hnz6A6NH+ySjG7YtHcWdeme3uodltE/CxkbFf8bUju12NeNMByP2ey9LVjn51VooMXJWpyZTk1QdtszedEEmfJzLtUpEpF4pE9xHZv0Gk8oBI1jKRtOkiR9ItwljygMi434vMv03kUFJoettxF0QVosy8u9kazR/uh4KI3kCiCiFt9CTEXCham4AP8Ni7mDt2Vm5e1myNs4ZMHWQhbl0CMCiHpFEH3GDdAH+8QGTWtSJ9vyLS+/Mig74jMva/RZY8aG1H/Vxkzg0ia14WGfBNkZ6fERn+M5HEsbafPmNxjOZG2zHPu+ogOnZCXdj5R2tVnvM2hKrhhOb93W3pFzgAru/ey/cIOoWdq3j+dffftgn4VSeaZOq2/UrBzhdEBPCHowNdgLg92j8Zs4RbCbgENeKR3YC+Z77Ilo9E+n3NArVHN5HWv+7WPmBDFPZzBn9fJGawSN1RkfrjIhV5Ivs3iuSstO7rhQgACbk94JNMeWzCTnlzbqqKLxRTLJcnJsV7Bd/0GRzh8j6bJDa3LCRZQW0CPu7b8Zv2ajjVvAhbQAdggiRouXjoSHueuSNfkyBhicXHTvhnup06aY3yk7Ui/J0oF1n3ijXaW8G2A2/b7/U5kSE/FOl5wVnC6P91i1ts+VAkfb7I7OtF+n3F+lv+mEj1QZGmepHGapGTdSIQm62h5+ANJBMY8IhbEEbGEYUoYySTM4Cuwwi3949zn+vxgG7NOhISBbBNwMeseWlG0jksnxclvYrZLkTd+ENDNvoBJh0d5JfJwzDL3yKy8mmR+beLILcn/60F0JbR7ZEAuov05Dzbua3cAMC/JtL7C9Y5HO/3VZH8zSJbPxYZ/z8iEENNyTkWAu+z/0itkPZtEfsOdeHCzRj9R6oaJCq9RIavy9YBwDlO0O2fIQCSWWJDoACGHXxekLAnMtxO2Wi1UDF2fyjklw62hkqRFY+LDPyWNTL7f02kzxdFetlGskfwbVzAp/O6iyy6x9IL+J2hPxTJXCzSUG0RwJnTap0QZ9hddFxWpByUhH3l6uSCKGj0D0SPXsOsH2fo2pXjC0cQDq9gW9jBZ+RmHqySGwdt1eCMoWIoHJs2JOA3N4iUZYtkLBKZ+OezLNsnAP0F3HE+nKDXZy09YtB3RTIWiuyaKRIz0LIgWkQBySONTac9auoL4g5ojqK7hFMGDLoQkUJER25JtUYW4Z6BRAPDCj5uXBwUmCj/mJncStW8xFX9Nsnb81OV7QU18pGxsFpY/Khf+ibbw0EUEMC431mKJRYEnGD8H0QOp4ic8m3aN7oRmUdD12a19pUZLGzhnMwg2ppVqmz/xelJmu/w1vxUDQf7ywnCBj6+adyUePQGr8lSM8WwNMy9+0bvkI+Xpqt/PihtHm07f1PbjnZ3xAMXWHy/yMBvW5xgxH+IZC8Taa73GRc4BPIci8cuJgEfbkmuAFbCsqTi1hRx8gF2BJD+FRbwmR1LWhYJD7hl0WYBnhHPS7DFtOP42/PTgktapGMLtoqgqdsVNXcA+XJclT4He/flOkY/Ymfw9ywutOwRkbojLa5k3/Bnculz0xLPm4BiOAD92HdFhmYmPzkpTgkEZZqpav62sICP/CGWjd1uHtrd9olJcZq+5O+D6/mYV3jm8NjZzTNfgHJ5TneR/v8mMuNKawtB6X1t2r/L61oIBaLp8yXLKlj9vEhJyjmavy/viBsXbd5df3EcmU8kE0WaOYvZJdWqNPpyf/s5YQEfWc/8NmfEytULMes1vajS/kze91ESAD73E5EpFwUGPCx6wL9ZTh04BqYbI3bRvZYLeP1rluk292YRbH1PoDu/gwNM+rNI3DCRujK/Rj71APBvwBUx61z1GZFQPIPbso/IyVPnJqN677yzZ4QcfEwYPHokJOKmdfXwHLO0/a3yr8W7/Z/GRECmMFpk0v+1gOeFRff9suXKHfIDyxwD5DG/Eln5lGWf4+Yd+iORRfeJrHjCUh4RJScqRIp3iky9RGTwdy0lDiJxgu3uMzI/b7UI1oiPjf5Dpj84NvY8mW/vS/rvgTGxqughZgNpIQefUU/uOTNe8EfbH9i+D/XO31mo2bWEPP1qdObmDyxA3XW8/fiMq0RSp4lkLRXZu1YkdaqlJOKyLY4T2dHfMtGi3mgx2y4QmX65SOluETyGuHRTJllEAFu339vTPgRD8KjRv3RsnGI9lqarnoSdz+QOe9+ZfRQ9op04yAJpIQUfqiWTlQkWKHpQp3lQlDymSPFHOvYrs5OtgE0gSQunGkWSJ4oM+5FvQDByDyVa7l4CPICBoki8HkLCOYTffutHFieBbSP3AR/CxFRDzEBEcBFPgNu/4z7Y/utft4isvsInjIjaHamqlyUJRUoEzulmpk/pX7gr7mPEBc4if1pIwceJQbKi00ThYQGflGcSLPFNU8DIeLl8fmB89aXpItv7iSx/3Iq82Tvb1T5set4tIse9eMRI7ihJFln9ouW1y1xixfTtD5e93LoX4mbC/1qiAk7gyTrg9yGAiX8SSZ4gAuH60HBtUyWM2AemMdYRA8rZt3AGzL+XZyap48fMRPLhJ0I7YwfKY1Il7AiqtCssgM+Ip0aOX1kpjDy8ZEf2WDYzIVfctyhhjCxXgNuPEaih0xnd3hpcAFFwbJ8VrHGKIzgGIuBQskhRrEjiGJEVT1pxf28cASJYdLeVK+DtOcSaQYS/33j7MPHuHb3jHG7KoAJ8+pn+Zq4fYtfXFrKRT7ydODOpVkxtgh05qZSHRRcgicHnhsw9EGNF04b+u3cFj5AsfyZAQ/y+PNfnn/P7RMRFwijLUrATnat9Rn9x7HmRP1e/yfxBBgrTy4n4GVbPIGrdbwGdz1gHyH9/3LwhA5/oFCFZU6nCVUCCh4Q6Dx0/4ep9XR9rrBJZ+rBllnlir6azSciYfZ0lmyGCHQOssK7ruwd/FFHB8/Fb5hncbfEhEPlDf3CEfl09CHGR3QeO6xxGA7i7LTOGiaH400IG/vacIzqd2d3DcRytFY8es1J8CtWSgXNsvxWS9Sky111k5xCLbZdliRzJsOQ2il2oG7IbS4F0MPwFvhAm74C5iaVSkmYRgZfnqmto1kqh3hxmiFSihv7oUSEDH88UU6Dt4COLkFWG/cOykGG9V2RIWY0Pig+jg2TL0f/Ph5HV3epYHD9OWe2lgwP6GqthzzyRYT/2PuLtnACvISbg9CtEDsZ7/WlehVnCr7Yks9r7175/Wa+NmhruT5wkZODDyp35aICNGLCbfOzj/SOLxWvDmVNVLLLgTpG+HuxrRh1RNBw0x/O93jYkJ+jI32mZhKN+IcLfgG+4SBFz44DiXGL/PjQSW1anHlTZb5f5dvAZaATKattD4UPRGLYux22ZFB4Uc4U0pinb9vlmk56ssUKkJpnSXeCG0TTm11ZOnQ+y1If+9u0UhuXBBJG8NdZzIgJ8sUB4j7G/FSmK8el3GM17io5ruhuDhz8nEcBdmd9fWuW7Mh2ykU8/bM8+qhUq7RRp9nk4XJZksjScPHd2q9seOFEmEt3Le4weP/2kv1pcoi1Yvv2B4U6ElfdFWdzHHYHaWT9m37p/ilQfst/J7X560XGdy0AfqkJtTDyH5o+V5U90L2Tg8+SHj9drCXO7fW/Ax1FBAQasgtKqeknKr9AkD49TqbG7D6d5l/l0Jvl1nBvgDBu3Pe/LFxAcsQb8DzyLHWhX+70/Z8l73s+HhmOM1C360lXfchyOSj1hf1y9IQUfBwMVsJxFFqBY0rhIUmCSJfPXsF9fnJ6o4Vy3SgqjigkVJEdqvN6N/OS7YT+xLIO2ZPt24Mji3dbTyvsnl8+dddLnC5ZTyMdRz0+sTz+sLnPEphlMzu1dI3ZocQh/4iQhBZ8BQHUJas/CnswDAj75eqRyEcUzlbUw/SiA5GrypfYrKdF5a61R7WoEmWNMwlj6kJU4YQekLfchOtzPRzMtAnBHrOgvm98/33Xs4Vlxii1PKlZ7nxGOBUXf2rkApiAVwv1pIQOfYAQsHC2esuMULTLgu9qitOAFVB3AMYGx9QVwhqTPaYmne0ioAPw5N1mu2daL22EHAqg9aqWLu5P9Q74vsnuWCMqsH40RXVPfpABfP2irAo8jzTjT6Mu5Owvb1s5ntDMTlSIJFE14bU6K1pchCOHUSA0R8MAUL0ouOCaUSXeroxFsgT0SXvXkO0fhQ3smkbNd2xkrJkA6NxM7DGeybxn55PnXkt7lexwe0Yi97yq9m35lMOFA88d1HvTIx1MHqycjBx80BQiYZWtYkwEcFkXAhygVZdFJQLRq2niI5aNFw0Yx49yxUToWt+naf1rJF+0KPlNzT4sczRBZ81KL9u/QU1D2hv/EikwSRPKxMeVryJpsnfLmblCRy+eT/6TlN0MCPg4ekg6RO4x4ts6CC4DP8R7L0jWkS/k1r41p0uS/MzPGPnqc+0zOICunPMevTFmvv+/PCWjuzAnMXCSSPtfKBoIjOZ+Vz1gEC++yzvfhNwjTMunj/jHWyiBmQLGlX+lzviOoRhaVry1o8PkhRj8xeqpLs9IEGTzuqBN2z1w8n9hTZUFLJ3oJmuBYwWVKjJ9YQHs05vuTtEEIGe8dWr0r4BX8C6z5gz6KKRRiilK66lOUaZ2/v7dMp2/78+ohAZ8fJI+M6dSsVWOnTFf7cABKp3ttxMwJ4/piO9OpiIbdc/ySpV6fwdcTyPohadObhw9XNPrL/k2WfuDD/cmTWJFcfI52b/oVWT9xy145Vut/scmQgc/MHKZX8zDmwZxbqBQ2hRn48Lid7hU90yGkXhHU8dahOsK6Wzl9ZNu41SDNjcOwZRSjd6iI8mCZMKEjurcVZvZR4cOKYlKG0ezt/YpuReVOfzJ4zNuHDHweEI2fapM8ECDbHxKWZXL7qKlHQWOvjenVKVOsdCl3ThMDPPJ15M+t4A7eNh+nSHl9Bl9P4Fmp+uEpzRsi1hhEvl/Ph9eOiZn2/mTfyHt0Ln9CueaVQgY+g41Jl4BqKXzng0+lDTx9JCSybp3XB2ZkoBEzKcOTqYdNDcsnnw4XK1OmVJ56sCRMDwS6xY1MQiYeSFK8UTYX3O5e1jP5Y/hPLS+gH5WFyJAilfu9hedX8AB8/ClUAPcrNa7lnUMGPvcjsrclq9QKPTpGvp1qEQ3MSvEpwEP+3va+fsyx7yYy4Y9WajZOonD4+qF07k25FggtboRIymTLE+kuqYNMH7J4IBIfmv5E0yk5XFmvqW/uytnQlyNaYiZeB5Pjd0MKPkuLUnbEDrSrfWQ+VTOtMmWOJzrv4xkrvXrezVZhBGXzDtvZeYzYPgTga+Lmeb/p5QD+B7J4tHzLBRbXcWfWtT5bd2sW7971Xm5ufY0MZ30+0t5Id3fVjxxDnFJ+lqxpf/L3+JWQgU+0jokG3ladYK1aqm0xbdtnvYwTi5g5c7F786m1k7GjSe74ggiuVLRwAkShbOgTzOSx1+5x5861Pxeii0ohJJx40Ulw5eK0uXbAFo9KNARAwIfZO5jb/rTQgV/ZoMkErmxRO9VSXw6zhQUS/WokSpKJa+9MT/soiAO/aYV5teCiX7/m+WRSuBn5E//i2fN43vN1t9K+spZYdYM8/ArgU8GTrFxYPt5Rez+aUX9py9JuDKr5cYUe7nj+V4D/9ttvS1paWuuX3bKysuTZZ5+VxsZGrR7Z+o2HHRwRVJbAyQNLR7EzkT0IAgsACsUawLXr7+wSTcykLNp5HepGBDDyZ15tKWR+KFgeXtH6CkKCm8y7zUrX9uR2bn1WTD/s+69YkzeoG+Qllo8CtyH9sPrrcZcTKXWCT3/eOTxa7h0dIxRowAvoTwsZ+Pwo8XyqZ7GGDTa/maULEeDTJ8OUv7fmpUrS/gqVURANOepelRVmzVIWDd84f97YLHJ/2mXWJAsvLNanDsPyADDy9ONH+e54aiWAblalDkq26PN4t0SI5OGuJQ+CAeUEn1gK3j3y+6lO6u+EzZCCz+uw0MGmPYc1swSnDg/MQgksJaJOnpaVKVnwiFh+/5WZWsHDKydglgzFDlDkSO5QAnAz6rXDMf8+K7LhLauqpo8OFZeEwLUNVVZuQdoMkaUP+s6B7OBP/qvf1TyJgaDNm5LtdgKgPg8lWu1rCrt8fjcHQwo+v0ECIYqf/WGxRw0h8PDYptTdgwsQBXx6srXytJtntA5j8pEtQz4+06eZ/UI0z5vrF7uf/D44B2XTCKUyC8hd4zt8BBRWIJxMli7VNVY9a3kbmcrN79pBdbePgjfmNxa7Z58s5KqD7n75nOPouORIMAefOoXOQBn9iDI4ekOuxvnPudjHDyEHnwWNqHtP5o47Vy8KDMmciAP0ASYaMtPUp6a9Um/lzDGT1isH6Gadg1uVmP/yR0WSJljJnphssHFy8AGcP+biUc4NPz2Ak5gZO8SaFOrRy+iCCzFBY+dwkZ3DrGngBdvc+vNZaQQWDwdEfBImx2f/+MQ4VfrsI56BhAJI2RtEQiAOHvo65OCTdMB04Q8X79JQo/2hzT5igLXreXi8fh8u2q0ZPbgxvUtCG4lsfLdlNo8PEzbto5OiCdF9rZRrgM1YYGXTEoMHKDPXj9m16A24je3Xe9uHGw36tsicG0Uq9lrZvYgON7YtI3xfaY26cFlpkylao6Jy5Yq+rqtz0H/PTEkQFnXAre5VX7J1mX035OArRTWfls0ZperLt7N7Az5iAGuAurpwCYgAK2HDnsP+vQha9+oXrCnQ3gBxfo+71QSMjFcOzd2Tb955D3efUTY/eU6kzDdvHmvyvLfAGiyUqKPUPO5cFDr6yvSbfct09417Dtux9Hs/LOBD4LCwketztMS6/aHZx+wjxxwNFZaPGMAyYCaPXxorWjMji5k67oDw63iLSebXNS7YPfH8uOE+O5dQ6lgviKLKiEqyolhqjeXh3eVCoi+RFxFMCwv4sCFeaOiabB3hTuqlkCAp3rgwWU4MRwYuzJHrc32bwGl/Y7RwZDjuVTOCgwUv0OvhJKSQL3vYSj+zP6eH/fqmU7Ix47Da8oBKZg6mMQEwnDjOwYOeRAFGClwE08ICPqDG7y23lDpHkQZehKgf3iuKNOK8gL2xCMO63SVq87sRja7fkxm4KGlU3/CnXk6gALu7DpFBFg+ESDYRSqSPjcGCosdsG5Iw1SRuScp05TGFKNAN/PXlOx8nLOCj9G3KKNUyLEajd1IvrB9Xr/ECQhBMNCQ45PdLEUuPetOaKm0Hp604AVYAJuCWf1n1fvyi3rOQIPLIiaBfWCre2WfmM3MfMoorA0rgOPtrYdD2uTmUzKLFg1ZnCWvKMbLNg3vaIu+galaj4B54uMgP9NqXmGiUPCGLBk0b9ovG7q1ejp1Q/N7HiXSB9XukY6971a02b+9wV/tYOFTfhmMSwsX5ReKL4QDOPmPg4EshozeYFpaRzwMBGt6+xP0VmmvOC7hyVNhfDN2AhZQxdepPNusyJKwqgenodkoXP8ZMGapdUySJTBkqZcSP9jx3DiLx5iDyRBA4bVieZdJfRJY95peMdwKGictKJETxhq7N1jCu8ZEg//k7p596RKlSyLqCwbSwgc9DQdHIMXz5aPModxM27VVN37wMwQnzolD6bUOtka+5AfNSVXTgwmSpMbeNhA0KLlHs4MAOywJg6rTG2LtbHIHRqTpBi0ZPVg0p354Adn6H3W8mYxCkoXIXTqBj+VeT0V4AACAASURBVH7JePqFEDgJr4A9OyZfY/Iovog/ewSPxZV0UaqWGbn0EVO2qG3EqiTBtLCCDxtjAUVkGObcP2Ym6RJhpCGz7AgRPrsnkBfDziUuTYFGRAAKz9X9Nmkqk88OIHSAxHFn7XjmzZNts/g+kZH/ZcUGKKd2npu2JbMW7gFxUKmTEU4QCS5BnIB4PPuAT6lWPyZcGqAQYyi35NoDLv0D4GYQmIHBln6DzdMP/EEc4zblSV5pTWTKfPOSTMUatzFPX4AXwd9PXVkKB1HGBVuWl3Fmpf5jRpIuJkwk66Yh27Rce8HRWnNb71vKthH7V9be3ZLH5NVT5YNqGCSGkBrmTAvnfGr2cw5VOrHVqaKNm5Ys4pJUEbyKhJbx+m3+MKBiT+gzTLBQxa7XRiUArB9vuhHEAcGQrRuKFtaRD4Vvzz6iCwQYasZ+xRIg1ZvpR055xnmkJeG9QvFbv7tEAB4XqM8Nxw+jHC8eih9FGwkM2RtKIqVRVUk0qdZUzPjvlgUXT1kVOg+nWvl5rK1HLIBkTVbXIkX85ImAlDz6BXlNyhsKMeKQOY6wfdNPrrZwgIBqFdvf27YfVvD5HexXgjY4L6Bc7Hpy04hWwfLwUztfFE8XBQlSqNk/MU79BZyPAulTM1OnqKlLmVYiac6QLv4BxAMyG/aNToD2zuoYZhIlKAG4lmtttO6BfsH9m85fScuXZyNoQ7l0RjrOrgfHxugMJ7OAorMvzGf67oZBW1RMzokpCFrT51nDDj79hzaLHEfBQZGjMgfmDDLevJx9y3Fmo749L1VZIUohy4qTGu5zA1zKnZNl6y6ZA4LAGUNFD+Q51TRZf09Dvj5rGD4/EidShYw6Bch45Dl/rmS93SsKYcAN8fbRNwwIBlCwLezgmwfUQXTqjNrvZO7A9igcSPVtVy8P4JfZXJv4vvNKq1XJQWaGtHE/RjuiALMxDI31c3h+OBiizzi37ETPPqCjBKPvULaO/iHoRQl7uCdWE9k71DIMtrUZ+M4HxRJgOVHMOHvih70z7NQP+LiMeWlmqPgVAHL+eBt/Rl9ZEFcoz09NVBnPZFUCNvb3M+9NX2AakwpHYGzImixddIkgGJU34IDk9qEzBdvaDXwenBFMtWhYn3l5s6Vki137pcAja/FC+bA9atLjSIr0xjuSmEH8HZZtTLaL3Swhj7ij+hbXQeD8sY+303gBffJ6+tAx7Qo+z7ct64hO2kSTNcCzZVTYRwYEgiig85CXlHPx6PXz4eXDfYoRdTh0XGXf2t/X7DOBFfDborU7+MT9mYEK+3dl9plOMVsIAkKhohdiAzcwgSDmAaBYRgpB8ByFZXUqq0dG5cirs72bcrzjU5PjVR/6VIDPS5KKlHWoUtO9md/PCDdg27cAj3KIUwilCCVoaWKResvwCzCTFUJi5LDylNeYQIh7mJEOISKP9x+p0RLocCzEF0mY7ogbYkabJ4mDBI1gAza+vla7j3z7g2LHk7uGVkuHwOLt4Dv3IRLkKH+kMbOlKgiJIbiJKQHPGrWmAY43eYkWwTmACFEyS9be+I5RjcJq/wa5bHwazFR+f+EuTWRxPrPzM+9AHiOzbSAYv8PZ9ofzcz+iwDcd+EnqIZWRrhRBZ+eZz0Y/MAoVhIDr2BQo4t4QFx0MSBCCqwaoBytOaJlzljnBh25veBtJQonbW9bqW+dejFY0eogPjR3i5RnM87nb4uKlxh6geyNM+3OEYj+iwOeFwITRynItcADTabB6d+LAnMOWlHBGEp360ZJ0LV9GqddVKQfVjUrOYK9le6SwzLU9jz0+bG22Xk/0DBc0xEIrrWzQsubcnynmLGZMORTC1iRdMl/OF8DN80Koj02wlkdFm2/rFnHg0wHIa/zeTOigo5DzjOIrvBR25FzCn6/OTpYHx8RoZjB5hMhSqn7iO4dDMDqZL4jpBEcg37C0sl6dMOgQAIsTBmJ7Z0GasEo1OYcomUQi+R1G9kPjdmpIFuC9+eUN4GYLkeDiXZlyUJNd2x76NnDvBkLNrBVLRUlGBrnrz05NkAmb81RpcnrGOMc+2hAVEAlOFEYiLNj+PZ3PNb2X75HsQ1UaIZu0ZZ/qByRTQCT8hrEq3piTooobCqYrzsO9uZ8B1b7lOM9j9BA4CfoIih9ePlze7WmdROTIR2FSV2a/zZrSDNvFjCPY46z2Bbj82Tvd2z4iBO0aINDEjb7g7Tp/v4c7kH5N/gIzmEm6JE+BFCxEhl0ZDWSQBHtNRIJPp8CWifdTchRFCPaM8kZI0w4Cowpft/2Yt32jP+iodTMpwts9fPmeJMzHJ+xUkYJCxx85DiieWBK8V3u2iASfTqGDsJdhi6aLmJOWVnhcF3KCBcOeCXo4CcIXYDydA7smqAJHccfSnddjajL5FJZuAlXcY8T6swpjewLt6rcjEnxXD2qO4REkHMxyrExpWp9eouFNPGhwAdPxBhxGN8C4m/lizrNvyTFA/pN9jFsWC0KLTdicT7D0JyfFa6wBsQHo78xP0xi90Ut4njmxBa3WgnmHSNl2OPCxiOAGJHRiW7PPHyIBWQoIgIGihWZO2hMTIRiFdoBd7UMoEAlKHzY798SFTOycdDRMPLR6uA7xBUxGpknze0pkfTfpbxr/BM9CQSW4WCS2Dge+u05EJ8A5RL47oxLQqU/HJEhCoUQDAdyTcgewjHh8AmTcmGYIDiWN0W33P5h7Gs2eEiqsNAIxYCGwJCrVRyKxdRrw6Vw6GR/BlsxSHbVwBIhievT+lkRRa7kXiMM58gFq7MY8TYdmEWOuszc+oayRik4QylzPveAUKJ3EGlhnKG5vuRaZxGdQVtPQ7oqd/T3s+50KfF4MpdCpSeOSxXJgOhijlyQJ5DVzBAyIz0xOkNyS6vNAt3cW+5iciAScSYiVMRtyJSb3qJaWo5I4yipafVV9k7J7JxE579eenzsd+K46k4QIwGAqFMTBZAcyZWDvZM3ioaM2AMB6a4DLffDMUVKOnDw8hR2xfSrAdwcMQRyURpItyCuMxIbPv7a2Vo4cOSIlJSVy+PBh/XzqlFXHkO+PHz+ux4uLi/U8X9/jUw2+6aRIHrcANG/ePLn88svl97//vfzlL3+RmTNnSlWVNXGjublZ3n//fT3+ne98Ry6++GI5fdo3Qu4C31BAhG4TEhLk/vvvl2HDhsn+/ftl5cqVcuutt8qKFSv0iQF6zpw5snTpUnnvvffkb3/7Wxf4EYql34/18ccfy2OPPSaZmZkK6rFjx+S+++6TDz74QBoaGjSxs7KyUjg+evTo88A/ceKE5ObmysiRI6VHjx7Sp08fWbx4sVRXV2uF1ZCUX/X7rbou8KkHbr/9dnnttdekouLsJI033nhDnn/++XOOUSp3/Pjx54F/4MABeemll+SBBx7QOrvcC8IpLS3tAt8nBNrxpEsuuURBYwSbxuh95plnBAXPNHfgx8fHy5VXXimxsbFKLPX19cIf8r5L5pvei9DtpZdequADmGm9e/f2Gfy8vDx5/PHH5cYbb1S9ITo6WkUEVkIX+KZHI3R75513yquvvnoOi4d1v/DCCwqieWx3Ix+iKSwsVDn/7rvvyi233CJPPfWUFBQUKAfokvmmByNgixKH8nb06FFV8Pr27SuPPPKIpKen6+eysjK555575KOPPlKZbR7ZHfiYgvgJUPCQ/zNmzJBrrrlGVq9erce7wDc9GAFbwB0zZoxMnTpVmpqaJDU1VcGH1ScnJ8vs2bMFbrB27Vp9Wtg3ozgpKUkY2b/97W8lMTFRNfyamhp1/qxfv17vs2vXLgWf6zkGUXSBHwGgm0eARcPW33nnHWXLjGhsemQ2Dp4rrrhClixZco6T58MPP5Q//elP8uMf/1hw9Pzyl79UAsnIyFATETaP8wcfwHXXXSfDhw/X67n3W2+9df5KG2iTUAZKARTY9dc2fYCMxnuHy9Zo5Izg8vJyFQVwBj4DHJhwDnY+xzHfcP/iCkZ0YCHwxz7fI0q4D/fn+rq6OnnzzTfPBT8/P1/tSOxJvoQ6uv46Vx+Aq/EX5OScLRDdDTcitiTuQvzGXX+dsw/At1evXpKdnW2kjnTDlYhGuWbNGomKiur666R9AL74AFAqTQtodS1zcde24/RAl5On42AV8iftAj/kXdpxbtgFfsfBKuRP2gV+yLu049ywC/yOg1XIn7QL/JB3ace5YRf4HQerkD9pF/gh79KOc8Mu8DsOViF/0i7wQ96lHeeGXeB3HKxC/qRd4Ie8SzvODTsP+CycwApburhC8OXIOw6EgT9p5wCfpU/qj4mkTLLWw2E5U+eyKoH3Uae9snOAz6JHWz601rJlubSVT4qwwHJX89gDHRN8RjWLIwE6K2ntmiky9SKRPqyk/RmR+bcGtOSZx57qhF92PPBZ2epohsj6V60RzpKmrHHHIoesoTv0x9ZiSQVbRbKXWStas24OoqGrndMDHQ/8+gqRbT1E+n/dWumS1S5blz3tbi2KuPxxkSkXiYz4T5ElD4jkrREp2CZSuttaccustgUHYSUt/j6FOkLHAV+BahKpOiCy+gVrpLeC3s1GAI59FlXs/TlLHLA8anRvkdrDIqebrZW0SneJlKRYVsKnjAA6Dvgsh5q1RGTdKxabh8X7Ar6dM7DCJosnb3zH4gIpU6ylUgd/XyR+5KdOT4hM8OuPixxKthY43LfBGpWb3rPWsx34LWuJVDuoPhGBjSMM+5HIgjutpVP1Pt1F5twocmzfOTKxs3+ITPDT54lMv8KS3+P/RyR5ksi431pr4/oLtKvzsQhUHHz+LPdAR8jfLMLauSXJ1hKqnVwMRCb4M65qWeu+m6XBj/mVSD8/17p3BbqnYyiHi+8XmXaZCEuus1hymFbXjBSOEpngz79dpO+Xzo5KT6CF6jv0gV4tnAB9YsEdLWIgkmt1BUdGkQM+dnhTvaWFM/Jhy6EC1qf7YDK2mI0QwpSLRfattxxJwfVxxF4dGeDjrWP1athu1Bsiw35smWY+gWZT5EJ2fncR3MTjfy+y+nmRQ0kRC2AwDxYZ4JekWrKWEdfvq9Y69iEDMkjiwDew9p/B9HHEXhsZ4BdGi0z4o39sHo29p41VQyx8hoD4LhTEw/0GfUdkxRMRC2AwDxYZ4B8vEFn6sO+A9bpAZOC3Rfp8UaTPl8+agAR2EBl9v+z7vTwRSe8viMy92fIABtPLEXptO4J/xlLu0udamvXkv4n0/qJ30AB2+uWWNaCjHw7QwgXG/kZkyUMiI/7LEh34/1VxhCN8RqTX57zf304MXDPtUpGi2AiFL7jHah/w0ezrykRSp4qM+bXIgG9Yo9UXDZ/RPu531nX9viKCTF58n8imd0UyFlmewYTRIiuftly2mz8QwXScfb0V7wdQAIaIcPXawXa1P/Cb1v01GNS5zL72Ab+mRCRuuMiI//DTpOtuKYRT/mYRztKHRNa/LlKabiVvEKzBK9dYI0IsANMRIqsstJw2s661RAVKJe5con+wdmPiuQKfY8N/KlJ1UITnJmOIsHInaO0Dfs5KSza76+zzjgP616yRixsWUdF0worR++qCJbOH0O6kP4vgR9gXZcny0f/PIgBVHt1YBih9cSMsM3R7P5HyHHG7EnMHIor2AZ8kCyJp54HspvPxuG36QOR4oQV6ICyYNXPgDBCNcSaRCZQwRmTMbyziMiLB+VwcR9zAJeAayx+z7tGBgHb1qG0Pfn2lFUCZe1OLqeYGcABAQRv6Qwug6oNW0oWrtwj0GMQAAeRvsfQIb+yfZ8KURIc4ebYQcqA/397XtS34dHbadJGpl1iKmnOEOT+jAHIu8ptrw9EQG7VHRGZe7Zv+gXjAJ7F7ToeP/LUd+HRyVbHIrL/77sGDzaLZo8CFrSEOmkS297V8B04CdPUZohz1Cys1rPlsNeywPWKYbtx24DNyMcVG/pdrWc+IwnnTynq7iwz4lsiKJ0Wa6sL0+rbbZi+3zEf0C/UH2HMDnaIJz9+3RTApmSjSQVsbgt9ksUrMJlejCW2exA1jegEA5lhtadskV2LGRb0lMv6PlmMHBc/Vc3Ksz5dEMDfLMkOvh7QhIbUd+Gjo8aNEhv67607FNTv2tyJj/tsigEHfE1n/hlfgWSNvZXKxrnWbe7haWA0zoHaqUaT6kMjhNCuTZ9hP3CukI34mkjrFshwcK28G9NvtdFH4wcebh0aNXY3/nlCpqxGFOaWzbZ62TKkt/7KSLD10DAscRqWXyD0jd+i6tR8u2iVF5UGKCFUAj4p4Ap88Qsy9qiJLJJ3pmHMCwg9+Y5VIxsIWd+xXPUfc8MWTqHk837KjvYwq1sqdtaNALu+9US7qESVPTY6X5IIKYZl1/iAOvx2ygI8Xb9L/ieA+dkWoHONZySTOWmZ5/tpwUgjLtVbUNOrKnsdqGwNeqzf84Ffkisy6xn0n2jsXf/vCuy3262HEm68ANmFfuTw2IU5XyWYhYzjBxM17ZdKWvbpSJgTgd2MkM8lj6sWeiZVnR/5v/TjMFon1BqzLy9KwSfvLpc+KPfL0lARdpRtCD+At22CNHbJgJv/VA/i2mDxTrphhg/LlY2Nt3ON1J3X16qT9FfL8tERd2/6mwdtk8Oos/c7HW517Gv77Hf0tl7KdQJ37iCtiBPgiwtjgcvlHa2Xo2my5a+QOYbn3y3pv1NXBdx04Lnzvbwv/yE+Z7IP93GJWIfM3vO335AlGBOvdD12TLdcP2qorY1/Vd5P0WJousMWA2+FdVgq5E3D7Z7hVzCBL+Qv4h7xfyArd/Vdlyo2Dt8olPTfoO17cc4PqOvtKawJi/eEHP22alQ1j7zDn/pAfiMz+u8jKp0QOJfrsNwd0tP1t2Udk5o58uXfUDrmk10btmGv6b5Zp0fsDH/nggeyPHeQ5bZykkt2zvaMX5Bms3P3ugjTVb8yy71f02aSrgFfUNkYo2y+OExn/B/dsn5FD4qYJy/rxGph1C+MPyC1DtyngplPYXt1vs/Revkf2llbrevYB933eaiuk6yRY8xnwmWQSxsYiSoz8GdH5qttc+HGUvu+1/TfLyPU5Pi397urxwj/ymfww+lfuwSdT5mB8QCHS4ooT8vb8tPOAtxMBSlHGwSC8cKRvY9cbsJ1bAj3kJoSxodeg2L4wLVGuH7hVLmph+9f02yz9VmVKVX1TQL8eXvCZc4e9zuh2dpp+7i4y8yqRo5kBPXx1fZOM3ZCnyo8dcPv+/aNjJH5feUD314vwUSRPtJxTzPY97z26iyx71CoSEfiveLzy0HGLyC2TdoOYkX/9wC0yc/t+qW0IzLEVXvAJwy66x+avd+Ejn3ODSEWex5d392XzqTPq1FkUf0AeHhcrl7bIezv4Az/JkoPHggi/MnefGj9Rb1qx/PPA72bVAcDPH6ZWVt0ofVZktIJu3g+Z/8qs5ID1mvCCT8aLgu8EveUzwRwcJfjvg2ilVfXyj5lJavqYjjHbmdvz1d4P+PaM/F2zRCb+yT0Hw0TFe4m5F2JvHyw9p6RaZu8okAt7WLLevBufr+q3SZXeQN4vPODjmSMMS60cPGWuRgv2MR60g4kizYGbY2j8heV1ct2ALXJRD8sEMp3DFtfvjtyjgfSNdQ2zdpm86eodzDGImHxEsoJCmN+Hg2rNrkPy+pwUuWvEdpe6DfY+nO10AM6s8IBPBwA8tXJQiEwn2bfoAcT2/XDouEKwrrFZ1u46dB5LNAQAQSxOKAo85e5olsi8WzyIrhYuRnoX550MTe4BwB86dkIeHb9TsOedo968Hzb/0sSigDT+8IBPntzmD0UGf9c18BAB8XCqYQQZD29sPi3bc47KFX02uuygR8btlJSCY67oxrdjvAuRPuYK4Mq1E3DrfneRoT8SiR0iEoLkDoAvr2mUvisyBHPOAO1qC/i4tStP+F94Mkzg14lsfNezcwfCoOgCFTODaLA7Rsg78891gJiOemZKfHCmHs+G3Md/P+CbbsCHmL8r8skLVlzCFHwK8L3gZut2lcgNg7bqqDfv4mp7ee9NkpxfIQ1N/kcWwwT+CRFSnOmQ1tHhUPpIh44dHJJiiUeqGuT5qYnneL9MR2EXr0/3PVbgEi9M1ug+IoRy3b0P4g2HD+lgzBUIomG6rUguVvCxYFzpMrwfJt9VfTcHrNCGHnxCooyUVc+6GSndrUTJkf9p5d8HWf0C79e+IzVuOwh5uTy5OAgoRKTuiDVrh2wjFFXVY1ykeZGGNurnlpgI4hdh+6VVDRq5e3BsrHr1DDHbt+gBuLFxcQfSQg8+c+2xeZmCRUc5RwrJj2TK7llgacYQS5ANbffmIdvcssh5OwsDCny0PhaiKXGMNdeA0T3ql64zfXlfpo8dTBDxw03d+ju2HawYWHlM7lF5YEyMS7mP0+e5qQlyrNZ/ec9PhR58KlrNu9kqheoEns900Nj/tqpj2l420F1i2cuTitXB404jfnZqgqQdCELpI/kUVs6Ezbx1Itt6uiZskk/JPcxaGnRuH4osJurTU+LdejAheCwdkjsCaaEHH9MNxw2TLVy6Q7tZUTLcuhAKHrQgGuHMl6YnuRwZhkVeO2CzDF6TFcSvtFxKtg5hXiZ9uiTslmlle9eLBKn01TQ0yT9nJbtl+Yizh8ftVO8eYiKQFnrwMXXKsi3PnqdZsIRxd88KuuJVRnGlpm8Zf7cB3L69vM9G6bcyI5D+Of+aPfOsnH2X4H/GcvUSzApyrgFxiycnxsvlfTa5JGwsAZJVgmmhBx/3JlmwZO+4Sn8mLx65Two3uX1BKnzkss3eka+avju2TwCEtK7mAEdIawfzbplL3M89MGJt5rUiB3a0XhbIDpG8qPTDcsfw7S4dWHj94HqkdQU27sMh8zGL0ma0KHwOjRg3KDXuqIefNK4l8zU4hc94wl6e4dq3Dwe4uMcGQe4XlNUKilTAjfLuVOrQSR0O09XOCZjTHz8i4J/hQvWQN51SRw8BHDsnY58UrvtG75D1u0siSOaXk7B5bcvkCxcd9Mlz1tRosmRC1EjV6rV8j1v5SGfdNHirTNm6TzsqYPxR+Mb93rW8V/BbFD6CQKSqB9Hqm04psMQmkO9O8A0BPDgmNuBUtdCzfVyhJG/A3u2jwewzv54q1yFsuDZh69i8rjqJYzhL7h65Qw6U1wXO/qnQTUaveRfnlnce+zurrBwmb4BNudnxE/LQuJ0uHVfmHRFzV/aJpKgewDIfT+fduRj5lDnNaLHxA+wc52UoR4zqawdscQs+Hfb3AVvUzx+IK1R/s+6oCIs7uPPxo8tA3GXBKWJNp05L1qEquaqfe2LmffDrwxmIAwTSwjDyUy0niDvwGS0ka5IgEaJG5m7UbssXbkaFqy2dOXXbvoCTH7TkC8UiYevOUd/6ubs13z8I5xUjHw51w8AtLoNV5t14n38t3h1QUIeuDz34lQesPHZXmr7poOmXWeZgiMBHiSMYQnarK+XIdBY+ckZ/TkmV4BYOqDFFa8Nb7sGH9RPdqzkU0O25qLaxWVanHXLr3DHvQ5Iq4OPoCqSFFnyondRrqmS7k/nY96x2EWQo1/myjBZCoIBrOse5RXG6bVi07Nxbpt6zzZml6hfnWp8bjqn5t7kHHy8f75+52OdbOk9Eh5mx3TJfne9g/0zW8o6cowFF9PjN0ILfcFwkaYIb12eL/Me1G6Qm7OwsPgPgqKgcj0ofXIEZLyOjcuWR8Ts17292TIF/ncciEO6ykwxnY5InZeYCbET1liUVe+RiEDJBH/wcgWTx8GihBf9IumXmmU5wtaX6FXIzxI3pSrg7zaQN+wgx+7DJ6dH7tdPQ/iGGF6cn+pf9iveOOgKu3o24BRM4yecLMCMZImbkJ+4vd8v2efZbhmzTnP3IcfKwUgVlVFx1jDmGk4S8uBA3NOQnJ8V7BB/HCM6gj5eky82Dt2m8fMLmvf45SVjWbcHtrt8RK2DV09bU7QB1CuT3nNgCnXTizmN5+/DtsjLloH8cy0V/h3bkYwoxbw1HCPauq9UxKKmO+zfEDaWPyRnvLEhTUM1ot2/pTEY7M3l3HTgme4oqVfP3y+tH7IJlWGZdd745i+ePMu1H9gT8doVltfLi9CS50EUyqnmXviszhFz+gJXWlqcLLfhEskjDZkFDqm65qr8TNyxof767nsV+xz5+aYbnKB9BnpLjJ9Qv7u5eHo9TKHrxA+crtbB9MpSYohagqQcBo48YoJ1b6hBgCQQaxrW/V2jBN3cm9EnO/uT/O6v84den8GLe2pDntpufZYurd/i6HLeZPXQmRRzyDgeRO4i5R2UOnDpGnOm2uxXMIqQbYLGGDXsOqyfSCbr5fFmvjZK4vyLgYI69r8IDPr8A5S972JroAPCkahPnZ9SEsTH6V6UeVJlpOsy5fWhcrKQVHg/8KSjliik37KdncxZ4R4pJwe3I5Alw5K/bXaLmqPOZ+YyGf+vQbbK7KIhnt711+MDnR5jEwGQGgCf1mUSPADvF9swed7HYceI8NSnerXcMZQ+5H3BDmSOlm0UieD9GPU6tSX8RYR3AAMPU3DZub7ncN/r8tC2AR8NfnHAgYI+e833DCz4K4P4NIszRR0sOMmvH+fCuPuPpmxtb6HHkYyoxGWJZYpEWdQhIMYeIG6pFZqP4fdaS9WQsE9L2g8Ax7YhNMCWLGgNwJWbhOEc++XpUHSFT2S+nlKtOajkWXvCRTMzeYST40SEentfrV/j5CfIwUpwdaP+M2Uctn9TCY4KZ6HfjfQCa2gPEMVD01r3qd4UOqoeNWJ8jz0xJaE3Vtj+n2cdziROL9wtVCzP4oXpM3++D04OMV+a2eUrtolNhowHby4BPqhYFpKktyKIRzEPwY8YOptrGPYc9cikDPtlIBKVq6psCn3rm6MZOBz7vR4iT+L67yQ6mQ8mDw8mDOzUg1s+PEcLeOdRya1PA2Q8Oh38B7Z6pZuaZ3G15FxJSsFKYmh6K1inBRybmzNYqCQAAIABJREFUH61prWDhqUOZ0RO3tyxwuxnfBvX7GfF+AG/Awy/x+IQ4t8qp/dkJ4SblV0hjc2Cp2uY3zbZTgs/LHas7qVObr+3veuq26dRLem1QjxogwFJDKVNNJ3vaJuyvUNPOk4hC2btzxPbW0nKBBnKcz9FpwWfSA2ndFGR0N7cdAjAuX3IASYWeG1ugjqJQadTODodhc2+0dmoKMZWMgJMhRldbTL/VqYek5Hh9yDR9nqvTgm86nQKNA1Zleu1giIC/24dFy5asI0LqdDgalgWgU2aFINMDY1yXkzFEQJQSwqQaV6hbpwefDksrPCbPT0vwOLpMZ2NSjd2YJ5V1J9X3HyoOgELJvVBGh63N8YkY8UeQfIIvP+g5By4op9ODTwCEBA5P6V0GeLb4B64buEWInFHBc0tmaUClTZ19TaiWOfevzkrWcmqe/BBo9ncO366KKMUXeYfQ6PfnPlWnB59CjT2X7fHq9LETAOwfOQwXYGYMyZSBNkY8Hrzo7KPyxMQ4JULub/895z7KHwS4NetI4OsH+PDAnR58ZCxFjZCvpD15s/2dQFDijQKIsGx/Rx+sGjZPGdjnpiZ6ZfXmtyEOfBA788qCTtjwRAOdHnxeHvONJInNGaUuy7WZTne1vXHQVvlg0S6tbY/30JcGwcFx0OgpBuWtro7zd6mwCaFSdCLgOQY+POinAnwlgJOntECzu1mvTgDsn/EVjN+01+cyp8wJ/CT1oC79cgPlUj1k5dh/x76PskdtQSyDcLVPDfiYfFStIqBj72Rf9gGCkThuY56ORjhAU/NpySutkSWJRRqGJekS50tpZb1WxYRjUBvX1Ml19zvIdxxNyHi7EgjrR0nFVxGw69kL1XxqwEdjjs0rU7lLx/JHZ0MMnrxrgMa5EAByGN1h6rb9EptbJq/MStEp1ISHiRFgGZAKTr6AO7BdHWfaFX57pmOzToD1fBs0DZ1Qb7japwZ8Rg+j/x8zk7VaJ51NmTYKM9tHnCtw7Mdg4VgBXAdoEA7XI9fxJLLCB4Riv8bbvrkHcXz+4Bi4cz9ctFt1jS7wQ9AD5PYn7C+Xj5bs1px3wqmUcPMXLG9gBvM9OgllZph3T6GpQJZP8bWrPjUj33QIchltnLAo4VEqXZmRr+y2ZSGDYAD09Vo4h1MZxKM3v6V6WLhkvemLTx345sXZ4nyhXPvTk+PlrXmpMmJdjvr2fQUvmPOI4TN7iEJR/P7QNVn6LCwShXhqi/apBh8nDG7X7JIqZbEHymtlxvb9Kr+dIzIYoJ3XIuMpFEGpNQooZh+qUp8AzwKbD/eIN4T1qQbfdILZklYFGETcqPLBBAkncMF+VuVwwBYZtDpLq2ya326PbRf4jl5HFyCY8ups9zXw/CUAuAj6BNdhu1NHAO9fW41wxyu2fuwCv7Urzu6gFDLzBz0gWPYP6FTKZEUMwMeUw11MplF7ty7w3SBAIOfDxbvVQwerphACDhhjGfgy+jEhsdepp0d4+Lah0eoLWJJgzRdw89NtdrgLfA9djev24fE75d5RMbpmLXP8nO5hUqohCogBLoEDCI8fJiQhXNK0yA1kKVT8/SRmlNU0hiU5w8OruPyqC3yX3WIdRPnbkH5YJm7Zq5M7EAMmQoeNzkiesnWvcgjsc7gDNXIorEAYmDl1RPf8mgLu4XlC/VUX+B56lKlfjFxm07w6O0X99/ePiVGl7aYh2zSow6gmmMMEywVxB3Q/HClXHh4z4K+6wPfQddS2fW6a5f6F3Y/ekCu7DxzXAFF68XFNr2JUox+Q8EnwKJCkDw+PENavusD30L2kSr+7YJfKebR0pnZVnTipQIfT5+7hkUL6VRf4HrrzxMlTOkOGYg+Tt+5TB1BHYekeXqv1qy7wW7vC9Q6OGOz+SFXaXD+1b0e7wPetnzrlWV3gd0pYfXupLvB966d2O6u5uVkyMjJk0KBB8uqrr0rPnj3184kTVmLnqVOnZP369dKvXz95/vnn5eOPP/a5RFsX+O0Gq28/fODAAXn33Xfl7rvvVmCfeOIJeemll2TPHqvWH+B/8MEH8vDDD8vFF18sf/vb3+T0ad9SzLvA9w2Ddjtr+vTpCnx0dLQA9N69e+WWW26RIUOG6GfC0Pv37xeIZMSIEeeBzzW1tbVy+PBhKSkp0b+KigqBo3SB326w+vbDjz32mI700tJSvQCwn3nmGfnHP/4h1dVWZi/HGhsbZfz48eeBf+zYMZk5c6ZceOGF8r//+7/6xz0PHTokDQ0N8vbbb0taWlrrw3TLysqSZ599Vm/Ijbta+/XAVVddJW+99ZbU1Jxdmh25Dj6MZNPcgZ+amio33XSTrFy5UrlGfn6+5OXl6f24pgt804MRuEWOv/POO2IUPB6xT58+8vTTT0tx8dk1gt2Bv3v3brn55ptl4MCBkpSUJAcPHlQxgDjoYvsRCLj9kf7+97/Lm2++2cri+Q4Fj5FvRAHH3IFfVlYmU6dOlYceekhQFuEaUVFRUlVVpdd0jXx7b7fzPpp6U1OTjkpE7nPPPacmXFFRkZpwfAeImH0ocqa5A597MMK5ftOmTfLKK6/I5ZdfLrGxscpNusA3PRgBW5Q42DN/aOQLFy6UO++8Uz755BPV7jHxbrzxRhk9evQ59rw78BEXaPqwee63fft2tRbmzZuncr8L/AgA3TwCchwZD3tGG4e149i58sor5fHHH5frrrtO3njjDUFxowEqWj5s/Y9//KN861vfUmIBVEzAzMxMeeSRR9QPABdB+XvwwQdV+auvr3et8GFO8CU3hxV1/bVNH2CDr1mzRtatW6cyGZaNbT9nzhwZNWqUTJs2TT8zoo2IwMPHdwMGDJC+ffvK4MGDZfbs2WoNHDlyRLnGhAkTlFtg9qWkpCi24IslcY6phymAQoGZkJ6ert4k2E3XX+fpA3AF39dee03dxYbzdMMcGDdunLIbWE5n++vRo4eyVVgr78aWY768J+d++OGH8v777+vfRx995PO1vty/rc9BdygoOLsGQjfkBEoGtiTsHy7Qmf6QgcjO66+/vlWO3nffffq+3t7ztttuk5/85CfypS99Sf/wpeNX93ZdJH4PvsQM4ACmKfiPPvqoKgyYCJH0h0iKiYmRrVu3Cp5If58NJYjAyM9+9jP5/e9/L8hCZN6+ffskJydH4uLiZO3atXrvwsLC8+5PRwH2t7/9bSUCtGau9fc5IuF8lMaXX375XPAj1b2LghIfHy+MUrxWixYtkuPHfV9yBAUJheqvf/2rfO5zn5PvfOc7ai9jXqHYQlQPPPCAXHPNNTJx4kQ5evSoGRCtW54BeTl8+HCZNWuW4EThvh2xdSgPHx2NCdO9e3fp1q2bgoTmio6Cn5uXMbEIs7WDAkh4tmD5//Zv/yZf/epX5YYbblDKh4iQt5///OflggsukEsvvfScEWG/T2fZ73Dgk7TAqOWP0d+7d2+5/fbbVXbDpo13DO8Xjg/nqCROhQPl/vvvly984Qt6H/znEBFhUgjii1/8olx77bXnaMGdBXD7e3Qo8GHNjPJevXqpo2Pu3Lk6Qr/85S/L17/+denfv7/KbzTyn//853LHHXeoJmsIgJz6Q8dOyMGyavm4Z2/hus985jPywx/+UN2dOFiIiWP+7Nq1S21he2d1tv0OBT6dzwPD/vF8kd6Eq/Ozn/2sAonZsnjxYvnTn/6kx772ta/J8uXL1Ydd09AkGzMOa227V2YlS7+pK+Tv198ov/nNb1RTJxmCe1dWVqo7FK7hSnTwDOgCKHrvvfee7NixQ6/piITR4cC3dzLye+nSpeq+JLkBe3Xbtm1CDPyb3/ym/PSnP5XNmzerm5QJGMyjY+YsM23fmRkjn6zbqADiUSsvL9db0yH4wnFo4R3js73BRbZs2SK/+93v5Bvf+Ear3mE/p6Psd2jwGZkQAKMWhQ95j+JG4sJDjzwq/+o9QPIOlGj5VSpbsYAyy6rw12NerPTqN0j+/Oc/C7Y7YBP4YFTjwLn66qtVn7AnTAAq5yBuEBkonr/+9a/VfdpRALc/Z4cGn4fHr/3CCy+olw0zDoJAthdV1EnPpXt0Bu32nCNCSdTY3KMyZkOuzNyeL9MWfaKjF6uBv2HDhqk4gY2j7XMMXwC+cGdLTk5W4sDRQ7AE33tHbB0afDyRxmz77ne/q7Y5MruitlHr7FE2/aq+m7XCFtUtKZRApcz9R2okKXW3XsvoxeybP3++6gY4cXDgQACwdnQIomsom0YHwNZHNOAkgeDQD+yN79FJsD5wHI0dO1YTKBAjkdQ6NPg4o0hMAEDMszFjxqgYYJUM6uxe2muDyndTE4c59XeN3KE1cTam5su27Ts0JWry5Mma0AjAgDlp0iRNesCRM3ToUHnsscfkX//6lwLKOe4axAEh8BxYGmTZ4kdA9/if//kfmTFjhrtL2+V4hwYfrZ9YNqP/3nvv1cREOp/p0ozufy3ZrbNsKbl669BoYZUqyqBBFEPWZEllbYPU1dWprmBGNQodI517IwLwAWBNYEquXr3ao/nHtXAEcw1mJE4jiJPr0SUiqUUM+HQ+nQd4bH1thsWi6NlHJfdrOGnNmT9QVqdVLe8ZtUNLp0AA/Vdlti5IzCRMVuNi2rV9QibxA8xGZDtmI4qePYvW+Yw8NwoiiReAjTXwn//5n/L9739fU6ZRRCOpRQz4huUmJCSoxu4PAQC0GbmuOpfv4ARUzMbMo74e6+1ShhWPHytqUkU7fl+51s8x94CgYOF4+4jKAayn3+E6vidXjqRLwr3oBbwTDiQ6O5JaxIBPsAT5+Itf/ELdtnwOVaMuDsDeM9Ia+YA/blOego+IgBBYu47vR0fltv4sZh0EQAQOdu4reIgS/AboD5ifiBHuZSccgkmrVq1SbyXEwvdt3SIGfBIU0bKRj5hYROx8bcyfZykVFjww6+ExonW5k8ZmrWDNGjdG5lMIcX5cobJ4CjC8NjultcwaiypQiIl7hav6BkTA9CuU1R//+Mfqos7NzVVC8fWdQ3FexICPcoXD5Qc/+IEqTMhbb431ZwCKBQmWJhbpeng7co7KwYoTWkWTxQ+WJRbpuvOmmCJsH9m/Jcua/gT4KIamnBoLKuALwCRkidVwrHGDSMO0JP6ASfkf//EfGk6GQ7Rlixjw8dThmmVmCYRg5qF56gwWS6aG7WMT4nSpEqpdsiz6h4t26SqaZjEEauRZWv5GuXvkdpkTU6DlT7k3RZRYeo0FDkxhRVN6/f2Fu3QJU+czMHKNNxGxgNLpr46Cj4Jo5I9+9CO55557VEzYFVbnb4bjc8SAbzqUjnTKR3cvPioqVyiCaK+KyQjHfw+LN2Cy5dgj43fqGnmMZqPVIy5emJ4ozoWXIBYUxIKjZydGmOfgGcn4IYWLwBCJH/YJFOY8T1vekUmUuKYhfH+Ix9N9/fkuYsD356HNuaxXh/0OsKxrgzcPQmDBItbE1RHfg8qYUXLr0G1a3x6dwD71FLm+KOGA3D8mVsugv7dwl7wxN1VYIIkVL6jD56x/j6fu9ddfl6985SuaE3Drrbdqypt5Ll+3AM6fXRH09dpQnNfm4Bvtmbh8sNReWFanfvq+KzJkwqa9ytIB3z7yYeGsXDV8XbbW1DfFlVAIaXymyjYaP4Efyq2lFByTe0ft0GqbiBRq5xqzkGsYsXj+vve976mSSiIkU55p7QWk/rif/9oMfDoFdomvHBlH4iAsD9kZaCOAQ3Xs9KJK+Xhpuspt2LWd3bMPd4BLsLIGCyqwsDKBHmL8sH+Uxg8W7VZz77mpCRKTe1SvgZCov/fPWcmSnF8hVOSEaGpONEhK5j65+/EX5a4HH5PNW6NVZiPHyRLCH+D09wf6juG8rs3AZ5QT/SI3DnOO5ElSsgjEOBvn8mB0oCfiAAwWSXpzXup5gBvZzxLklDxnCZWF8QfkyUmsZ7tRHp8YJ2t3HZITjadke85RZfkQCqtjYQYS+yf0y30gAlbjgiOgILLSJd/fMTxahqzJlsKj1Zo3gI8CbyDZwfgGaLyLupwbG8/xQDrfuT0+tyn4eLuuuOIKTZ0CfHLmUHacjZg604qpRUPIlod01VgnDyXOXgkbeY+yR1HkEetzNKSL2UYRRVbP4HtEAaKBOrpr0g7pOnkQCCBj56cXVypHgQgopgxRQAScT9Vs7oevgPPvGrldVsTl6rsQA4CwqYCBHY9ShzjAgiHFzJ4f7+p92vpYm4Fv2P6KFSvUVcocc5Nw6XxpUqKZdIhPHI0aNurKDNqcWaqAoNABOLI/Kr1Elx5PKzwuZdUNmrO3q/C4igWnOEDDZ60bRjsExB8jGo6Se7haZmzPV+ICZK7lNyinbpRJjrE4UvK+I7JhwwbV/HnmJ598UrOK8PKRb4gd/+///u/KEUzGkPOd2+Nzm4FvXo7ACK5S4t3ulCMSK/DyMZLYkp7lCnzWmR26Jltr4vdavkfNMipgs4QJ8p1WUWPF9hnZTvCdn+EKLJYYnX1ENX7i/9TPN+DjC0ARNEufUmZ9455SrcdLFHDJkiUaCyDUzERKrALSywgKkW1M5NHVXADTN229bXPwfXlBSokwjYhkCqYj02GwT8QG3ALCUTu5tlHlOCHblckHpajc0v5ZIYNFCbHn8f6x6AFAw7pJ8OAPts8xRABKHQ4hPnP8lqHRrYDzPdfxHQsoTNu2X+1/Rv8QFkmqrFc3MCYjkUFjRfCeEDr5gXAx3oUgEUpvpLSIBJ/OwcMHyARJ8PyRo487lJw52CojbVlSkbJgwEGe45ZlNKLxM9IT8ytUOXtjborG8Bm5Az7JVK8g7B5AGe0spsRSqIgPjpk/7oNsv7KPtZIGRMWKGQfK63TN3PXpJbKnuFIXO848WCW7DhxXgrMTANyN93CVDNreRBCx4KMlw+ohAuxo0rRgnSRHoCyiCH60kBWwLLcsrBkFz8hjRjIEwNIm1MhHs2cFDBw2c3cWqpwHZK5Hi395phXuNcCzvWHQFl1vl3td1DNKlT00fZZTRxxgDaAv8Dv8kSo2KipHymvOTeviPXgfd2KuvYggYsE3HcLIZxIGAR80aWbZkCCB5jwzeq/cPmy7KmoPjY3VkTd4dZa6fAGPkQvLT9xfoXKZRQuLj52QfiszVG7DMQCRVSxR3GDxdvDhJhAAx/kb+EmWZBysFLyA9vPMPiIDlzDix9+Gz8nuefT3+kDOj3jwsfNJq2aOHrl0TBnHlw5HKK6oU42cRRCR8cj3YWuz1SY3gMCyP1qSLlgGuGoB7rEJO1VzB3wcQNTTv3Hw1nMABUi+g5NwHvfhd+btLNRAEKYkEUDOM0SDiMDux8rwteGoIny8LeuIehIRKyYs7es9Aj0v4sE3LwbLdMU28dChbLHWDSMTQAzwZgtw1w3YosEbuweQfWQ+wAOiOR8wSex4flqi3g+RguZPRBBnz32jdyghPDUpXokDExClET2CQBAcBvFCFjEhYxNEMu9i35JFhO8ADsQ90Csg6rbgAh0GfHuHOfexy5HtyGADYDBbCIGw70szklpHNfczIxyiYZ8thEF+ACtvESBKLzquK3KRIPLkpHhZ22J1OJ/ZfC4sr1OzEu7Cb0AAA1Zl6irf5pxwbTsM+IweVyOfgAt2/awd+XLtgC2tHcgI9ZcA8O5hMTASMeFYUOkqW5wfYHANG7vfEARuXmICD4/bqUofEUHO5VqOwwmczTiSRq7PUdPTPCtEgPVRf7I57KM/4sEHXNanG7cxT21s9gnKsNARLDNub5m8v2iXKmzIZ7RuRqFz1JrO9bTFVUxUj3gB2b1O1/GTE+Pk7XmprQqluRecAnmPh9AuViBGIoU8Jw3xxJzBBfEHVDdgyTanmOJ6lEbmHthNRifxhOJzxIPPCEEOspghcpuAzIvTk2TSlr3KYvHsmZHIqMT79sDYGPXEKXtuce4YtmoAc7XF+YMHj9FqjxeYcwGK70kgMceQ95iCPAMEYEQDwJMXgJkJ6Ch2AI9HkuvtiqK5l9nyjnmHq/WaUIDs7h4RDT6jHuWHWTZ0rsrZFnOMz6RwMerpdP3e5qAxHQmgOHBQqHwhAHOdu639GTgH5e/e0TGqED46PlbX3uUcFmEkPoDihvbOexBVxBfg7t7mOBxsxo79UlbdGFbZH9Hgozn/c2ayjhJGF6OfkWY6CcVoU0apBm3uHL691UVrvocgkNsJ+8tbTMBtrSMTgDTC54JgzPWutngBmfFjvsM/QKLnrgPHWryEG5RrEBRitLMUW3TOURUhjHZfCJBz0BfenJvqMofQ3Uj293hEg5+Sf0yVIYDCNctK1HS26XhY6OKEIlm7q0Qmb9l3juIE235mSryQ7YPowPbGF4DZhzjgezv75p4QlsniNb/h3BpRYo6TRFJa1SDZJVUqEiA47ks4mAbLJ9fQKdvN9e62EADew72lZ+vs+wuut/MjFny0exYjNrIX9o2CZOLrdBpaNbb1oxN2qpIH+zedySh7dkqCOoGyDlapP55snBenJ+o9GfV28PkdAjfIdHMPX7boHDiXUBKvH7RVOcsL0xI1u4jOR3ThGEIR9eV+5hwIHlG1p7hSmk/5Pn3NG+D27yMSfIAntWpObEErK78UxcrGbk0nsWW0MUouaonMMWoAkz8UQLT/1+ekyFOT4zRke3mfs6LD3OeBMbHq/SMR1BzzZQuxzI0tOCebiEDSoePW6leAz5wCvIW+3M+cA/hwIkxPAkmIkFC3dgMfm91dwINUqektmbmmMwAUkCEAtvzROUZr5ntzLsevbgn4cMzJqs159i1TusnQIe3LHDe/yW8BhjlutnyPmGCE8pt8JkEEM5HCTwAG25+xff957mNzD29b9Av0Fvok1K1dwAd0snizs7M1Vs9D2BuUjqJ3sQ1QtGTi9kTfCNbgkMH2H7o2Wx0q9k5UsF2AZT/Huc/v4Siyj1A8hogUNHrEjp3AIAjEjiE+tnj6pmzbp4EigkmYa4C/KP6A32zfPB/v0n9lZmtyir2fgt1vc/ABnlUeqPvO9KzLLrtMy4NDDKbhFyeIYveuwcJ7LN2jkTuUoOSCCkkpqFBWDRCmswLd4rtHobQHeIjqoWACMmJF/e99NinxwcoBFZ8Ax9FF4By4d9+en6aZwBAUmcIrU4p9MvFcPfsTk+J1yXbER6hbm4PPfDTqwZPlSt0bChiQqEFNXNN40YyDVdqZKHmMKjoGuYx2j2k1dmOe9Fq2R+1rV53GKEUBhI1faOMgrs7lGOeiHziVRogOM5NnuGHgVv0enz2/DWEwsYPcQWx4PI84dVAcuSca/sTNe1UMQEDuftvdcUb91G37NCGlvqkTsH3SmEhnItGRapfUw6HCt6uiRkylQkPHd24AgLUiU/Gd2zvNzpI5Dmho9ky9NsRjP9+5D/dw3oNzkPXO43qshdsgDkjuOFZ3Uh0y+0prNBoIp8ASgTOgYLrSGZzP4Oozzw+hkSnkKTpoBo4/2zYf+TwcuXisCkEJNBYLoq6dU+6bl8BGH/hJpkbs1NybnCDvLEhTBct0Fh3LiLV3MKx43s4CDZJwnTnX3RbFzR4MwnKA4DiO29jddRxHZBDRa2yCY1Wq9r8grlADRLh4IURP13v7DsLEpY3SF0p/f7uAT4IGyY2kMTP1CVHgKmIHAaAxl1Y2aDBkSWKRdi5TqwAFzZ+OZWTagaczAQ+Zbb731sHcwzrXupYEEAAl6oYm7+l6noMgEIDjmoXw3l2QpmHmZ6eeFVue7uHpO54NDgIn7PDgm1Ht6xYCIBW7tqFJ5R+587ByXK14/uzmmadO9PadsRIgJKZ6M0+P9LDLentWKCEa2DOAGxFDEAoRBQE6xYa357B/j96AXkGmT6ht/XYZ+b6C7jyv+dQZyT5UpTNujYZPx5p9e6exD9sGUOdxT5+5F1zFAAYhGOeR/TpGO+ye0DEyGbkPATifhfuQFQSIEIn9Hp72eW4IifhF3uGa1rCws0+C+dwhwEfRwQLAcTI3tlBNLVixk9XbO9PqvLPiwB2I9mvY5774EZwgOs9Dx8Bnn1FcqbkFqYXH5Nr+VrKn/Vzug3+CFDNfM414dggFXwZmLb4C5iAg80Op9EU8+Mg4lL6Dx+qkz4o9yuph93cOj9YRau9o9kmxdkUUeN6Qxa6+s9+DkYoo8eU87oetj1+C2UOEl5UoHdyGexFn8DW4A8fCbbxuV4mOeFzdlJjZtKfUUvqCGe62ayMafBScpPwKTY9iMobR2ukc4uV4+EiypKMeGbdTei5Nl/cWpqlTxg6oEgUhXC/OIEDiHMPynfcw9zGTOzgP+x3dgDl+MXlHpbCsVm17jiH39ZqeUfLg2BiV/67u6TxmuBbWBw6iQasz1UNIH8zcka9ZPjYMA96NaPDJzeu9fM952jadjg2NAwSnDzV1GIUAASFAEJhGjGBPQDo7nc4lI9d53P4ZJQ6XrzlmCIaoHVU9q+vqJTVzr6zdmSHzt+eqB5J3eHhcrNvAlLmXcwsRUCzqpRmJrWFo5hzACULRggYfs40Vr6glx0QKV/PtA31Q0p5I4TKKEvLTjF72Ubgwgcj0MR1HIOTuEduVK0AM/oAPsGTdmns5t7cP3665d+TYme94NhQzWHqvJWmyaWu0PPXUU7rsy4pP1mgGDz5+ex4C1/L8rkQLCSu8F4TI88zfWaicBAsHXYTkUtLUQ9GCBh+wWeOV4sIscsC8umAbD8Us17LjtbI27ZDazihLaM3kt3kzn3Tq9YizBGGA8rZl9OKqtYOCpo9yB2eBBTMf78NFu5WoGJkoZWj5eBO37i6UBx9+RMuuMq2MOnuNjSd1rv9b89IsR1SLPoBuAOHYf4v7MamE7CRAxrwjURXvIc4jXMfOmkLB9HVQ4DP/jOnTTEFmKhXz6Vh6JNjG+jYLFiyQLVu3Sc2Jk5JbUqUdwggiI4dwr5H/7gClI8139n1zzNUWLkK2D6aeAYURDSCLE4u0hj/K56aMwy0UqP+zAAAgAElEQVTmYJRQrg1Tjxr+RYfL5fEnnmgFnwUb6GAcWMQj4GKMeH4b4OFMEIF5Fp6TkU7yBjY9f0TxUXrR8kOp6YNRUOBzA0qMUvWa1ZspK05J0UAbIoQAzyWXXCK//us18ve3p2kxhOVJxZqb39R8Wkqr6uUDtGpb1o7pvEC3AMIUrlUpB2XDnsMamDEgUY0DjZ5gDiOcuYAAbsQJMQY4Ed8tTyyU1N3pOief0iys2GU8l4xYwrxPTY5X4PH8UQdgZ16Z3o+QNT4DTMe2akGDT70ZCgtPmTJFV35m6nSgjYfhXr/4xS/lx1c8In9+e6l21D9mJqkpxfx3Rj9pUsaTFijgXAeAcBBMNBImyMABRAA1I59UL2Q8IxUtH5mMCDC/S8SQc5HRy5OKpK6+sbX4BKLL3igARYh3aZIlPpDd2O4sAROTWyZ7S6vVrLVfE879oMF3Phx+egopUJCIlzeU7zzPfGa0QzCUZoOLFBcXyx133CmXPf6hXNvPmgyBi5WiSTv3lknflRmqA5iRaUDwZwt7BTAAJcmT3ABGIp+d97m63yZ5dkq8KnQ4cS6zFXWAZWNZ8HwQCGYp9j5WCnP0nM30DSt3MvmUyabt2UIKPtUyKCBMmTWUQJY+5YU9NertULcGDZkybYb1r9uRIn2WpCjQBEswlUi0MCOydWuT7U7gzGcF23YeIxjiIZMXs23Gjnz9HXO+fcvIhzOQ6IHv3uTdY3XAJUjemB2Tr/IcuY9cJxElaX+51Dc0agCLPiCJhQHxyiuvqG5EVTKUY/Sm9mohBZ8KFCh8LHnCH7VlXcXpzcvCFVjKhLo7nE8pM0Y+ouRkU7OySICnowHLyFnAhDXjX7cD5W6f6wHa+T0EpETQ15r04fyez/wm1/NbmJQm2YMYPRk7JHGgFyCG0EN023ujvDkjRmYvWqEDgUWaqMxhlmQjgYVCE7y7UzSYvmmLbUjBJ0RL+TQqSaP9E6+3r83ufCEDPmYinQH4iIxjtQ06URJliFCpncWjXKEY9V6RcY7sdQWcOQbI2P/2+5jv/NnaCRCiwPy8ddi2VoIw94JYbn1vqvzx/y5SRZhqXFFRUUKRRvqELCbelcpkcMv2aiEFnywdlh2jjArLjK9bt85lnT37y5LEydozrGk/ZsxYOXq8RufhUVgRE4rUZVgptXMBEdOLmnpUyYQIcIjAHZDX5nuT4AmHMIDgakVjJzHDuGfNd75suber8zjO/fgtQMfDSC5Az7Fz5b9/+3sdBCy5wsqe1BzEAhg0aJCuyElVsvZsIQWfF+GGKG6wOdi3t8boJ6GD86tr69SZgeuWzkS+EtygzAnAMfJw2WLqUWLNSo48qM6Q1+akaAyAyhikfiF/jZhgi6+dujzM23PHAfhNO8jscy6sHM5hJyZDCOT9YQHwHQSIKGCOXmbuPnnl1VflD3/4g9x1112SlZXlVfn11leh/j7k4AfzgIRtmf2CIkVHsiWaRfIiChfaNl44Qqk4W0zD+YEZhcnEccKfhFhNHJ574bZFMcO0swMMiIxcAMa5w9YAC/C3DaPQkusJF9xn8JoseX1uinIURBLcikUccw5Xy7HqOi0dR12h9lTsTD85txEFPt4sEjaonzNsXbYsSypWMOEOmE+4PHHEUGyZatn2hhcMjxiFEOLyymRkVE7raAUkQEd0GG5gAOaztbZOjlbzOi8xVEf+WcUSxREi4TqyfZijl1NSpf535hCMWJetogiuNWFzns9rB9jfpa32Iwp889IUMwBgUrdMzhpEwajmO6eb0/L8NeikTPLpkfmw44t7WjNxccoAlLptbXoABGDYNcEgiMCdSDDEglznHAgKmx9/OzY9RZWw8d+Zn6aExnkEc0jEsJMpXIC6vNQSRDnG3m+vFpHge+oMuAAPjVMI51BN3Qmdy4ZYQAF8bPzOc8y6K/pu0gkVzNWD/SvgLbl/Jt5uiMAu0zkXAO3HDAEgGtA9mFE0YVOe5JVWW4s5nWxW7mE8gAR9qOVvz71Dt3nwwQfV/0/6Osou79QercOBj0VB6JiSbPgUUnZnyJKEwlYNHkAudSRtwMqxCO4YFq0JFrhiey5L15RwA6h9C0unBi+eO1c5AdT+M9PJsPsHfZIlx+saVdeA86CXQDSEZFFK7bNtMGWJfmIBEBDjPdpLH2gT8KFsXhCbFk+X35R+5pTI6VMiZ05LYUGBsKwJTiHCpk8++4KsTMxvHaXGe2cHk31m++CQYUWObdlHNMgyKyb/POUP0DAHiRyuSilurfxh7ge7Z0YOnMSwfzgOuXYonatSD6qVAtfAQkEJtY98UtZZmZNq4jjBqNbdXq1NwGceHmXUcXBQe55JGz412GFjtUj8SJFlj4rsni0F2Wk6vQvwcST9+te/kcmzFugyKvYwL6OXz2wBjmQIRiFRM2L2KGSYaAZUzgNYPrPlO/QGNHhzXL/7OEojgIsTDsgDLbF8VvEwc/TwQ1CgkeATcX9i8lgfpkH8yH28oYitTuPhMy9otox2vH6skUfVaVjdL3/5S12l2pzjcdtUL1K4TWT0L0UGfktk2qVSnbleHSbkDuAm/ca3viO33/ewVuzCwWJMNeQuVa+YMUPQhjV2mFRBAAZ/vV2xA3j8AMTXDTG42wIu07lJpSKxg6DQnuJKFSHGjCTgwz4eQO6LImgf/R7fuQ2/DOvIJ5DBSIfFGZcvrtzRo0d7eEWWwqwXaW4QaagSyV4hMvh7Ir0uEBn8fTmz+UOpLkiS+++9S370s/+SH/z2Ern6+X4KLJMi8bMzzfqVWclqMTDdG5CojoHfwNj+BlxGNaObmD1JG2aUcx7WAaMfncEcxwG1btchidtbrku0krkLRyGB1HAG/BFcA4FBLCiE1OaJtBZW8BcuXCi/+tWvlD0zSlk69IUXXlBv13kdcea0SNMJkeqDInlrRQq2ihxMENmzQGTqxSK9P28RwJAfSPPSR2VXQrS803uIXPbGNFWusL9J+qCO3uyYAh2NRommsBNr57UC3hKwARw4BZm11PNjHV3jqkXRoxYA15HogVmHPoA7mUofKI384Ytg+hgVPYjtIy5wQr0+J1WTTCnbghlonuW8927HA2EFf9myZVofH9mMZsu8fLR1lwpfY41I7iqR8X8Q6fMlkZ4XnP3r9TmRHt1FenSztv2/LmcqiyU1v1xDvYCKgrUkoUidPPgB7J3NWjyMegM+FgF2P3PqcfeygAJp33/vbyVpMMrR1LH7IQ7EAqYfxyEAwwW4H1YB53Ecdk+mLgWaSDsvr2mw7PzIG/RKcmEFHx//7Nmz5dFHH5Vp06Zp8sJ5wDfViRzbq8qcjPudSO8viPQ0QAN2C+C67SbS90si0y4TOWGVUafqFTIdf/+RqnNtajOo4Aj2ihsAxai/fXi0rEgu1ggi8+GMHgDQTAp9blpiq8JoAIcQ+DOExH0Bn/mCcAtKsFnOqTNSV3dC0tLSdAo6mv3GjRvV2jHP1d7bsIKPwkd2L7YtWzTd1oZML8sW2d5HZNa1llIH8AZkd1vOmfhnkYyFcqq6VP3nOQePSVF5rTQdybGIKGupSE1JawV7ZD5ePwOY2aLxkymLNo5ph8IIK6e8Gu7kRQlFQrq2OR8Tj/w9/uAIEBHH4BxTt+3Xqdmkmxu7nuVhWHmT1cGpQ0DCCkGsSGlhBd/lS8KPT9aKlO4WWXi3yKDvWLLcHdjO43CFPl8UGf0rkR39/z977wFe1XHm/9s/Z//ZlM3WZJM42d0km7Ipm7KJY8e9F2xccS+44F6xwZ3ee682vRhsehVIIIQoEl0SIIqQkEANCfUu+P6fzxyNODpcXUlIVxLSPc9zn3PuKXPOzPdt877vzEj7F0mxC6TjkdLyl6TRP5cm/F6KniAVpBnjMTu/2MyijbEGuOQI8ANEJlPAGGOi5dV7TxoAmWEDADlHSBmV8fj4SBNbYCZNooYEip6ZuNV49LDmSdCEiNzqBm8eCywBPj0dspvo/bSWrXnAx5iD04tPS4Xp0pG10sKH6+ZyL/De/0gBDEH2o3/h7LkH4pj0J2n9h1JiuOk1nMot0rq9KSYAM39rksmaPZ7lf0UMVDVdOuYD3J2UXd1fhzCQDKRjM2zcOrFoTPLy6Lvj0MK+ISEVp9Tdd9+t5cuX15R+LUwFzQN+GcbcCmnevdL0m6ShP5SMEVel08/T8VbX13d/qdTr/9U0CjEYDVH8t3RwqQozjysscqtuG+DMtMFsH8xtW9cGsPTR+bntNjjcnKs6ieOGxMz33nvPLAhJ7ME8W1lpiIA8PvITW9PWPODnHpdm3ykN+meHK3t/rfFc75UCtf3v+3VpzC90evw1Gjf0Y13Xc6XR1YywYWrWptrISLrllltMciZpW+PHj2+qogNWTvOAT98dru/3zaYDHU5HvBuOr+oRDPhHadRPHKcQXG+v9bpURb2+pYieV+nJXpPVaXiIxoYcMsuguFuWzCMMU3opcO6CBQuMN5J1/urauIep5chFxLhjzqHWvjUP+PjnMcwm/0Xq/+2mIQCANQBfVlXepY6ht+JlR98P/7HU/x+c3/Af6eyon6lo+M+1ZcobComKc5ZTd1lnAE+3rG/fvmZd3FGjRunXv/61Lr/8cj388MPVw65qA5R8vI8//lh/+ctfdOeddxoVUNu9reV884BvvHeFUkKoAwz62C2m0fmN1vuXOP5/I10o72uOBJh6pRQ90XEgsU/d7biPPQgwfgBrHE8kP9a+JXiEW5pMW7ptNbqqnufR7xAQqep05/zd63m0xf42D/hFWU7Xa+nzEr9hl9cEn+4ZIttNEBdybMS8y0HE/1E/kw6tlCpKHdDPVDgjHz1NTqSRqCMTQwL4b37zG/34xz82o49xSdcHTGvgtVR83lOlOv8GHnwaHT/9iP+QBv2rNPCfHF3tBhfLny6b+9yFHmMHDPgHqd+3nPIm/tG8H2CwuFmLlzTqPn36mEGl1t1cUFCgefPmmSXeb7/9duON27p1q4m3k1/Pku4HDx404dg6W/UiuaF5wIfz0PVwIhw+4Duubll9u3P1vG/YD6VVbzgSZsFDUtQ4KT/VxM6nTZumRx991ASb0OWMBqYfbrtgiOvY2Fjzs0SxZcsW3XDDDWZUEYs779u37yKBtu7PDDz46PucROmLB2R898u6SAs6nbPEL5TDfT2HgYd3L+wTaesIKXmrRMBIZ81gEqxxlmVHtBNs+ulPf2qWPfc3npDYBEEpniEc3Zgh6HXD0bx3BB586oNVjfgvyJAI5OB6Nfq5ntzsC2jvOcqbeasT9On/LUf0L37GcfFKhsNJKCH1ix+AMvP3kSNHjEcOYw2vHOqBDR3P/9DQUP3ud78za/gy2QIjktrK1jzgm9Y6a3LwjA+eqJwXvMb+B/zVb0lY9xwT/Zt+o5MfIJn+O7N9MMlz9+7dFRUVZcbRk3CCQYdonzBhghlSRaMwtm7u3LlC7zPn0IoVK8wgUn9S4mIjimYEv6pposZLI3/StOBjT8y6TdozQxr/G6ds7AqIoTDDvBguxu/OzB9029DpjJ0jt5Bu3be+9S0zhw42wKpVq0x/HbWAX54+P/p+2LBhhgAuNpBr+97mB3/3NAkHTGM53f08QK97X4ocYly5xpNI95HQLhHEWjYyaeFuCz7cD6czJTyROOwCppuhy4etwNLtWP5WNdRS7EVzuvnBx9FCt88NXmOP+/ydEyzCtUuIGNG/ebCTA0jady0b0sCGXcmlnzJlismqxcJnfiHmDcDLh68e8AnL0mO4WPrxtVS7+nTzg48VPvT7TQu+m3jQ90uf8+nIqa51HQeAywwjqAAMvB49ehhCePzxx8VMYW1la37wd01tep3vBh8nD0kdjdxoGHoA2AYEe5KSkoyvIGjwNaZhSd2in+8GrCmP6ecTRApudbZA83N+TpK05q2qfr7LD99UBIA9salflZXvTr+osy3a3Q3NCz7G157pTmSPhI7e+PMDQABjf+Xk/rtCtr6QtYGYtmK9+6qjv3PNBz5AEN2bfcc57x7GWVNxvJuIsPr3zXWcSn5qT+XJLCao01YseD/VPe9S84APx5PQga992vU18/eaAnzyA4b+QFr+ojTzZmld9xqp2+fVWjKgk7jxq1/9yqRfEbCpT9jWV1kX67nmAR+O3zxImnKFE8t3J282BfiUN+qn0skd0qmDDvAM6fazbdq0SX/+85+NI4ep0aZPn24sez+PtLlLzQP+6WPOeDuSKY14bmI9Ty4Aw7xyk+vdv6f/fuuttxpPHtE6hpbRrWtPW/OAn5fshHTxvpFmRe4dXjkSLhiXxwjcxkgAyiNPnxx9486t28pHzzP9KdOhkmnb0nPitQTRNQ/4lWVS9lFpy3Bp7bvSjBsdFRD6kUR8v9GBnksleg/EDOjjV9adH4+FTxIHAyxw5gQNPof8LmHCwC5duphGaZpuEKsFVEjF2SarRlmHpMz9Tqyd4MvYXzaO863UgADo4/sJ5rQEh7XWdzYP59da+7NOJG74jxzwCc2ueEUiFas2VUD30KiN/+9clxEVMuTfnSyeg0udxJFa3xm8YFugZcCHM08nSOn7pIj+zuBK7AGGaB/bKE27zsm3J1RLwqcZ4VNlJDLqh9E/Y//HsRvgehJDN/aSjoRIRa1nIKRt5Na6bwHwz0pJEU7KFRxO35ycu5Du0vYxji1ALt7w/3DsAa6jyyEAcvsJ15KXx5g/jEckAWqDKVzIFwxu9W6B5gefXD7CukTfEO3jfycdWeP0zXd95vQAABRuDv1YStvnDOUmLw9xTyJoQbq05m1nUAYTNS3pHAS+3pCfu7H5wcf5EvuFNPK/nFz9uXc7xl9lqTMHD1wPh9N3J0hDbB51YKdqoWew+3MpPVaKmef8sg6fq1HwqN4t0Pzg82kM3NwxSVr/gTOpQkmOVFEsnYqXRv/3OV2OqEfnM8gTmwCJQN4/3UMz8UKhY9zVEcCpd2u0sxtbBnxvI5NkmRDm6PzpN5wb0YMVj76PX+6IfkQ8EmHkf0pxX1bl5HsLa1v/8T+QaMryM6xawogj/pOCxkZXnMkcOU8aOvfVd2sd4EcOlgZ/t4qzv3OuC8eYvk39dLa8SJXZiTqzoGo2D3z5c+6UsuLrW8+L9j4yh4g7/O1vf9Mf/vAH/elPf9KkSZPErKZsEAETQvzxj380yabMeVhfh1XLg4+FvuIlx5jD7w+wiHf0/pQrVJG6T0mJCRrU5xMtefWXKvqIaVe+LjEUO+/ERQtqfT+c2T4YIk5GMVzN0jVM8cJKZGwAzfHKlSv1ySefmAkvLx7wmeyEWTbp22P5r35TWviIY9Xvmami3CwNHjRIv/z5f+uPP/p79ev4feWt7aEz6XE+h1rXt1Evlvs++ugjde7c2QwSRcSTT8h4Q2Yct+MJGY/AeQjEy/lMF8PCTv369dPbb7+tbt26idW+uB+3Nv+Zl8BuAXDv2qJr2eP2JRxru3zZR5zxfSU5JtGCETbMtfuNv/+6rvvbFcpKTdSZynPLrNRSaps4zaARQHNP4fbuu+/qpZdeqjGzF0Ay4sgLPkPPuZdFr1i/8NNPP1X//v3NwJVWAT5iCgplJA2VtKNmQY8PJPp27bXXmsWKGD2DnmuamEPrpw9GEsOd7tm5SUJhnn63cVcb+KSfMyaB/AXal3ZGYtDGLa/zJbPqJOPo7rvvPhNiJbXKDS7HfDQjbNpbtg0rbwK+O9eAuQXqCz49ALgeAoDzmd+fOYdo01YBfnR0tBkr/+1vf9tYrEyE4F1nlo91E0Tr59mm+ULGCL711ls1RDw5CAwudauC2jif8+QqMNAUg5CRySzzAlFAUC2u8zE4rrvuOjMdCgQwe/Zso+ubpvkurlLo2sGZLMaAOmTKejtSiP+chyB69uxpONfWrjbwEe9ITH7MMMbYRKaMY54BElpaHHymJMUChSoRZ4yOsU4MW7n2skcvjxw50vTlEctM8Ya1j9WP7TNx4kR16tTJTBtDm0AQzAHIOr1ICBJS169fb9YhwhmECiVFjRW96DaStcQij9yDKvUJPiBATVbcBnoP2FAiFaZCgX5fay0fwseaB2ykABjQt2degSuvvFLMF4QIB1jqQLsxlvCKK67Qz372M7OmAYNLH3roIdPFYx4hVjVnBDKOInoPOIlQq5SNg+i8rh7gIyq4AUCa49ec72qO+lzIOwDcGre0Bz8sfcACcH429cyWD9NwHq8fP/rwYIdO58exfZY991MuewitBvj4kOkbvvjii2bPcfDX9toAfPkxItlul2AJMpskzgXmi2/sD+sUSYLIueOOO877dejQway63dj3BJ9vGFbgy6KO5Gza7RLcgRgVzEvDhEQYE435Uc7w4cPNJAfMS/v1r3/dzHL5zW9+08yKwTo8GDXMfIVxQl+0Me8LPls3XuBKO9PuLFJptyZ372KYoMcggCeffNIYHiwlettttxnjA8Dx3OGMmDp1qtFZ9mOC+8C1ADaDT2u/aVO3nbgzhgrGB/1YZsHCOOEc3j26KEgC5sBhNE177eoFDurzS2428N2vRhLQnbObBZ8Jj5mynEUYsXqDW2BboEXA91aJmaoxConcMdP1s88+p5CIKLPGjXe5dO+zwf8X3gItDj59TQxM5rhj9iu4/5vf+rauebyrhq9kdeoyBQngwgH292SLg8+0Z3inmPOOH9OdX/Z3X9d/3v6yHhwZroj4DLPSFTmawTxNf1A2/FqLgo/ux9UIxzOx8d9/4xu66upr9N83PKo/vjnDLH/GIsUsTX4iu0hZ+aWtckHihjd763iiRcDH2LPW/M6dO82S6PT1CexE7dipkYuj9Mz4TQZ8FkR+b+5uvfRZlN6fv9ssidY6mu7i/4pGgw+Q+J2xzuuTaEEXj4RDOB7g6fYh+gk1RkXv1JHUXLMC9l1DNur6vs7q1axcyaqWLEvOQojBrWlaoFHg8zCJAnPmzDGTFROORJT724YOHWrEPFOeE3lKT89QYWmFMexOnC7SsJUHdOtAZ0Fju4yp3bNY8juzdp63cqW/9wWv1d4CjQKfABDrwzJ/PUkYAEuB/rann37a3M9ctkyHEn8kQYt3JIulxnt+ta/GIsUWdLtHArC6dXRCllmd2t97gtfqboFGgR8TEyMWIABIumgECui6+duYzpxnmNiYnLJ1O4/qqYlbjUi/od/66kWLLeDe/W2DwjRh/SElZhaY9Wv9vSt4zX8LNAp8xPyIESPMShQkGuCjr4vzcekSPyYrJeXECUUeTNMjY5217a/sGSIIgKXMrZ73gs/q1feP3KTXpkdr44F0FZS0jxRu/zBe2NVGgY/FjsFGdIgkTI7ru2EaVFSeMf34ZydvE2vW3zVkgz5asNeIdruWvRd89/8eX+5TRm7QDVzfNvfe1yjwvYU15D/Llp88XaQ3Zu7Q7YM26J5hGzV81QEdyyjQ81McYnAD7T6+suda3dg/VENXHDCrWTfkvcF7z7VAi4GPhb98V4ruHLLBiHjWtkeMZ+aVqNNoRw24AXcfX9t7nUatOaikU4VB1+85LBt81GLgswZ9XEquHh6zWTf2X69Xp0fraHq+TheWqtOY2sG/ZUCYei+KMRb/oOX71W3ebi3dkay5kYnGAZRT5L+30eAWasMPtBj4BGtKyisVcTBDX0Ud146ELBWXVZou3MBlcbpz8Aaflj/W/qTQw4bz7xkWbnoJOIQ6DN2ox8dFavXek8ouKA1KhHoQbYuB7+/bjp8q1CcL9wrx7hb3HF/Xd53uHbHJOIKu7h1y3vVnJm3V5+FHzSrZ/t1N/r6gfVxrleDT9HBwx+Hh54HrJQZf/5EC08ITgtxfBw23WvDziss1d0tivcDH+r+uz7pq3wBG5OSwI0HwWwp8fAAEe9zDrev4lhqX0f9bD2fq7mEbdUPf9bqq1/ki3s31EID9/8iYzdqwPz0Y/6/Rouf/aXLOt1E+snCZVIFoHWPxGrLB9fjvCeHePCBUtw4MrRN8Czx7OH/M2vgg59fR6E0OPsOAmBDgRz/6kUnGZKKgbdu21fEZzmV6ACRuLIpO1gtTtxtXrxvU+hzjFr5j0AYNWBobBL+OVm9y8MnPZyAhyZhk4v7iF7/QksVV06Az87afkG9peaU2HcwQXTiARpTXx83rJoq/9QzRq9OitTfptL9X1dEs7eNyk4OP2GfSACYPuP766/VB925KP7xLOrDYmWGTtXZq2ej3h8amVYOPQ6fzpG0NJoCPF+5VcVkw4FNLM1efbnLwKRljj4wdQr4nYsJVvvApadTPpIl/lMI+lU5EOTNuVn+Gc1B55qzJ05uw/rDenbtL08KPihy+t2bt1I31CPdaCdBpdISW7UqpTvz0vCb4t6oFAgJ+jdaNX+YsfmQWRLjUmWxx1u0S5wsznUUYajwgncovNUEf0rax+r/YlmSMOAtuXXsihLiN9ySdNs9jSwTTvz2NLJnwe+CGazHBYvQEiUUU7GoY7JlxmyXOWXGrhJkka/fFlVWc0Yb9aXpoVESDxD95AR8t2KNdidk6nJanQ6l5hqiCRHCOCALL+eXFziIIPpdSq5pZ++TOqsmTzw3fOvd5MhybVVCqfktihV/f3Z+vSwJw/aqeIeZHXmCfxTFGEtROau43t/3jwILPUmdfPnJuLl0393PMNKufXe3MuMnkyuWFPlscWyC3qFyr9pwQDpz6gO69BycReQOzNh8zdoWfTofPb2iLJwMLPlOpb+ghsYbOwH+WWPnSTQD8Zx5dplVn6tVN/Z3FkWpZMSO7oEzztiRWu3G9ANf1n24j3ch1MakqKg32BgILPgsrsIpW5FApvLezaAJLo1QTgGtxRebWZyr1xI1SeZFPRkNfE/N/euJW3TIgtEE2AM4fVAbGIAZkMPcv0AafG0LWutszw/8aeqyysfIVKSPOWUyBOXlZlsVlEAIaPn9cv4R36+J2rgP6Nb1DhAOISCHdR5JJ2vsWWM53tzy2XSkAACAASURBVC5SgIWUJ/7BxfmXnH+MKpj8Z2leR2nFq1Lq7hrdQRxBu45l67Fxm+Urnu+PGDD+EPsHTuQGu34B7+q5wUePZydIM26qWirNB/BWHdAVZKlVVt9a9kINNUDff/TaeBPwaajlj+hn1E9kfKbJHHZ/Xns8bj7OR3TT9Tu8xllObdgPzud6C77ds8IW6+m4bIC0nGJ9uGCv0d3+uNzftSlhR0yiKBY/PYn2avk3I/hVvHWm3BHlM24+H3y7qhbGH8csqsRiiQZ8kCrXkZNZum/EpgYZe15CeGL8FoXFpelQWr5C49JM+JiuZHsjguYHHxooypK2jz3X/zeg/52zxArLqZnlVL/mLL1CF5DVNwvSdTZ1j/ZHh+qmXst1Te+1ZhQvnjws+IZE/24bGKZ35+xSl8+2m+dI+4o8lNnujMCWAZ/Qbuqeqr4/6+lc5iyZ1p/lU//R4Xi436y58zVnndyZt0rDLldW///Q+GGf6oWJG9RnSYxGrD5g0rcZ9FFfAsBW4F57P/9JGWtv3b+WAR/9n5MkTfhfZ6k0QDaLKl3mEIJdYMnqfoiD1TR7f03lfb+t7Mm3KPnECWXklRhv3eG0fPVZHNvg5A9AR2o8M3GrYo7ntDsjsIXAl4Trd+KfqlbV8mP5WwIgEDTqp9K430gbe9dYJp20L9K1axvX79X59j/g3z4ozHj82uNgj5YDn/VwF3RyXLtwugUZKVB97CKK1W9Jm4c43sIja6XEcCn7qFRWaAZ/EL4ljHu1j1x/C7Z3T9ePHEGSPfEftLet5cCvKJFOREufX+P49y3giHh77N7TO1j+khMrmHKFExaef6+UttdgRpdt5JqDJvLnBdnffwzGZTuTTe5gEHypyefe9dmoppNd5vTjCexUA10L57OMKnEBfiZEfKmTHbRvjikev/+MiATdPXRjvVy+liAAf31sqpkaxud3tuGTLcf5plHPSpFDnPVyq8F3ifraztE1JEo45y4pzZmgCVo6ebpYQ1bsb5DuJz1sy+FME+dvwzj7rFoLgy9HbLOaZm1A+zqP+ze8r5QSJbkSQuF+MneY7IFADoEfgjmWy33tsfbHhsRrwbYkrd5z0gz79tlSbfBky4NfVujociJ6voD2dQ7Rf3iVRL6Axy2H1c44PyZ4ePnzKOMI8gW6PYfFT3iYad9w9pAx1F5SvVoefDgqKUKafqPUuxZjz0sA9A7wAu5fZKx9nT3fUidZY3F0cq1DvS347j2E8Ni4SBWVsWJnG2R1T5VaB/gEfI5vkWbccs7l6wXc+x8P4JB/lxY95azD66kY0b+uc3Y1yPHDnAAjVx+scy5Bz6su2r+tA3yaLydRWvpc/bkfYkACQAAsp+7ZcNVODjtsJnkiju/m8NqOMf66z9utfcdPt4tp3loH+KX50sFl0pS/1p/zrSSg28dzRackEkaqNjJ1UrKL9NnGI3p2yrY6dT8EAZHg9HllWpSOpOWrvKL2bJ+zOquyyjJll2QrvyxfFcQrLrKtdYBP1G7u3fU3+Czwdk9uwO7pJvJH2Ne9VZw5o/Wxacb7ZwM5tXG+Pc9cfwu3JQm3cW1b+ZlyxWXFafzesfrq0JfKKMqo7dZWe751gJ8R62T40H+3gDZk3+fvpDG/cHz+BIw8W35xuenK3TF4Q73y/sn2GbbqgEn48BRV/TenNEdvbXhDDyy7V4+u7KTPYqZUX7tYDloH+GUF0qGVDvfj7//sb/UP+EAkNh9g0L9Iu6dVJX2egwDXL0O/41PzTOiWCZwsl/vaIyGYEyg1p/hcIa4jxP2RnCN6ZMVD6rikgx5cdp8GRw9UaWWpUAcXy9Y6wKdfVZIrnTrkBGsAv0aKdz28fhABeX9bhjmZv67UL8AAErJ13pld96BPwB+//pDiTuTKV7QPET9m9yjdv7Sj7llyl+5derdeWveC1hxbrfIzF89UcK0DfC+rrHrdSe5oiOjnXjh/yTNSyHtS7AInZ9A1AAQgGfOHTvfF8fYcht/j4yP1+oxoM02cW/fD2YdPH9LbG980oAM+v4dXPKhPIj/Usdxj5np6UZoxCL1Va03/Wyf44X0cJ44V6fUlApP7d5nTXRz5E8mOA6xqcWb9JPKHJw+3LqnfdXUDn5ywRTuPZRu1gfooryzX5hMRenr1E0bku8HvvbWXBkUNUNfwtzV+z7hqI5A1CFAV/M64iLGlCaF1gn90rTTp/5ysHkR5bTF+f0RBpDD0I6cLWNXKaBcIgCnbX/xsuxn5QwIInj3L9d498QGkAP7/nMIyZRVnacKe8TWAhwCeWPWoekR+ogeW3WckwvMhnRWSuNbYAMXlxdqVvku70neqoCy/pTGvfn/rBJ9gDcO8Di6VVr5eM97vD3D3NeMB/L6TKu4K/kAAgIgxR+ZuXQM/IAzUBESy9/hp5ZUUavGRRdXGHsBj9AH+66GvVKsCJMPyo8t0PO+45h2cq1dDXzZ2QWvqFbRO8KFNHDYM19o3T+oP99fT6Ktx36XSgoedfMFqej93sP9Erpn0oS7RDwEgAXYkZKugtExphWlaemSxXg19yVj6GHydlj9g9D6EAEE8tPx+vbS+iz7a/KGeD3nWdAnvW9pRb4a93mrcx60XfDCqLHNy/MnfI4GzBrD1JIbJf3HKOId59RGJn0zhUpfzB/CZDo6RQtuPnFJuUZmKK4oVkrRW3TZ1VZeQ5wwRWP1f2x7CeHPD60b317UWUfVHBvCgdYNPxQn5bhsljfpJ3cO8fBEHw8MPLvHZhEzZjiuXkC7z919Xj8kenxy/RZsOMMHjWZVUlOiL+Pl6L/wdw/m1ge4+/0LIs0orTFXFmfIW9wm0fvBR0uT7QQBjft5w7h/yPSluYY2RvpYSSivOGMcPw7e+2JpkDEFm/PQafe7/HYeF68vtx41DZ9vJreqy7nndt/Se8wxAN+Du42fXPq29mXt0qviUcBG35Nb6wbetw+RNuz53egEM7KiR8etHBZD7R9iXqKFnM76l8kozZ1+vRft074hwn2MAyfJFNTwwcpP6LY012T5026LTooRV7wa3rmO8ga+sf0lvb3hDn8dOVWphquermu/vxQM+bULk7vBqZyoXQPUl5n2dG/Gfjufv2EYperxE6jdlSYL7Z2xKMOP23YYfvQDUAZY+xw+O2mRmBWFuAJaHqThTqeySLE3eN0nPrHmy3pzvJo5X1r+o8OQNzYe2500XD/g4RwozpKPrnKyfhoBP2Je4//jfOp5D5giInW/SwMjXZ8gXizuRyoXuJ7BDDuC9w8NNiJcZvVnMEa5neVfmB6S7iN4/cvqwBm7vb0S/G9i6jlEVr4W+oogTmzyQNN/fiwd8fPVM7wKIF+L0qSERLpXoBeycqoryciP28fk/P3Wbyf4l+ocUAHSsfDgfj6B1BjE4ZMuhDJVWlGvJ4UV6P6KbOq14oEHin0jgwkMLRHSwpbaLB/zc49LChy/M4q8BfJV9gOSY+ledzYhTeXmZcd/iwz+Snq8nxkcacY+eRwqY+Xyq1vPF+CPPLyohQ4eyDxvHDmHdjkud/j0cf++Su6udPbVJAHwDC+K/UAERzRbaLh7wS3OlDT2dHP8B36m/wecLeM7hASQDiEQSVwYQiZ+b4zM0dOV+M/5v8PI4I/7hfjifH7mB2YXFSslP0ethrxqRT2AHp84L657TwKj+6r7p3TolwYy46SooD4JfN+2ToXsqXooaL23q58T8yeDp9436G36WEIj+zb7DiH0zWwhmf9XGIbN+ZuaXmnAu6/0s25liJoBiMiecQjMjEoy+J36/+tgqDdjcXx981V3vjXlXA+b30+7juzRhz7g6wR+2Y6hiTu3TnozdOnz6sPEb2O9ojv3Fw/nu1iBVK2W7M8EDsX/68hBBfbp/JH4w1o9sYTyI9dggBhxCsyOPac2+k0rLObeKJ7l7MQdi9ECn+/XDH/5QV111lbZGb9XE3ePrBL/zmqdMGPi10Jf1QUR3I0kqXVKoHp/WqFsuTvBtlekBZB2SdkySpl3rDN603O1zf6lzz56ZZqQP1jpTxPNrjLt1xowZuvzyy3XJJZeY32eff6apOyfXCb7bHsD1u+zoMpMMaqsX6P3FDT6tgxRgmhf6/0gAn6BXGXlw/YB/NFO+n60sV3p6upYsWaLly5eLRaEvlADGjBmjf/u3fzPAX3rppZq5aKYGbOtfb/Ax/h5f+Yh2pu9QWTNmAl384EMApE3TG2A+H79JoJc6ht7arso4EKkhgweblUB++ctfavTo0Q1eC8hyZkREhG688Ub98PIf6urrr1bPJT307Jqn6w0+xuKUfZOUWZzZrMkebQN8rDRG/Sx9vn5+gKE/UNKcV/RgxzsEp/J76qmnlJKSYvFs0J5l4Tdv3qwRI0do0dpFenHFC3V29dwin/Dvh5vfN6Hi5sz0aRvgAxUEkH1EmntPHdyPCrhUp6berdH9P9Ll3/+efvzd72ji2BHKPpXZINC9NwNcZlGmARInzoPL76s390MMa46tMi5j4gbNsbUd8O0kT7Nu9a/3sQkYELrmLeWnHlbk4knaOuxB5UfPdmyHJmh10rWm7pus3lt6Ngj8x1Y+rNG7Rio++2ATfEXdRbQd8LH8mbGbCZv8GX3m2qXS0O/rzLz7VTLpKpX0/SedGfETp9dQd5vVeQdxfhxAk/dNbFDAB8PvkZWdzBiA5hj+1bbAZ7IG+vD09wnm+Ov34+Hr+w0nRQwjkf9r3va58FOdaPu4Ac/dosNfmgwfm9rl1vO1Hd+/rKP6beuj5ujvty3wD612IneATvauP/B9SYevHncmfPABZkNPkalzKDtendc+1SDjjzjB0B2DlZBzVEdzjii3NDdgg0DbDvh4xtZ/UGXt+0nu8AU65xjvt/zFJgMfYjmel2Ri/Yjz2jjd13mMxXfD39E7G98yaWKnzSJUDSW/uu9vO+Cj8xmlM/ZX9dD5PogDHwEze7n8/HU3n/87kvOPq8u65xoc60dNQDD8SPjYkRbt/0UXeLXtgI+1X3xaStkmxcx1pngzCR9VI3+NCvAxChh9z3xA+AgYK9iEW1FFkaJSt2v8nrGaHve56QL64nR/594Me80Ef5rws6qLakPgV9UJdy+TPRABnHWHM3izNlFvzuPy/Y408xZnhE/G/urGaewB/X4if4zyYaAHUsAf0L6ukSC6NXWL8fnTi7hQF7SvurQ98G0tGfW7bbQzg7cF36/r9xJntU/0fgC2UbuGNzjbB2LA9dt/e1/NOTBbESmblFeWp0ofE1BdyCe3XfDhfqJ9wy53jDmGfJP1S5eutjQwrk29qtYZvi6kge0zy48u1Qshzxkw8fy5M398cbz3HHYAPoBVx1Y1WQJI2wXfBntI/QLQZc878f8Jv6899IuNMO630uo3nSFeTTjPTlF5oQ5k7Vdo0joziwcWvRfguv7ft+weddv0rhLzzk9Dt0TWkH2bBf/MmUoV5udq/oQB6vNaJ21YPF1lmYclFm2w2T+MAWQadyMNqmb3YpFHQsMRA6rTuxvSoLXdi65m4gYmcNqcEmEGdtYFtvc6DqCPNn+g4/nHa3tNg863WfBLSkq0fv16/eEPfzCJFh06dFD83u06w8BNxD+in3SuyVfUBB+/P8PCmd6VPIEm3orKi7QiYfkFgY8DaFj0EKUXpjWJ4ddmwS8oKNDkyZNNatVll12m3//+94oIC1FFzEJnhQ87ezfdPOsJBHQmdCatm0miGCbWxBvdvw3Hw/TEqscaLPbhfMYIMEwMCdLY8G+bBZ+K7d+/X9dcc42++93v6plnnjGZO6RsmXl7mb0L7gd4xD571vhhUgjm9cFgDMBGuHZ/Vpzx/HnFen3/E/9nqBcjhRuztVnwjY4tLzfpWUlJScrOzlZlZdUkjaRrz7/fce6M/C9pxUsSQ7ogAGb0Hv5jKf9kY9q11mcLy5nc4Ss9vuqRBnO+JQ56Cn239TaZP7W+qB4X2iz4tu4QwXmOEUb/pMc4s34e2+CEglnCzfoDiAh+8YDE2D6GiDfhVlZZqt0Zu8zEDvThGbZlQa3vnm4fU781dpBnmwffL2748StLHUKY9Kdz4EMEdPu+esLJDfRbSMMuoqcR1xuTN2jUrhEXJAEAH2/hwvgFxvirvMAuafsGHwmAYbd5sNPlA3Rj7X/TifUzsAM3cQA23L6rjq3Uc2ufaTDnWwnx5KrHtCB+vuhBXMjWvsFn0qepVzoeQIBH5w/+V8cXwMJPsV9I5U0r9gGJufwSco6YGT0skA0N+/IcXb+3NryuCw35tm/wU3c56d52kQecPrNvl/JTHYOPQZSEipt4A/xjuQkmZg+IuHs/2fxhg33/iH9GB58sOKmzF/Cd7Rv8vBPSmnckXL508RY/46zX18Rg+yqONK81iavNoM6xe8aYOfvsrF319fsbf/+KTkrJT76gYE/7Bh9jjy5dQqizWBMzdjey7+wL6NrOQQCJece0NnGNmbmTWbwZ608Gj1UH/vaA/9DyB7Ts6FIj+hs66XP7Br82VJrxPHP1fhz5gcnawYM358AshR5fL479AW+vQQAM+NyUssn0Isj6rS8RBMFvRqB9vSohN8GM0EXUY/TNPzhXsZn7xMjd+hqBEMB74V1N1lBSXmK9p34Pgu8LkWY8R5+fMfr9tvfR5L0TjP4maxfR3xAHEA4juo2vhL6k0btHKbce070EwW9GoH29Cu8jfX4mZmR+Hnz/JwpOqO+2XvUW/agApniDWPg9tfoJpRel+3pdjXNB8Gs0R+v4gyEYnrLRhH3rK/rhfAI+DPliSpiskrrD0UHwWwfe531FflmemagRR4417vzt0fsA329bb8WeilFpZd3h6CD45zV76zjBcm2kbDVkpC8E8PSaJ7TlZGS9wr1B8FsH1jW+grDv9tRtYpJmOB+RXt+cP7h/9oFZyivNrbPLFwS/RrO3jj8pBSnqvbWn4Xp0PlO7ASgDOHEEodt9qQA4n3n/6SkwSJTJnf1tQfD9tU4LXUvMPaYPIroZ8OF4IndIg5MFJ7T0yBI9veZJn+AjJayNQMgX6eFvC4Lvr3Va6BoDM3D5vrnhNQ2JHlQ9WQPDtmNOxRgHkOV8uN3749rjqx41C0H5q0IQfH+t00LX7DAviACOt/Pyc56Rv12rfP/06Z9c9bieXv1kNcdbovh484dmfR9/VQiC7691Wsk1MpETExO1Y+cOM+Fj2JFQM+0LQ7h2pu3QByHddcfk23TdiGt049jrzWKPy44sqXNOvyD4rQTg2j4jNzfXzBP4yiuv6PXXXxf7uQvnKi4pVjGZ+/TlwQW6ueuN+lmHn+p7f/6eLr/ucj207H6tSwxRakGq8RjWVnYQ/NpappWc37Nnj+6//369//772rFjh8aPH6+77rpLU7+YYqz/jos66FdP/FK/7vwr/edtP9Y//eKfdPfiO83yLwwNJ9GDrOW8vDyTwcy0cUVFRWbW0SD4rQTk2j7j008/NWMODh06ZLKQi4uLDTFc+cRf9ciyh4zVj8F3z5d36fcv/86Af89iZ4lXcvzm75+nU5mnNHv2bA0YMEAjR45USEiIKCcIfm2t3krO33fffXr77beVleX46gkEde3aVb+959e6c9ZtxtJnDP+EnePUfVA3/fi3P9Yzq580QaEXlj6t0dP76dkOj+jJ2x/QoL4D1KtXL/Xo0UMnT54UQ9q6deum3bt3V9f2Eka6dOnSRaWlpefnvFffFjxojha49tprDUCFhecSSXv36a3fdfit7vj8VrOy51eHvlTy6WSNGjtK//t//2sGgk6Pnaa1a+ZoybvDdf3P/6S5T/XV4Q07lRx7RClHEoOc3xzgNfYdPsHv3Vu3dLpZPVf30Iy4aSaCV1RSpAkTJuivV1yhssIi5RxJVt7cHYrtOkfP//ludb36Uc18a4hCBs5UfGi0crJPG+YOcn5jEQrg87WJ/ZdfflnpmenVgzWR0gb8//uLyg9mqHTKDpUMjFDOpyHa9+Ys9b69i675r9/rN//+E3X4642aN3uO6Em89957QbEfQPwaVTT6mUGmXoMP67+ioqK67Grwf/cnlSyKU8mgCJX03qiSPuEqHrJZxZ/t0Oj7uupH3/meLvt/l+kH3/+B4uLijD0R1PnVzdiyB6mpqRoyZIiZAh5r3Hb1EM/R0dEaN26c7rzzTq1cudLYY4w6PnbsmKKiotS9e3f9z09+rs1952rfO3OU8elqHey3VLNHT9W2VRv0zkPP67vf+RcxZP373/++YmJi9M477wQ5v2UhP/f2tLQ09enTR8OHDzddMUTzihUr9Oqrr1Y7eRYtWqTMTGeGcMCfOXOmXu7yku654Xb97Sf/q85/vUcf3vC0jn68WEenbzRdvK5vv6NHOz2iW2++Rffcc49GjBhh+v3vvvtuTfARB8w/j6iBqnAtBn/N0waxsbGKjIzUhg0bdPToUdPunNu4caO++uor00fnv8UlISFBYWFhWjRvoea8N0KzO/Uwv+VPDVF091mK/TLclLds2TJBNKwssm7dOu3du1fx8fGGqHbt2lVNfZcgDjp27Kinn35anTt3Dv4uhjZ44mk9c/tDevqKDud+N92vzo88WSt+4HvvvfcadWLRrwb/tdde0xtvvBH8XSxt8PobeuO118/9Xn/dL3bgS28CW8JulyD2oYrjx48LAyT4a5ttkJycbIijhtgPevgsH7TtfdC337bx9Vu7IPh+m6dtXwyC37bx9Vu7IPh+m6dtXwyC37bx9Vu7IPh+m6dtXwyC37bx9Vu7IPh+m6dtXwyC37bx9Vu7IPh+m6dtXwyC37bx9Vu7IPh+m6dtXwyC37bx9Vu7IPh+m6dtXwyC37bx9Vu7IPh+m6dtXwyC37bx9Vu7IPh+m6dtXwyC30T4njl7VpVnzjZRac1TTBD8RrZzWcUZpZ4uVtTRU9ocn6n03BJxrrisUrlFZSoqqzT/IQzWc2pNWxD8eqBx5sxZFZVWqKCkQqXllYLLwbGi8qziU/PUf2msbhsYphv6rdfI1QeVkJ6vzfEZmhJ2RBEHMxSbnKukU4UqLK1oVdIhCH4d4DMZwqn8Ug1bdUBvzNyhJTuSlVdUrvLKM4pLydXj4yJ1bZ91urLnWvPj+PZBYbplQKiu77teN/UP1Y39Q3Xv8HB9vvGo0nIatwpmHZ/boMtB8OtoLsR3aFxaNWc/P2W7oo5mKSW7SB8u2GOA/WuPtXL/DCF4zl3dO0R3Ddmgt2btVHJWoSGeOl4d8MtB8Oto4pLySm06mGE4+KqeIXpifKSW7kzWgGWx1efcwNd1fOvAMKMa8orL63hz4C8Hwa+ljQEdcZ+WW6z4k3l6csIWXd0rRJ0nbdUH83cLEOHwusD2Xv9brxAjRfYknVZWQalKK5p+6bZaqnTe6SD45zWJjEEXm5Krgcvj1HtxjD7beNQYc1f2DGkw2F7w+X9lj7WGmEasPqhjmQU+vqB5TgXB99HOGHPd5+/RbYPCjNGGFX8hXO4LeHsOKYJhODH0sI8vaJ5TQfB9tDPgf7JwryPa4dQLEO8WZH97VEDXORiARS3iAwiC7wN8+vU7ErI0YFmcXvwsyoh8fyA25tq9I8L1xbYko2p8fEpATwXBr6V58cadPF2sMSHxunlAaJPoei+RoPvvGrJRY9bGt4jzJwh+LeBz+lBavl6Yuj0gwEMIiP1XpkUrNjknKPb94NAilzLzStRncaxw0Hi5tin+Pzhyk9bsPWl8/y1RwSDne1odj97+E7kmSJN4qlAHT+Zp1uYEI/px8jQW9Gt6r9N9I8L12vRozduSaLx9vLMltiD4rlbHyj+clm+AeWxcpMatO6TUnGITtXty/BYBXFOA3+Wz7dp5LNsEfWZEJOirqOMmGlhR2bwOnyD4LvCJugHE36o4HK9edEKW8cTRJaO/31jw6TZe13e96U10nbPLqBT8CQu2JZmooetzAn4YBN/VxMThtx89VS3i35u7S0czCkwo9qvo47p98IZGgw/xYEN8vHCv7h+xyZRH5G/UmoM6XVjm+prAHwbBd7Ux3Tu4f1dittbuSzXOF+L3JGIQy39lWpTx+MG9qACidHjq/EmDq6ocRDf3D9ULU7YJdUIX74a+6/XwmAjj5iVUfCg1r9kNvyD4LvA5hADQ/RhhFZ60LBI0kAaPj4/Uy59H6emJW0ws/7o+6wxRuIkAbibku3D7ceHDnxmRoPAD6Xpn9k5DLHTzen61z4h/pAtSp7kzfYLge8D39xeCOJyWp2nhR01yBs4fLHcIoteiGCepoyqOT9Rv0PL9JuEjPbfYZAKR1hUWl6aXPo/SGzN2KPJQpskM8vfOQF4Lgt/A1iXMO2h5nKw4f3V6tLELDpzIVefJ23TH4A3GMEQtIOqfmbhVXCuvCt1i0dODyMovrT7XwE9ostuD4DewKbEJ5m5J1PV91xkCGLnmoIn7oyIw2GKSc6olA7qdVK7pmxKUU3TOmDM5gK0gmTMIfgPBx/gjCQORvWF/uvACYiOwASq6mzStjxbsMXl89wwL19bDp0RySGvbguBfACKADOClFU4mr7cIegj7U3KNsRcSk6r84vIWidp5v8v7Pwi+t0Xa0f8g+O0IbG9Vg+B7W6Qd/Q+C3xRglxVKOUlS6i6pIF0qzJDKCqQzlVJ5oVSaL51p+VRtb1WD4Htb5EL+J26UFjwkTblCWv6itOwFKXKIdGyDFPaptPZdKSnCIYgLKT9AzwTBv5CGhYtLcqWCNKkoS1rbVerzdannJed+Q78vfXa11PvvpF7/T/riQUc6XMj7AvRMEPyGNiwO+PxUKXqCtOJlZz/jpnOgWwLo+w1pxH9JPS91rk27Xkrf5wQPzDDPhr646e8Pgt/QNs0/KW0eJA36N6n/t6WB/yj1/Xsf4P+9NPq/JYgAzp99pxS/Qso74dgA5cXS2eZN3vBWNQi+t0X8/Qe4LcOkUT87x9GW0737XpdVifzLnHsH/rM0F1gT/QAAIABJREFU/rcSUmLu3dLCh6WkTVJFib83BvRaEPz6NG9lmXQqXlr1ujT65w6oXrAb9P9Sx0ZY/IyUk1ifLwjIPUHw69OsJTnS5oHS4H89X7w3CHSXQchz438nHV5dny8IyD1B8OvTrPTblz4nDfhO04I/8Q9SQmh9viAg9wTBr6tZ6cptHyMN+AcJPd4YTvc+O+xHTjcxN7mqF1DXxzTt9SD4dbVn1iFpToemBd0SQZ+/k8b+j7R3tnS2+UO+QfDrAv/kTunzawIDPkQw9AdS5FDHFVzXtzTx9SD4dTUo1jjuWvr09Nct1zbVfsi/S+F9nC5fM2dwBsGvC3wcMfTvIYCmNvggoF6XSsN/JKXHSHQpm3ELgl+fxi4+LUWNlwb9S9NzPgQw7IfSiagg+PXBotnvIYAz+y6p37eaCPxLpYH/JI34D2nSn6SQbhK+hGY2+oKcXx9KykuRxvzy/Mjdhej93l+ThnxPWvOWExQ6uUMiXtACwZ4g+PUBv+iUtPI1iTAthh8SoO/Xq/r9VVE7f4SAoYhu54ePf8UrEmW28BYEvz4AkJFTnO0kaKx7X1r/gTT3HkdXw8l+gb/U6c71+6YT/SPGTw+iFWT2BMGvD/jcg9UPARRmOkkc2UedqNzn10rDfywN/XeHGLxeQLh+zC+kHZOkQ6ukjDjpTEWLiHlvVYPge1uk3v/POiDiBNo7S9o9zXEDe41CRD1dxNgFUkVpi8fw3dULgu9ujcYcY6mT4UMeH103pAHWPFY9/Xi43nB8Y17StM8GwW/K9qwsl5K3SdtGS/tmSzFzHecQIp/uYivbguA3KSBnHUcN6drlRRKpWqW5zjFGYyvbguC3MkCa83OC4Ddna7eydwXBb2WANOfnAP57772n3bt3V7/2kv3796tLly4qLS0Va8wEt7bZAkHw2yau9apVEPx6NVPbvCkIftvEtV61CoJfr2ZqmzcFwW+buNarVkHw69VMbfOmIPhtE9d61Srg4LPkcFllmbKKs5RbmqvyM0xLdkallaXKKc1RWmGq0ovSzbWi8kLlleWpsLxQpZUlqmxlUbB6tehFdFPAwQf4Y7nHNH7PWM3eP0vH85J0qviUtqdu05z9s9V/e18Njh6oLw8t1IbkMLNfemSJ9mbu0bHcBBWUFwQdTQEiqICDn5yfrF5be+j+ZffqgWX36oOI7noj7FU9uPx+8/++ZR11/7KO5vjB5fdV77n+7NqnNT1umpESAap/uy42oODD9fsy9+rl9V10z5K7zA8C4Gf/+9tz3yvrXzRqoSKoApqcUAMCPnoenR6dFqVPIz/WIyseqhfYXkLouKSDHl7xkFEL8w7O0ZaTW3S6JLvJG6G9FhgQ8OHSuFOxejf8bT20/P4LAt5LCI4UeEmrjq1UTulpYzS2V9Caqt4BAb+ookgjdg7TIys7NQnwbkJ4Zs2TWnhogbJLslVWWRokgkZQQpODD9enFKSo26Z3663b3eDWdXzv0rv16MpO6rzmKc05MFsZRRmNqH77frTJwc8uydKkvRMMQB2XdmhSzscGAHy7fyPsNUWlRbVvBBtR+yYHH04cGj1YdNvq4uKGXqdL2CXkeT0f0tkYke9HdDO2RSPq364fbXLw88vytTZxjTqteDAg4L8W+rK+iJ9negDbUrcaj2C7RrARlW9y8CvPVBov3mMrH2ly8JEUgJ+Ye0y8J7g1rgWaHHz89plFGXppfRfjuWuoaPd1v9XzdBt7bvnUcHswt7BxwPN0k4NvAzk70qL1eexUvbTuhUZJAIB/IeRZLTmySBEp4UrITQh27xqPuymhycGnVAiALh8BnC/i5+uJVY9eMAFg5H0Y0V2JeYkm2kegB+kS3BrfAgEB3/1ZSXmJen9TtwsGH8/eJ5EfaV/mPhP1W31spfH1VzbzFCbuOrWV44CDTwx/QfwXFwz+fUvv0SvrX9J74e+Y7t2jKx/WyF3DjRRoKyC0VD0CDj7JG7GnYvTc2s66f2nHBhMBDp1Oyx8wwCMFOP5484cqKMtvqTZrM+8NOPjof/R0VNp2Dd851Hj+sOiJ1xPXx1fvdQg9tvJhddvUVe9t6qqX179YleyxQJ9GfmTyAdYfXxeM8TcBCQYcfPuNZ85Walf6TnXf9K6eXfuM8f0T8l1+dJl6b+2px1c9ItzBcPbQHYNNHsCh0/HacjJSKfkpJg0sKS9JCblHjcgPGn22ZS9832zg84klFSUmxr8yYbn2Z8VVfzXHiHL0+5thr4nsnyC41c0TsINmBZ9aACqWuhvciJRN6rLuecP5ROwScoJ9+YAh7iq42cF3vbv6cF1SSDX4ePEOZcfXII7qG4MHTdoCrQL8EwUpmrl/uj7a/IE+i5mq0yWnjaOoSWsaLOy8FmgV4KMGcktzdDz/uPJKc4NBm/NgCsyJVgF+YKoWLLWuFgiCX1cLteHrQfDbMLh1VS0Ifl0t1IavB8G/CMAtLy9XXl6eMjIylJOTI/7bjaSWoqIiZWdnKzMz0+wBtT7JLkHwbSu20v2ZM2eUkpKi2bNn69NPP9XkyZOVnJysiooKA3BxcbHCw8M1ZswY9ezZU6NHj1ZcXJxKSkrqJIAg+K0UdPtZAP3222/rjjvu0LBhw/TII4/oxRdfVExMjAB+48aNeuyxx/TBBx+Y6y+88IJ+/etfa8uWLea6LcfXPgi+r1ZpRefg+E6dOmn16tVKT083EyZ26NBBo0aNMjl4p06d0oEDB4x0SEtL0549ewyhMLliampqtXQ4dOiQeXbfvn3VkiMIfisC2tenPP/883rllVcMuFxH3D/33HN68803lZ9/fk4DBIIk4J7jx48rKytLCxcuNNKDZ9555x2NHDnS2AZMshmcgdNXq7eSczfddJMByA00up8ZUuFs9waY8fHx+vOf/6wRI0YYA3DXrl267bbbDODbtm3T9u3btXnzZkMUQfDdrdcKj6+66ip169athv7u16+fkAhwtt2w7hMSEtS1a1cD/pEjR4SxGBUVpRtvvFHz5s0zgCM5OM/9QbFvW6+V7m+++Wa9++67NUT8J598ch7nnzhxQgMGDNB1112nrVu3VhPL6dOnNWPGDHXs2FHXXHONnn32WS1fvtz0BoLgt1LQ7Wdh2b/88svGSOMcnNu5c2ej8wsKnPmK6P/379/fGIYrV640E2bD3fZ+fAOIf4xGuoMYkIj+wsLCoM63Dd0a9uh2LHZ+lZWVWrBggR566CEtXrxYJ0+eFHoba3/cuHHG2YPzZ+zYsbr11luNXj927JjR9ZSDMwjg6Q0gGXh+yZIlQppQHsQTNPhaA+pV34Ae7969u3r06GFEM6C9//77xmhDrEMIr732mgEUsY0B9/vf/95w88CBAw1RQBiACwHg8ME4hOOHDx+uJ598Ug888IDo8uEZDILfisDHTbt06VKtWLHCcC6GGd23r776yoj2WbNmif68NdgAEZGPHUAvwP7Q85QF54eFhRm/AMQzZ84cYxja588DH2p58MEHtWjRIi1btswYCBgJwV/g2wCORdRjndu259z8+fON4TZ37lzD1WABkXz55ZeaOXOmpk+fXuPH8zyHmKc8iIb7eB5C4nmuP/XUU8YesPR/CV0GRIiXmixVBffnOOxibgvwRRocPHjQYi8DPlbmhx9+qI8//jj4a6NtAL70JGqAzxo7BAjoCmBUYDUGf22vDTD48CEEF1iqFnzt46BWgy+4ulb7IICgh6994OyzlkHwfTZL+zgZBL994OyzlkHwfTZL+zgZBL994OyzlkHwfTZL+zgZBL994OyzlkHwfTZL+zgZBL994OyzlkHwfTZL+zgZBL994Oyzls0OfuWZs+J39qzP72nxk3xXReVZlZRXmu90f5D7mznmnsLSCpVVkArtvvPiOG528E/llyotp1jlla1z8mS+KymzUJGHMpWRW6IzLlRLyysNYQAtgEcnZGnh9uOKSc6pPs/9FwsdBBz8xMwCTd1wRENX7Nf8LYnqPGmrHh6zWZPCDuvMGaeZaLz35+/Wo2M3a8TqA6ZBadS4lByHq/wwUl5xuY5lFujk6WJVVJ7RsYwCLdmRrJV7TohrpwvLtO/4aW3Yn64j6fnV3MzxoOVxenlalLmX5/ckndZHC/bovhHh6jB0o7pM3a5Pvtyr56du18cL96rT6M3qNm+31uw9qX5LYnX3sHDdPmiDXvxsu9buO2m+/ZGxmzU57IhO5hT7+Wrfl4rKKrQ7KVshMalKSC+o/lZ7N2HYnMIyU6+mYJ6Agl9cVqkZEQm6e9hG3TowTHcM3qBr+6zT1b1C9Ni4SOWXlBtwR6w+qJsHhOpvvUJ0+6Aw3TVko+4dHq7nJm8T1zLySgywthHs/sTpIk0KPawun23XO7N3KiohS/2Wxuq+EZt0/8hN6rM4Rh98sUdPT9yqh0ZF6J3Zu5SeW6LyijOaHXms+nseHBWh9+bu1luzdprvuLLHWv21x1pd12edru+7Xtf0Xqcb+63XVT1DdMvAMAHwnUM26Mqezn23DQrTq9OjdNeQDbqqV4i5vmxniqKOZmlsyCEtjk42BAOwEGRtG9LmlWlR4nsgspyismrJQ1vuTTptiPHDBXsUGptm2q62supzPqDgow/HhMQbwGlM+wPornN2qaSsUqUVZ9R7UYxpWHvd7mncWwaEat6WRNNoiNqconIDIGVPCz+qe4aFm3IhHAgFycLzPAuhWYDYA86Bk7nKLSo399r3sL+6d4ghPvc5X8cQhi3TXufd1/ZeZ56nnMfHR2rC+kN66fMoQzz3DNtoCBIiXb7rhJKzinyqPQgF4qdc6h1+MEMp2UUqKq1QVn6pBi/frxv6rjfv+fCLPUKFNmYLKPgYdhsPpBsutg3F/tnJ2xRxMENZBaXmN3TlfgPUVT3X6oZ+603FAY574boXpm43ovtQap4mhh42xBIRn2HK4R448sb+oUa9WPA5d1P/0Gqi4n+n0RFKPFUoynlj5g6HSKreAce6v7Ghx5SPBEAijFkbr6kbIcyNNcqEaFAT/ZfGGQJGCiDGc4vLjeH47pxdpv623s9M2ipA3nI403wz0sm2C4R1NP38UboNIYaAgs+HnMgu0scL9tRoBFQAOv7xcZHm9/TELYZDELGfLNyrsLg0I8otADQs96CLURkQBGqDhuQeQO69OEYLtiXpgZGbzDka6YUp28w1y6k39V+vCesP6925u4x451m49oWp2xyR3bNxBGCkQo+16jg83LwD9WXrYPd8C982b2uieny1z0jAXotiNH1TgmES6mrv5Zjvg4gGLIs1xI364ToMsetY49YVDjj46C1EIFxtKwWA1/ddZ0CkIa7uvc5wKKC+Nj3aGFPofHs/e67REBzTyDf0O/cfovl44R69PiNaN/Z3GgeCGLZyvzEir+vrSBG4G8Ljfo75Jq49P2WbOWd1vfu93mO+HbH+xPgt1VKlw5CNxj6w9/Kt2Avs7Tn3HgK4bWCYIUDEON96x6ANhvAxevlGS7A8xztvGRBmDGXA5xp7pFdjtoCDj36lS/TqNPRfTR3sbhCoHEKgIW7uH1rdcACOjUADcD9qAdHe86t9xmDjHPfcOjDUAGgJhHJGrjmoxTuSTSNhdAKIG2CI4Lkp24yasc+5v4ljvgtx/tSELVWqKUR3D91oDEoLEM/a7/M+X5//lEPdx607ZHoeszYf08jVB43+t5KAe3gPBOsQ/3q9NiO6Uf6FgIKPhbrtyCkh1tBdGDO2wZyGdSrCMVzy8JgI04gWIO7F8OFZdDr3wTH9l8Zq/PpDphdRW+PCGRAIBtPhtHwjVrH4bWNCRE9O2GIIozYONd/YywF7EMZWlch1CPWceK7tG7znqQPdRWwe27sx7+gZoo7DNho1gCpABQxcFmfsh9qIkh7H+ti0xjB+YMfnJ2cV6u3ZO32KPioNyFjHlvLvHRGuOwdvqAaIRqaR6MbBfe7GdKsR93nbmIhOfAb03/HEHTyZZ/rttjEfGh2hWZsT9ObMHYbrvGW4/8PV9Ol9cTffbwmKZ6gT/91Ebst68bMo42+gXbB5rDrimzAU7bfZ+/3t35vrdFsbg35AOR8Hz+szHKvaV0Wo7B2DwxwCqGq0613dM56hEbEJvI3JfyshvGVDMDQuhuPgFfsNyPS76f9boOB6nCl0F7nfHzFRvn3O+y6MVgjWnr+md4gxTK2UsOfZY4wu25VifBbYGRCOve6tnz1f2/6RMZu1K7EVG3yZeSVG79ZWMV9cUtu9NAL3QzDYDqgQjEL+2/OWGBD5cDSeRCQG3rpXPo8yFjL3o1+nhB1RdkGpcSDhR8Am8NXQlOn9JggBAwwCQ/RipFLmrQPCjEVON9Z2Jd1l8gzOm33JOUbMe8t13+s95jsgLM7zrq5zdgonV2O2gHI+btfXZuw4j0PhigdHbqpuVCx0DDY3J1BJOIq+L12zV6dFG12JK5XnrTUNEHAudgBgY8RRDuds49JYeM2embjVEAvXcQihEnCg4DtA7NoGt8/xHzuBd9pr7LlON+7LqONGN6PDKb/7vN3Go4kr2Ze6w17puyTWeOkgUHeZ9pjvR2X5kjT2u6g/dgHqrDFbQMFfvfdkdb/bVo49XPvk+MhqosDz1mvRPiMuMb6oJD+s+gMncpV0qlDxqXnG703jucuCIxCnx7MKjRin/+ttWID69Mu9xqC0jUpfHPcvjhJ88feP2GSMTspz6/a3Zu0Q9bhjUJjhPK7zfr4Tu8EQW68QQwx8L3XpPHmbPliwx/QIcGlTHs9R72cnbTWqDgnkroc9hogw9rzdPXudPRJkVsSxxuBung0o+DM2JRiRaxvMXQH62aZRqoDG2CPQQh8a8Pjh8MktKlPSqQJjsBGM+WzjkRqNRiPiCcNNTLAj6ugp4wByv4vrSAbUhAWf6/TPZ28+ZrxndAsfHOU4iNzPAuTMiGPmW3C21AYaz9h6wuFTNhxR+IF0871INcu17rJ9HQ9aFqfI+AxjnCKh+F7vs6ixFbtPnBf4aSg1BBR8wMIqRUcDpq0EjUQ/HP++NYzoBr0zZ6dikk+b/u7otfEmUkYEDc6Gg+AcwxGeOAHSACLBgANMuN/dsHApasILHHEBvILrY1P1xbYkQ0Tu5zjmWb6d592E470PQsaDSB2p0/BVB0yUcP7WJKOCvPe7/9t24Ry2QvTRLK3ec0L3jwg30sWtkriHeqBWkHaN2QIK/vFThYZj+Fh3w2NZPzRqk0Lj0qpdtIhPdDsWOiBisNEnRgy6n7XcZRsPbobLcJAghhG71stn77F7niUAwz0YaSNWHdDoNQeNFxBCuLGf40uw9/vbe3sH/IdQeIbvBTAidEgcvHjesgDc1sXuuYc6EO7+YP4e4+NAZeFUsmXbcnA6oQobswUUfLp6BCDsB9s9FYeLp4QdNnv+I+Lgaow24ugc2/v97eFKxDE63K2recbLqfy/b3i4aVSCPIh6HEEQnr932Gu8CylENxFpZs/Xtkc3o8roFUBsGI8WRCx3y/EYpI+OjTR1puxPv9xXHZOgThivtI99D1KIewhPN2YLKPhk7BDBohHsh9s9fXcCNcTdvaC5OcHeb/e+rtGINCDc575u9KVLRfCf9wEA76SvjCPIDb4ti64fqsbNtfjziaOv2nPCSCTzPlfMgndTtiU6iAW1hzRDlONUwrCkLhZ4jvFi4tL9YP5uPTEuUo+N3WzKgED4NtvFo3yAh0H4DleS0QXRQEDB5+PQ+2S9UEkaxQDiarAOQzcYT5e9Bii+nDr+wOfZWwaGGgJwN6p9xr23HAeoqJZRaw7WAB/wEKlbD2fq8/CjemxsZDXhkpuQmVeq1Jxi43tHt6NirFriOwDX2jG8F8B4F93AhduTTEze/T0cYyBic1jdbtTG4A2md4JrG5V0ZU8nmolzaNnOZJOh1Nh0sYCCT6x66c4UE22Dk96etdNk3tDfplEACg8c+po0qclhh00KFrEArzvX22De/26up1z+e+/hv3lvj7VGHZF6RfaOFcU8BwCoA4BHNbivEacgLQznSmxKjokbYCw+4OolQLxeAgQ4OBiO7T5vV43v+lvPENMLgeuRFHwjkhJ19GVUkomIcvzq9GhjP41afdAQ7fRNR5XWmsU+SQhEzbDsqRh6b11MqvFvE7Uav+6QEXc4cqBwHBdr9p00mTs2Q8cXgPYcYtnbH4ZoaGQLmr3XvYcAaEx6G+5YAudRHxhZnEfEup8jHYtMHNLBXpkWbbKUICAkhfu+2o4xNt1SgfsgFL4V0Y++J6SLxU83mW4v7YDdhK+BvERsDqKe7KdtOnpB4t4+FFDOx5on+mQbg8Z8f/4eowpIQSKxkoYz4rPfeuN7f3L8Fg1Zsd9Y5PY59hCPBQOQ4CQ4ghi+5XKMIgiMc1YUc6+7HI45R3nGC2jU0VpjCEJIiG5f9/PuL7cfNwmfgMV9EDX5gRCL+xkA9XK/+3ptx/RsyC3cnZhtQtHWFnlifKS2HMo0GcWWWMkl7Llon8XxgvYBBZ9w6pCV+6u7c1SaCkIU+P3J6vVa9QCDXoOrLYA8hwvVchgNSxePriGBFduYRMn4DwfxLMQAt3kNSu6nDADkPix3VA6qB4scUN1EwDEESk4C+tm+r7Y97+N+h0jW6m9VKggiddeJ5ynb/X34/uNP5hrpaMHHy4inM/V0sfFhUC69Gxw9jdkCCj4GCflpGDq2oagQIVpEGDlptoL2OnsCLX0Xxxg3qD2PLnbrVs4bDvNwNucwsPCCobMhhut8dOUQ7x2HhRswkQK4VEn7Ts8tNgYqIFOWfb95X5XUcJ/zdQw49CRQeVYqcR91RSXZZyifegGklVD8H776gJF+fCP3kjq+81i2GR+ASqAcUtiwlRqzBRR8PqygtMKIMFthy0WkLdHobg6z90DRZNlSOXsOLoazbbfHnkd0d529y0gU2xemMdHNcAvuWXuedyEuaWD0KN08OBGAsNLpim06mKG7htaUOvZdvvZIDdzCxAnQ15RnCLCfQ4AWVJ6FKJBY9ns4h5ub87ZsJBXMMX9ropEenMf7ifOHbirAUw8IAxXXmC3g4JNuve1IZnXlbCW9eyoEhxJzJ06NZLBi3t4LsVhusOfgUMQ1vQkaksYnCheTnGOMJNtNotGIJKKGnOTPMN011NHVPIM6ojtGI/siSPs+7x7CQQ/zrU9P2OI4m3qHGMnTbW5Ng5L3XOPJV/CWhwogxZvsZKQH/yEm+7P3843YR3bgy4UQQcDBZ/gSHGg/2teeRkHHo+vpASRmFhrRy3n3/XCIWz9yDZuBcC+Nw38kwbh18cK7OGBZnNHfnEdM0sOYHHrYvMuWyzvwruEixlC05xu65/0QZqcxEQZgJMvSHcnGkcU7uA7Hu4mXb8Vyh2jt+7gX1YDKAHzL6fa63SMhcB+3bvDPnDUBDn/chFMHUf3mrB0avuqg4Vq6f7ai/vZwPuDbe3D1YjPgX0Dv24bnPrpOGGJuPQwYDBrBwsZlaonIludrT5mAQrcSguQZfvZdPEMv4Kuo4+Y+rnEfkgcpwX+eR2IRuYQIvO9x7nFsB182C+qL4FdjtoBzPh+XkJFv9Kw/AsARQuPRSM9O3mr6sd4Gcf+3IWGMNuIE9hpgMsyL2Lp9H900wrc0OI1q72WPTuY6ThOSQrEr3Nd9HRMYwkBkeBXSCi6kDDjWEECPtaaLi6PIdh+RbIwDZIwA0T9shPiTeSb3Hsnj67uQFLQFRGy/1X4P92PMMj7xQj19AQcfnc8IGcSY4RKPdW4r497T1UIccg6QkQrobrfIBDR+NLZbFdAo3Of2yVPeRwv2Gr3M/e53cUw5AIBnjwia9zr/3e+gvE++3GdcsmtjThpnD8SzP8UxUiEIcggwLO37IA4IALuFc2/MiDbeTsLREKV9J5FFHEivT9+hDkMc1zfvpg1wMiGlkDg4hbBRGLx5oVvAwSdVCi5BtFFpGsHdkLbS7j332UaDe7GQfWXo8IwhAg83u8viGGKAeOj6WWngvQeLmvd4RTDfCmCWM+FGVAcAAAi6naAMnj7iGETayBEgOcX9Lp63ZfBuyoQYANF9HkLAT4Exx3fba7wLVYYDDBXGPZvjMy4Ud/NcwMHHBw7XU2EqgmiEc7yNX9t/wEVi0EiIW/6776WBaGgaxxIV9wMiIvccETkGl/tZjvkmgCA129d3QaxE2hxbwdH1dLksKLwLDx8RPzyOpIXhqKFM77t8/YfTCR7RW4GwKNdNNPYZ1BZdX2wG6okxGBmf2brBJwJGVgu6lB96ChBtpfztvVxNw3jBR7QSmSMJE8CxHeDy0WsPGi6BAHgOIkA3e9/HeewD3KqPjz/no7fgch2bAlEO0BADe285/Oc8wSve6eu6+xzlY8jRrcO3QAIH0sR9D0SAJKBejFVkzgIkFKoQ3/6qPSdbN/jk1eHmJT+eETlwqi/KdleaY9M4VenQ1j3qvYf/OGc+33hUjPQ14tiM6IlTWq6TmYsFz3lTpkdqcI5vgVjGhcSbvr59Bw1upQaOJfr/cJwhSB/lcJ7rEEB96geBTNuUILKdGG7OkDYyl+yzvJu6kee/PyXHdF0JMyM5OQ/Bt+oh2pBlQkaBmSABUQnXWI6yjexrbxsYkYjlDue5u2dch2sw6hx1sNHcQ4PRgFjhFVWzfrwyPcq81/0eynKXB2BIkGoi6UksYWu15U+5vMcSg7sse8w1Mnxrqx8qxQLH9yP9kFYkZSzdmaxVe0+YQM3Ln0fpkSomgcsJ9TIuH7sJRxLS894Rm8xkD1j6jdkCrvOhXHdXzDYWFE7l6HvfXtX3pVFoRH4cowNpNJuAYZ8FLMa0oU7gWnuePfZFbHKOaRMsYVy43vdTPmDTkO5n7THvJkmD93MO0UsqFu+ynGnvhYgAnPP0UHjWXrN7ruOKJaOHvj+qge4beh7xDWMgWehp4IyiK8g38jwEiRRib9+NfUO7NnYLOPiEQb2GFI2KkdRncazBgYXlAAAdpElEQVSJW1MZGogf9xoJ4aMRbWPSyISDD57MNaCgK2lMGhIVwDQuDGhISM/XvC3HjJ2BurHPG8KralR7ztceIPkWo1rCj1Y7jdz3AlxdNgxAkvrFZAyIatLPfaW2ucv1d8w7mfSisVvAwQcktweOSsHpY9fFmzx7slsRqf4q670GIKRE05DbDp8yGbIEQmymDcDHJOdUJUyGmExhYuLecvz9hxAhGAwtXM70vb2eNohj5e4TJk+RjBxfXM87KGtRdLIYoEkqOkOrfUkdiMRyt79vw2jekZDVWOwDO0qXr8PxwQwZ7oaha4O+w6NG8MPqWn8Vdl+jkbC+mfQBm8CKRkQmCaNkvSD+jYFWNbQKPwFuZHc5tR0DFpJkwfYk45qm6wYhcN4+Y8T8gFCRVkWYlb433Tv3PdzLfeh6DE/2GHresniGcyR70vPwRRj2vex5H8GvRvh3DOEEnPNJ5SLU6f54dCg6F7BoMEvx6HZ0LeKbxnQTjPt5zltjj7Lc19DLcKm7n809RPpIoyb8yvvcz7iPaXiCMySa4LDBeCTS6L6HY0Cl7+3oaCd5lHcS4nWXj02AWkNvY6t4y7H/eebFqds1MyLBEIE972uPyiAjirGQjdkCDj5inzx8WwmonIq6G4hrNBINh/4knx8DyW2Rc48BZnSE8ZvD1bZM954G9jYyxII3DScMnOd9t/t57Af6/NgNuKaX70rx6R+gHrzHcjrvQPRD1BAx3843Xls1y5e9D6JBzcHhELj73RDPwOVxJqJp7+c6NhIE7O4tYSBiQDZmCyj4pRWV5gPxftlKUnkqTUXsOe+ehqFyFiQakWOsdgZ0EhTx97y3vIb8h5MZ8oVxxhBuQr32O2w51MH2BOwxhMB38h9CACzcyUTy3M/zHK5ZYgG4k22Zdo+6wpOHKqMcfrSXyTVgZpEqoqdN97Tm8fnJ2UXniTAo2t0YVM5W3LvnGveiBgjV4tp0i3Pv/U3xH46FyPYdzzGZPTai5i6bHgkJIQDNMcak04c/1xVE1KM6IFavaqINGJjhDj7Z8nFVD14RZ1y+lE/9kZzMYErwybYdASGcQ43ZAsr5iM6PF+yt1t2IQxImvOLOVty9p8Ew0nBpEmvHZ47OdotDGoef+zmO4cBbSZSgf1w1aaH3Hn//kSoh+1KN19D7rd3m79bmQ5k6ebrIZNSSim6ml1253ySB8k6+CUmAHwPi8PWNcLYvQxeJR5yerGe4HAbAGITojZqpGuSKdCoua8XgE8rFoWEbGq5iZI23y2Sv2z26HW4isgWHYW3jKcRBgu7mPgAiGQK3rteJA+G89FmUyW7FzwD3Efe3hMPe/iwn2XcDFFIm5vhpM2qHUT00ur1O9sze46dN9nFMco4BCq7H0Hx71g4T5oXA65JQvMd+jy2bPeVvjs809on7ve57IIbnpzipXq2W88nDIxXa/eH1OQZYuB4r21L+2phUhe1Pr/a/0zAYR+hC1AEgYsxBCIhcxCLx73Ehh0xmDzNx2JAuThtEKffRkO5vAhS4lb49jhQIxw0kQM+NTDRBIwDAK4ce5/33jww3M4oyisfbw3G/w98xs3cSC2HwCo4wL3HaZ6kn9W/MFlCxjzWKQwLxZkSWq59sK+Frz72AivFjXZu4V3HpmkTNKl0IcDQOP3QzQBHwgHuQHIh8wMQnjtToNm+XUQn0JHDOcJ8vm4NzvJdvh6Dc3/jgSCZp3nUe0UCwdCfRwxiKw1YeqPGcuwy+yf3fHlMfunpM7Z5dUGZ8/W7CQ1LwLO2JeiBvoDFbQMEvKKkwHi2yTwiU1CbGbOXtnkZnUiOmT8Ndi8FHw6DLbyKRYqDjzqVbBvBOw0dp7pZEMcABteEWqfyHOCwX0dUiLsCwK/tO7x4CMKrBY5Cacx7wuBd1NHZtvHErM88PettbJv/R43Ct/Rb3PfQCoo5kGecNRMR0MfQ+zHNkN/dZbyZ9YuDrxv3prdvgI7OUadWZx/6Bkee6boaCa+mnU1F0NqNxAJ9MIBwztmvFszQc/xnwiesYbx/g2sgc97gb1bzPBRjERP995zHCqAzGxEBzZvGkr+5+trZj7BdEPmACPPkDjEIiW5nMYQaAep/Fh0Fi6tp9qdWguu+BYBi4ij8CIqZcK92QQHgoqfuzk7aZNnUvBHEhEiCgnM8H4WcnbGnFPnuyUNCd7op7j8mjRwQyQTEGmC9RSRlY2ohbGsWXCHeXCxEgRpmjH88dohlAICTAt0SFzkdnw3Wcc5dhjykLiWPLRBUwBw+TIZO46Y028hyimqFq9III3Xq7egRsAJxvNGVXSR++gfrzLsqBEOj5kAvQmK1ZwMdwskYZlAz1o3/hcH5wLQ4PrtnGRbczchdwagOA59DtlGGf8+7J7LFEAbdCSBCMCSh59DnPQpzEC8aGxBvJgqqh0SEQiAFV4/5OnqFcbASkCM4X6upLxSEpSNVG6tBLsUmq3m/mP9/MuwmCUbatg72XdkF1NWYLOPjklkLpo9fEV1eWSvHxpDBhdcPhDM+G6m0l0YvesXm24v72EIIFx4ICJ9tyeZbrcJavcgCZbqHlau7he1EVNDYGJUTn69nazhmJ4orY8V2U70ua2TIgONoDImRlDewWe409ZWLINmYLOPh8HK7SJTuTa4Ru4SCyXtGTcSm5xoK2Yo3KcexuHCrrvm4bwi0OOcewZfcEiMymwRx8gGqfsVwFCPace2/KdBl6EA9ZsxAxPZiGdOMoiy4rQRt/nO5+P8d8I4SMRY+KYj4B9z3YN3QLG7M1C/gsNsRCRpYjqQRikUbBCUO409ulcleUY9KxIBjvefd/wOw+f7eJwdvzGI49vtxbw5uGeCZOD6j2Pru3hOH+jz8AIw7w4X48d/Z6XXvAJ4cfh1Vt0qa2MlBZDNokRZvuqb0PGwejkSliGrM1C/hk8GKVu8G3FcEJ5BWjNBJU79abxLDrchghGdDpqAxbPh5CBkggNpEeOHjo86Nza/M0eiUChhh9dwxFxL9XAlEuBqN9J3t7D+Djx+c7qI8leqx5hlxxL/dQX+pNWbQTup52wVnF6GGMWwiT55sieROiCTj4hEXxy9PX90X5NBJOC35cRzzTUEzGQAInFaZx0H9mksMqccx5d2PXdgx386NLRqPiKoaTfA3KRLdjaTvOoXPlI3HmbnFW4/K+l2/jOUCz38B7LKFTP4gRo437+Ba6hQzyeHi00+OhDKQLQ7moJ0DjkWTmTxJekFR8E8BjjLLKFu3a2C3g4JNCjWXtbTTbUOyx9BFvGDBwLpWlMWgwOAL9ZhvTPkdjW+6y5/ztuRedSzgY1eBWIVyjYWl4iAKHlPd9tZWN0wmnEfWz5aDO6Kr6egb1RhbTgRNO3APgefbqXo5LG3WEVGAaFhw9dAltXZnVG6JhUij3Ao8XSgQBBx9jDp3nqyHsOTj+4dHO7NZUlB+cim+buDfOHgjDDbZtEFtGXXvKwnmCYwfJQqPzDHuIa1TVIA84ExHui1h5v/0GrjMIBFsGtQBXw+EMAyeY5VY99tt4FvWDVCMqhzHKd9nrSD1+tAffRFCJqdVtZJE6IxWIezD2cPuRUxeKu3kuoOCjJ0lMgINtBe0ezqLR4EAqC+fB5e5Gh0vQs/QW8MNTeZ6noeFQN3fxHA3OD3XBPfZd7BkyHZOcYzyOrMQFl3OeMiEGBkQAhvc57uHbkESj1sQbcK3Pn3tRV9QFO4HvpyeAJPBVDmVB1BAA5SHheIbz3h+EwrX3v9itlz7fXl0e38KPVC6GtLfagZpMlU4+nbtiAA0XI36JhZPFSyNwD5VynDZOn5ZG5RrLo9LgcCkNwuDIFbtTTEaMLZvGQkT2+HKf4Tx3QIR74Bi6aYwgIrXMBHngtF4hhsOY+oysWr7Bxg44ply4EMcM3VLW62HCRFQV1+z77b6+57ife93E7n2W+uLuJUcfoGkLEjqQThAYPZlWCz6TFbKcqZsL+HAs2P0ncg1Hf7Et0bg9aQy4iJEpcK9tFBrEPYgBYOjfeodTcz/WMcERCMXrFIFoiBIiRYjH42CCuOB8EicYbcMx9yFS8Q2YRh7I6hi7zDh4FozCWwnx+fK6WQKwwFIePQq8lRC9+7q/Y+pMmyH50PHkMjBGgWNSwHk/XlKSXBqzBVTsE3hgMKFX/yGWCXyQa+82vNB3dioSC763kQi8kKXj5RLvfb7+05jku+OHh9B83QNYBIzuHrLR3APxEl8nTRq/PfrW/Vxt30ldIEb65HQtrXRzP1vbMTYHXVJ0PioJKQnR9V0SY0LdeESZOaxVp27THUG0IzbdFUWcwXWAAXfYa5bauW7P2T260gLu7Yfbe7x7nCTuc7wLtzLc7esdiFKsbQBGcvA+uoasCrr18ClDmG4OBiR6J9TD/R6OqR+qAdWBlGDvvcfXf76RLh8qCj8Az8E8qEMkIN/OeRxjTGzdmC2gnA/HkJThbjBfFbbn4CJAYc8zRMHIAWRlbLqCvgxH+6x3T+O/+HmUcfVa4857j/c/KgUPnrHCq5wshFkz80tNpM4tpXgW4mDmcPSx11FFPdyEzf2+ztlvsITNnhA1bl3bbpaQ7L3sIdCjGa04bx/RhH5yf7S/Y9sA3IMzg2yblKwiE9NnnlmvBPFVFg1OOXAIIptRPVjWvu71nuMZuqVzI4+Z3HnsDxZLYk5AunC+fPOoD1yvcKa3PO9/wKReLDfHaGIGqNh7rDRD+mGbENCx4HMONWLvZY9t09ghWwHlfGbdZjVpuIJG8iVqbYWooBWNgMd8eVjWjEqhnz94ubPokL3f1x7g0dns+dGH5t2Ic7jH1zOc431Wd9PIiGumY8XwY3JmXMt0Nb1GpC2P8n1JJb4Bo5EyeQc9EAjFDifzDtbkPggVJxBEh7inDPse861V3UK+EVuiMVtAwefDSC/GsYL17E1ecFfK6LKqRRmgeHzo6FJAowFoPPf93mPAo0FobO81giqoDW9Dch/PAZ77GucgVH6GMFzOHVu2sUF89M/tdfbE/+mZPDZuszP5YpUtgPXvfp99hlAyo3kz853oIaFcCNjNNLQH34TfolVzPuBj8f//7d3rj1XVFQBw/xz/A79gME1MNDEYMcYvkqBVolGiNvhBSZTwqlpQTJTSgCmmNFLEQkPFKBCkRRSBwfJGXg1PCzMM5SE4DO7mt++smc3h3HH0MuOk3JPcnHPP2Wefvdd7r7X23rJ5jnZeyosi0meSHaLDcdah6CQRCDh1AIrydWditI7DTd40tORTJ7rjO+rwDdwYRhsijMmSdQSHMPWBZBisfQjIVC0GpiXYEHMgznueV/sAoRjF6psygUiK+IZ2aaeUONlApOGl0Zy3X4qk3ms/5ImPOmf4U+34ddxWA5iyPKTI/2egUScBIMAN3RnllZVizVNoqMZZQ5/iMmU8Z8jFej3855GwURJJ1Ef0G4IZqsZzBCXiKOZeje4pE0M+ba4jqKjbyEGmDyRHOX3zHt/Fe/88lFPFqEO7k7d6DLvYLxsoGPHFgTP9iQkloiQnCojQeVlH9iGmLBNAAhgAZWQZDysfiIwycUZUylMJVuYEODqVGzaIJspClPpmr9zZcOL0qRp1KOvMNqG+EJ3/XNSyaeXvbf93Vw4K0f/VurWXRw5iJ/5hU+Zs3Fx+W1/9AvGejZ1hj4KOHAsQGbWSCUOWJGv1GBHkE/3f9TR2shbXZ9jpYGkEAgSHRjhgAEG54K4AUvWsnhJY1efxH3cC2rTl/8p+cfUS4b4b7+N+BIiDQ31AMP1OLUQ5dbrWPk4sQ0EH1/GWw52NLd8rTiTGm6RLK29hACFiAR51IF4jmSrB+I6xveCOrVsNWbWbJCAFWj1GBPkX5O/3bUcSQNWJu61d22fAADJEcKXWGW2BxJ979j1chHMhzveM0XF5acVrX04V7+N0/8fOXHOdi1obIM1YO7x/gQjqzf4CkjXLtvomJLPwGZ/W0JPFZHtVmycijEjuqL6HcH2LLaIO0saIodVjRJAvk8dQKYvKQpSWXjsdhiApUnUcAFklUJpdAzLgGAe7LsuVdSACUUGGlXZEOSJb/oEtTbPxtfc/6dcLr19ZRFnGmPiCyKUD1585fzkPv6b8uaMpAesjOFBZ3MgkCqMw1F20ozx7h9vb8I/zx8YL3Ze+bxX3w5/Jo4VWuKDvQscZWv1YjL/sfAC7GqmLMoglkkAYk2bu8IXzLrKgxRKibBAEgDakwADitYtagnSzbnBx54Ur2bL3PuLxLWcSQRSQ6xfiEThbgtpoRsDRBucs7vsyerWlzrYpy4vmyY2AdG7zVv368DIinH/+u568RSqxJYImH5/PfzBqhyRACWQpK2TLwi+B4hpCGFTErXGyJAeLHxHJZrwCnHqIdxLB2Lkuf883/rb1WEa6lHPr3AnjGiF4H9Lzue+aCM4TNY50pUXrD143f77axvjfaMdPm7uYifKPX+Wp4R1Hzual5vj1r/b+/EWXRwT5jD1h1HW7TyXhW0kTuMQ9Rg+xC4gBnDjjSogeM63hmWMM4mgGYZQpz4BKtZgWhvvMYLUyCE4RFfMN0gFyrbbBzVrlNuKYUYiT/eQj0MucROW3ymvW+/h5/+gn0lK1lOXiWr/YA3WOpSgTZ0St3aTmwvUHck4CicEGsFiDzaNbOYad8wF/qZ2k+/bWoyepgXD+mAdv4gbkRaedM5cVeh4QuFltMFyWK6+VATA/XLzjaHeO3fOVq48kYUxKobLcatUlqw0IZ9P+03m1K3EJqka95XfK6/ime95nVPpOWaZ6XUq0eKbNJeH4z5k04fef5/gIX0SU8R19sv5BK8ewI99aeZI3opN85ZIQLB9uBu57Gxr7y5Ydj7LVswyg6uSFapn4TyczqCCasRT3nRmEUrm4T3F1Ob2KSrAaiKQJhFC+1+waMqiUcXPX9yeJNCtbd9+7RgCIzXQvxqB+kg6Iz5AU4r1LWjESp6/YMfrX3jXME5s2phUrFzGz2hWPmHFr1r9Ngi46HONw413hXY6OOgDW3YMUCyJV7QScB4CQawUP+YBhAxhvC5hsPtiZ2xyzdr0DEVWu5qfn8RO74EiCMKK9bI926AtfP7uH9Cnr0UeePSuNUGsMRxNU1VWWwyDeNSuJr4DTrJVjWDmftSyyJyTKwMPxjDC56GWnSkCV14Bipg6VYSwsd860qbJMK9eACSnG+ySFuohXfntWvgWP6Vj3IVCZcljoPgnC6BN1DO6stklfqSGeuuVfHc2ivCxLdWAGTiZczii1GHN11U9tYJcY0fBWjupVt3G9xEguUx0SlBCMkJAYwz6A8SvFfv4vBDprbbbwDQs5WkgOrlTPqwC+Wf8hGHdaF8BKIIPpe99k8JFGkDJYG2QEUUHgUBIQhFb745tU0/w1AzuBgU9ZTmziL1+M4pCuxEO6ixiEbLnxOMqqG8Q9YOk8Pzvjy7XVJ1jiOq+zeTzcFw93TT/zjf8YUgZDxGDPcCRRztJnZZcAj/dKQsWxAkc4Np7XnX/Vt1NIKUnARLRPfp++x3u+SS2xlcIo5dINd7ByHEMWcG7lGFaxz+ctnKoj9C7PGUNK4qZJGtFZLl5AAQDuT8YMoMTz8sw4YhiVYrN83uxa3QgGhw72rnIsdsYoXR7IalYvO8CW7zg796EYoZTvNGIVDWKGUCt3SRnjKOK69c0gAMRFBYBbEDn7SGZRRB/1Q6i4lWNYkc8TZYFgYpGlTvxDKmmQAzgzGj5zQIMQnXat06EWAiAAGZJAx8v7JZCbXatXTiCjbDDke1/dnEZ1xlu1fmUhUVo1n0U1abQsjwAYffbK3XzwTDbwcLDvsDv0uU7SqMMzi0FF20lT6rCVY1iRr2GyUuZ8tPs6y5XItzoGjx3vm/FsWOQlUht6bkAcKoPTSoDGdRVojXcHbANimSVvTpxn8V71rB7SJYix+rz6X10Im7UfUbdqmfivTsSPIfjnZenqrxwA43Yx++D0eKfZmfSYumwUcz7kM/LqkhtxN6vaaEA6kiEXQJTir9pxFrNJlNX7EAYY4bELgDbuDRBA9b26/6QKZ5J3S0KsK/tT7+Fwky1kFNHfd/9WEEvIuOHU+in1kZ5yE1o5hp3z+aANh+iqkuOyE2bBpuw7v/x9b94b3tRpujNEfhUYplyZ+9cQjw3uNe7FefQfxMU7Vc6P+86esS1IINxIxJMoRHbm/GLJFK5Yut+EzLL+sr6hXgvZaifCysPGPqIl0QI2vk9F6WPcY+Qa3gl36+skq4tuO56u9LQ2TXvYkc8RwXI2LqUTdZoItknQ7/6+pz8dibuXFJAnH/nxDUlgiLcpD7/4t/ed/G9asvFI1rOsXcEc069sTcq2gEiJEzJeiHnOGwAtEcS5Q+2YBm3YafSxevuJPC8uRiFR3siDiJYzx1MIMTF6iTLOCEM7qTF9jGf6QJRrg35xKBlNhCNIWzivSDU2yZyP9uQt581V8C31iGtw6oggWhDaxtRg1eox7MjXwJzJ831vjkWbJm3yoSCN3bLLRQZcm0RpfG1dHS5PQRk6UjjT6MGuWebMmaNujb9GePOHHOKU5m1hJ+NjM2yWfH4kW8i/+dO2bFGb9869bEuzmO0SoVERsoPfXshGGAJiGFJXvG3iE8ohFJLJ/H55fqx04ptUkOYtsVLMgGFL/9PhwspWBkUYkxdvyYElHk6qxfvmA5iH99ctR/NawYJeEl53HuvOTh5+ATmHloS52ceIIL9sNEIIgJf3y2uLEgC4qBVEtxa4TDnJwgQSHjEEw/NYdyAkUgphruo4nu0Vfok4EAiOO/ddT+rpW3HEFqpHuy6mrotXcgjY2ng8mEYAXMTyAhAqZCor0ujrVu1G/M042Lf4SXYd686qMdpwM88jjvyhNh6A6lE01BoGyiG2/t/A7dor5RCHXx2hlu3yPMpEW71POvnF3vbuRdn46FDaY/p11B/v3czzqEX+zexku656CLSRXw+XW+JuG/m3BJrrO9lGfj1cbom7beTfEmiu72Qb+fVwGVV3L1y4kA4dOpS+/PLLtHfv3nT+/IBb14igq6sr7d+/P23dujXt3LlzyG1vI3/IoPplCnZ3d6dly5alxx9/PD377LPpiSeeSEuWLEnfftvYSLm3tze99dZbadKkSemee+5JDz/88JBX6Goj/5fB6ZC/umXLlvTAAw+kl19+OX399dfp3XffTffee29auXJlRjLkz507N7399tvp6aefTnfccccNyL969WpCRKdPn05nzpxJJMm1a9dGZtLGkHvaLngDBF566aU0ceLE9M0332SkXr58OT344IPphRdeSD09A9O0r1y5kubPn38D8iH+5MmTadGiRemVV15Jr776alq1alW6dOlSG/k3QHuU3Rg3blx67rnn0tmzZ3PL6PgpU6akJ598MnNyNLcZ8tkCEyZMyAT0xhtvpNmzZ6cZM2akEydOJISkro6Ojqgm3bZ79+6sW1TYygqP/TW2L342BMaMGZO5HKfGMX369GwDHDt2LG6lZsjfvHlzuuuuu9KHH36YDh8+nE6dOpV/EN/W+f3gG50Xd955Z0b+xYsDmylNmzYtI//48eP9jW6GfKOEyZMnZ2NxwYIFWeQfOHAgUQdt5PeDb3RejB8/PiOOoeZgqFEDTz31VOrs7OxvdDPk43AcP2/evPTQQw8lxGRkQGq0xX4/+EbHRY7kXbuWWPEOIp7O3rNnT0Y8S/3+++9PL774YuZeZbwDke+88042+Lwb6jrqQzS4/eOPP85Dwvfffz/7C9o6f3TgPbeCKJ81a1aaM2dO1uM7duzI1j3RvWHDhvTaa6+l++67LyMxELtv37702Wefpeeffz7dfvvtaf369XlYeO7cuUTEL1y4MN/buHFjev3119PYsWPTmjVrElXSRv4oQj7nzcyZM9Obb76ZdTJvHkSFqEcEuDdEPo5evHhxFuVGBhBraDh16tQs2ol3hIQwnnnmmXzmJKJGasX+rl270iOPPJKcDRWMMdu/kYHB9u3bM4evXbs2u3LB3b1169alDz74ICPe/8ALrv/000/T8uXL09KlS/t/q1evzu5ekoPEWLFiRS7zySefJI4j7xvVsR22bdvWT/638R8/+uij+QGvUfv3/wkDiH/ssceyigjs3xYX7fOtB4E28m89nPf3+H+WJMPtpjABCAAAAABJRU5ErkJggg==)"
      ]
    },
    {
      "cell_type": "markdown",
      "metadata": {
        "id": "hDngzXYuflKm"
      },
      "source": [
        "As you can see, it is able to segregate out complex cluster structures from the datapoints and that it does this pretty quickly.\r\n",
        "\r\n",
        "As a result of these findings, we will attempt to run this algorihtm to compare it results to that of the our other clustering algorithms above.\r\n",
        "\r\n",
        "When running this algorithm, we configured the maximum distance between two samples for one to be considered as in the neighborhood of the other to be '3'. We figured this was large enough to ensure that close points were considered neighbours.\r\n",
        "We also set the minimum custer size as 2. This was to ensure that this number was big enough so that no cluster just had one single point and was small enough that it didn't exclude small clusters of points."
      ]
    },
    {
      "cell_type": "code",
      "metadata": {
        "id": "Z4BYQcDqkbQm"
      },
      "source": [
        "dbscan_clustering = DBSCAN(eps=3, min_samples=2).fit(np.array(cluster_df))"
      ],
      "execution_count": null,
      "outputs": []
    },
    {
      "cell_type": "code",
      "metadata": {
        "id": "doQBYD83kbS5"
      },
      "source": [
        "cluster_col = pd.DataFrame(dbscan_clustering.labels_, columns=[\"cluster\"])"
      ],
      "execution_count": null,
      "outputs": []
    },
    {
      "cell_type": "code",
      "metadata": {
        "colab": {
          "base_uri": "https://localhost:8080/"
        },
        "id": "eZ3tsumSlZt_",
        "outputId": "fb65febd-0250-44f3-ba12-34295122719b"
      },
      "source": [
        "cluster_col.value_counts()"
      ],
      "execution_count": null,
      "outputs": [
        {
          "output_type": "execute_result",
          "data": {
            "text/plain": [
              "cluster\n",
              "-1         948\n",
              " 0         936\n",
              " 2           6\n",
              " 1           2\n",
              "dtype: int64"
            ]
          },
          "metadata": {
            "tags": []
          },
          "execution_count": 122
        }
      ]
    },
    {
      "cell_type": "markdown",
      "metadata": {
        "id": "GJ-jABlEP93Q"
      },
      "source": [
        "As you can see from the above, disapointingly, this algorithm only returned 4 clusters. This was not enough for our purpose so we imediately have to discount this clustering method.\r\n",
        "\r\n",
        "From comparison of the two of the other algorihtms (kmeans and spectral clustering), there was a clear better algorithm here for us.\r\n",
        "\r\n",
        "We hypothesised that as we increased the number of clusters, the value for the silhoette score would decrease so having the much higher silhouette scores at the start meant we could also get higher scores as we increased the number of clusters.\r\n",
        "\r\n",
        "As a result of this smaller test, we concluded Kmeans was the better algorithm for our case. We decided to run this then on a larger set of up to 250 clusters to see how accurate it would be on large amounts."
      ]
    },
    {
      "cell_type": "markdown",
      "metadata": {
        "id": "slCTRCr9iiLy"
      },
      "source": [
        "##### *Kmeans*\r\n",
        "\r\n"
      ]
    },
    {
      "cell_type": "markdown",
      "metadata": {
        "id": "6A-32ZAYj0nS"
      },
      "source": [
        "Note: the below progress graph says 72% but in fact this was run fully though. The results of this full run can be seen in the below graph"
      ]
    },
    {
      "cell_type": "code",
      "metadata": {
        "colab": {
          "background_save": true,
          "base_uri": "https://localhost:8080/",
          "height": 48,
          "referenced_widgets": [
            "5a718b809f1e4a54a24344a5a3e787ce",
            "2b65552652684901abd5d48c34c5dd6d",
            "57a78cba9faf4b11bdf14ecc88c64f01",
            "3c1db2e19ac24362858104c47a8fb3af",
            "415e2a0bbaef453284045d368df66ce6",
            "ffbf07e1a583498d95121ad21f0a9ecb",
            "70f84f150e994cc988e64e290370ba30",
            "9959e07bd2b84d5cb512b499d1ec5ad0"
          ]
        },
        "id": "T14IOzPDfLFR",
        "outputId": "91da9ee8-148f-403b-c5b3-9c853555ec14"
      },
      "source": [
        "num_clusters_to_iter_km = range(2, 250, 10)\r\n",
        "s_scores_km = get_silhouette_scores_list(cluster_df, KMeans, num_clusters_to_iter_km, random_seed_val)"
      ],
      "execution_count": null,
      "outputs": [
        {
          "output_type": "display_data",
          "data": {
            "application/vnd.jupyter.widget-view+json": {
              "model_id": "5a718b809f1e4a54a24344a5a3e787ce",
              "version_major": 2,
              "version_minor": 0
            },
            "text/plain": [
              "HBox(children=(FloatProgress(value=0.0, max=25.0), HTML(value='')))"
            ]
          },
          "metadata": {
            "tags": []
          }
        },
        {
          "output_type": "stream",
          "text": [
            "\n"
          ],
          "name": "stdout"
        }
      ]
    },
    {
      "cell_type": "code",
      "metadata": {
        "colab": {
          "background_save": true
        },
        "id": "42Xop_AVfLHl",
        "outputId": "e9555bde-0d8d-41de-da0b-6ca5b55fb14d"
      },
      "source": [
        "cluster_nd_score_km_df = analyse_silhouette_scores_to_get_optimal_cluster_number(s_scores_km, num_clusters_to_iter_km)\r\n",
        "cluster_nd_score_km_df"
      ],
      "execution_count": null,
      "outputs": [
        {
          "output_type": "stream",
          "text": [
            "The maximum Silhouette Score was 0.9173986639424402\n",
            "This score is achieved by running 2 clusters\n"
          ],
          "name": "stdout"
        },
        {
          "output_type": "display_data",
          "data": {
            "image/png": "[encoded data removed]",
            "text/plain": [
              "<Figure size 432x288 with 1 Axes>"
            ]
          },
          "metadata": {
            "tags": []
          }
        },
        {
          "output_type": "execute_result",
          "data": {
            "text/html": [
              "<div>\n",
              "<style scoped>\n",
              "    .dataframe tbody tr th:only-of-type {\n",
              "        vertical-align: middle;\n",
              "    }\n",
              "\n",
              "    .dataframe tbody tr th {\n",
              "        vertical-align: top;\n",
              "    }\n",
              "\n",
              "    .dataframe thead th {\n",
              "        text-align: right;\n",
              "    }\n",
              "</style>\n",
              "<table border=\"1\" class=\"dataframe\">\n",
              "  <thead>\n",
              "    <tr style=\"text-align: right;\">\n",
              "      <th># Clusters</th>\n",
              "      <th>2</th>\n",
              "      <th>12</th>\n",
              "      <th>22</th>\n",
              "      <th>32</th>\n",
              "      <th>42</th>\n",
              "      <th>52</th>\n",
              "      <th>62</th>\n",
              "      <th>72</th>\n",
              "      <th>82</th>\n",
              "      <th>92</th>\n",
              "      <th>102</th>\n",
              "      <th>112</th>\n",
              "      <th>122</th>\n",
              "      <th>132</th>\n",
              "      <th>142</th>\n",
              "      <th>152</th>\n",
              "      <th>162</th>\n",
              "      <th>172</th>\n",
              "      <th>182</th>\n",
              "      <th>192</th>\n",
              "      <th>202</th>\n",
              "      <th>212</th>\n",
              "      <th>222</th>\n",
              "      <th>232</th>\n",
              "      <th>242</th>\n",
              "    </tr>\n",
              "  </thead>\n",
              "  <tbody>\n",
              "    <tr>\n",
              "      <th>Silhouette Score</th>\n",
              "      <td>0.917399</td>\n",
              "      <td>0.665053</td>\n",
              "      <td>0.35982</td>\n",
              "      <td>0.152455</td>\n",
              "      <td>0.063421</td>\n",
              "      <td>0.027222</td>\n",
              "      <td>0.128291</td>\n",
              "      <td>0.04011</td>\n",
              "      <td>-0.119317</td>\n",
              "      <td>0.044134</td>\n",
              "      <td>0.042102</td>\n",
              "      <td>0.034273</td>\n",
              "      <td>0.030334</td>\n",
              "      <td>0.021637</td>\n",
              "      <td>-0.112893</td>\n",
              "      <td>0.039323</td>\n",
              "      <td>0.01904</td>\n",
              "      <td>0.020572</td>\n",
              "      <td>0.02156</td>\n",
              "      <td>-0.078629</td>\n",
              "      <td>-0.076561</td>\n",
              "      <td>-0.12115</td>\n",
              "      <td>-0.12082</td>\n",
              "      <td>-0.103636</td>\n",
              "      <td>-0.116693</td>\n",
              "    </tr>\n",
              "  </tbody>\n",
              "</table>\n",
              "</div>"
            ],
            "text/plain": [
              "# Clusters             2         12       22   ...      222       232       242\n",
              "Silhouette Score  0.917399  0.665053  0.35982  ... -0.12082 -0.103636 -0.116693\n",
              "\n",
              "[1 rows x 25 columns]"
            ]
          },
          "metadata": {
            "tags": []
          },
          "execution_count": 0
        }
      ]
    },
    {
      "cell_type": "markdown",
      "metadata": {
        "id": "YUN8P800kAsq"
      },
      "source": [
        "From analysis of this graph, we had a tough choice to make.\r\n",
        "This choice boiled down to a compromise between higher accuracy scores and larger number os cluster.\r\n",
        "\r\n",
        "We decided to go with ***62*** clusters in the end as from the graph, this cluster value had the 5th highest silhouette score of all the clusters from 2-252 and it also seemed suficiently large for our purpose."
      ]
    },
    {
      "cell_type": "markdown",
      "metadata": {
        "id": "5mY5fIL7uXri"
      },
      "source": [
        "---\r\n",
        "---\r\n",
        "\r\n",
        "# 4. Cluster the users based on the artists and their weighting\r\n",
        "\r\n",
        "---\r\n",
        "---"
      ]
    },
    {
      "cell_type": "markdown",
      "metadata": {
        "id": "Yd1nfaNWx2cz"
      },
      "source": [
        "Here we will take the experimantation from above into account to configure our clustering model.\r\n",
        "These configurations are using ***Kmeans*** to cluster the data into ***62 clusters***"
      ]
    },
    {
      "cell_type": "markdown",
      "metadata": {
        "id": "wHF7L4nqnEd0"
      },
      "source": [
        "### Cluster the users by the artists and their weightings"
      ]
    },
    {
      "cell_type": "code",
      "metadata": {
        "id": "yRZCo3RsmClg"
      },
      "source": [
        "final_num_clusters = 62"
      ],
      "execution_count": null,
      "outputs": []
    },
    {
      "cell_type": "code",
      "metadata": {
        "id": "Hihf_qBDy8mp"
      },
      "source": [
        "kmeans_model = KMeans(n_clusters=final_num_clusters, random_state=random_seed_val)"
      ],
      "execution_count": null,
      "outputs": []
    },
    {
      "cell_type": "code",
      "metadata": {
        "id": "0Ko_Oxtxy8rr"
      },
      "source": [
        "cluster_labels_array = kmeans_model.fit_predict(cluster_df)"
      ],
      "execution_count": null,
      "outputs": []
    },
    {
      "cell_type": "code",
      "metadata": {
        "id": "Frof_iEwy8tU"
      },
      "source": [
        "cluster_labels_df = pd.DataFrame(cluster_labels_array, columns=[\"cluster\"])"
      ],
      "execution_count": null,
      "outputs": []
    },
    {
      "cell_type": "code",
      "metadata": {
        "colab": {
          "base_uri": "https://localhost:8080/",
          "height": 197
        },
        "id": "ydVpUbHWzIqd",
        "outputId": "d3e81d57-c9de-4d6a-e104-99f4db08be63"
      },
      "source": [
        "cluster_labels_df.head()"
      ],
      "execution_count": null,
      "outputs": [
        {
          "output_type": "execute_result",
          "data": {
            "text/html": [
              "<div>\n",
              "<style scoped>\n",
              "    .dataframe tbody tr th:only-of-type {\n",
              "        vertical-align: middle;\n",
              "    }\n",
              "\n",
              "    .dataframe tbody tr th {\n",
              "        vertical-align: top;\n",
              "    }\n",
              "\n",
              "    .dataframe thead th {\n",
              "        text-align: right;\n",
              "    }\n",
              "</style>\n",
              "<table border=\"1\" class=\"dataframe\">\n",
              "  <thead>\n",
              "    <tr style=\"text-align: right;\">\n",
              "      <th></th>\n",
              "      <th>cluster</th>\n",
              "    </tr>\n",
              "  </thead>\n",
              "  <tbody>\n",
              "    <tr>\n",
              "      <th>0</th>\n",
              "      <td>28</td>\n",
              "    </tr>\n",
              "    <tr>\n",
              "      <th>1</th>\n",
              "      <td>28</td>\n",
              "    </tr>\n",
              "    <tr>\n",
              "      <th>2</th>\n",
              "      <td>28</td>\n",
              "    </tr>\n",
              "    <tr>\n",
              "      <th>3</th>\n",
              "      <td>28</td>\n",
              "    </tr>\n",
              "    <tr>\n",
              "      <th>4</th>\n",
              "      <td>28</td>\n",
              "    </tr>\n",
              "  </tbody>\n",
              "</table>\n",
              "</div>"
            ],
            "text/plain": [
              "   cluster\n",
              "0       28\n",
              "1       28\n",
              "2       28\n",
              "3       28\n",
              "4       28"
            ]
          },
          "metadata": {
            "tags": []
          },
          "execution_count": 127
        }
      ]
    },
    {
      "cell_type": "markdown",
      "metadata": {
        "id": "uglB7DFnkKBl"
      },
      "source": [
        "### Add this cluster column to the rest of the data"
      ]
    },
    {
      "cell_type": "code",
      "metadata": {
        "id": "fIzis12olZzy"
      },
      "source": [
        "final_df = pd.concat([cluster_df.reset_index(), cluster_labels_df], axis=1, ignore_index=True)"
      ],
      "execution_count": null,
      "outputs": []
    },
    {
      "cell_type": "code",
      "metadata": {
        "id": "8MgpHwEg2FsG"
      },
      "source": [
        "# reset the column names\r\n",
        "final_df.columns = [\"userID\"] + list(cluster_df.columns) + [\"cluster\"]"
      ],
      "execution_count": null,
      "outputs": []
    },
    {
      "cell_type": "code",
      "metadata": {
        "colab": {
          "base_uri": "https://localhost:8080/"
        },
        "id": "IG3q6H3729-k",
        "outputId": "1feea0ba-aa1c-4b1a-8536-b9b4b3f02390"
      },
      "source": [
        "final_df.shape"
      ],
      "execution_count": null,
      "outputs": [
        {
          "output_type": "execute_result",
          "data": {
            "text/plain": [
              "(1892, 17634)"
            ]
          },
          "metadata": {
            "tags": []
          },
          "execution_count": 130
        }
      ]
    },
    {
      "cell_type": "code",
      "metadata": {
        "colab": {
          "base_uri": "https://localhost:8080/",
          "height": 413
        },
        "id": "HT5Q_GvWlZ2J",
        "outputId": "ceb6f72d-b298-4f35-fa37-a15a8fad12fa"
      },
      "source": [
        "final_df.head()"
      ],
      "execution_count": null,
      "outputs": [
        {
          "output_type": "execute_result",
          "data": {
            "text/html": [
              "<div>\n",
              "<style scoped>\n",
              "    .dataframe tbody tr th:only-of-type {\n",
              "        vertical-align: middle;\n",
              "    }\n",
              "\n",
              "    .dataframe tbody tr th {\n",
              "        vertical-align: top;\n",
              "    }\n",
              "\n",
              "    .dataframe thead th {\n",
              "        text-align: right;\n",
              "    }\n",
              "</style>\n",
              "<table border=\"1\" class=\"dataframe\">\n",
              "  <thead>\n",
              "    <tr style=\"text-align: right;\">\n",
              "      <th></th>\n",
              "      <th>userID</th>\n",
              "      <th>!!!</th>\n",
              "      <th>!DISTAIN</th>\n",
              "      <th>!deladap</th>\n",
              "      <th>#####</th>\n",
              "      <th>#2 Orchestra</th>\n",
              "      <th>$lick</th>\n",
              "      <th>$lick feat. Six-Fo</th>\n",
              "      <th>(1962-1966)</th>\n",
              "      <th>(Pre) Kingdom</th>\n",
              "      <th>(We Are) Performance</th>\n",
              "      <th>(hed) Planet Earth</th>\n",
              "      <th>(sic)monic</th>\n",
              "      <th>*NSYNC</th>\n",
              "      <th>+44</th>\n",
              "      <th>+\\-</th>\n",
              "      <th>-123 min.</th>\n",
              "      <th>-OZ-</th>\n",
              "      <th>-t de sangre</th>\n",
              "      <th>...And The Earth Swarmed With Them</th>\n",
              "      <th>...And You Will Know Us by the Trail of Dead</th>\n",
              "      <th>.38 Special</th>\n",
              "      <th>.crrust</th>\n",
              "      <th>06 Children Of The Cross</th>\n",
              "      <th>08001</th>\n",
              "      <th>1-800-ZOMBIE</th>\n",
              "      <th>10 Years</th>\n",
              "      <th>10-20 БЕЗ ВЫХОДНЫХ</th>\n",
              "      <th>100 Bitches</th>\n",
              "      <th>1000names</th>\n",
              "      <th>100DEADRABBITS!!!</th>\n",
              "      <th>100blumen</th>\n",
              "      <th>100dBs</th>\n",
              "      <th>10cc</th>\n",
              "      <th>11.43</th>\n",
              "      <th>110</th>\n",
              "      <th>112</th>\n",
              "      <th>1125</th>\n",
              "      <th>12 Rounds</th>\n",
              "      <th>12 Stones</th>\n",
              "      <th>...</th>\n",
              "      <th>반야</th>\n",
              "      <th>배치기</th>\n",
              "      <th>백지영</th>\n",
              "      <th>비</th>\n",
              "      <th>빅뱅</th>\n",
              "      <th>샤이니</th>\n",
              "      <th>샤이니 (SHINee)</th>\n",
              "      <th>서태지</th>\n",
              "      <th>소녀시대</th>\n",
              "      <th>소녀시대 ＆ 2PM</th>\n",
              "      <th>손담비</th>\n",
              "      <th>송지은</th>\n",
              "      <th>승리</th>\n",
              "      <th>시크릿</th>\n",
              "      <th>신화</th>\n",
              "      <th>아웃사이더</th>\n",
              "      <th>아이비</th>\n",
              "      <th>애프터 스쿨(After School)</th>\n",
              "      <th>엠블랙(MBLAQ)</th>\n",
              "      <th>원더걸스</th>\n",
              "      <th>윤하</th>\n",
              "      <th>이박사</th>\n",
              "      <th>이수영(여)</th>\n",
              "      <th>이수영(여);</th>\n",
              "      <th>이정현</th>\n",
              "      <th>이효리</th>\n",
              "      <th>장근석</th>\n",
              "      <th>제빵왕</th>\n",
              "      <th>태양</th>\n",
              "      <th>티아라</th>\n",
              "      <th>현아</th>\n",
              "      <th>ＬｕＬｕ</th>\n",
              "      <th>ＭＡＮＮＥＱＵＩＮ</th>\n",
              "      <th>ＰＥＲＥＳＴＲＯＩＫＡ</th>\n",
              "      <th>ＲＥＤ</th>\n",
              "      <th>ＶａｎｅｓｓＡ</th>\n",
              "      <th>ｂｏｏｇｉｅｍａｎ</th>\n",
              "      <th>ｂｏｒｎ</th>\n",
              "      <th>ｍａｃｈｉｎｅ</th>\n",
              "      <th>cluster</th>\n",
              "    </tr>\n",
              "  </thead>\n",
              "  <tbody>\n",
              "    <tr>\n",
              "      <th>0</th>\n",
              "      <td>2</td>\n",
              "      <td>-0.5</td>\n",
              "      <td>-0.5</td>\n",
              "      <td>-0.5</td>\n",
              "      <td>-0.5</td>\n",
              "      <td>-0.5</td>\n",
              "      <td>-0.5</td>\n",
              "      <td>-0.5</td>\n",
              "      <td>-0.5</td>\n",
              "      <td>-0.5</td>\n",
              "      <td>-0.5</td>\n",
              "      <td>-0.5</td>\n",
              "      <td>-0.5</td>\n",
              "      <td>-0.5</td>\n",
              "      <td>-0.5</td>\n",
              "      <td>-0.5</td>\n",
              "      <td>-0.5</td>\n",
              "      <td>-0.5</td>\n",
              "      <td>-0.5</td>\n",
              "      <td>-0.5</td>\n",
              "      <td>-0.5</td>\n",
              "      <td>-0.5</td>\n",
              "      <td>-0.5</td>\n",
              "      <td>-0.5</td>\n",
              "      <td>-0.5</td>\n",
              "      <td>-0.5</td>\n",
              "      <td>-0.5</td>\n",
              "      <td>-0.5</td>\n",
              "      <td>-0.5</td>\n",
              "      <td>-0.5</td>\n",
              "      <td>-0.5</td>\n",
              "      <td>-0.5</td>\n",
              "      <td>-0.5</td>\n",
              "      <td>-0.5</td>\n",
              "      <td>-0.5</td>\n",
              "      <td>-0.5</td>\n",
              "      <td>-0.5</td>\n",
              "      <td>-0.5</td>\n",
              "      <td>-0.5</td>\n",
              "      <td>-0.5</td>\n",
              "      <td>...</td>\n",
              "      <td>-0.5</td>\n",
              "      <td>-0.5</td>\n",
              "      <td>-0.5</td>\n",
              "      <td>-0.5</td>\n",
              "      <td>-0.5</td>\n",
              "      <td>-0.5</td>\n",
              "      <td>-0.5</td>\n",
              "      <td>-0.5</td>\n",
              "      <td>-0.5</td>\n",
              "      <td>-0.5</td>\n",
              "      <td>-0.5</td>\n",
              "      <td>-0.5</td>\n",
              "      <td>-0.5</td>\n",
              "      <td>-0.5</td>\n",
              "      <td>-0.5</td>\n",
              "      <td>-0.5</td>\n",
              "      <td>-0.5</td>\n",
              "      <td>-0.5</td>\n",
              "      <td>-0.5</td>\n",
              "      <td>-0.5</td>\n",
              "      <td>-0.5</td>\n",
              "      <td>-0.5</td>\n",
              "      <td>-0.5</td>\n",
              "      <td>-0.5</td>\n",
              "      <td>-0.5</td>\n",
              "      <td>-0.5</td>\n",
              "      <td>-0.5</td>\n",
              "      <td>-0.5</td>\n",
              "      <td>-0.5</td>\n",
              "      <td>-0.5</td>\n",
              "      <td>-0.5</td>\n",
              "      <td>-0.5</td>\n",
              "      <td>-0.5</td>\n",
              "      <td>-0.5</td>\n",
              "      <td>-0.5</td>\n",
              "      <td>-0.5</td>\n",
              "      <td>-0.5</td>\n",
              "      <td>-0.5</td>\n",
              "      <td>-0.5</td>\n",
              "      <td>28</td>\n",
              "    </tr>\n",
              "    <tr>\n",
              "      <th>1</th>\n",
              "      <td>3</td>\n",
              "      <td>-0.5</td>\n",
              "      <td>-0.5</td>\n",
              "      <td>-0.5</td>\n",
              "      <td>-0.5</td>\n",
              "      <td>-0.5</td>\n",
              "      <td>-0.5</td>\n",
              "      <td>-0.5</td>\n",
              "      <td>-0.5</td>\n",
              "      <td>-0.5</td>\n",
              "      <td>-0.5</td>\n",
              "      <td>-0.5</td>\n",
              "      <td>-0.5</td>\n",
              "      <td>-0.5</td>\n",
              "      <td>-0.5</td>\n",
              "      <td>-0.5</td>\n",
              "      <td>-0.5</td>\n",
              "      <td>-0.5</td>\n",
              "      <td>-0.5</td>\n",
              "      <td>-0.5</td>\n",
              "      <td>-0.5</td>\n",
              "      <td>-0.5</td>\n",
              "      <td>-0.5</td>\n",
              "      <td>-0.5</td>\n",
              "      <td>-0.5</td>\n",
              "      <td>-0.5</td>\n",
              "      <td>-0.5</td>\n",
              "      <td>-0.5</td>\n",
              "      <td>-0.5</td>\n",
              "      <td>-0.5</td>\n",
              "      <td>-0.5</td>\n",
              "      <td>-0.5</td>\n",
              "      <td>-0.5</td>\n",
              "      <td>-0.5</td>\n",
              "      <td>-0.5</td>\n",
              "      <td>-0.5</td>\n",
              "      <td>-0.5</td>\n",
              "      <td>-0.5</td>\n",
              "      <td>-0.5</td>\n",
              "      <td>-0.5</td>\n",
              "      <td>...</td>\n",
              "      <td>-0.5</td>\n",
              "      <td>-0.5</td>\n",
              "      <td>-0.5</td>\n",
              "      <td>-0.5</td>\n",
              "      <td>-0.5</td>\n",
              "      <td>-0.5</td>\n",
              "      <td>-0.5</td>\n",
              "      <td>-0.5</td>\n",
              "      <td>-0.5</td>\n",
              "      <td>-0.5</td>\n",
              "      <td>-0.5</td>\n",
              "      <td>-0.5</td>\n",
              "      <td>-0.5</td>\n",
              "      <td>-0.5</td>\n",
              "      <td>-0.5</td>\n",
              "      <td>-0.5</td>\n",
              "      <td>-0.5</td>\n",
              "      <td>-0.5</td>\n",
              "      <td>-0.5</td>\n",
              "      <td>-0.5</td>\n",
              "      <td>-0.5</td>\n",
              "      <td>-0.5</td>\n",
              "      <td>-0.5</td>\n",
              "      <td>-0.5</td>\n",
              "      <td>-0.5</td>\n",
              "      <td>-0.5</td>\n",
              "      <td>-0.5</td>\n",
              "      <td>-0.5</td>\n",
              "      <td>-0.5</td>\n",
              "      <td>-0.5</td>\n",
              "      <td>-0.5</td>\n",
              "      <td>-0.5</td>\n",
              "      <td>-0.5</td>\n",
              "      <td>-0.5</td>\n",
              "      <td>-0.5</td>\n",
              "      <td>-0.5</td>\n",
              "      <td>-0.5</td>\n",
              "      <td>-0.5</td>\n",
              "      <td>-0.5</td>\n",
              "      <td>28</td>\n",
              "    </tr>\n",
              "    <tr>\n",
              "      <th>2</th>\n",
              "      <td>4</td>\n",
              "      <td>-0.5</td>\n",
              "      <td>-0.5</td>\n",
              "      <td>-0.5</td>\n",
              "      <td>-0.5</td>\n",
              "      <td>-0.5</td>\n",
              "      <td>-0.5</td>\n",
              "      <td>-0.5</td>\n",
              "      <td>-0.5</td>\n",
              "      <td>-0.5</td>\n",
              "      <td>-0.5</td>\n",
              "      <td>-0.5</td>\n",
              "      <td>-0.5</td>\n",
              "      <td>-0.5</td>\n",
              "      <td>-0.5</td>\n",
              "      <td>-0.5</td>\n",
              "      <td>-0.5</td>\n",
              "      <td>-0.5</td>\n",
              "      <td>-0.5</td>\n",
              "      <td>-0.5</td>\n",
              "      <td>-0.5</td>\n",
              "      <td>-0.5</td>\n",
              "      <td>-0.5</td>\n",
              "      <td>-0.5</td>\n",
              "      <td>-0.5</td>\n",
              "      <td>-0.5</td>\n",
              "      <td>-0.5</td>\n",
              "      <td>-0.5</td>\n",
              "      <td>-0.5</td>\n",
              "      <td>-0.5</td>\n",
              "      <td>-0.5</td>\n",
              "      <td>-0.5</td>\n",
              "      <td>-0.5</td>\n",
              "      <td>-0.5</td>\n",
              "      <td>-0.5</td>\n",
              "      <td>-0.5</td>\n",
              "      <td>-0.5</td>\n",
              "      <td>-0.5</td>\n",
              "      <td>-0.5</td>\n",
              "      <td>-0.5</td>\n",
              "      <td>...</td>\n",
              "      <td>-0.5</td>\n",
              "      <td>-0.5</td>\n",
              "      <td>-0.5</td>\n",
              "      <td>-0.5</td>\n",
              "      <td>-0.5</td>\n",
              "      <td>-0.5</td>\n",
              "      <td>-0.5</td>\n",
              "      <td>-0.5</td>\n",
              "      <td>-0.5</td>\n",
              "      <td>-0.5</td>\n",
              "      <td>-0.5</td>\n",
              "      <td>-0.5</td>\n",
              "      <td>-0.5</td>\n",
              "      <td>-0.5</td>\n",
              "      <td>-0.5</td>\n",
              "      <td>-0.5</td>\n",
              "      <td>-0.5</td>\n",
              "      <td>-0.5</td>\n",
              "      <td>-0.5</td>\n",
              "      <td>-0.5</td>\n",
              "      <td>-0.5</td>\n",
              "      <td>-0.5</td>\n",
              "      <td>-0.5</td>\n",
              "      <td>-0.5</td>\n",
              "      <td>-0.5</td>\n",
              "      <td>-0.5</td>\n",
              "      <td>-0.5</td>\n",
              "      <td>-0.5</td>\n",
              "      <td>-0.5</td>\n",
              "      <td>-0.5</td>\n",
              "      <td>-0.5</td>\n",
              "      <td>-0.5</td>\n",
              "      <td>-0.5</td>\n",
              "      <td>-0.5</td>\n",
              "      <td>-0.5</td>\n",
              "      <td>-0.5</td>\n",
              "      <td>-0.5</td>\n",
              "      <td>-0.5</td>\n",
              "      <td>-0.5</td>\n",
              "      <td>28</td>\n",
              "    </tr>\n",
              "    <tr>\n",
              "      <th>3</th>\n",
              "      <td>5</td>\n",
              "      <td>-0.5</td>\n",
              "      <td>-0.5</td>\n",
              "      <td>-0.5</td>\n",
              "      <td>-0.5</td>\n",
              "      <td>-0.5</td>\n",
              "      <td>-0.5</td>\n",
              "      <td>-0.5</td>\n",
              "      <td>-0.5</td>\n",
              "      <td>-0.5</td>\n",
              "      <td>-0.5</td>\n",
              "      <td>-0.5</td>\n",
              "      <td>-0.5</td>\n",
              "      <td>-0.5</td>\n",
              "      <td>-0.5</td>\n",
              "      <td>-0.5</td>\n",
              "      <td>-0.5</td>\n",
              "      <td>-0.5</td>\n",
              "      <td>-0.5</td>\n",
              "      <td>-0.5</td>\n",
              "      <td>-0.5</td>\n",
              "      <td>-0.5</td>\n",
              "      <td>-0.5</td>\n",
              "      <td>-0.5</td>\n",
              "      <td>-0.5</td>\n",
              "      <td>-0.5</td>\n",
              "      <td>-0.5</td>\n",
              "      <td>-0.5</td>\n",
              "      <td>-0.5</td>\n",
              "      <td>-0.5</td>\n",
              "      <td>-0.5</td>\n",
              "      <td>-0.5</td>\n",
              "      <td>-0.5</td>\n",
              "      <td>-0.5</td>\n",
              "      <td>-0.5</td>\n",
              "      <td>-0.5</td>\n",
              "      <td>-0.5</td>\n",
              "      <td>-0.5</td>\n",
              "      <td>-0.5</td>\n",
              "      <td>-0.5</td>\n",
              "      <td>...</td>\n",
              "      <td>-0.5</td>\n",
              "      <td>-0.5</td>\n",
              "      <td>-0.5</td>\n",
              "      <td>-0.5</td>\n",
              "      <td>-0.5</td>\n",
              "      <td>-0.5</td>\n",
              "      <td>-0.5</td>\n",
              "      <td>-0.5</td>\n",
              "      <td>-0.5</td>\n",
              "      <td>-0.5</td>\n",
              "      <td>-0.5</td>\n",
              "      <td>-0.5</td>\n",
              "      <td>-0.5</td>\n",
              "      <td>-0.5</td>\n",
              "      <td>-0.5</td>\n",
              "      <td>-0.5</td>\n",
              "      <td>-0.5</td>\n",
              "      <td>-0.5</td>\n",
              "      <td>-0.5</td>\n",
              "      <td>-0.5</td>\n",
              "      <td>-0.5</td>\n",
              "      <td>-0.5</td>\n",
              "      <td>-0.5</td>\n",
              "      <td>-0.5</td>\n",
              "      <td>-0.5</td>\n",
              "      <td>-0.5</td>\n",
              "      <td>-0.5</td>\n",
              "      <td>-0.5</td>\n",
              "      <td>-0.5</td>\n",
              "      <td>-0.5</td>\n",
              "      <td>-0.5</td>\n",
              "      <td>-0.5</td>\n",
              "      <td>-0.5</td>\n",
              "      <td>-0.5</td>\n",
              "      <td>-0.5</td>\n",
              "      <td>-0.5</td>\n",
              "      <td>-0.5</td>\n",
              "      <td>-0.5</td>\n",
              "      <td>-0.5</td>\n",
              "      <td>28</td>\n",
              "    </tr>\n",
              "    <tr>\n",
              "      <th>4</th>\n",
              "      <td>6</td>\n",
              "      <td>-0.5</td>\n",
              "      <td>-0.5</td>\n",
              "      <td>-0.5</td>\n",
              "      <td>-0.5</td>\n",
              "      <td>-0.5</td>\n",
              "      <td>-0.5</td>\n",
              "      <td>-0.5</td>\n",
              "      <td>-0.5</td>\n",
              "      <td>-0.5</td>\n",
              "      <td>-0.5</td>\n",
              "      <td>-0.5</td>\n",
              "      <td>-0.5</td>\n",
              "      <td>-0.5</td>\n",
              "      <td>-0.5</td>\n",
              "      <td>-0.5</td>\n",
              "      <td>-0.5</td>\n",
              "      <td>-0.5</td>\n",
              "      <td>-0.5</td>\n",
              "      <td>-0.5</td>\n",
              "      <td>-0.5</td>\n",
              "      <td>-0.5</td>\n",
              "      <td>-0.5</td>\n",
              "      <td>-0.5</td>\n",
              "      <td>-0.5</td>\n",
              "      <td>-0.5</td>\n",
              "      <td>-0.5</td>\n",
              "      <td>-0.5</td>\n",
              "      <td>-0.5</td>\n",
              "      <td>-0.5</td>\n",
              "      <td>-0.5</td>\n",
              "      <td>-0.5</td>\n",
              "      <td>-0.5</td>\n",
              "      <td>-0.5</td>\n",
              "      <td>-0.5</td>\n",
              "      <td>-0.5</td>\n",
              "      <td>-0.5</td>\n",
              "      <td>-0.5</td>\n",
              "      <td>-0.5</td>\n",
              "      <td>-0.5</td>\n",
              "      <td>...</td>\n",
              "      <td>-0.5</td>\n",
              "      <td>-0.5</td>\n",
              "      <td>-0.5</td>\n",
              "      <td>-0.5</td>\n",
              "      <td>-0.5</td>\n",
              "      <td>-0.5</td>\n",
              "      <td>-0.5</td>\n",
              "      <td>-0.5</td>\n",
              "      <td>-0.5</td>\n",
              "      <td>-0.5</td>\n",
              "      <td>-0.5</td>\n",
              "      <td>-0.5</td>\n",
              "      <td>-0.5</td>\n",
              "      <td>-0.5</td>\n",
              "      <td>-0.5</td>\n",
              "      <td>-0.5</td>\n",
              "      <td>-0.5</td>\n",
              "      <td>-0.5</td>\n",
              "      <td>-0.5</td>\n",
              "      <td>-0.5</td>\n",
              "      <td>-0.5</td>\n",
              "      <td>-0.5</td>\n",
              "      <td>-0.5</td>\n",
              "      <td>-0.5</td>\n",
              "      <td>-0.5</td>\n",
              "      <td>-0.5</td>\n",
              "      <td>-0.5</td>\n",
              "      <td>-0.5</td>\n",
              "      <td>-0.5</td>\n",
              "      <td>-0.5</td>\n",
              "      <td>-0.5</td>\n",
              "      <td>-0.5</td>\n",
              "      <td>-0.5</td>\n",
              "      <td>-0.5</td>\n",
              "      <td>-0.5</td>\n",
              "      <td>-0.5</td>\n",
              "      <td>-0.5</td>\n",
              "      <td>-0.5</td>\n",
              "      <td>-0.5</td>\n",
              "      <td>28</td>\n",
              "    </tr>\n",
              "  </tbody>\n",
              "</table>\n",
              "<p>5 rows × 17634 columns</p>\n",
              "</div>"
            ],
            "text/plain": [
              "   userID  !!!  !DISTAIN  !deladap  ...  ｂｏｏｇｉｅｍａｎ  ｂｏｒｎ  ｍａｃｈｉｎｅ  cluster\n",
              "0       2 -0.5      -0.5      -0.5  ...       -0.5  -0.5     -0.5       28\n",
              "1       3 -0.5      -0.5      -0.5  ...       -0.5  -0.5     -0.5       28\n",
              "2       4 -0.5      -0.5      -0.5  ...       -0.5  -0.5     -0.5       28\n",
              "3       5 -0.5      -0.5      -0.5  ...       -0.5  -0.5     -0.5       28\n",
              "4       6 -0.5      -0.5      -0.5  ...       -0.5  -0.5     -0.5       28\n",
              "\n",
              "[5 rows x 17634 columns]"
            ]
          },
          "metadata": {
            "tags": []
          },
          "execution_count": 131
        }
      ]
    },
    {
      "cell_type": "markdown",
      "metadata": {
        "id": "FOAiO-Hd_Grp"
      },
      "source": [
        "### Create a map of custer_number to userID"
      ]
    },
    {
      "cell_type": "code",
      "metadata": {
        "id": "JhDpLSHzALsk"
      },
      "source": [
        "map_cluster_to_user = {}\r\n",
        "for cluster_num in range(final_num_clusters):\r\n",
        "    \r\n",
        "    users_in_cluster = list(final_df[final_df[\"cluster\"] == cluster_num][\"userID\"])\r\n",
        "\r\n",
        "    # store this similarity score\r\n",
        "    map_cluster_to_user[cluster_num] = users_in_cluster"
      ],
      "execution_count": null,
      "outputs": []
    },
    {
      "cell_type": "code",
      "metadata": {
        "colab": {
          "base_uri": "https://localhost:8080/"
        },
        "id": "JdXG0PoPArQA",
        "outputId": "d4265e07-c357-4e4e-fc4e-411f2cf53117"
      },
      "source": [
        "map_cluster_to_user[0]"
      ],
      "execution_count": null,
      "outputs": [
        {
          "output_type": "execute_result",
          "data": {
            "text/plain": [
              "[402, 541, 549, 991, 1342, 1626, 1627]"
            ]
          },
          "metadata": {
            "tags": []
          },
          "execution_count": 133
        }
      ]
    },
    {
      "cell_type": "markdown",
      "metadata": {
        "id": "DqvOl-JWucS9"
      },
      "source": [
        "---\r\n",
        "---\r\n",
        "\r\n",
        "# 5. Create a vector for each cluster\r\n",
        "\r\n",
        "---\r\n",
        "---"
      ]
    },
    {
      "cell_type": "markdown",
      "metadata": {
        "id": "wNj1oVKK6WWh"
      },
      "source": [
        "Here we turn each cluster into a vector with each artist as an entry in this vector. Like the way the users are represented in the 'final_df' dataframe, we will create one representation of music taste for each cluster."
      ]
    },
    {
      "cell_type": "markdown",
      "metadata": {
        "id": "1_seAUPkkUFY"
      },
      "source": [
        "### See the distribution of users in each cluster"
      ]
    },
    {
      "cell_type": "code",
      "metadata": {
        "colab": {
          "base_uri": "https://localhost:8080/",
          "height": 300
        },
        "id": "u1uSkLkRktUb",
        "outputId": "b1c1601f-3403-4557-c400-500091132158"
      },
      "source": [
        "pd.DataFrame(final_df[[\"userID\", \"cluster\"]].groupby(\"cluster\").count()).plot.bar()"
      ],
      "execution_count": null,
      "outputs": [
        {
          "output_type": "execute_result",
          "data": {
            "text/plain": [
              "<matplotlib.axes._subplots.AxesSubplot at 0x7f6121505400>"
            ]
          },
          "metadata": {
            "tags": []
          },
          "execution_count": 134
        },
        {
          "output_type": "display_data",
          "data": {
            "image/png": "[encoded data removed]",
            "text/plain": [
              "<Figure size 432x288 with 1 Axes>"
            ]
          },
          "metadata": {
            "tags": [],
            "needs_background": "light"
          }
        }
      ]
    },
    {
      "cell_type": "markdown",
      "metadata": {
        "id": "NiyXq3nanOXA"
      },
      "source": [
        "As we can see from this distribution, there are particular clusters which contain the vast majority of users. We can only speculate as to why as we do not have an explainable clustering algorithm, but we do know that specific types of must are more popular than others, such as pop using which usually plays on the radio.\r\n",
        "Using this knowledge, we can speculate that these populous clusters contain users who like more main stream music versus clusters that like more alternate music.\r\n",
        "\r\n",
        "One thing to note, however, is that if some clusters don't have a lot of data points in them, they may make it harder for us to recommend a vast anmount of songs as we dont have much data to work with of what this cluster contains."
      ]
    },
    {
      "cell_type": "markdown",
      "metadata": {
        "id": "puHilEEs5Ion"
      },
      "source": [
        "### Turn each cluster into one row"
      ]
    },
    {
      "cell_type": "code",
      "metadata": {
        "colab": {
          "base_uri": "https://localhost:8080/",
          "height": 66,
          "referenced_widgets": [
            "70455d006a6c447ca01d5cac5a0e3d45",
            "72177cbf8cce4af682d4b75bcb706cf4",
            "a56d978e91814ecb94785cfcbda1ea18",
            "c0d213b3df924fa4b1cc779bd837250a",
            "d8e073d2861643da87db50bd17a2b1b2",
            "8b16ebcfc35a4183a10750bcf17a3285",
            "22327ed256b540e5a378386a741137e8",
            "b3d1e30afcee4057a9e10475d5eb59f0"
          ]
        },
        "id": "eU18QnbFktXx",
        "outputId": "e563e4a0-b460-406c-cc2d-575625e6c7d3"
      },
      "source": [
        "cluster_representation_df = pd.DataFrame(columns=list(final_df.columns[1:]))\r\n",
        "\r\n",
        "for cluster_num in tqdm(range(final_num_clusters)):\r\n",
        "\r\n",
        "    rows_of_this_cluster = final_df[final_df[\"cluster\"] == cluster_num]\r\n",
        "\r\n",
        "    # remove the userID column\r\n",
        "    rows_of_this_cluster.drop(columns=[\"userID\"], inplace=True)\r\n",
        "\r\n",
        "    # check if there are any users in this cluster\r\n",
        "    if len(rows_of_this_cluster) > 0:\r\n",
        "\r\n",
        "        # get the mean of each column for the data in this cluster\r\n",
        "        aggregated_cluster_row = rows_of_this_cluster.groupby(['cluster']).mean()\r\n",
        "\r\n",
        "        # add this aggregated row to a dataframe of all clusters\r\n",
        "        cluster_representation_df = pd.concat([cluster_representation_df, aggregated_cluster_row], axis=0, ignore_index=True)\r\n",
        "\r\n",
        "# reset the index to take the cluster out from being the index\r\n",
        "cluster_representation_df = cluster_representation_df.reset_index().drop(columns=[\"cluster\"]).rename(columns={\"index\": \"cluster\"})"
      ],
      "execution_count": null,
      "outputs": [
        {
          "output_type": "display_data",
          "data": {
            "application/vnd.jupyter.widget-view+json": {
              "model_id": "70455d006a6c447ca01d5cac5a0e3d45",
              "version_minor": 0,
              "version_major": 2
            },
            "text/plain": [
              "HBox(children=(FloatProgress(value=0.0, max=62.0), HTML(value='')))"
            ]
          },
          "metadata": {
            "tags": []
          }
        },
        {
          "output_type": "stream",
          "text": [
            "\n"
          ],
          "name": "stdout"
        }
      ]
    },
    {
      "cell_type": "code",
      "metadata": {
        "colab": {
          "base_uri": "https://localhost:8080/",
          "height": 413
        },
        "id": "LeuUBQ138JcJ",
        "outputId": "33b66bf3-14d3-4d7e-f219-3fe160a3dc03"
      },
      "source": [
        "cluster_representation_df.head()"
      ],
      "execution_count": null,
      "outputs": [
        {
          "output_type": "execute_result",
          "data": {
            "text/html": [
              "<div>\n",
              "<style scoped>\n",
              "    .dataframe tbody tr th:only-of-type {\n",
              "        vertical-align: middle;\n",
              "    }\n",
              "\n",
              "    .dataframe tbody tr th {\n",
              "        vertical-align: top;\n",
              "    }\n",
              "\n",
              "    .dataframe thead th {\n",
              "        text-align: right;\n",
              "    }\n",
              "</style>\n",
              "<table border=\"1\" class=\"dataframe\">\n",
              "  <thead>\n",
              "    <tr style=\"text-align: right;\">\n",
              "      <th></th>\n",
              "      <th>cluster</th>\n",
              "      <th>!!!</th>\n",
              "      <th>!DISTAIN</th>\n",
              "      <th>!deladap</th>\n",
              "      <th>#####</th>\n",
              "      <th>#2 Orchestra</th>\n",
              "      <th>$lick</th>\n",
              "      <th>$lick feat. Six-Fo</th>\n",
              "      <th>(1962-1966)</th>\n",
              "      <th>(Pre) Kingdom</th>\n",
              "      <th>(We Are) Performance</th>\n",
              "      <th>(hed) Planet Earth</th>\n",
              "      <th>(sic)monic</th>\n",
              "      <th>*NSYNC</th>\n",
              "      <th>+44</th>\n",
              "      <th>+\\-</th>\n",
              "      <th>-123 min.</th>\n",
              "      <th>-OZ-</th>\n",
              "      <th>-t de sangre</th>\n",
              "      <th>...And The Earth Swarmed With Them</th>\n",
              "      <th>...And You Will Know Us by the Trail of Dead</th>\n",
              "      <th>.38 Special</th>\n",
              "      <th>.crrust</th>\n",
              "      <th>06 Children Of The Cross</th>\n",
              "      <th>08001</th>\n",
              "      <th>1-800-ZOMBIE</th>\n",
              "      <th>10 Years</th>\n",
              "      <th>10-20 БЕЗ ВЫХОДНЫХ</th>\n",
              "      <th>100 Bitches</th>\n",
              "      <th>1000names</th>\n",
              "      <th>100DEADRABBITS!!!</th>\n",
              "      <th>100blumen</th>\n",
              "      <th>100dBs</th>\n",
              "      <th>10cc</th>\n",
              "      <th>11.43</th>\n",
              "      <th>110</th>\n",
              "      <th>112</th>\n",
              "      <th>1125</th>\n",
              "      <th>12 Rounds</th>\n",
              "      <th>12 Stones</th>\n",
              "      <th>...</th>\n",
              "      <th>박정현</th>\n",
              "      <th>반야</th>\n",
              "      <th>배치기</th>\n",
              "      <th>백지영</th>\n",
              "      <th>비</th>\n",
              "      <th>빅뱅</th>\n",
              "      <th>샤이니</th>\n",
              "      <th>샤이니 (SHINee)</th>\n",
              "      <th>서태지</th>\n",
              "      <th>소녀시대</th>\n",
              "      <th>소녀시대 ＆ 2PM</th>\n",
              "      <th>손담비</th>\n",
              "      <th>송지은</th>\n",
              "      <th>승리</th>\n",
              "      <th>시크릿</th>\n",
              "      <th>신화</th>\n",
              "      <th>아웃사이더</th>\n",
              "      <th>아이비</th>\n",
              "      <th>애프터 스쿨(After School)</th>\n",
              "      <th>엠블랙(MBLAQ)</th>\n",
              "      <th>원더걸스</th>\n",
              "      <th>윤하</th>\n",
              "      <th>이박사</th>\n",
              "      <th>이수영(여)</th>\n",
              "      <th>이수영(여);</th>\n",
              "      <th>이정현</th>\n",
              "      <th>이효리</th>\n",
              "      <th>장근석</th>\n",
              "      <th>제빵왕</th>\n",
              "      <th>태양</th>\n",
              "      <th>티아라</th>\n",
              "      <th>현아</th>\n",
              "      <th>ＬｕＬｕ</th>\n",
              "      <th>ＭＡＮＮＥＱＵＩＮ</th>\n",
              "      <th>ＰＥＲＥＳＴＲＯＩＫＡ</th>\n",
              "      <th>ＲＥＤ</th>\n",
              "      <th>ＶａｎｅｓｓＡ</th>\n",
              "      <th>ｂｏｏｇｉｅｍａｎ</th>\n",
              "      <th>ｂｏｒｎ</th>\n",
              "      <th>ｍａｃｈｉｎｅ</th>\n",
              "    </tr>\n",
              "  </thead>\n",
              "  <tbody>\n",
              "    <tr>\n",
              "      <th>0</th>\n",
              "      <td>0</td>\n",
              "      <td>-0.5</td>\n",
              "      <td>-0.5</td>\n",
              "      <td>-0.5</td>\n",
              "      <td>-0.5</td>\n",
              "      <td>-0.5</td>\n",
              "      <td>-0.5</td>\n",
              "      <td>-0.5</td>\n",
              "      <td>-0.5</td>\n",
              "      <td>-0.5</td>\n",
              "      <td>-0.5</td>\n",
              "      <td>-0.5</td>\n",
              "      <td>-0.5</td>\n",
              "      <td>-0.5</td>\n",
              "      <td>-0.500000</td>\n",
              "      <td>-0.5</td>\n",
              "      <td>-0.5</td>\n",
              "      <td>-0.5</td>\n",
              "      <td>-0.5</td>\n",
              "      <td>-0.5</td>\n",
              "      <td>-0.5</td>\n",
              "      <td>-0.5</td>\n",
              "      <td>-0.5</td>\n",
              "      <td>-0.5</td>\n",
              "      <td>-0.5</td>\n",
              "      <td>-0.5</td>\n",
              "      <td>-0.5</td>\n",
              "      <td>-0.5</td>\n",
              "      <td>-0.5</td>\n",
              "      <td>-0.5</td>\n",
              "      <td>-0.5</td>\n",
              "      <td>-0.5</td>\n",
              "      <td>-0.5</td>\n",
              "      <td>-0.5</td>\n",
              "      <td>-0.5</td>\n",
              "      <td>-0.5</td>\n",
              "      <td>-0.5</td>\n",
              "      <td>-0.5</td>\n",
              "      <td>-0.5</td>\n",
              "      <td>-0.5</td>\n",
              "      <td>...</td>\n",
              "      <td>-0.5</td>\n",
              "      <td>-0.5</td>\n",
              "      <td>-0.5</td>\n",
              "      <td>-0.5</td>\n",
              "      <td>-0.5</td>\n",
              "      <td>-0.5</td>\n",
              "      <td>-0.5</td>\n",
              "      <td>-0.5</td>\n",
              "      <td>-0.5</td>\n",
              "      <td>-0.5</td>\n",
              "      <td>-0.5</td>\n",
              "      <td>-0.5</td>\n",
              "      <td>-0.5</td>\n",
              "      <td>-0.5</td>\n",
              "      <td>-0.5</td>\n",
              "      <td>-0.5</td>\n",
              "      <td>-0.5</td>\n",
              "      <td>-0.5</td>\n",
              "      <td>-0.5</td>\n",
              "      <td>-0.5</td>\n",
              "      <td>-0.5</td>\n",
              "      <td>-0.5</td>\n",
              "      <td>-0.5</td>\n",
              "      <td>-0.5</td>\n",
              "      <td>-0.5</td>\n",
              "      <td>-0.5</td>\n",
              "      <td>-0.5</td>\n",
              "      <td>-0.5</td>\n",
              "      <td>-0.5</td>\n",
              "      <td>-0.5</td>\n",
              "      <td>-0.5</td>\n",
              "      <td>-0.5</td>\n",
              "      <td>-0.5</td>\n",
              "      <td>-0.5</td>\n",
              "      <td>-0.5</td>\n",
              "      <td>-0.5</td>\n",
              "      <td>-0.5</td>\n",
              "      <td>-0.5</td>\n",
              "      <td>-0.5</td>\n",
              "      <td>-0.5</td>\n",
              "    </tr>\n",
              "    <tr>\n",
              "      <th>1</th>\n",
              "      <td>1</td>\n",
              "      <td>-0.5</td>\n",
              "      <td>-0.5</td>\n",
              "      <td>-0.5</td>\n",
              "      <td>-0.5</td>\n",
              "      <td>-0.5</td>\n",
              "      <td>-0.5</td>\n",
              "      <td>-0.5</td>\n",
              "      <td>-0.5</td>\n",
              "      <td>-0.5</td>\n",
              "      <td>-0.5</td>\n",
              "      <td>-0.5</td>\n",
              "      <td>-0.5</td>\n",
              "      <td>-0.5</td>\n",
              "      <td>-0.482103</td>\n",
              "      <td>-0.5</td>\n",
              "      <td>-0.5</td>\n",
              "      <td>-0.5</td>\n",
              "      <td>-0.5</td>\n",
              "      <td>-0.5</td>\n",
              "      <td>-0.5</td>\n",
              "      <td>-0.5</td>\n",
              "      <td>-0.5</td>\n",
              "      <td>-0.5</td>\n",
              "      <td>-0.5</td>\n",
              "      <td>-0.5</td>\n",
              "      <td>-0.5</td>\n",
              "      <td>-0.5</td>\n",
              "      <td>-0.5</td>\n",
              "      <td>-0.5</td>\n",
              "      <td>-0.5</td>\n",
              "      <td>-0.5</td>\n",
              "      <td>-0.5</td>\n",
              "      <td>-0.5</td>\n",
              "      <td>-0.5</td>\n",
              "      <td>-0.5</td>\n",
              "      <td>-0.5</td>\n",
              "      <td>-0.5</td>\n",
              "      <td>-0.5</td>\n",
              "      <td>-0.5</td>\n",
              "      <td>...</td>\n",
              "      <td>-0.5</td>\n",
              "      <td>-0.5</td>\n",
              "      <td>-0.5</td>\n",
              "      <td>-0.5</td>\n",
              "      <td>-0.5</td>\n",
              "      <td>-0.5</td>\n",
              "      <td>-0.5</td>\n",
              "      <td>-0.5</td>\n",
              "      <td>-0.5</td>\n",
              "      <td>-0.5</td>\n",
              "      <td>-0.5</td>\n",
              "      <td>-0.5</td>\n",
              "      <td>-0.5</td>\n",
              "      <td>-0.5</td>\n",
              "      <td>-0.5</td>\n",
              "      <td>-0.5</td>\n",
              "      <td>-0.5</td>\n",
              "      <td>-0.5</td>\n",
              "      <td>-0.5</td>\n",
              "      <td>-0.5</td>\n",
              "      <td>-0.5</td>\n",
              "      <td>-0.5</td>\n",
              "      <td>-0.5</td>\n",
              "      <td>-0.5</td>\n",
              "      <td>-0.5</td>\n",
              "      <td>-0.5</td>\n",
              "      <td>-0.5</td>\n",
              "      <td>-0.5</td>\n",
              "      <td>-0.5</td>\n",
              "      <td>-0.5</td>\n",
              "      <td>-0.5</td>\n",
              "      <td>-0.5</td>\n",
              "      <td>-0.5</td>\n",
              "      <td>-0.5</td>\n",
              "      <td>-0.5</td>\n",
              "      <td>-0.5</td>\n",
              "      <td>-0.5</td>\n",
              "      <td>-0.5</td>\n",
              "      <td>-0.5</td>\n",
              "      <td>-0.5</td>\n",
              "    </tr>\n",
              "    <tr>\n",
              "      <th>2</th>\n",
              "      <td>2</td>\n",
              "      <td>-0.5</td>\n",
              "      <td>-0.5</td>\n",
              "      <td>-0.5</td>\n",
              "      <td>-0.5</td>\n",
              "      <td>-0.5</td>\n",
              "      <td>-0.5</td>\n",
              "      <td>-0.5</td>\n",
              "      <td>-0.5</td>\n",
              "      <td>-0.5</td>\n",
              "      <td>-0.5</td>\n",
              "      <td>-0.5</td>\n",
              "      <td>-0.5</td>\n",
              "      <td>-0.5</td>\n",
              "      <td>-0.500000</td>\n",
              "      <td>-0.5</td>\n",
              "      <td>-0.5</td>\n",
              "      <td>-0.5</td>\n",
              "      <td>-0.5</td>\n",
              "      <td>-0.5</td>\n",
              "      <td>-0.5</td>\n",
              "      <td>-0.5</td>\n",
              "      <td>-0.5</td>\n",
              "      <td>-0.5</td>\n",
              "      <td>-0.5</td>\n",
              "      <td>-0.5</td>\n",
              "      <td>-0.5</td>\n",
              "      <td>-0.5</td>\n",
              "      <td>-0.5</td>\n",
              "      <td>-0.5</td>\n",
              "      <td>-0.5</td>\n",
              "      <td>-0.5</td>\n",
              "      <td>-0.5</td>\n",
              "      <td>-0.5</td>\n",
              "      <td>-0.5</td>\n",
              "      <td>-0.5</td>\n",
              "      <td>-0.5</td>\n",
              "      <td>-0.5</td>\n",
              "      <td>-0.5</td>\n",
              "      <td>-0.5</td>\n",
              "      <td>...</td>\n",
              "      <td>-0.5</td>\n",
              "      <td>-0.5</td>\n",
              "      <td>-0.5</td>\n",
              "      <td>-0.5</td>\n",
              "      <td>-0.5</td>\n",
              "      <td>-0.5</td>\n",
              "      <td>-0.5</td>\n",
              "      <td>-0.5</td>\n",
              "      <td>-0.5</td>\n",
              "      <td>-0.5</td>\n",
              "      <td>-0.5</td>\n",
              "      <td>-0.5</td>\n",
              "      <td>-0.5</td>\n",
              "      <td>-0.5</td>\n",
              "      <td>-0.5</td>\n",
              "      <td>-0.5</td>\n",
              "      <td>-0.5</td>\n",
              "      <td>-0.5</td>\n",
              "      <td>-0.5</td>\n",
              "      <td>-0.5</td>\n",
              "      <td>-0.5</td>\n",
              "      <td>-0.5</td>\n",
              "      <td>-0.5</td>\n",
              "      <td>-0.5</td>\n",
              "      <td>-0.5</td>\n",
              "      <td>-0.5</td>\n",
              "      <td>-0.5</td>\n",
              "      <td>-0.5</td>\n",
              "      <td>-0.5</td>\n",
              "      <td>-0.5</td>\n",
              "      <td>-0.5</td>\n",
              "      <td>-0.5</td>\n",
              "      <td>-0.5</td>\n",
              "      <td>-0.5</td>\n",
              "      <td>-0.5</td>\n",
              "      <td>-0.5</td>\n",
              "      <td>-0.5</td>\n",
              "      <td>-0.5</td>\n",
              "      <td>-0.5</td>\n",
              "      <td>-0.5</td>\n",
              "    </tr>\n",
              "    <tr>\n",
              "      <th>3</th>\n",
              "      <td>3</td>\n",
              "      <td>-0.5</td>\n",
              "      <td>-0.5</td>\n",
              "      <td>-0.5</td>\n",
              "      <td>-0.5</td>\n",
              "      <td>-0.5</td>\n",
              "      <td>-0.5</td>\n",
              "      <td>-0.5</td>\n",
              "      <td>-0.5</td>\n",
              "      <td>-0.5</td>\n",
              "      <td>-0.5</td>\n",
              "      <td>-0.5</td>\n",
              "      <td>-0.5</td>\n",
              "      <td>-0.5</td>\n",
              "      <td>-0.500000</td>\n",
              "      <td>-0.5</td>\n",
              "      <td>-0.5</td>\n",
              "      <td>-0.5</td>\n",
              "      <td>-0.5</td>\n",
              "      <td>-0.5</td>\n",
              "      <td>-0.5</td>\n",
              "      <td>-0.5</td>\n",
              "      <td>-0.5</td>\n",
              "      <td>-0.5</td>\n",
              "      <td>-0.5</td>\n",
              "      <td>-0.5</td>\n",
              "      <td>-0.5</td>\n",
              "      <td>-0.5</td>\n",
              "      <td>-0.5</td>\n",
              "      <td>-0.5</td>\n",
              "      <td>-0.5</td>\n",
              "      <td>-0.5</td>\n",
              "      <td>-0.5</td>\n",
              "      <td>-0.5</td>\n",
              "      <td>-0.5</td>\n",
              "      <td>-0.5</td>\n",
              "      <td>-0.5</td>\n",
              "      <td>-0.5</td>\n",
              "      <td>-0.5</td>\n",
              "      <td>-0.5</td>\n",
              "      <td>...</td>\n",
              "      <td>-0.5</td>\n",
              "      <td>-0.5</td>\n",
              "      <td>-0.5</td>\n",
              "      <td>-0.5</td>\n",
              "      <td>-0.5</td>\n",
              "      <td>-0.5</td>\n",
              "      <td>-0.5</td>\n",
              "      <td>-0.5</td>\n",
              "      <td>-0.5</td>\n",
              "      <td>-0.5</td>\n",
              "      <td>-0.5</td>\n",
              "      <td>-0.5</td>\n",
              "      <td>-0.5</td>\n",
              "      <td>-0.5</td>\n",
              "      <td>-0.5</td>\n",
              "      <td>-0.5</td>\n",
              "      <td>-0.5</td>\n",
              "      <td>-0.5</td>\n",
              "      <td>-0.5</td>\n",
              "      <td>-0.5</td>\n",
              "      <td>-0.5</td>\n",
              "      <td>-0.5</td>\n",
              "      <td>-0.5</td>\n",
              "      <td>-0.5</td>\n",
              "      <td>-0.5</td>\n",
              "      <td>-0.5</td>\n",
              "      <td>-0.5</td>\n",
              "      <td>-0.5</td>\n",
              "      <td>-0.5</td>\n",
              "      <td>-0.5</td>\n",
              "      <td>-0.5</td>\n",
              "      <td>-0.5</td>\n",
              "      <td>-0.5</td>\n",
              "      <td>-0.5</td>\n",
              "      <td>-0.5</td>\n",
              "      <td>-0.5</td>\n",
              "      <td>-0.5</td>\n",
              "      <td>-0.5</td>\n",
              "      <td>-0.5</td>\n",
              "      <td>-0.5</td>\n",
              "    </tr>\n",
              "    <tr>\n",
              "      <th>4</th>\n",
              "      <td>4</td>\n",
              "      <td>-0.5</td>\n",
              "      <td>-0.5</td>\n",
              "      <td>-0.5</td>\n",
              "      <td>-0.5</td>\n",
              "      <td>-0.5</td>\n",
              "      <td>-0.5</td>\n",
              "      <td>-0.5</td>\n",
              "      <td>-0.5</td>\n",
              "      <td>-0.5</td>\n",
              "      <td>-0.5</td>\n",
              "      <td>-0.5</td>\n",
              "      <td>-0.5</td>\n",
              "      <td>-0.5</td>\n",
              "      <td>-0.500000</td>\n",
              "      <td>-0.5</td>\n",
              "      <td>-0.5</td>\n",
              "      <td>-0.5</td>\n",
              "      <td>-0.5</td>\n",
              "      <td>-0.5</td>\n",
              "      <td>-0.5</td>\n",
              "      <td>-0.5</td>\n",
              "      <td>-0.5</td>\n",
              "      <td>-0.5</td>\n",
              "      <td>-0.5</td>\n",
              "      <td>-0.5</td>\n",
              "      <td>-0.5</td>\n",
              "      <td>-0.5</td>\n",
              "      <td>-0.5</td>\n",
              "      <td>-0.5</td>\n",
              "      <td>-0.5</td>\n",
              "      <td>-0.5</td>\n",
              "      <td>-0.5</td>\n",
              "      <td>-0.5</td>\n",
              "      <td>-0.5</td>\n",
              "      <td>-0.5</td>\n",
              "      <td>-0.5</td>\n",
              "      <td>-0.5</td>\n",
              "      <td>-0.5</td>\n",
              "      <td>-0.5</td>\n",
              "      <td>...</td>\n",
              "      <td>-0.5</td>\n",
              "      <td>-0.5</td>\n",
              "      <td>-0.5</td>\n",
              "      <td>-0.5</td>\n",
              "      <td>-0.5</td>\n",
              "      <td>-0.5</td>\n",
              "      <td>-0.5</td>\n",
              "      <td>-0.5</td>\n",
              "      <td>-0.5</td>\n",
              "      <td>-0.5</td>\n",
              "      <td>-0.5</td>\n",
              "      <td>-0.5</td>\n",
              "      <td>-0.5</td>\n",
              "      <td>-0.5</td>\n",
              "      <td>-0.5</td>\n",
              "      <td>-0.5</td>\n",
              "      <td>-0.5</td>\n",
              "      <td>-0.5</td>\n",
              "      <td>-0.5</td>\n",
              "      <td>-0.5</td>\n",
              "      <td>-0.5</td>\n",
              "      <td>-0.5</td>\n",
              "      <td>-0.5</td>\n",
              "      <td>-0.5</td>\n",
              "      <td>-0.5</td>\n",
              "      <td>-0.5</td>\n",
              "      <td>-0.5</td>\n",
              "      <td>-0.5</td>\n",
              "      <td>-0.5</td>\n",
              "      <td>-0.5</td>\n",
              "      <td>-0.5</td>\n",
              "      <td>-0.5</td>\n",
              "      <td>-0.5</td>\n",
              "      <td>-0.5</td>\n",
              "      <td>-0.5</td>\n",
              "      <td>-0.5</td>\n",
              "      <td>-0.5</td>\n",
              "      <td>-0.5</td>\n",
              "      <td>-0.5</td>\n",
              "      <td>-0.5</td>\n",
              "    </tr>\n",
              "  </tbody>\n",
              "</table>\n",
              "<p>5 rows × 17633 columns</p>\n",
              "</div>"
            ],
            "text/plain": [
              "   cluster  !!!  !DISTAIN  !deladap  ...  ＶａｎｅｓｓＡ  ｂｏｏｇｉｅｍａｎ  ｂｏｒｎ  ｍａｃｈｉｎｅ\n",
              "0        0 -0.5      -0.5      -0.5  ...     -0.5       -0.5  -0.5     -0.5\n",
              "1        1 -0.5      -0.5      -0.5  ...     -0.5       -0.5  -0.5     -0.5\n",
              "2        2 -0.5      -0.5      -0.5  ...     -0.5       -0.5  -0.5     -0.5\n",
              "3        3 -0.5      -0.5      -0.5  ...     -0.5       -0.5  -0.5     -0.5\n",
              "4        4 -0.5      -0.5      -0.5  ...     -0.5       -0.5  -0.5     -0.5\n",
              "\n",
              "[5 rows x 17633 columns]"
            ]
          },
          "metadata": {
            "tags": []
          },
          "execution_count": 136
        }
      ]
    },
    {
      "cell_type": "markdown",
      "metadata": {
        "id": "kfCEzHFny8kO"
      },
      "source": [
        "---\r\n",
        "---\r\n",
        "\r\n",
        "# 6. Get user input\r\n",
        "\r\n",
        "---\r\n",
        "---"
      ]
    },
    {
      "cell_type": "markdown",
      "metadata": {
        "id": "P1_LlR1Iy6EN"
      },
      "source": [
        "For the purpose of this example, we chose to take a single user from the given data to be our example user.\r\n",
        "We used the music tastes of this user to base our recommendation on, matching this users listening habits to that of a cluster of people with similar musical interests."
      ]
    },
    {
      "cell_type": "code",
      "metadata": {
        "id": "FBLDCm4CktbQ"
      },
      "source": [
        "chosen_userID = 2 #@param {type:\"slider\", min:2, max:1891, step:1}\n",
        "\n",
        "user_vector = pd.DataFrame(cluster_df.iloc[chosen_userID, ]).T"
      ],
      "execution_count": null,
      "outputs": []
    },
    {
      "cell_type": "code",
      "metadata": {
        "colab": {
          "base_uri": "https://localhost:8080/",
          "height": 293
        },
        "id": "EWIErgg_kteg",
        "outputId": "3a9bb8cf-4cbf-47f0-e7e0-2a3242cb586b"
      },
      "source": [
        "user_vector"
      ],
      "execution_count": null,
      "outputs": [
        {
          "output_type": "execute_result",
          "data": {
            "text/html": [
              "<div>\n",
              "<style scoped>\n",
              "    .dataframe tbody tr th:only-of-type {\n",
              "        vertical-align: middle;\n",
              "    }\n",
              "\n",
              "    .dataframe tbody tr th {\n",
              "        vertical-align: top;\n",
              "    }\n",
              "\n",
              "    .dataframe thead th {\n",
              "        text-align: right;\n",
              "    }\n",
              "</style>\n",
              "<table border=\"1\" class=\"dataframe\">\n",
              "  <thead>\n",
              "    <tr style=\"text-align: right;\">\n",
              "      <th>artistName</th>\n",
              "      <th>!!!</th>\n",
              "      <th>!DISTAIN</th>\n",
              "      <th>!deladap</th>\n",
              "      <th>#####</th>\n",
              "      <th>#2 Orchestra</th>\n",
              "      <th>$lick</th>\n",
              "      <th>$lick feat. Six-Fo</th>\n",
              "      <th>(1962-1966)</th>\n",
              "      <th>(Pre) Kingdom</th>\n",
              "      <th>(We Are) Performance</th>\n",
              "      <th>(hed) Planet Earth</th>\n",
              "      <th>(sic)monic</th>\n",
              "      <th>*NSYNC</th>\n",
              "      <th>+44</th>\n",
              "      <th>+\\-</th>\n",
              "      <th>-123 min.</th>\n",
              "      <th>-OZ-</th>\n",
              "      <th>-t de sangre</th>\n",
              "      <th>...And The Earth Swarmed With Them</th>\n",
              "      <th>...And You Will Know Us by the Trail of Dead</th>\n",
              "      <th>.38 Special</th>\n",
              "      <th>.crrust</th>\n",
              "      <th>06 Children Of The Cross</th>\n",
              "      <th>08001</th>\n",
              "      <th>1-800-ZOMBIE</th>\n",
              "      <th>10 Years</th>\n",
              "      <th>10-20 БЕЗ ВЫХОДНЫХ</th>\n",
              "      <th>100 Bitches</th>\n",
              "      <th>1000names</th>\n",
              "      <th>100DEADRABBITS!!!</th>\n",
              "      <th>100blumen</th>\n",
              "      <th>100dBs</th>\n",
              "      <th>10cc</th>\n",
              "      <th>11.43</th>\n",
              "      <th>110</th>\n",
              "      <th>112</th>\n",
              "      <th>1125</th>\n",
              "      <th>12 Rounds</th>\n",
              "      <th>12 Stones</th>\n",
              "      <th>120 Days</th>\n",
              "      <th>...</th>\n",
              "      <th>박정현</th>\n",
              "      <th>반야</th>\n",
              "      <th>배치기</th>\n",
              "      <th>백지영</th>\n",
              "      <th>비</th>\n",
              "      <th>빅뱅</th>\n",
              "      <th>샤이니</th>\n",
              "      <th>샤이니 (SHINee)</th>\n",
              "      <th>서태지</th>\n",
              "      <th>소녀시대</th>\n",
              "      <th>소녀시대 ＆ 2PM</th>\n",
              "      <th>손담비</th>\n",
              "      <th>송지은</th>\n",
              "      <th>승리</th>\n",
              "      <th>시크릿</th>\n",
              "      <th>신화</th>\n",
              "      <th>아웃사이더</th>\n",
              "      <th>아이비</th>\n",
              "      <th>애프터 스쿨(After School)</th>\n",
              "      <th>엠블랙(MBLAQ)</th>\n",
              "      <th>원더걸스</th>\n",
              "      <th>윤하</th>\n",
              "      <th>이박사</th>\n",
              "      <th>이수영(여)</th>\n",
              "      <th>이수영(여);</th>\n",
              "      <th>이정현</th>\n",
              "      <th>이효리</th>\n",
              "      <th>장근석</th>\n",
              "      <th>제빵왕</th>\n",
              "      <th>태양</th>\n",
              "      <th>티아라</th>\n",
              "      <th>현아</th>\n",
              "      <th>ＬｕＬｕ</th>\n",
              "      <th>ＭＡＮＮＥＱＵＩＮ</th>\n",
              "      <th>ＰＥＲＥＳＴＲＯＩＫＡ</th>\n",
              "      <th>ＲＥＤ</th>\n",
              "      <th>ＶａｎｅｓｓＡ</th>\n",
              "      <th>ｂｏｏｇｉｅｍａｎ</th>\n",
              "      <th>ｂｏｒｎ</th>\n",
              "      <th>ｍａｃｈｉｎｅ</th>\n",
              "    </tr>\n",
              "  </thead>\n",
              "  <tbody>\n",
              "    <tr>\n",
              "      <th>4</th>\n",
              "      <td>-0.5</td>\n",
              "      <td>-0.5</td>\n",
              "      <td>-0.5</td>\n",
              "      <td>-0.5</td>\n",
              "      <td>-0.5</td>\n",
              "      <td>-0.5</td>\n",
              "      <td>-0.5</td>\n",
              "      <td>-0.5</td>\n",
              "      <td>-0.5</td>\n",
              "      <td>-0.5</td>\n",
              "      <td>-0.5</td>\n",
              "      <td>-0.5</td>\n",
              "      <td>-0.5</td>\n",
              "      <td>-0.5</td>\n",
              "      <td>-0.5</td>\n",
              "      <td>-0.5</td>\n",
              "      <td>-0.5</td>\n",
              "      <td>-0.5</td>\n",
              "      <td>-0.5</td>\n",
              "      <td>-0.5</td>\n",
              "      <td>-0.5</td>\n",
              "      <td>-0.5</td>\n",
              "      <td>-0.5</td>\n",
              "      <td>-0.5</td>\n",
              "      <td>-0.5</td>\n",
              "      <td>-0.5</td>\n",
              "      <td>-0.5</td>\n",
              "      <td>-0.5</td>\n",
              "      <td>-0.5</td>\n",
              "      <td>-0.5</td>\n",
              "      <td>-0.5</td>\n",
              "      <td>-0.5</td>\n",
              "      <td>-0.5</td>\n",
              "      <td>-0.5</td>\n",
              "      <td>-0.5</td>\n",
              "      <td>-0.5</td>\n",
              "      <td>-0.5</td>\n",
              "      <td>-0.5</td>\n",
              "      <td>-0.5</td>\n",
              "      <td>-0.5</td>\n",
              "      <td>...</td>\n",
              "      <td>-0.5</td>\n",
              "      <td>-0.5</td>\n",
              "      <td>-0.5</td>\n",
              "      <td>-0.5</td>\n",
              "      <td>-0.5</td>\n",
              "      <td>-0.5</td>\n",
              "      <td>-0.5</td>\n",
              "      <td>-0.5</td>\n",
              "      <td>-0.5</td>\n",
              "      <td>-0.5</td>\n",
              "      <td>-0.5</td>\n",
              "      <td>-0.5</td>\n",
              "      <td>-0.5</td>\n",
              "      <td>-0.5</td>\n",
              "      <td>-0.5</td>\n",
              "      <td>-0.5</td>\n",
              "      <td>-0.5</td>\n",
              "      <td>-0.5</td>\n",
              "      <td>-0.5</td>\n",
              "      <td>-0.5</td>\n",
              "      <td>-0.5</td>\n",
              "      <td>-0.5</td>\n",
              "      <td>-0.5</td>\n",
              "      <td>-0.5</td>\n",
              "      <td>-0.5</td>\n",
              "      <td>-0.5</td>\n",
              "      <td>-0.5</td>\n",
              "      <td>-0.5</td>\n",
              "      <td>-0.5</td>\n",
              "      <td>-0.5</td>\n",
              "      <td>-0.5</td>\n",
              "      <td>-0.5</td>\n",
              "      <td>-0.5</td>\n",
              "      <td>-0.5</td>\n",
              "      <td>-0.5</td>\n",
              "      <td>-0.5</td>\n",
              "      <td>-0.5</td>\n",
              "      <td>-0.5</td>\n",
              "      <td>-0.5</td>\n",
              "      <td>-0.5</td>\n",
              "    </tr>\n",
              "  </tbody>\n",
              "</table>\n",
              "<p>1 rows × 17632 columns</p>\n",
              "</div>"
            ],
            "text/plain": [
              "artistName  !!!  !DISTAIN  !deladap  #####  ...  ＶａｎｅｓｓＡ  ｂｏｏｇｉｅｍａｎ  ｂｏｒｎ  ｍａｃｈｉｎｅ\n",
              "4          -0.5      -0.5      -0.5   -0.5  ...     -0.5       -0.5  -0.5     -0.5\n",
              "\n",
              "[1 rows x 17632 columns]"
            ]
          },
          "metadata": {
            "tags": []
          },
          "execution_count": 138
        }
      ]
    },
    {
      "cell_type": "markdown",
      "metadata": {
        "id": "ijepgGXizcOW"
      },
      "source": [
        "---\r\n",
        "---\r\n",
        "\r\n",
        "# 7. Get recommendation for this user\r\n",
        "\r\n",
        "---\r\n",
        "---"
      ]
    },
    {
      "cell_type": "markdown",
      "metadata": {
        "id": "CN9NFe_F9cFy"
      },
      "source": [
        "### Find the cluster(s) the user is most similar to"
      ]
    },
    {
      "cell_type": "markdown",
      "metadata": {
        "id": "BTB5xGbf9U1h"
      },
      "source": [
        "##### See how similar the user is to the representation of each cluster"
      ]
    },
    {
      "cell_type": "code",
      "metadata": {
        "colab": {
          "base_uri": "https://localhost:8080/",
          "height": 66,
          "referenced_widgets": [
            "f304c8feac214293ac5fdf6bf29664dd",
            "e09f67cbaff24a8899d66573a463a4bd",
            "145e2547dbae45e2853d5e9cbaa47228",
            "b18c0c38f40d4fafbc9dee3498dacd10",
            "f66e6afa925a4142b944e706d4a59b67",
            "21ba8d05568f4a5a92bfc4e974a54bf0",
            "758c43dc44474514a0d4f9e9a14d95e0",
            "0e6adc57d3614e23847f012bd67e78d1"
          ]
        },
        "id": "PP-gCa6MktiG",
        "outputId": "ab216ac4-3ea8-444e-e186-ccef09c269c6"
      },
      "source": [
        "map_cluster_to_sim_score = {}\r\n",
        "for cluster_num in tqdm(range(final_num_clusters)):\r\n",
        "    \r\n",
        "    cluster_vector = cluster_representation_df[cluster_representation_df[\"cluster\"] == cluster_num].drop(columns=[\"cluster\"])\r\n",
        "\r\n",
        "    comparison_df = pd.concat([cluster_vector, user_vector], axis=0, ignore_index=True)\r\n",
        "  \r\n",
        "    # get the cosine similarity of the user generated row with the cluster row\r\n",
        "    sim_mat = cosine_similarity(comparison_df)\r\n",
        "\r\n",
        "    # store this similarity score\r\n",
        "    map_cluster_to_sim_score[cluster_num] = sim_mat[0][1]"
      ],
      "execution_count": null,
      "outputs": [
        {
          "output_type": "display_data",
          "data": {
            "application/vnd.jupyter.widget-view+json": {
              "model_id": "f304c8feac214293ac5fdf6bf29664dd",
              "version_minor": 0,
              "version_major": 2
            },
            "text/plain": [
              "HBox(children=(FloatProgress(value=0.0, max=62.0), HTML(value='')))"
            ]
          },
          "metadata": {
            "tags": []
          }
        },
        {
          "output_type": "stream",
          "text": [
            "\n"
          ],
          "name": "stdout"
        }
      ]
    },
    {
      "cell_type": "markdown",
      "metadata": {
        "id": "LMSbl0goFoJ8"
      },
      "source": [
        "##### Find the cluster that is most similar "
      ]
    },
    {
      "cell_type": "code",
      "metadata": {
        "colab": {
          "base_uri": "https://localhost:8080/"
        },
        "id": "Tzobj23c9gqy",
        "outputId": "1522ca22-3941-4313-e231-0efbc40b4d07"
      },
      "source": [
        "most_similar_cluster = []\r\n",
        "highest_similarity = -1\r\n",
        "for k, v in map_cluster_to_sim_score.items():\r\n",
        "    if v == highest_similarity:\r\n",
        "        most_similar_cluster.append(k)\r\n",
        "\r\n",
        "    elif v > highest_similarity:\r\n",
        "        most_similar_cluster = [k]\r\n",
        "        highest_similarity = v\r\n",
        "\r\n",
        "print(\"The most similar cluster is cluster '{}', this has a similarity score of '{}' with our users vector\".format(most_similar_cluster, round(highest_similarity, 4)))"
      ],
      "execution_count": null,
      "outputs": [
        {
          "output_type": "stream",
          "text": [
            "The most similar cluster is cluster '[28]', this has a similarity score of '0.9988' with our users vector\n"
          ],
          "name": "stdout"
        }
      ]
    },
    {
      "cell_type": "markdown",
      "metadata": {
        "id": "4tUZj6g0DPpL"
      },
      "source": [
        "### Find the most popular songs in this most similar cluster(s)"
      ]
    },
    {
      "cell_type": "markdown",
      "metadata": {
        "id": "rd3tVHB_GG6T"
      },
      "source": [
        "##### Iterate through these similar clusters and put together a dataframe where each row is one of the simila clusters"
      ]
    },
    {
      "cell_type": "code",
      "metadata": {
        "id": "UjPYnUilktpN"
      },
      "source": [
        "all_clusters = pd.DataFrame(columns=cluster_representation_df.columns)\r\n",
        "for cluster_num in most_similar_cluster:\r\n",
        "    all_clusters = pd.concat([all_clusters, pd.DataFrame(cluster_representation_df[cluster_representation_df[\"cluster\"] == cluster_num])], axis=0, ignore_index=True)"
      ],
      "execution_count": null,
      "outputs": []
    },
    {
      "cell_type": "code",
      "metadata": {
        "id": "MRASzY1AX8oG",
        "colab": {
          "base_uri": "https://localhost:8080/",
          "height": 210
        },
        "outputId": "4f0e6408-00e1-40a1-e1ed-921d51936b42"
      },
      "source": [
        "all_clusters"
      ],
      "execution_count": null,
      "outputs": [
        {
          "output_type": "execute_result",
          "data": {
            "text/html": [
              "<div>\n",
              "<style scoped>\n",
              "    .dataframe tbody tr th:only-of-type {\n",
              "        vertical-align: middle;\n",
              "    }\n",
              "\n",
              "    .dataframe tbody tr th {\n",
              "        vertical-align: top;\n",
              "    }\n",
              "\n",
              "    .dataframe thead th {\n",
              "        text-align: right;\n",
              "    }\n",
              "</style>\n",
              "<table border=\"1\" class=\"dataframe\">\n",
              "  <thead>\n",
              "    <tr style=\"text-align: right;\">\n",
              "      <th></th>\n",
              "      <th>cluster</th>\n",
              "      <th>!!!</th>\n",
              "      <th>!DISTAIN</th>\n",
              "      <th>!deladap</th>\n",
              "      <th>#####</th>\n",
              "      <th>#2 Orchestra</th>\n",
              "      <th>$lick</th>\n",
              "      <th>$lick feat. Six-Fo</th>\n",
              "      <th>(1962-1966)</th>\n",
              "      <th>(Pre) Kingdom</th>\n",
              "      <th>(We Are) Performance</th>\n",
              "      <th>(hed) Planet Earth</th>\n",
              "      <th>(sic)monic</th>\n",
              "      <th>*NSYNC</th>\n",
              "      <th>+44</th>\n",
              "      <th>+\\-</th>\n",
              "      <th>-123 min.</th>\n",
              "      <th>-OZ-</th>\n",
              "      <th>-t de sangre</th>\n",
              "      <th>...And The Earth Swarmed With Them</th>\n",
              "      <th>...And You Will Know Us by the Trail of Dead</th>\n",
              "      <th>.38 Special</th>\n",
              "      <th>.crrust</th>\n",
              "      <th>06 Children Of The Cross</th>\n",
              "      <th>08001</th>\n",
              "      <th>1-800-ZOMBIE</th>\n",
              "      <th>10 Years</th>\n",
              "      <th>10-20 БЕЗ ВЫХОДНЫХ</th>\n",
              "      <th>100 Bitches</th>\n",
              "      <th>1000names</th>\n",
              "      <th>100DEADRABBITS!!!</th>\n",
              "      <th>100blumen</th>\n",
              "      <th>100dBs</th>\n",
              "      <th>10cc</th>\n",
              "      <th>11.43</th>\n",
              "      <th>110</th>\n",
              "      <th>112</th>\n",
              "      <th>1125</th>\n",
              "      <th>12 Rounds</th>\n",
              "      <th>12 Stones</th>\n",
              "      <th>...</th>\n",
              "      <th>박정현</th>\n",
              "      <th>반야</th>\n",
              "      <th>배치기</th>\n",
              "      <th>백지영</th>\n",
              "      <th>비</th>\n",
              "      <th>빅뱅</th>\n",
              "      <th>샤이니</th>\n",
              "      <th>샤이니 (SHINee)</th>\n",
              "      <th>서태지</th>\n",
              "      <th>소녀시대</th>\n",
              "      <th>소녀시대 ＆ 2PM</th>\n",
              "      <th>손담비</th>\n",
              "      <th>송지은</th>\n",
              "      <th>승리</th>\n",
              "      <th>시크릿</th>\n",
              "      <th>신화</th>\n",
              "      <th>아웃사이더</th>\n",
              "      <th>아이비</th>\n",
              "      <th>애프터 스쿨(After School)</th>\n",
              "      <th>엠블랙(MBLAQ)</th>\n",
              "      <th>원더걸스</th>\n",
              "      <th>윤하</th>\n",
              "      <th>이박사</th>\n",
              "      <th>이수영(여)</th>\n",
              "      <th>이수영(여);</th>\n",
              "      <th>이정현</th>\n",
              "      <th>이효리</th>\n",
              "      <th>장근석</th>\n",
              "      <th>제빵왕</th>\n",
              "      <th>태양</th>\n",
              "      <th>티아라</th>\n",
              "      <th>현아</th>\n",
              "      <th>ＬｕＬｕ</th>\n",
              "      <th>ＭＡＮＮＥＱＵＩＮ</th>\n",
              "      <th>ＰＥＲＥＳＴＲＯＩＫＡ</th>\n",
              "      <th>ＲＥＤ</th>\n",
              "      <th>ＶａｎｅｓｓＡ</th>\n",
              "      <th>ｂｏｏｇｉｅｍａｎ</th>\n",
              "      <th>ｂｏｒｎ</th>\n",
              "      <th>ｍａｃｈｉｎｅ</th>\n",
              "    </tr>\n",
              "  </thead>\n",
              "  <tbody>\n",
              "    <tr>\n",
              "      <th>0</th>\n",
              "      <td>28</td>\n",
              "      <td>-0.49904</td>\n",
              "      <td>-0.499336</td>\n",
              "      <td>-0.499774</td>\n",
              "      <td>-0.497593</td>\n",
              "      <td>-0.499759</td>\n",
              "      <td>-0.5</td>\n",
              "      <td>-0.5</td>\n",
              "      <td>-0.499776</td>\n",
              "      <td>-0.499786</td>\n",
              "      <td>-0.499786</td>\n",
              "      <td>-0.497999</td>\n",
              "      <td>-0.49978</td>\n",
              "      <td>-0.49715</td>\n",
              "      <td>-0.495407</td>\n",
              "      <td>-0.4996</td>\n",
              "      <td>-0.499773</td>\n",
              "      <td>-0.498975</td>\n",
              "      <td>-0.49971</td>\n",
              "      <td>-0.499773</td>\n",
              "      <td>-0.496236</td>\n",
              "      <td>-0.499483</td>\n",
              "      <td>-0.499324</td>\n",
              "      <td>-0.499782</td>\n",
              "      <td>-0.499762</td>\n",
              "      <td>-0.499778</td>\n",
              "      <td>-0.498892</td>\n",
              "      <td>-0.499762</td>\n",
              "      <td>-0.499286</td>\n",
              "      <td>-0.499771</td>\n",
              "      <td>-0.499212</td>\n",
              "      <td>-0.49971</td>\n",
              "      <td>-0.499697</td>\n",
              "      <td>-0.498486</td>\n",
              "      <td>-0.499774</td>\n",
              "      <td>-0.499786</td>\n",
              "      <td>-0.499745</td>\n",
              "      <td>-0.499588</td>\n",
              "      <td>-0.499765</td>\n",
              "      <td>-0.496197</td>\n",
              "      <td>...</td>\n",
              "      <td>-0.499739</td>\n",
              "      <td>-0.49952</td>\n",
              "      <td>-0.499768</td>\n",
              "      <td>-0.499186</td>\n",
              "      <td>-0.499784</td>\n",
              "      <td>-0.5</td>\n",
              "      <td>-0.499644</td>\n",
              "      <td>-0.499729</td>\n",
              "      <td>-0.499746</td>\n",
              "      <td>-0.497861</td>\n",
              "      <td>-0.5</td>\n",
              "      <td>-0.499655</td>\n",
              "      <td>-0.499698</td>\n",
              "      <td>-0.5</td>\n",
              "      <td>-0.49967</td>\n",
              "      <td>-0.499452</td>\n",
              "      <td>-0.49966</td>\n",
              "      <td>-0.499781</td>\n",
              "      <td>-0.5</td>\n",
              "      <td>-0.5</td>\n",
              "      <td>-0.5</td>\n",
              "      <td>-0.4991</td>\n",
              "      <td>-0.499687</td>\n",
              "      <td>-0.499777</td>\n",
              "      <td>-0.499785</td>\n",
              "      <td>-0.499773</td>\n",
              "      <td>-0.499485</td>\n",
              "      <td>-0.5</td>\n",
              "      <td>-0.5</td>\n",
              "      <td>-0.499645</td>\n",
              "      <td>-0.498881</td>\n",
              "      <td>-0.5</td>\n",
              "      <td>-0.499393</td>\n",
              "      <td>-0.49968</td>\n",
              "      <td>-0.499716</td>\n",
              "      <td>-0.499716</td>\n",
              "      <td>-0.499377</td>\n",
              "      <td>-0.499715</td>\n",
              "      <td>-0.499355</td>\n",
              "      <td>-0.499534</td>\n",
              "    </tr>\n",
              "  </tbody>\n",
              "</table>\n",
              "<p>1 rows × 17633 columns</p>\n",
              "</div>"
            ],
            "text/plain": [
              "  cluster      !!!  !DISTAIN  !deladap  ...   ＶａｎｅｓｓＡ  ｂｏｏｇｉｅｍａｎ      ｂｏｒｎ   ｍａｃｈｉｎｅ\n",
              "0      28 -0.49904 -0.499336 -0.499774  ... -0.499377  -0.499715 -0.499355 -0.499534\n",
              "\n",
              "[1 rows x 17633 columns]"
            ]
          },
          "metadata": {
            "tags": []
          },
          "execution_count": 143
        }
      ]
    },
    {
      "cell_type": "markdown",
      "metadata": {
        "id": "C2M3Xa8sGMIZ"
      },
      "source": [
        "##### Map each song to the maximum weighting it has in this created dataframe"
      ]
    },
    {
      "cell_type": "code",
      "metadata": {
        "id": "lJsjOoDaEEEJ"
      },
      "source": [
        "map_col_to_max_val = {}\r\n",
        "for col in all_clusters.columns[1:]:\r\n",
        "    map_col_to_max_val[col] = all_clusters[col].max()"
      ],
      "execution_count": null,
      "outputs": []
    },
    {
      "cell_type": "markdown",
      "metadata": {
        "id": "O_IEWt9kGY2X"
      },
      "source": [
        "##### Get a list of the ordered recommendation of these songs from this dictionary"
      ]
    },
    {
      "cell_type": "code",
      "metadata": {
        "id": "obUS7NeqFCMt"
      },
      "source": [
        "list_of_songs = []\r\n",
        "list_of_weights = []\r\n",
        "for song, weight in sorted(map_col_to_max_val.items(), key=lambda item: item[1])[::-1]:\r\n",
        "    list_of_songs.append(song)\r\n",
        "    list_of_weights.append(weight + 0.5)"
      ],
      "execution_count": null,
      "outputs": []
    },
    {
      "cell_type": "markdown",
      "metadata": {
        "id": "yV2dYQG2LIwe"
      },
      "source": [
        "---\r\n",
        "---\r\n",
        "\r\n",
        "# 8. Output Recommendation\r\n",
        "\r\n",
        "---\r\n",
        "---"
      ]
    },
    {
      "cell_type": "markdown",
      "metadata": {
        "id": "T-9dozytGIPf"
      },
      "source": [
        "### Create a colour for each of the artist genres"
      ]
    },
    {
      "cell_type": "markdown",
      "metadata": {
        "id": "gJusyZd9Lb_4"
      },
      "source": [
        "To make visualisation easier, we assign a random colour to each genre."
      ]
    },
    {
      "cell_type": "code",
      "metadata": {
        "id": "94fuZTDeAmb5"
      },
      "source": [
        "def random_colour():\n",
        "    return \"#\" + \"\".join([random.choice(\"0123456789ABCDEF\") for j in range(6)])"
      ],
      "execution_count": null,
      "outputs": []
    },
    {
      "cell_type": "code",
      "metadata": {
        "colab": {
          "base_uri": "https://localhost:8080/",
          "height": 406
        },
        "id": "lZ3rDIpLAtDQ",
        "outputId": "fe03ac23-86a6-4180-e3d7-82664ec46766"
      },
      "source": [
        "# Assign colours to each genre\n",
        "unique_genres = artists[\"genre\"].unique()\n",
        "colours  = [random_colour() for _ in range(len(unique_genres))]\n",
        "\n",
        "genre_colours = pd.DataFrame({\n",
        "    \"genre\": unique_genres,\n",
        "    \"colour\": colours\n",
        "})\n",
        "\n",
        "genre_colours"
      ],
      "execution_count": null,
      "outputs": [
        {
          "output_type": "execute_result",
          "data": {
            "text/html": [
              "<div>\n",
              "<style scoped>\n",
              "    .dataframe tbody tr th:only-of-type {\n",
              "        vertical-align: middle;\n",
              "    }\n",
              "\n",
              "    .dataframe tbody tr th {\n",
              "        vertical-align: top;\n",
              "    }\n",
              "\n",
              "    .dataframe thead th {\n",
              "        text-align: right;\n",
              "    }\n",
              "</style>\n",
              "<table border=\"1\" class=\"dataframe\">\n",
              "  <thead>\n",
              "    <tr style=\"text-align: right;\">\n",
              "      <th></th>\n",
              "      <th>genre</th>\n",
              "      <th>colour</th>\n",
              "    </tr>\n",
              "  </thead>\n",
              "  <tbody>\n",
              "    <tr>\n",
              "      <th>0</th>\n",
              "      <td>None</td>\n",
              "      <td>#38126A</td>\n",
              "    </tr>\n",
              "    <tr>\n",
              "      <th>1</th>\n",
              "      <td>dark wave</td>\n",
              "      <td>#FD2359</td>\n",
              "    </tr>\n",
              "    <tr>\n",
              "      <th>2</th>\n",
              "      <td>black metal</td>\n",
              "      <td>#F8723D</td>\n",
              "    </tr>\n",
              "    <tr>\n",
              "      <th>3</th>\n",
              "      <td>gothic black metal</td>\n",
              "      <td>#9099BA</td>\n",
              "    </tr>\n",
              "    <tr>\n",
              "      <th>4</th>\n",
              "      <td>alternative metal</td>\n",
              "      <td>#D0BB24</td>\n",
              "    </tr>\n",
              "    <tr>\n",
              "      <th>...</th>\n",
              "      <td>...</td>\n",
              "      <td>...</td>\n",
              "    </tr>\n",
              "    <tr>\n",
              "      <th>2044</th>\n",
              "      <td>armenian folk</td>\n",
              "      <td>#40027D</td>\n",
              "    </tr>\n",
              "    <tr>\n",
              "      <th>2045</th>\n",
              "      <td>kurdish pop</td>\n",
              "      <td>#1765C1</td>\n",
              "    </tr>\n",
              "    <tr>\n",
              "      <th>2046</th>\n",
              "      <td>musica tradicional cubana</td>\n",
              "      <td>#D8398B</td>\n",
              "    </tr>\n",
              "    <tr>\n",
              "      <th>2047</th>\n",
              "      <td>jazz boom bap</td>\n",
              "      <td>#19537E</td>\n",
              "    </tr>\n",
              "    <tr>\n",
              "      <th>2048</th>\n",
              "      <td>baltic folk</td>\n",
              "      <td>#08C560</td>\n",
              "    </tr>\n",
              "  </tbody>\n",
              "</table>\n",
              "<p>2049 rows × 2 columns</p>\n",
              "</div>"
            ],
            "text/plain": [
              "                          genre   colour\n",
              "0                          None  #38126A\n",
              "1                     dark wave  #FD2359\n",
              "2                   black metal  #F8723D\n",
              "3            gothic black metal  #9099BA\n",
              "4             alternative metal  #D0BB24\n",
              "...                         ...      ...\n",
              "2044              armenian folk  #40027D\n",
              "2045                kurdish pop  #1765C1\n",
              "2046  musica tradicional cubana  #D8398B\n",
              "2047              jazz boom bap  #19537E\n",
              "2048                baltic folk  #08C560\n",
              "\n",
              "[2049 rows x 2 columns]"
            ]
          },
          "metadata": {
            "tags": []
          },
          "execution_count": 174
        }
      ]
    },
    {
      "cell_type": "markdown",
      "metadata": {
        "id": "EMQJl6_HjNJH"
      },
      "source": [
        "### Plot these recommended artists"
      ]
    },
    {
      "cell_type": "code",
      "metadata": {
        "id": "0CrXYYC48VcP"
      },
      "source": [
        "# Template for plotting\n",
        "template = dict(\n",
        "  layout=go.Layout(\n",
        "    title=dict(\n",
        "      x=0.5,\n",
        "      xanchor=\"center\"\n",
        "    )\n",
        "  )\n",
        ")"
      ],
      "execution_count": null,
      "outputs": []
    },
    {
      "cell_type": "code",
      "metadata": {
        "id": "UtqUuQlijMi7"
      },
      "source": [
        "def plot_artists(names_list, scores_list, num_recommendations):\n",
        "\n",
        "  if num_recommendations > len(names_list:):\n",
        "      names = names_list\n",
        "      scores = scores_list\n",
        "  \n",
        "  else:\n",
        "      names = names_list[:num_recommendations]\n",
        "      scores = scores_list[:num_recommendations]\n",
        "\n",
        "  genres = artists.set_index(\"artistName\").loc[names, \"genre\"].tolist()\n",
        "  colours = genre_colours.set_index(\"genre\").loc[genres, \"colour\"].tolist()\n",
        "\n",
        "  data = pd.DataFrame({\"name\": names, \"weight\": scores, \"color\": colours, \"genre\": genres})\n",
        "  fig = go.Figure(go.Bar(dict(\n",
        "    x=data[\"name\"],\n",
        "    y=data[\"weight\"],\n",
        "    marker=dict(\n",
        "        color=data[\"color\"]\n",
        "    ),\n",
        "    hovertemplate=(\n",
        "      \"Artist: %{x}<br>\"\n",
        "      \"Genre: %{text[0]}<br>\"\n",
        "      \"Predicted value: %{y:,.3f} <br>\"\n",
        "    ),\n",
        "    text=data[[\"genre\"]],\n",
        "    name=\"\"\n",
        "  )), layout=dict(\n",
        "      template=template,\n",
        "      yaxis=dict(title=\"Predicted Value\", zeroline=True),\n",
        "      title=dict(text=\"Artist Recommendations for the Given User\"),\n",
        "  ))\n",
        "\n",
        "  fig.show()"
      ],
      "execution_count": null,
      "outputs": []
    },
    {
      "cell_type": "markdown",
      "metadata": {
        "id": "Ae7FMiAOCCFK"
      },
      "source": [
        "The below plot shows an ordered list of the recommended artist for the chosen user. This interactive chart allows you to hover over the bars in the plot for more information.\r\n",
        "You can specify how many recommendations you are given also"
      ]
    },
    {
      "cell_type": "code",
      "metadata": {
        "id": "8bVza_IetJ3l"
      },
      "source": [
        "num_recommendations = 50"
      ],
      "execution_count": null,
      "outputs": []
    },
    {
      "cell_type": "code",
      "metadata": {
        "colab": {
          "base_uri": "https://localhost:8080/",
          "height": 542
        },
        "id": "itJONMAZxuzV",
        "outputId": "b2ee0469-aea9-40b5-9510-74caf5b6e6b4"
      },
      "source": [
        "plot_artists(list_of_songs, list_of_weights, num_recommendations)"
      ],
      "execution_count": null,
      "outputs": [
        {
          "output_type": "display_data",
          "data": {
            "text/html": [
              "<html>\n",
              "<head><meta charset=\"utf-8\" /></head>\n",
              "<body>\n",
              "    <div>\n",
              "            <script src=\"https://cdnjs.cloudflare.com/ajax/libs/mathjax/2.7.5/MathJax.js?config=TeX-AMS-MML_SVG\"></script><script type=\"text/javascript\">if (window.MathJax) {MathJax.Hub.Config({SVG: {font: \"STIX-Web\"}});}</script>\n",
              "                <script type=\"text/javascript\">window.PlotlyConfig = {MathJaxConfig: 'local'};</script>\n",
              "        <script src=\"https://cdn.plot.ly/plotly-latest.min.js\"></script>    \n",
              "            <div id=\"68d81204-caf6-4f49-b233-1ba4e1f15c30\" class=\"plotly-graph-div\" style=\"height:525px; width:100%;\"></div>\n",
              "            <script type=\"text/javascript\">\n",
              "                \n",
              "                    window.PLOTLYENV=window.PLOTLYENV || {};\n",
              "                    \n",
              "                if (document.getElementById(\"68d81204-caf6-4f49-b233-1ba4e1f15c30\")) {\n",
              "                    Plotly.newPlot(\n",
              "                        '68d81204-caf6-4f49-b233-1ba4e1f15c30',\n",
              "                        [{\"hovertemplate\": \"Artist: %{x}<br>Genre: %{text[0]}<br>Predicted value: %{y:,.3f} <br>\", \"marker\": {\"color\": [\"#41812E\", \"#010BB8\", \"#2AA70F\", \"#E71A4A\", \"#720386\", \"#A424FD\", \"#A00F9A\", \"#16D962\", \"#E71A4A\", \"#2AA70F\", \"#342D7E\", \"#B4434D\", \"#2AA70F\", \"#41812E\", \"#D0BB24\", \"#342D7E\", \"#AE8B37\", \"#E71A4A\", \"#342D7E\", \"#D0BB24\", \"#010BB8\", \"#720386\", \"#2AA70F\", \"#A6E537\", \"#2AA70F\", \"#16D962\", \"#41812E\", \"#38126A\", \"#D0BB24\", \"#342D7E\", \"#F9F9F8\", \"#41812E\", \"#A19661\", \"#342D7E\", \"#2AA70F\", \"#2AA70F\", \"#C7E9F3\", \"#E01351\", \"#D30FD9\", \"#D0BB24\", \"#16D962\", \"#C9BCCF\", \"#D0BB24\", \"#69A53D\", \"#D0BB24\", \"#D0BB24\", \"#67E107\", \"#A19661\", \"#691C7A\", \"#A19661\"]}, \"name\": \"\", \"text\": [[\"dance rock\"], [\"beatlesque\"], [\"alternative rock\"], [\"modern rock\"], [\"permanent wave\"], [\"garage rock\"], [\"candy pop\"], [\"dance pop\"], [\"modern rock\"], [\"alternative rock\"], [\"album rock\"], [\"hard rock\"], [\"alternative rock\"], [\"dance rock\"], [\"alternative metal\"], [\"album rock\"], [\"irish rock\"], [\"modern rock\"], [\"album rock\"], [\"alternative metal\"], [\"beatlesque\"], [\"permanent wave\"], [\"alternative rock\"], [\"bow pop\"], [\"alternative rock\"], [\"dance pop\"], [\"dance rock\"], [null], [\"alternative metal\"], [\"album rock\"], [\"classic rock\"], [\"dance rock\"], [\"alternative dance\"], [\"album rock\"], [\"alternative rock\"], [\"alternative rock\"], [\"canadian pop\"], [\"pop\"], [\"pop punk\"], [\"alternative metal\"], [\"dance pop\"], [\"electro\"], [\"alternative metal\"], [\"indie pop\"], [\"alternative metal\"], [\"alternative metal\"], [\"emo\"], [\"alternative dance\"], [\"brighton indie\"], [\"alternative dance\"]], \"type\": \"bar\", \"x\": [\"Depeche Mode\", \"The Beatles\", \"Radiohead\", \"Muse\", \"Coldplay\", \"Arctic Monkeys\", \"Paramore\", \"Lady Gaga\", \"The Killers\", \"Placebo\", \"Pink Floyd\", \"Metallica\", \"Nirvana\", \"The Cure\", \"Linkin Park\", \"Iron Maiden\", \"U2\", \"Kings of Leon\", \"David Bowie\", \"Nine Inch Nails\", \"Oasis\", \"Green Day\", \"Red Hot Chili Peppers\", \"Sigur R\\u00f3s\", \"The Strokes\", \"Madonna\", \"Duran Duran\", \"30 Seconds to Mars\", \"System of a Down\", \"Led Zeppelin\", \"Queen\", \"The Smiths\", \"Bj\\u00f6rk\", \"AC/DC\", \"Joy Division\", \"Franz Ferdinand\", \"Avril Lavigne\", \"Michael Jackson\", \"blink-182\", \"Avenged Sevenfold\", \"Britney Spears\", \"Daft Punk\", \"Foo Fighters\", \"Death Cab for Cutie\", \"Rammstein\", \"Evanescence\", \"My Chemical Romance\", \"Interpol\", \"The Kooks\", \"MGMT\"], \"y\": [0.14682152000423393, 0.1442636209378515, 0.13813052595315461, 0.13284408020473748, 0.09942837980301106, 0.08583365345080601, 0.08400209948758636, 0.07839908880396113, 0.07772134478622966, 0.07753812075100064, 0.0767471193771112, 0.06975976293612202, 0.06645510624518164, 0.06630338099430594, 0.06285788331238185, 0.06140626742528632, 0.06084437940100673, 0.059716042079026865, 0.058336766396017814, 0.05759840134883931, 0.05737221877882687, 0.05651926069779606, 0.0552009977676603, 0.05442644847671951, 0.054089552705704036, 0.05313548247851019, 0.05167167192302358, 0.05158563476170425, 0.050855549233391084, 0.0498194973316094, 0.0495078197836355, 0.04906063584222503, 0.047636600575711396, 0.04684679554705995, 0.045893604669268506, 0.04551366458364675, 0.04508569086514519, 0.044367074129997075, 0.04434210528368121, 0.043875568772660634, 0.04384800932703764, 0.04145450172992482, 0.041356599028271546, 0.0413565344234067, 0.04002061904609139, 0.039672158579361516, 0.03954200192994106, 0.03930354393545554, 0.03922164000270428, 0.03887692405536086]}],\n",
              "                        {\"template\": {\"layout\": {\"title\": {\"x\": 0.5, \"xanchor\": \"center\"}}}, \"title\": {\"text\": \"Artist Recommendations for the Given User\"}, \"yaxis\": {\"title\": {\"text\": \"Predicted Value\"}, \"zeroline\": true}},\n",
              "                        {\"responsive\": true}\n",
              "                    ).then(function(){\n",
              "                            \n",
              "var gd = document.getElementById('68d81204-caf6-4f49-b233-1ba4e1f15c30');\n",
              "var x = new MutationObserver(function (mutations, observer) {{\n",
              "        var display = window.getComputedStyle(gd).display;\n",
              "        if (!display || display === 'none') {{\n",
              "            console.log([gd, 'removed!']);\n",
              "            Plotly.purge(gd);\n",
              "            observer.disconnect();\n",
              "        }}\n",
              "}});\n",
              "\n",
              "// Listen for the removal of the full notebook cells\n",
              "var notebookContainer = gd.closest('#notebook-container');\n",
              "if (notebookContainer) {{\n",
              "    x.observe(notebookContainer, {childList: true});\n",
              "}}\n",
              "\n",
              "// Listen for the clearing of the current output cell\n",
              "var outputEl = gd.closest('.output');\n",
              "if (outputEl) {{\n",
              "    x.observe(outputEl, {childList: true});\n",
              "}}\n",
              "\n",
              "                        })\n",
              "                };\n",
              "                \n",
              "            </script>\n",
              "        </div>\n",
              "</body>\n",
              "</html>"
            ]
          },
          "metadata": {
            "tags": []
          }
        }
      ]
    },
    {
      "cell_type": "code",
      "metadata": {
        "id": "Qm_AxCPDHVNw"
      },
      "source": [
        ""
      ],
      "execution_count": null,
      "outputs": []
    }
  ]
}
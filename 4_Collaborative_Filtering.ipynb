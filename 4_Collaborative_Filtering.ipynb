{
  "nbformat": 4,
  "nbformat_minor": 0,
  "metadata": {
    "colab": {
      "name": "4 - Collaborative Filtering",
      "provenance": [],
      "collapsed_sections": [
        "YfrjELX4cTlS",
        "AG2XBy8EcMKs",
        "D8NK3aeBc1Rn",
        "ewv_FzzNSX8k",
        "8499Eo-oX2Qr",
        "bYoLG66sX53w",
        "GQrLW2csX-At",
        "nA_kIVl6dQve",
        "OvQoYYMt8XQ2",
        "vKDqCQcJ8Zxh",
        "KSdtsRSb8ear",
        "uWnjlzLg3BQr",
        "Im8isN8z3N8m",
        "yDsqoElM3XS7",
        "KFpjcNe-GStk",
        "nY19axJFpZ7A",
        "f1KWoZIWpcoE"
      ]
    },
    "kernelspec": {
      "display_name": "Python 3",
      "name": "python3"
    }
  },
  "cells": [
    {
      "cell_type": "markdown",
      "metadata": {
        "id": "YfrjELX4cTlS"
      },
      "source": [
        "---\r\n",
        "---\r\n",
        "\r\n",
        "# 1. Setup\r\n",
        "\r\n",
        "---\r\n",
        "---"
      ]
    },
    {
      "cell_type": "markdown",
      "metadata": {
        "id": "AG2XBy8EcMKs"
      },
      "source": [
        "### Imports"
      ]
    },
    {
      "cell_type": "code",
      "metadata": {
        "id": "W4oMtIUwcqGC"
      },
      "source": [
        "import random\n",
        "import os\n",
        "import ast\n",
        "\n",
        "from google.colab import drive\n",
        "\n",
        "import pandas as pd\n",
        "import numpy as np\n",
        "import tensorflow as tf\n",
        "from sklearn.model_selection import train_test_split\n",
        "\n",
        "import plotly as ply\n",
        "import plotly.express as px\n",
        "import plotly.graph_objects as go\n",
        "import seaborn as sn\n",
        "import matplotlib.pyplot as plt\n",
        "import umap\n",
        "\n",
        "from scipy import stats"
      ],
      "execution_count": null,
      "outputs": []
    },
    {
      "cell_type": "markdown",
      "metadata": {
        "id": "D8NK3aeBc1Rn"
      },
      "source": [
        "### Mount the drive"
      ]
    },
    {
      "cell_type": "code",
      "metadata": {
        "colab": {
          "base_uri": "https://localhost:8080/"
        },
        "id": "JtpHJzUbSAUq",
        "outputId": "3ba805db-8230-41fd-ebb7-710aa0038a90"
      },
      "source": [
        "drive.mount(\"/content/drive\")"
      ],
      "execution_count": null,
      "outputs": [
        {
          "output_type": "stream",
          "text": [
            "Drive already mounted at /content/drive; to attempt to forcibly remount, call drive.mount(\"/content/drive\", force_remount=True).\n"
          ],
          "name": "stdout"
        }
      ]
    },
    {
      "cell_type": "code",
      "metadata": {
        "id": "YhbG5SDHQ96a"
      },
      "source": [
        "os.chdir(\"/content/drive/MyDrive/ca4015_assignment4/data\")"
      ],
      "execution_count": null,
      "outputs": []
    },
    {
      "cell_type": "markdown",
      "metadata": {
        "id": "ewv_FzzNSX8k"
      },
      "source": [
        "---\r\n",
        "---\r\n",
        "\r\n",
        "# 2. Read in data\r\n",
        "\r\n",
        "---\r\n",
        "---"
      ]
    },
    {
      "cell_type": "markdown",
      "metadata": {
        "id": "4MkUTL9op_pw"
      },
      "source": [
        "For the collaborative filtering (CF) system, the important data is the interaction between user and artist. Since all of our data is merged together, we split it into the needed dataframes:\n",
        "- artists: contains detailed information for each artist, such as name, genres, and link to an image for them.  \n",
        "- listening: Contains user-artist pairs with the amount of time each user has listened to the artist.  "
      ]
    },
    {
      "cell_type": "markdown",
      "metadata": {
        "id": "8499Eo-oX2Qr"
      },
      "source": [
        "##### Read in the full dataset"
      ]
    },
    {
      "cell_type": "code",
      "metadata": {
        "colab": {
          "base_uri": "https://localhost:8080/"
        },
        "id": "tD6a8tDKfIq-",
        "outputId": "84a5190a-3214-428b-f532-38c1d6559473"
      },
      "source": [
        "df = pd.read_csv(\"processed_data/original_and_spotify_data (1).csv\")"
      ],
      "execution_count": null,
      "outputs": [
        {
          "output_type": "stream",
          "text": [
            "/usr/local/lib/python3.6/dist-packages/IPython/core/interactiveshell.py:2718: DtypeWarning:\n",
            "\n",
            "Columns (4,8,9,10,11) have mixed types.Specify dtype option on import or set low_memory=False.\n",
            "\n"
          ],
          "name": "stderr"
        }
      ]
    },
    {
      "cell_type": "code",
      "metadata": {
        "colab": {
          "base_uri": "https://localhost:8080/",
          "height": 310
        },
        "id": "CYFZyMiagrvK",
        "outputId": "e9964318-eecd-4856-d4ce-09f78e1a4386"
      },
      "source": [
        "df.sample(5)"
      ],
      "execution_count": null,
      "outputs": [
        {
          "output_type": "execute_result",
          "data": {
            "text/html": [
              "<div>\n",
              "<style scoped>\n",
              "    .dataframe tbody tr th:only-of-type {\n",
              "        vertical-align: middle;\n",
              "    }\n",
              "\n",
              "    .dataframe tbody tr th {\n",
              "        vertical-align: top;\n",
              "    }\n",
              "\n",
              "    .dataframe thead th {\n",
              "        text-align: right;\n",
              "    }\n",
              "</style>\n",
              "<table border=\"1\" class=\"dataframe\">\n",
              "  <thead>\n",
              "    <tr style=\"text-align: right;\">\n",
              "      <th></th>\n",
              "      <th>userID</th>\n",
              "      <th>artistID</th>\n",
              "      <th>artistWeight</th>\n",
              "      <th>friendID</th>\n",
              "      <th>artistName</th>\n",
              "      <th>tagID</th>\n",
              "      <th>timestamp</th>\n",
              "      <th>tagValue</th>\n",
              "      <th>spotifyName</th>\n",
              "      <th>imageUrl</th>\n",
              "      <th>genres</th>\n",
              "      <th>spotifyUrl</th>\n",
              "    </tr>\n",
              "  </thead>\n",
              "  <tbody>\n",
              "    <tr>\n",
              "      <th>981588</th>\n",
              "      <td>757</td>\n",
              "      <td>701</td>\n",
              "      <td>169596.0</td>\n",
              "      <td>378.0</td>\n",
              "      <td>Shakira</td>\n",
              "      <td>2700.0</td>\n",
              "      <td>2010-11-30 23:00:00.000</td>\n",
              "      <td>best</td>\n",
              "      <td>Shakira</td>\n",
              "      <td>https://i.scdn.co/image/93e6b100a00437a05f57aa...</td>\n",
              "      <td>['colombian pop', 'dance pop', 'latin', 'latin...</td>\n",
              "      <td>https://open.spotify.com/artist/0EmeFodog0BfCg...</td>\n",
              "    </tr>\n",
              "    <tr>\n",
              "      <th>1809217</th>\n",
              "      <td>359</td>\n",
              "      <td>6064</td>\n",
              "      <td>448.0</td>\n",
              "      <td>643.0</td>\n",
              "      <td>Nena</td>\n",
              "      <td>16.0</td>\n",
              "      <td>2006-07-31 22:00:00.000</td>\n",
              "      <td>new wave</td>\n",
              "      <td>Nena</td>\n",
              "      <td>https://i.scdn.co/image/3dc7f7f65c39a37380bfd7...</td>\n",
              "      <td>['german pop', 'german rock', 'new wave pop']</td>\n",
              "      <td>https://open.spotify.com/artist/6Tz0QRoe083BcO...</td>\n",
              "    </tr>\n",
              "    <tr>\n",
              "      <th>1946076</th>\n",
              "      <td>761</td>\n",
              "      <td>9863</td>\n",
              "      <td>260.0</td>\n",
              "      <td>1054.0</td>\n",
              "      <td>Tones on Tail</td>\n",
              "      <td>NaN</td>\n",
              "      <td>NaN</td>\n",
              "      <td>NaN</td>\n",
              "      <td>Tones On Tail</td>\n",
              "      <td>https://i.scdn.co/image/ab67616d0000b273768d2a...</td>\n",
              "      <td>['dance rock', 'dark wave', 'gothic rock', 'in...</td>\n",
              "      <td>https://open.spotify.com/artist/5aBEGOeWQCJfpt...</td>\n",
              "    </tr>\n",
              "    <tr>\n",
              "      <th>1924721</th>\n",
              "      <td>949</td>\n",
              "      <td>8684</td>\n",
              "      <td>1033.0</td>\n",
              "      <td>203.0</td>\n",
              "      <td>Broadway</td>\n",
              "      <td>NaN</td>\n",
              "      <td>NaN</td>\n",
              "      <td>NaN</td>\n",
              "      <td>Newsies Original Broadway Cast</td>\n",
              "      <td>NaN</td>\n",
              "      <td>['broadway', 'show tunes']</td>\n",
              "      <td>https://open.spotify.com/artist/6yTc5YHDriVSWY...</td>\n",
              "    </tr>\n",
              "    <tr>\n",
              "      <th>2106215</th>\n",
              "      <td>1745</td>\n",
              "      <td>9943</td>\n",
              "      <td>453.0</td>\n",
              "      <td>249.0</td>\n",
              "      <td>Vanna</td>\n",
              "      <td>NaN</td>\n",
              "      <td>NaN</td>\n",
              "      <td>NaN</td>\n",
              "      <td>Vanna</td>\n",
              "      <td>https://i.scdn.co/image/b3532e54ad75d18b7951cb...</td>\n",
              "      <td>['melodic hardcore', 'melodic metalcore', 'met...</td>\n",
              "      <td>https://open.spotify.com/artist/7cXUCar1BPOeMI...</td>\n",
              "    </tr>\n",
              "  </tbody>\n",
              "</table>\n",
              "</div>"
            ],
            "text/plain": [
              "         userID  ...                                         spotifyUrl\n",
              "981588      757  ...  https://open.spotify.com/artist/0EmeFodog0BfCg...\n",
              "1809217     359  ...  https://open.spotify.com/artist/6Tz0QRoe083BcO...\n",
              "1946076     761  ...  https://open.spotify.com/artist/5aBEGOeWQCJfpt...\n",
              "1924721     949  ...  https://open.spotify.com/artist/6yTc5YHDriVSWY...\n",
              "2106215    1745  ...  https://open.spotify.com/artist/7cXUCar1BPOeMI...\n",
              "\n",
              "[5 rows x 12 columns]"
            ]
          },
          "metadata": {
            "tags": []
          },
          "execution_count": 25
        }
      ]
    },
    {
      "cell_type": "markdown",
      "metadata": {
        "id": "bYoLG66sX53w"
      },
      "source": [
        "##### Get the artists columns"
      ]
    },
    {
      "cell_type": "code",
      "metadata": {
        "colab": {
          "base_uri": "https://localhost:8080/",
          "height": 424
        },
        "id": "H51KJ71OeRRu",
        "outputId": "15091b62-81f6-42c7-ec50-3526a1b259b2"
      },
      "source": [
        "artists = df[[\"artistID\", \"artistName\", \"imageUrl\", \"spotifyUrl\", \"genres\"]] \\\n",
        ".drop_duplicates().dropna(subset=[\"artistName\"]) \\\n",
        ".sort_values(\"artistID\").reset_index(drop=True)\n",
        "\n",
        "artists[\"genres\"] = artists[\"genres\"].apply(ast.literal_eval)\n",
        "artists[\"genre\"] = artists[\"genres\"].apply(lambda x: x[0] if len(x) > 0 else None)\n",
        "artists"
      ],
      "execution_count": null,
      "outputs": [
        {
          "output_type": "execute_result",
          "data": {
            "text/html": [
              "<div>\n",
              "<style scoped>\n",
              "    .dataframe tbody tr th:only-of-type {\n",
              "        vertical-align: middle;\n",
              "    }\n",
              "\n",
              "    .dataframe tbody tr th {\n",
              "        vertical-align: top;\n",
              "    }\n",
              "\n",
              "    .dataframe thead th {\n",
              "        text-align: right;\n",
              "    }\n",
              "</style>\n",
              "<table border=\"1\" class=\"dataframe\">\n",
              "  <thead>\n",
              "    <tr style=\"text-align: right;\">\n",
              "      <th></th>\n",
              "      <th>artistID</th>\n",
              "      <th>artistName</th>\n",
              "      <th>imageUrl</th>\n",
              "      <th>spotifyUrl</th>\n",
              "      <th>genres</th>\n",
              "      <th>genre</th>\n",
              "    </tr>\n",
              "  </thead>\n",
              "  <tbody>\n",
              "    <tr>\n",
              "      <th>0</th>\n",
              "      <td>1</td>\n",
              "      <td>MALICE MIZER</td>\n",
              "      <td>NaN</td>\n",
              "      <td>NaN</td>\n",
              "      <td>[]</td>\n",
              "      <td>None</td>\n",
              "    </tr>\n",
              "    <tr>\n",
              "      <th>1</th>\n",
              "      <td>2</td>\n",
              "      <td>Diary of Dreams</td>\n",
              "      <td>https://i.scdn.co/image/d1541238b711b8ca7aca43...</td>\n",
              "      <td>https://open.spotify.com/artist/1tg5jMp8FFjVqj...</td>\n",
              "      <td>[dark wave, ebm, electro-industrial, ethereal ...</td>\n",
              "      <td>dark wave</td>\n",
              "    </tr>\n",
              "    <tr>\n",
              "      <th>2</th>\n",
              "      <td>3</td>\n",
              "      <td>Carpathian Forest</td>\n",
              "      <td>https://i.scdn.co/image/ab67616d0000b273e5e56d...</td>\n",
              "      <td>https://open.spotify.com/artist/0sFntmE9T1tiF6...</td>\n",
              "      <td>[black metal, dark black metal, metal, norwegi...</td>\n",
              "      <td>black metal</td>\n",
              "    </tr>\n",
              "    <tr>\n",
              "      <th>3</th>\n",
              "      <td>4</td>\n",
              "      <td>Moi dix Mois</td>\n",
              "      <td>NaN</td>\n",
              "      <td>NaN</td>\n",
              "      <td>[]</td>\n",
              "      <td>None</td>\n",
              "    </tr>\n",
              "    <tr>\n",
              "      <th>4</th>\n",
              "      <td>5</td>\n",
              "      <td>Bella Morte</td>\n",
              "      <td>https://i.scdn.co/image/24df6d7abf75759f89bda2...</td>\n",
              "      <td>https://open.spotify.com/artist/2SyimynlSU0Oii...</td>\n",
              "      <td>[dark wave, ethereal wave, gothic rock]</td>\n",
              "      <td>dark wave</td>\n",
              "    </tr>\n",
              "    <tr>\n",
              "      <th>...</th>\n",
              "      <td>...</td>\n",
              "      <td>...</td>\n",
              "      <td>...</td>\n",
              "      <td>...</td>\n",
              "      <td>...</td>\n",
              "      <td>...</td>\n",
              "    </tr>\n",
              "    <tr>\n",
              "      <th>17627</th>\n",
              "      <td>18741</td>\n",
              "      <td>Diamanda Galás</td>\n",
              "      <td>https://i.scdn.co/image/9af3e7aeaf26ad28166111...</td>\n",
              "      <td>https://open.spotify.com/artist/42AURgCa94xz79...</td>\n",
              "      <td>[experimental, experimental vocal, industrial,...</td>\n",
              "      <td>experimental</td>\n",
              "    </tr>\n",
              "    <tr>\n",
              "      <th>17628</th>\n",
              "      <td>18742</td>\n",
              "      <td>Aya RL</td>\n",
              "      <td>https://i.scdn.co/image/ab67616d0000b27327c22a...</td>\n",
              "      <td>https://open.spotify.com/artist/3qZ0S1nVG3Pcct...</td>\n",
              "      <td>[polish post-punk, polish punk, polish rock]</td>\n",
              "      <td>polish post-punk</td>\n",
              "    </tr>\n",
              "    <tr>\n",
              "      <th>17629</th>\n",
              "      <td>18743</td>\n",
              "      <td>Coptic Rain</td>\n",
              "      <td>https://i.scdn.co/image/ab67616d0000b273a980dc...</td>\n",
              "      <td>https://open.spotify.com/artist/3GrTeFVsVk1fKB...</td>\n",
              "      <td>[]</td>\n",
              "      <td>None</td>\n",
              "    </tr>\n",
              "    <tr>\n",
              "      <th>17630</th>\n",
              "      <td>18744</td>\n",
              "      <td>Oz Alchemist</td>\n",
              "      <td>https://i.scdn.co/image/0b62352c054083afecc922...</td>\n",
              "      <td>https://open.spotify.com/artist/7tt8Fc1yW2t9SC...</td>\n",
              "      <td>[]</td>\n",
              "      <td>None</td>\n",
              "    </tr>\n",
              "    <tr>\n",
              "      <th>17631</th>\n",
              "      <td>18745</td>\n",
              "      <td>Grzegorz Tomczak</td>\n",
              "      <td>https://i.scdn.co/image/ab67616d0000b273bef98d...</td>\n",
              "      <td>https://open.spotify.com/artist/5mD6kYGunhNFZf...</td>\n",
              "      <td>[classic polish pop, poezja spiewana]</td>\n",
              "      <td>classic polish pop</td>\n",
              "    </tr>\n",
              "  </tbody>\n",
              "</table>\n",
              "<p>17632 rows × 6 columns</p>\n",
              "</div>"
            ],
            "text/plain": [
              "       artistID  ...               genre\n",
              "0             1  ...                None\n",
              "1             2  ...           dark wave\n",
              "2             3  ...         black metal\n",
              "3             4  ...                None\n",
              "4             5  ...           dark wave\n",
              "...         ...  ...                 ...\n",
              "17627     18741  ...        experimental\n",
              "17628     18742  ...    polish post-punk\n",
              "17629     18743  ...                None\n",
              "17630     18744  ...                None\n",
              "17631     18745  ...  classic polish pop\n",
              "\n",
              "[17632 rows x 6 columns]"
            ]
          },
          "metadata": {
            "tags": []
          },
          "execution_count": 28
        }
      ]
    },
    {
      "cell_type": "markdown",
      "metadata": {
        "id": "GQrLW2csX-At"
      },
      "source": [
        "##### Get the listening columns"
      ]
    },
    {
      "cell_type": "code",
      "metadata": {
        "colab": {
          "base_uri": "https://localhost:8080/",
          "height": 424
        },
        "id": "z3jEw-HDgRWO",
        "outputId": "855045a4-d922-4c1e-d239-c84009a1b1bc"
      },
      "source": [
        "listening = df[[\"userID\", \"artistID\", \"artistWeight\"]].drop_duplicates().dropna().astype(int).sort_values([\"userID\", \"artistID\"]).reset_index(drop=True)\n",
        "listening"
      ],
      "execution_count": null,
      "outputs": [
        {
          "output_type": "execute_result",
          "data": {
            "text/html": [
              "<div>\n",
              "<style scoped>\n",
              "    .dataframe tbody tr th:only-of-type {\n",
              "        vertical-align: middle;\n",
              "    }\n",
              "\n",
              "    .dataframe tbody tr th {\n",
              "        vertical-align: top;\n",
              "    }\n",
              "\n",
              "    .dataframe thead th {\n",
              "        text-align: right;\n",
              "    }\n",
              "</style>\n",
              "<table border=\"1\" class=\"dataframe\">\n",
              "  <thead>\n",
              "    <tr style=\"text-align: right;\">\n",
              "      <th></th>\n",
              "      <th>userID</th>\n",
              "      <th>artistID</th>\n",
              "      <th>artistWeight</th>\n",
              "    </tr>\n",
              "  </thead>\n",
              "  <tbody>\n",
              "    <tr>\n",
              "      <th>0</th>\n",
              "      <td>2</td>\n",
              "      <td>51</td>\n",
              "      <td>13883</td>\n",
              "    </tr>\n",
              "    <tr>\n",
              "      <th>1</th>\n",
              "      <td>2</td>\n",
              "      <td>52</td>\n",
              "      <td>11690</td>\n",
              "    </tr>\n",
              "    <tr>\n",
              "      <th>2</th>\n",
              "      <td>2</td>\n",
              "      <td>53</td>\n",
              "      <td>11351</td>\n",
              "    </tr>\n",
              "    <tr>\n",
              "      <th>3</th>\n",
              "      <td>2</td>\n",
              "      <td>54</td>\n",
              "      <td>10300</td>\n",
              "    </tr>\n",
              "    <tr>\n",
              "      <th>4</th>\n",
              "      <td>2</td>\n",
              "      <td>55</td>\n",
              "      <td>8983</td>\n",
              "    </tr>\n",
              "    <tr>\n",
              "      <th>...</th>\n",
              "      <td>...</td>\n",
              "      <td>...</td>\n",
              "      <td>...</td>\n",
              "    </tr>\n",
              "    <tr>\n",
              "      <th>92829</th>\n",
              "      <td>2100</td>\n",
              "      <td>18726</td>\n",
              "      <td>337</td>\n",
              "    </tr>\n",
              "    <tr>\n",
              "      <th>92830</th>\n",
              "      <td>2100</td>\n",
              "      <td>18727</td>\n",
              "      <td>297</td>\n",
              "    </tr>\n",
              "    <tr>\n",
              "      <th>92831</th>\n",
              "      <td>2100</td>\n",
              "      <td>18728</td>\n",
              "      <td>281</td>\n",
              "    </tr>\n",
              "    <tr>\n",
              "      <th>92832</th>\n",
              "      <td>2100</td>\n",
              "      <td>18729</td>\n",
              "      <td>280</td>\n",
              "    </tr>\n",
              "    <tr>\n",
              "      <th>92833</th>\n",
              "      <td>2100</td>\n",
              "      <td>18730</td>\n",
              "      <td>263</td>\n",
              "    </tr>\n",
              "  </tbody>\n",
              "</table>\n",
              "<p>92834 rows × 3 columns</p>\n",
              "</div>"
            ],
            "text/plain": [
              "       userID  artistID  artistWeight\n",
              "0           2        51         13883\n",
              "1           2        52         11690\n",
              "2           2        53         11351\n",
              "3           2        54         10300\n",
              "4           2        55          8983\n",
              "...       ...       ...           ...\n",
              "92829    2100     18726           337\n",
              "92830    2100     18727           297\n",
              "92831    2100     18728           281\n",
              "92832    2100     18729           280\n",
              "92833    2100     18730           263\n",
              "\n",
              "[92834 rows x 3 columns]"
            ]
          },
          "metadata": {
            "tags": []
          },
          "execution_count": 29
        }
      ]
    },
    {
      "cell_type": "code",
      "metadata": {
        "colab": {
          "base_uri": "https://localhost:8080/"
        },
        "id": "EBQXOItEsTcl",
        "outputId": "f2824274-c939-45d4-dbf3-6b550fbf671f"
      },
      "source": [
        "num_users = listening[\"userID\"].max() + 1\n",
        "num_artists = listening[\"artistID\"].max() + 1\n",
        "\n",
        "print(\"Number of unique users:\", num_users)\n",
        "print(\"Number of unique artists:\", num_artists)\n",
        "print(f\"Data density: {len(listening) / (num_users * num_artists):.2%}\")"
      ],
      "execution_count": null,
      "outputs": [
        {
          "output_type": "stream",
          "text": [
            "Number of unique users: 2101\n",
            "Number of unique artists: 18746\n",
            "Data density: 0.24%\n"
          ],
          "name": "stdout"
        }
      ]
    },
    {
      "cell_type": "markdown",
      "metadata": {
        "id": "nA_kIVl6dQve"
      },
      "source": [
        "---\n",
        "---\n",
        "# 3. Building the Training Dataset\n",
        "---\n",
        "---"
      ]
    },
    {
      "cell_type": "markdown",
      "metadata": {
        "id": "ULl0Jo8Qq9lI"
      },
      "source": [
        "To train our CF model, we need to manipulate the data we have a bit. Currenttly, we have our data in long format, with each row representing a user-artist pair. We need to convert this into a wide format where each row represents a user, and each column an artist. The values in each cell will be the listening time.  \n",
        "The data is extremely sparse, with less than a quarter of a percent of the possible user-artist pairs existing. If we stored this normally in wide format, we would have to store every single combination with the majority having a value of 0. To make this more efficient, we use a SparseTensor from the Tensorflow library. This stores the data in long format, but lets us do matrix operations as if it was in wide format by assuming that any pair not in the data has a value of 0."
      ]
    },
    {
      "cell_type": "code",
      "metadata": {
        "id": "1VBE87uNzEHz"
      },
      "source": [
        "def split_users(df, split=0.7):\n",
        "    users = df[\"userID\"].unique()\n",
        "\n",
        "    train_users, test_users = train_test_split(users, train_size=split)\n",
        "\n",
        "    return df[df[\"userID\"].isin(train_users)], df[~df[\"userID\"].isin(train_users)]"
      ],
      "execution_count": null,
      "outputs": []
    },
    {
      "cell_type": "code",
      "metadata": {
        "id": "4fZSxp7xfPl4"
      },
      "source": [
        "def build_sparse(df, idx_cols, val_col):\n",
        "    return tf.SparseTensor(df[idx_cols].values,\n",
        "                          df[val_col].values,\n",
        "                          tuple(df[c].max() + 1 for c in idx_cols) \n",
        "                          )"
      ],
      "execution_count": null,
      "outputs": []
    },
    {
      "cell_type": "code",
      "metadata": {
        "id": "41cgEVxMeAjI"
      },
      "source": [
        "listening_tensor = build_sparse(listening, [\"userID\", \"artistID\"], \"artistWeight\")"
      ],
      "execution_count": null,
      "outputs": []
    },
    {
      "cell_type": "code",
      "metadata": {
        "colab": {
          "base_uri": "https://localhost:8080/"
        },
        "id": "3aYGLDZcemUZ",
        "outputId": "1b3da3aa-7a11-493b-8272-6c4aa7f9bf65"
      },
      "source": [
        "print(\"Shape of sparse tensor:\", listening_tensor.shape.as_list())\n",
        "print(\"Number of values stored:\", listening_tensor.values.shape.as_list())"
      ],
      "execution_count": null,
      "outputs": [
        {
          "output_type": "stream",
          "text": [
            "Shape of sparse tensor: [2101, 18746]\n",
            "Number of values stored: [92834]\n"
          ],
          "name": "stdout"
        }
      ]
    },
    {
      "cell_type": "code",
      "metadata": {
        "id": "RH4Gm7YgEuTu"
      },
      "source": [
        "# Normalise by user, 1=most listened to artist\n",
        "listening_tensor /= tf.sparse.reduce_max(listening_tensor, axis=1, keepdims=True)"
      ],
      "execution_count": null,
      "outputs": []
    },
    {
      "cell_type": "markdown",
      "metadata": {
        "id": "OvQoYYMt8XQ2"
      },
      "source": [
        "---\n",
        "---\n",
        "# 4. User and Artist Embeddings\n",
        "---\n",
        "---"
      ]
    },
    {
      "cell_type": "markdown",
      "metadata": {
        "id": "UTfJJKz4vPdS"
      },
      "source": [
        "The CF model learns to create two sets of embeddings from our sparse data; one for users and one for artists. "
      ]
    },
    {
      "cell_type": "code",
      "metadata": {
        "id": "ujlAbMMgpaBo"
      },
      "source": [
        "def create_embeddings(sparse_data: tf.SparseTensor, embedding_dim=8, init=\"zeros\"):\n",
        "  \n",
        "    # How to initialise the embedding values\n",
        "    if init == \"zeros\":\n",
        "        vals = tf.zeros_initializer()\n",
        "\n",
        "    elif init == \"random\":\n",
        "        vals = tf.random_normal_initializer()\n",
        "\n",
        "    embeddings = []\n",
        "    for data_dim in sparse_data.shape:\n",
        "        embeddings.append(tf.Variable(vals([data_dim, embedding_dim]), trainable=True))\n",
        "\n",
        "    return embeddings"
      ],
      "execution_count": null,
      "outputs": []
    },
    {
      "cell_type": "code",
      "metadata": {
        "colab": {
          "base_uri": "https://localhost:8080/"
        },
        "id": "BRqBLqSHew-v",
        "cellView": "form",
        "outputId": "996498c8-6211-46fb-e7c2-45b9e61b17f6"
      },
      "source": [
        "#@title Initalise the embeddings\n",
        "embedding_size = 7 #@param {type:\"slider\", min:1, max:100, step:1}\n",
        "embedding_init = \"random\" #@param [\"random\", \"zeros\"]\n",
        "\n",
        "user_embedding, artist_embedding = create_embeddings(listening_tensor, embedding_size, embedding_init)\n",
        "\n",
        "print(\"User embedding shape:\", user_embedding.shape.as_list())\n",
        "print(\"Artist embedding shape:\", artist_embedding.shape.as_list())"
      ],
      "execution_count": null,
      "outputs": [
        {
          "output_type": "stream",
          "text": [
            "User embedding shape: [2101, 8]\n",
            "Artist embedding shape: [18746, 8]\n"
          ],
          "name": "stdout"
        }
      ]
    },
    {
      "cell_type": "markdown",
      "metadata": {
        "id": "vKDqCQcJ8Zxh"
      },
      "source": [
        "---\n",
        "---\n",
        "# 5. Matrix Factorisation\n",
        "---\n",
        "---"
      ]
    },
    {
      "cell_type": "markdown",
      "metadata": {
        "id": "vGlgZM5awnYh"
      },
      "source": [
        "Matrix factorisation works by trying to learn the two smaller matrices that a larger matrix decomposes into. In our case we are trying to decompose our sparse data matrix $S$ into two embedding matrices $U$ and $A$ such that:\n",
        "\n",
        "$$S = UA^T$$\n",
        "\n",
        "To do that, we minimise the squared error between our re-composed matrix $UA^T$ and our ground truth matrix $S$:\n",
        "\n",
        "$$\\underset{U, A}{argmin} \\sum (S - UA^T)^{\\circ 2}$$"
      ]
    },
    {
      "cell_type": "code",
      "metadata": {
        "id": "6zwq38ARseqU"
      },
      "source": [
        "def mse_loss(sparse_data: tf.SparseTensor, embeddings):\n",
        "    # Mean squared error\n",
        "    logits = tf.gather(embeddings[0], sparse_data.indices[:, 0])\n",
        "    for i in range(1, len(embeddings)):\n",
        "        logits *= tf.gather(embeddings[i], sparse_data.indices[:, i])\n",
        "\n",
        "    predictions = tf.reduce_sum(logits, axis=1)\n",
        "\n",
        "    loss = tf.losses.mean_squared_error(sparse_data.values, predictions)\n",
        "\n",
        "    return loss"
      ],
      "execution_count": null,
      "outputs": []
    },
    {
      "cell_type": "code",
      "metadata": {
        "id": "lrKNuO6OyeBh"
      },
      "source": [
        "def train_step(sparse_data: tf.SparseTensor, embeddings: list, optimiser: tf.optimizers.Optimizer):\n",
        "    # Compute the loss\n",
        "    with tf.GradientTape() as t:\n",
        "       loss = mse_loss(sparse_data, embeddings)\n",
        "\n",
        "    # Compute gradient\n",
        "    grads = t.gradient(loss, embeddings)\n",
        "    \n",
        "    # Update embeddings\n",
        "    optimiser.apply_gradients(zip(grads, embeddings))\n",
        "\n",
        "    return loss.numpy()"
      ],
      "execution_count": null,
      "outputs": []
    },
    {
      "cell_type": "code",
      "metadata": {
        "colab": {
          "base_uri": "https://localhost:8080/"
        },
        "id": "-az22Es_zK9k",
        "cellView": "form",
        "outputId": "e1d93791-f636-4ec1-9ece-7df19c747162"
      },
      "source": [
        "#@title Train the CF model\n",
        "epochs =  1000#@param {type:\"integer\"}\n",
        "\n",
        "opt = tf.optimizers.Adam(learning_rate=0.001)\n",
        "losses = []\n",
        "for i in range(epochs):\n",
        "  loss = train_step(listening_tensor, [user_embedding, artist_embedding], opt)\n",
        "  losses.append(loss)\n",
        "\n",
        "  print(\"\\r\", i + 1, \"/\", epochs, \"loss:\", loss, end=\"\", flush=True)"
      ],
      "execution_count": null,
      "outputs": [
        {
          "output_type": "stream",
          "text": [
            " 1000 / 1000 loss: 0.009802196"
          ],
          "name": "stdout"
        }
      ]
    },
    {
      "cell_type": "code",
      "metadata": {
        "colab": {
          "base_uri": "https://localhost:8080/",
          "height": 468
        },
        "id": "UuiJ4SPOyYtR",
        "outputId": "286c315e-a517-4429-cac5-a29b022a5fbf"
      },
      "source": [
        "plt.subplots(figsize=(10, 7))\n",
        "plt.plot(losses)\n",
        "plt.title(\"Training Loss for CF Model\", fontsize=20)\n",
        "plt.xlabel(\"Epoch\", fontsize=16)\n",
        "plt.ylabel(\"Mean Squared Error\", fontsize=16)\n",
        "plt.show()"
      ],
      "execution_count": null,
      "outputs": [
        {
          "output_type": "display_data",
          "data": {
            "image/png": "[encoded data removed]",
            "text/plain": [
              "<Figure size 720x504 with 1 Axes>"
            ]
          },
          "metadata": {
            "tags": [],
            "needs_background": "light"
          }
        }
      ]
    },
    {
      "cell_type": "markdown",
      "metadata": {
        "id": "KSdtsRSb8ear"
      },
      "source": [
        "---\n",
        "---\n",
        "# 6. Generating Recommendations\n",
        "---\n",
        "---"
      ]
    },
    {
      "cell_type": "markdown",
      "metadata": {
        "id": "GC3Cz_vT1gpv"
      },
      "source": [
        "Unfortunately, the collaborative filtering approach does not allow for new inputs to the system, as it must have built embeddings for both user and artist. However, we can generate recommendations for users of songs they have not listened to before.  "
      ]
    },
    {
      "cell_type": "markdown",
      "metadata": {
        "id": "uWnjlzLg3BQr"
      },
      "source": [
        "### Prepare artist genres"
      ]
    },
    {
      "cell_type": "code",
      "metadata": {
        "id": "4u55APdrjA4n"
      },
      "source": [
        "def random_colour():\n",
        "    return \"#\" + \"\".join([random.choice(\"0123456789ABCDEF\") for j in range(6)])"
      ],
      "execution_count": null,
      "outputs": []
    },
    {
      "cell_type": "code",
      "metadata": {
        "colab": {
          "base_uri": "https://localhost:8080/",
          "height": 424
        },
        "id": "mgsMFJ0QiuRI",
        "outputId": "86dd79d5-aa48-48f2-860d-583e8db1f94f"
      },
      "source": [
        "# Assign colours to each genre\n",
        "unique_genres = artists[\"genre\"].unique()\n",
        "colours  = [random_colour() for _ in range(len(unique_genres))]\n",
        "\n",
        "genre_colours = pd.DataFrame({\n",
        "    \"genre\": unique_genres,\n",
        "    \"colour\": colours\n",
        "})\n",
        "\n",
        "genre_colours"
      ],
      "execution_count": null,
      "outputs": [
        {
          "output_type": "execute_result",
          "data": {
            "text/html": [
              "<div>\n",
              "<style scoped>\n",
              "    .dataframe tbody tr th:only-of-type {\n",
              "        vertical-align: middle;\n",
              "    }\n",
              "\n",
              "    .dataframe tbody tr th {\n",
              "        vertical-align: top;\n",
              "    }\n",
              "\n",
              "    .dataframe thead th {\n",
              "        text-align: right;\n",
              "    }\n",
              "</style>\n",
              "<table border=\"1\" class=\"dataframe\">\n",
              "  <thead>\n",
              "    <tr style=\"text-align: right;\">\n",
              "      <th></th>\n",
              "      <th>genre</th>\n",
              "      <th>colour</th>\n",
              "    </tr>\n",
              "  </thead>\n",
              "  <tbody>\n",
              "    <tr>\n",
              "      <th>0</th>\n",
              "      <td>None</td>\n",
              "      <td>#582824</td>\n",
              "    </tr>\n",
              "    <tr>\n",
              "      <th>1</th>\n",
              "      <td>dark wave</td>\n",
              "      <td>#34A183</td>\n",
              "    </tr>\n",
              "    <tr>\n",
              "      <th>2</th>\n",
              "      <td>black metal</td>\n",
              "      <td>#CE7D9E</td>\n",
              "    </tr>\n",
              "    <tr>\n",
              "      <th>3</th>\n",
              "      <td>gothic black metal</td>\n",
              "      <td>#D22F7D</td>\n",
              "    </tr>\n",
              "    <tr>\n",
              "      <th>4</th>\n",
              "      <td>alternative metal</td>\n",
              "      <td>#746876</td>\n",
              "    </tr>\n",
              "    <tr>\n",
              "      <th>...</th>\n",
              "      <td>...</td>\n",
              "      <td>...</td>\n",
              "    </tr>\n",
              "    <tr>\n",
              "      <th>2044</th>\n",
              "      <td>armenian folk</td>\n",
              "      <td>#27B755</td>\n",
              "    </tr>\n",
              "    <tr>\n",
              "      <th>2045</th>\n",
              "      <td>kurdish pop</td>\n",
              "      <td>#594B80</td>\n",
              "    </tr>\n",
              "    <tr>\n",
              "      <th>2046</th>\n",
              "      <td>musica tradicional cubana</td>\n",
              "      <td>#8C2AFE</td>\n",
              "    </tr>\n",
              "    <tr>\n",
              "      <th>2047</th>\n",
              "      <td>jazz boom bap</td>\n",
              "      <td>#ABBA0D</td>\n",
              "    </tr>\n",
              "    <tr>\n",
              "      <th>2048</th>\n",
              "      <td>baltic folk</td>\n",
              "      <td>#54B5ED</td>\n",
              "    </tr>\n",
              "  </tbody>\n",
              "</table>\n",
              "<p>2049 rows × 2 columns</p>\n",
              "</div>"
            ],
            "text/plain": [
              "                          genre   colour\n",
              "0                          None  #582824\n",
              "1                     dark wave  #34A183\n",
              "2                   black metal  #CE7D9E\n",
              "3            gothic black metal  #D22F7D\n",
              "4             alternative metal  #746876\n",
              "...                         ...      ...\n",
              "2044              armenian folk  #27B755\n",
              "2045                kurdish pop  #594B80\n",
              "2046  musica tradicional cubana  #8C2AFE\n",
              "2047              jazz boom bap  #ABBA0D\n",
              "2048                baltic folk  #54B5ED\n",
              "\n",
              "[2049 rows x 2 columns]"
            ]
          },
          "metadata": {
            "tags": []
          },
          "execution_count": 43
        }
      ]
    },
    {
      "cell_type": "markdown",
      "metadata": {
        "id": "Im8isN8z3N8m"
      },
      "source": [
        "### Configure the predictions & the plotting"
      ]
    },
    {
      "cell_type": "code",
      "metadata": {
        "id": "evpsLiDD2cDN"
      },
      "source": [
        "# Template for plotting\n",
        "template = dict(\n",
        "  layout=go.Layout(\n",
        "    xaxis=dict(zeroline=False),\n",
        "    yaxis=dict(zeroline=False),\n",
        "    title=dict(\n",
        "      x=0.5,\n",
        "      xanchor=\"center\"\n",
        "    )\n",
        "  )\n",
        ")"
      ],
      "execution_count": null,
      "outputs": []
    },
    {
      "cell_type": "code",
      "metadata": {
        "id": "Xlp6apLb1GKm"
      },
      "source": [
        "def predict(query, target_embedding):\n",
        "    logits = tf.reduce_sum(query * target_embedding, axis=1)\n",
        "    return logits.numpy()"
      ],
      "execution_count": null,
      "outputs": []
    },
    {
      "cell_type": "code",
      "metadata": {
        "id": "E8pWilmc_XX7"
      },
      "source": [
        "def get_artists(predictions: np.ndarray, top=10):\n",
        "    top_idx = predictions.argsort()[::-1][:top]\n",
        "\n",
        "    top_artists = artists.set_index(\"artistID\").loc[top_idx, \"artistName\"]\n",
        "\n",
        "    return np.asarray(top_artists.index), top_artists.values, predictions[top_idx]"
      ],
      "execution_count": null,
      "outputs": []
    },
    {
      "cell_type": "code",
      "metadata": {
        "id": "1EKY7jC72M_M"
      },
      "source": [
        "def plot_artists(ids, names, scores):\n",
        "  genres = artists.set_index(\"artistID\").loc[ids, \"genre\"].tolist()\n",
        "  colours = genre_colours.set_index(\"genre\").loc[genres, \"colour\"].tolist()\n",
        "\n",
        "\n",
        "  data = pd.DataFrame({\"name\": names, \"weight\": scores, \"color\": colours, \"genre\": genres, \"id\": ids})\n",
        "  fig = go.Figure(go.Bar(dict(\n",
        "    x=data[\"name\"],\n",
        "    y=data[\"weight\"],\n",
        "    marker=dict(\n",
        "        color=data[\"color\"]\n",
        "    ),\n",
        "    hovertemplate=(\n",
        "      \"Artist: %{x}<br>\"\n",
        "      \"ID: %{text[1]}<br>\"\n",
        "      \"Genre: %{text[0]}<br>\"\n",
        "      \"Predicted value: %{y:,.3f} <br>\"\n",
        "    ),\n",
        "    text=data[[\"genre\", \"id\"]].fillna(\"N/A\"),\n",
        "    name=\"\"\n",
        "  )), layout=dict(\n",
        "      template=template,\n",
        "      yaxis=dict(title=\"Predicted Value\", zeroline=True),\n",
        "      title=dict(text=\"Artist Recommendations for the Given User\"),\n",
        "  ))\n",
        "\n",
        "  fig.show()"
      ],
      "execution_count": null,
      "outputs": []
    },
    {
      "cell_type": "markdown",
      "metadata": {
        "id": "yDsqoElM3XS7"
      },
      "source": [
        "### Demo"
      ]
    },
    {
      "cell_type": "markdown",
      "metadata": {
        "id": "kyiw3hg5KQjf"
      },
      "source": [
        "To generate recommendations, pick a user with the slider and run the cell."
      ]
    },
    {
      "cell_type": "code",
      "metadata": {
        "colab": {
          "base_uri": "https://localhost:8080/",
          "height": 542
        },
        "id": "NLK9ehuN5lGR",
        "cellView": "form",
        "outputId": "9f028780-655f-4201-b9b9-15d1999aa90f"
      },
      "source": [
        "user_idx = 1891 #@param {type:\"slider\", min:0, max:1891, step:1}\n",
        "user_id = sorted(listening[\"userID\"].unique())[user_idx]\n",
        "\n",
        "preds = predict(user_embedding[user_id], artist_embedding)\n",
        "ids, names, weights = get_artists(preds, top=50)\n",
        "plot_artists(ids, names, weights)"
      ],
      "execution_count": null,
      "outputs": [
        {
          "output_type": "display_data",
          "data": {
            "text/html": [
              "<html>\n",
              "<head><meta charset=\"utf-8\" /></head>\n",
              "<body>\n",
              "    <div>\n",
              "            <script src=\"https://cdnjs.cloudflare.com/ajax/libs/mathjax/2.7.5/MathJax.js?config=TeX-AMS-MML_SVG\"></script><script type=\"text/javascript\">if (window.MathJax) {MathJax.Hub.Config({SVG: {font: \"STIX-Web\"}});}</script>\n",
              "                <script type=\"text/javascript\">window.PlotlyConfig = {MathJaxConfig: 'local'};</script>\n",
              "        <script src=\"https://cdn.plot.ly/plotly-latest.min.js\"></script>    \n",
              "            <div id=\"6cc57ca6-99c4-4113-8d09-631be3ff33e1\" class=\"plotly-graph-div\" style=\"height:525px; width:100%;\"></div>\n",
              "            <script type=\"text/javascript\">\n",
              "                \n",
              "                    window.PLOTLYENV=window.PLOTLYENV || {};\n",
              "                    \n",
              "                if (document.getElementById(\"6cc57ca6-99c4-4113-8d09-631be3ff33e1\")) {\n",
              "                    Plotly.newPlot(\n",
              "                        '6cc57ca6-99c4-4113-8d09-631be3ff33e1',\n",
              "                        [{\"hovertemplate\": \"Artist: %{x}<br>ID: %{text[1]}<br>Genre: %{text[0]}<br>Predicted value: %{y:,.3f} <br>\", \"marker\": {\"color\": [\"#F05381\", \"#E2EAC6\", \"#171C7D\", \"#DC5382\", \"#1BC93A\", \"#582824\", \"#582824\", \"#582824\", \"#582824\", \"#8830BF\", \"#42182A\", \"#1F1AE5\", \"#CC6A71\", \"#DC1515\", \"#DDCBE0\", \"#0A67E2\", \"#582824\", \"#C7FF12\", \"#A8B2DF\", \"#0DBC89\", \"#2B12DF\", \"#746876\", \"#582824\", \"#2FDC97\", \"#582824\", \"#2EC80B\", \"#3BC38D\", \"#5115B1\", \"#C17837\", \"#8A79C6\", \"#582824\", \"#F07EF7\", \"#CDD2EB\", \"#582824\", \"#60F411\", \"#34A183\", \"#8BFA77\", \"#FB28D5\", \"#456B85\", \"#6B78E7\", \"#EBFD8A\", \"#582824\", \"#582824\", \"#92B1AA\", \"#33A826\", \"#582824\", \"#582824\", \"#582824\", \"#582824\", \"#582824\"]}, \"name\": \"\", \"text\": [[\"deathgrind\", 9207], [\"baja indie\", 10900], [\"finnish power metal\", 1339], [\"aggrotech\", 3183], [\"hip house\", 17424], [\"N/A\", 6755], [\"N/A\", 13498], [\"N/A\", 5017], [\"N/A\", 13637], [\"indie rock\", 416], [\"bossa nova\", 16504], [\"bitpop\", 8403], [\"canadian indie\", 4365], [\"dance rock\", 51], [\"folktronica\", 6213], [\"ambient\", 6060], [\"N/A\", 9476], [\"polish hip hop\", 1975], [\"australian alternative rock\", 1879], [\"latin\", 1433], [\"acoustic pop\", 3459], [\"alternative metal\", 8658], [\"N/A\", 1933], [\"electro swing\", 6042], [\"N/A\", 5922], [\"atmospheric black metal\", 6258], [\"norwegian pop\", 7641], [\"brazilian emo\", 11177], [\"christian alternative rock\", 2652], [\"art rock\", 6150], [\"N/A\", 600], [\"gothenburg indie\", 12007], [\"britpop\", 11230], [\"N/A\", 3393], [\"anti-folk\", 1718], [\"dark wave\", 1300], [\"epicore\", 9363], [\"acoustic rock\", 6724], [\"danish hip hop\", 6912], [\"indie folk\", 3249], [\"dutch metal\", 5459], [\"N/A\", 11236], [\"N/A\", 15485], [\"antideutsche\", 7642], [\"midwest emo\", 6906], [\"N/A\", 3237], [\"N/A\", 17613], [\"N/A\", 17913], [\"N/A\", 6149], [\"N/A\", 13933]], \"type\": \"bar\", \"x\": [\"Haemorrhage\", \"Insite\", \"Sonata Arctica\", \"Ashbury Heights\", \"Vanilla Ice\", \"Kellplanet\", \"Murat Esmer\", \"F.L.A.B\", \"Fire On Dawson\", \"The National\", \"Sabrina Malheiros\", \"Anamanaguchi\", \"The Tea Party\", \"Duran Duran\", \"Gravenhurst\", \"Patrick O'Hearn\", \"Nico Stai\", \"O.S.T.R.\", \"Split Enz\", \"Daddy Yankee\", \"Five for Fighting\", \"The Pineapple Thief\", \"\\u30e0\\u30c3\\u30af\", \"Chinese Man\", \"Narkotiki\", \"Summoning\", \"Thom Hell\", \"Violins\", \"The Classic Crime\", \"Tangerine Dream\", \"le bowl\", \"Broder Daniel\", \"Bernard Butler\", \"Sandy Leah\", \"Ani DiFranco\", \"Blutengel\", \"X-Ray Dog\", \"John Frusciante\", \"Malk De Koijn\", \"Radical Face\", \"Delain\", \"Superchic[k]\", \"Seychelles\", \"Tocotronic\", \"Owen\", \"Hey\", \"Stuart Newman\", \"Quentin Elias\", \"Marbury\", \"Lodger\"], \"y\": [1.225531816482544, 1.1230193376541138, 1.1092684268951416, 1.1049394607543945, 1.081664800643921, 1.0731329917907715, 1.062932014465332, 1.0385112762451172, 1.0377248525619507, 1.0291038751602173, 1.0272923707962036, 1.023622751235962, 1.020275354385376, 1.0188184976577759, 1.013744592666626, 1.0112648010253906, 0.9820247888565063, 0.9739919304847717, 0.9708319902420044, 0.95951247215271, 0.9575226902961731, 0.9314324259757996, 0.9208736419677734, 0.919707179069519, 0.9170266389846802, 0.9158431887626648, 0.910651445388794, 0.9074514508247375, 0.907151460647583, 0.9066914916038513, 0.9005724191665649, 0.8994028568267822, 0.898652195930481, 0.8976393938064575, 0.8963122367858887, 0.8961607217788696, 0.8955764174461365, 0.8903746604919434, 0.8880938291549683, 0.8824001550674438, 0.8812221884727478, 0.8737446069717407, 0.872016429901123, 0.8706740736961365, 0.8648015260696411, 0.8634239435195923, 0.8579161167144775, 0.8562995195388794, 0.8548067212104797, 0.8498575091362]}],\n",
              "                        {\"template\": {\"layout\": {\"title\": {\"x\": 0.5, \"xanchor\": \"center\"}, \"xaxis\": {\"zeroline\": false}, \"yaxis\": {\"zeroline\": false}}}, \"title\": {\"text\": \"Artist Recommendations for the Given User\"}, \"yaxis\": {\"title\": {\"text\": \"Predicted Value\"}, \"zeroline\": true}},\n",
              "                        {\"responsive\": true}\n",
              "                    ).then(function(){\n",
              "                            \n",
              "var gd = document.getElementById('6cc57ca6-99c4-4113-8d09-631be3ff33e1');\n",
              "var x = new MutationObserver(function (mutations, observer) {{\n",
              "        var display = window.getComputedStyle(gd).display;\n",
              "        if (!display || display === 'none') {{\n",
              "            console.log([gd, 'removed!']);\n",
              "            Plotly.purge(gd);\n",
              "            observer.disconnect();\n",
              "        }}\n",
              "}});\n",
              "\n",
              "// Listen for the removal of the full notebook cells\n",
              "var notebookContainer = gd.closest('#notebook-container');\n",
              "if (notebookContainer) {{\n",
              "    x.observe(notebookContainer, {childList: true});\n",
              "}}\n",
              "\n",
              "// Listen for the clearing of the current output cell\n",
              "var outputEl = gd.closest('.output');\n",
              "if (outputEl) {{\n",
              "    x.observe(outputEl, {childList: true});\n",
              "}}\n",
              "\n",
              "                        })\n",
              "                };\n",
              "                \n",
              "            </script>\n",
              "        </div>\n",
              "</body>\n",
              "</html>"
            ]
          },
          "metadata": {
            "tags": []
          }
        }
      ]
    },
    {
      "cell_type": "markdown",
      "metadata": {
        "id": "KFpjcNe-GStk"
      },
      "source": [
        "---\n",
        "---\n",
        "# 7. Visualising Embeddings\n",
        "---\n",
        "---"
      ]
    },
    {
      "cell_type": "markdown",
      "metadata": {
        "id": "zarDzIkE5XQw"
      },
      "source": [
        "To better understand the embeddings created by the matrix factorisation, we can visualise them at two dimensions. To do this, we use [UMAP](https://arxiv.org/abs/1802.03426), which is similar to Principal Component Analysis (PCA) in that it reduces the dimensions of data. However, while PCA does this in a linear way, UMAP is non-linear and aims to preserve both local and global structures in the data. This can be thought of as creating an embedding for the embeddings."
      ]
    },
    {
      "cell_type": "code",
      "metadata": {
        "id": "yk6j4yDq6WlZ"
      },
      "source": [
        "umap_user_embeddings = umap.UMAP(metric=\"cosine\").fit_transform(user_embedding.numpy())\n",
        "umap_artist_embeddings = umap.UMAP(metric=\"cosine\").fit_transform(artist_embedding.numpy())"
      ],
      "execution_count": null,
      "outputs": []
    },
    {
      "cell_type": "markdown",
      "metadata": {
        "id": "nY19axJFpZ7A"
      },
      "source": [
        "### User Embeddings"
      ]
    },
    {
      "cell_type": "code",
      "metadata": {
        "id": "vuCYx9529zS-"
      },
      "source": [
        "users_top3 = []\n",
        "artists_name = artists.set_index(\"artistID\")[\"artistName\"]\n",
        "for user, df in listening.groupby(\"userID\"):\n",
        "  # Get top 3 artist ids for each user\n",
        "  top3 = df.sort_values(\"artistID\", ascending=False)[\"artistID\"].head(3).tolist()\n",
        "\n",
        "  users_top3.append({\n",
        "      \"userID\": user,\n",
        "      \"artistIDs\": top3,\n",
        "      \"artist_names\": artists_name.loc[top3].tolist()\n",
        "  })\n",
        "\n",
        "users_top3 = pd.DataFrame(users_top3)\n",
        "users_top3[\"artist_names\"] = users_top3[\"artist_names\"].apply(\"<br>\".join) # HTML list\n",
        "# users_top3"
      ],
      "execution_count": null,
      "outputs": []
    },
    {
      "cell_type": "code",
      "metadata": {
        "id": "2lzyGqJj61Q1"
      },
      "source": [
        "go.Figure(go.Scatter(dict(\n",
        "    x=umap_user_embeddings[users_top3.index, 0],\n",
        "    y=umap_user_embeddings[users_top3.index, 1],\n",
        "    mode=\"markers\",\n",
        "    text=users_top3,\n",
        "    hovertemplate=(\n",
        "        \"User ID: %{text[0]}<br>\"\n",
        "        \"Likes:<br>%{text[2]}<br>\"\n",
        "    ),\n",
        "    name=\"\",\n",
        ")), layout=dict(\n",
        "  template=template,\n",
        "  width=800,\n",
        "  height=800,\n",
        "  xaxis=dict(title=\"UMAP Dimension 0\"),\n",
        "  yaxis=dict(title=\"UMAP Dimension 1\", scaleanchor=\"x\", scaleratio=1),\n",
        "  title=dict(text=\"User Embeddings with UMAP\"),\n",
        "  hovermode=\"closest\"\n",
        "))"
      ],
      "execution_count": null,
      "outputs": []
    },
    {
      "cell_type": "markdown",
      "metadata": {
        "id": "f1KWoZIWpcoE"
      },
      "source": [
        "### Artist Embeddings"
      ]
    },
    {
      "cell_type": "markdown",
      "metadata": {
        "id": "HOoGfGacpnTh"
      },
      "source": [
        "**NOTE**: The plot for artists has a lot of datapoints and can be very laggy, clear the cell output if interaction becomes too slow."
      ]
    },
    {
      "cell_type": "code",
      "metadata": {
        "id": "jUQC8Gdt7Bzp"
      },
      "source": [
        "artist_genres_top3 = artists[\"genres\"].apply(lambda l: \"<br>\".join(l[:3]))\n",
        "data = pd.DataFrame({\n",
        "    \"artistID\": artists[\"artistID\"].tolist(),\n",
        "    \"artistName\": artists[\"artistName\"].tolist(),\n",
        "    \"genres\": artist_genres_top3,\n",
        "    \"colour\": genre_colours.set_index(\"genre\").loc[artists[\"genre\"], \"colour\"].tolist()\n",
        "})\n",
        "\n",
        "go.Figure(go.Scatter(dict(\n",
        "    x=umap_artist_embeddings[artists[\"artistID\"], 0],\n",
        "    y=umap_artist_embeddings[artists[\"artistID\"], 1],\n",
        "    mode=\"markers\",\n",
        "    marker_color=data[\"colour\"],\n",
        "    text=data,\n",
        "    hovertemplate=(\n",
        "        \"Name: %{text[1]}<br>\"\n",
        "        \"Artist ID: %{text[0]}<br>\"\n",
        "        \"Genres:<br>%{text[2]}<br>\"\n",
        "    ),\n",
        "    name=\"\",\n",
        ")), layout=dict(\n",
        "  template=template,\n",
        "  width=800,\n",
        "  height=800,\n",
        "  xaxis=dict(title=\"UMAP Dimension 0\"),\n",
        "  yaxis=dict(title=\"UMAP Dimension 1\", scaleanchor=\"x\", scaleratio=1),\n",
        "  title=dict(text=\"Artist Embeddings with UMAP\"),\n",
        "  hovermode=\"closest\"\n",
        ")).show(renderer=\"colab\")"
      ],
      "execution_count": null,
      "outputs": []
    }
  ]
}